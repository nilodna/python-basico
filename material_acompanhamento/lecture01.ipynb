{
 "cells": [
  {
   "cell_type": "code",
   "execution_count": 1,
   "metadata": {
    "slideshow": {
     "slide_type": "skip"
    }
   },
   "outputs": [],
   "source": [
    "from IPython.display import YouTubeVideo, Image"
   ]
  },
  {
   "cell_type": "markdown",
   "metadata": {},
   "source": [
    "# Python básico para oceanógrafos"
   ]
  },
  {
   "cell_type": "markdown",
   "metadata": {},
   "source": [
    "# 1.1 O que é programação?\n",
    "\n",
    "No nosso contexto, é basicamente uma ferramenta para resolver problemas."
   ]
  },
  {
   "cell_type": "markdown",
   "metadata": {
    "slideshow": {
     "slide_type": "slide"
    }
   },
   "source": [
    "# 1.2. Onde se encaixa na ciência?\n",
    "\n",
    "![image.png](../figures/scidev-fit.png)\n"
   ]
  },
  {
   "cell_type": "markdown",
   "metadata": {
    "slideshow": {
     "slide_type": "slide"
    }
   },
   "source": [
    "# 1.3. O que é lógica de programação?\n",
    "\n",
    "_É a técnica que nos permite desenvolver uma série de instruções  (algoritmos) para que o computador atinja o objetivo que pretendemos._\n",
    "\n",
    "\n",
    "Colocando em termos mais simples, a lógica de programação é um rascunho do que precisamos fazer para resolver um problema, enquanto que o algoritmo é a receita de como vamos fazer cada etapa, a fim de colocar a lógica em prática. "
   ]
  },
  {
   "cell_type": "markdown",
   "metadata": {
    "slideshow": {
     "slide_type": "slide"
    }
   },
   "source": [
    "\n",
    "Exemplo 1:\n",
    "\n",
    "- Problema: Preciso ir para o Espírito Santos ministrar um curso de python.\n",
    "- Lógica (o que fazer?): comprar uma passagem de onibus, ir até lá e ministrar o curso.\n",
    "- Algoritmo (como fazer?): comprar passagem online, pagar com cartão de crédito (em 10x), ir à rodoviária, tomar o ônibus correto, dormir no caminho, chegar na cidade, procurar o local do curso, etc ... "
   ]
  },
  {
   "cell_type": "markdown",
   "metadata": {
    "slideshow": {
     "slide_type": "slide"
    }
   },
   "source": [
    "\n",
    "Exemplo 2:\n",
    "\n",
    "- Problema: estou com fome e preciso fazer um miojo.\n",
    "- Lógica: ferver água e colocar miojo na água por 3min.\n",
    "- Algoritmo: pegar panela, colocar água, ligar fogão, aguardar água esquentar, esquentou?, colocar miojo, aguardar, está no ponto?, colocar tempero, comer.\n"
   ]
  },
  {
   "cell_type": "markdown",
   "metadata": {
    "slideshow": {
     "slide_type": "slide"
    }
   },
   "source": [
    "\n",
    "Exemplo 3:\n",
    "\n",
    "- Problema: preciso determinar quantidade de organismos de uma espécie X em uma amostra.\n",
    "- Lógica: coletar amostra e selecionar os organismos segundo sua espécie.\n",
    "- Algoritmo: coletar amostra, colocar amostra em uma placa de petri, ir ao microscópio, selecionar organismos, consultar livro-texto de espécies, anotar em um caderno, etc ...\n",
    "\n"
   ]
  },
  {
   "cell_type": "markdown",
   "metadata": {},
   "source": [
    "-----------"
   ]
  },
  {
   "cell_type": "markdown",
   "metadata": {
    "slideshow": {
     "slide_type": "slide"
    }
   },
   "source": [
    "**exercício**\n",
    "\n",
    "Agora quero que vocês tentem por um tempo exercitar isso, escolhendo um problema que você tenha familiaridade e \n",
    "tente esboçar o que seria a **lógica** e como seria seu **algoritmo** para resolver este problema.\n",
    "\n",
    "__Dicas:__\n",
    "\n",
    "- faça algo simples\n",
    "- descreva de uma forma que uma pessoa totalmente leiga ao assunto possa compreender os passos\n",
    "\n",
    "__Exemplos:__\n",
    "\n",
    "\n",
    "- um trecho da rotina diária\n",
    "- uma atividade do laboratório\n",
    "- aprender algo novo (violão, por exemplo)\n",
    "\n"
   ]
  },
  {
   "cell_type": "markdown",
   "metadata": {},
   "source": [
    "---------------------"
   ]
  },
  {
   "cell_type": "markdown",
   "metadata": {
    "slideshow": {
     "slide_type": "slide"
    }
   },
   "source": [
    "### Cuidado com a elaboração de um algoritmo\n",
    "\n",
    "- lógica booleana\n",
    "\n",
    "- expressões matemáticas\n",
    "\n",
    "- Verdadeiro/Falso\n",
    "\n",
    "- Grande parte dos problemas podem ser resolvidos de diversas formas"
   ]
  },
  {
   "cell_type": "markdown",
   "metadata": {
    "slideshow": {
     "slide_type": "slide"
    }
   },
   "source": [
    "### Como melhorar a lógica?\n",
    "\n",
    "- prática\n",
    "- experiência\n",
    "- paciência\n",
    "\n",
    "Porém, podemos utilizar o Diagrama de Blocos para nos ajudar a desenvolver."
   ]
  },
  {
   "cell_type": "markdown",
   "metadata": {
    "slideshow": {
     "slide_type": "slide"
    }
   },
   "source": [
    "## 1.4 Diagrama de blocos\n",
    "\n",
    "\"Diagrama de bloco é uma forma padronizada de representar os diversos fluxos que um algoritmo pode ter através de um conjunto de símbolos com significado específico, podemos sinalizar a intenção do algoritmo em cada etapa, criando uma espécie de mapa.\""
   ]
  },
  {
   "cell_type": "markdown",
   "metadata": {},
   "source": [
    "**Exemplo do miojo com diagrama**\n",
    "\n",
    "![image.png](../figures/block-diagram-example1.png)"
   ]
  },
  {
   "cell_type": "markdown",
   "metadata": {
    "slideshow": {
     "slide_type": "slide"
    }
   },
   "source": [
    "**Estruturas de Repetição**\n",
    "\n",
    "**termos técnicos** em programação:\n",
    "\n",
    "- while\n",
    "- for\n",
    "\n",
    "Nos permite executar mais de uma vez um mesmo código, sendo aplicado quando é necessário repetir uma mesma ação até que algo diferente aconteça.\n",
    "\n",
    "![image.png](../figures/loops-repeticao.png)"
   ]
  },
  {
   "cell_type": "markdown",
   "metadata": {
    "slideshow": {
     "slide_type": "slide"
    }
   },
   "source": [
    "**Desvios condicionais**\n",
    "\n",
    "**termos técnicos** em programação:\n",
    "\n",
    "- if\n",
    "- else\n",
    "- elif\n",
    "\n",
    "Nos permite inserir uma tomada de decisão dentro do código, a fim de que diferentes ações sejam realizadas a partir desta decisão.\n",
    "\n",
    "![image.png](../figures/loops-condicionais.png)"
   ]
  },
  {
   "cell_type": "markdown",
   "metadata": {
    "slideshow": {
     "slide_type": "slide"
    }
   },
   "source": [
    "**exercício 2**\n",
    "\n",
    "Peguem o algoritmo que vocês escreveram anteriormente e tentem adequá-lo ao esquema de diagrama de blocos. Usem principalmente o item condicional (losango) para avaliar situação em que uma decisão precisa ser tomada."
   ]
  },
  {
   "cell_type": "markdown",
   "metadata": {},
   "source": [
    "-----"
   ]
  },
  {
   "cell_type": "markdown",
   "metadata": {},
   "source": [
    "### Principais mecanismos de busca em programação"
   ]
  },
  {
   "cell_type": "markdown",
   "metadata": {
    "slideshow": {
     "slide_type": "slide"
    }
   },
   "source": [
    "![image.png](../figures/codechimaira.jpeg)"
   ]
  },
  {
   "cell_type": "markdown",
   "metadata": {
    "slideshow": {
     "slide_type": "slide"
    }
   },
   "source": [
    "-----"
   ]
  },
  {
   "cell_type": "markdown",
   "metadata": {},
   "source": [
    "# 1.5 Linguagens de programação"
   ]
  },
  {
   "cell_type": "markdown",
   "metadata": {},
   "source": [
    "## O que são linguagens de programação?\n",
    "\n",
    "- idiomas\n",
    "- traduzidos para uma linguagem comum (binária)\n",
    "- exemplos:\n",
    "    - C#, php: desenvolvimento web\n",
    "    - Java, Cobol: mainframes de bancos\n",
    "    - Fortran, C: modelos numéricos\n",
    "    - R, Julia: análie, visualização de dados"
   ]
  },
  {
   "cell_type": "markdown",
   "metadata": {},
   "source": [
    "   \n",
    "## Aonde o python se encaixa?\n",
    "\n",
    "Tudo, menos mainframes de bancos (que eu saiba)."
   ]
  },
  {
   "cell_type": "markdown",
   "metadata": {
    "slideshow": {
     "slide_type": "slide"
    }
   },
   "source": [
    "## E por que python?\n",
    "\n",
    "- open source (não precisa pagar para usar)\n",
    "- relativamente mais fácil de aprender\n",
    "- flexibilidade de aplicações\n",
    "- comunidade científica muito ativa (principalmente de oceanógrafos)\n",
    "- manutenção constante e revisão de pacotes científicos por cientistas de cada área"
   ]
  },
  {
   "cell_type": "markdown",
   "metadata": {
    "slideshow": {
     "slide_type": "slide"
    }
   },
   "source": [
    "## Existe uma melhor linguagem?\n",
    "\n",
    "A que você dominar melhor."
   ]
  },
  {
   "cell_type": "markdown",
   "metadata": {
    "slideshow": {
     "slide_type": "slide"
    }
   },
   "source": [
    "# serviços que usam python:\n",
    "\n",
    "\n",
    "![python-services](../figures/services-python.png)"
   ]
  },
  {
   "cell_type": "markdown",
   "metadata": {
    "slideshow": {
     "slide_type": "slide"
    }
   },
   "source": [
    "# E na oceanografia?\n",
    "\n",
    "![ocean-services](../figures/meteocean-python.png)\n"
   ]
  },
  {
   "cell_type": "markdown",
   "metadata": {
    "slideshow": {
     "slide_type": "slide"
    }
   },
   "source": [
    "\n",
    "Além disso:\n",
    "\n",
    "- demanda de empresas\n",
    "- serviços de download de conjuntos globais (mercator, ecmwf, ncep/ncar)\n",
    "- NOAA migrando para python\n",
    "- modelos numéricos possuem pacotes python para gerar informações de entrada e analisar saídas"
   ]
  },
  {
   "cell_type": "markdown",
   "metadata": {
    "slideshow": {
     "slide_type": "slide"
    }
   },
   "source": [
    "### Ferramentas para programar:\n",
    "\n",
    "**IDE** (Integrated Development Environmnet, Ambiente de desenvolvimento integrado)\n",
    "\n",
    "- pycharm\n",
    "- spyder\n",
    "\n",
    "\n",
    "**Computação em nuvem (cloud computing)**\n",
    "\n",
    "- google colab\n",
    "- binder (serve para os propósitos de um curso, mas não para uso contínuo)"
   ]
  },
  {
   "cell_type": "markdown",
   "metadata": {
    "slideshow": {
     "slide_type": "slide"
    }
   },
   "source": [
    "![spyder-interface](../figures/spyder_screen.png)"
   ]
  },
  {
   "cell_type": "markdown",
   "metadata": {},
   "source": [
    "### passos para usar o Google Colab, aonde conduziremos o curso\n",
    "\n",
    "\n",
    "Sugestões:\n",
    "\n",
    "- vídeos de apresentação: https://www.youtube.com/watch?v=inN8seMm7UI\n",
    "- https://medium.com/machina-sapiens/google-colab-guia-do-iniciante-334d70aad531\n",
    "- "
   ]
  }
 ],
 "metadata": {
  "celltoolbar": "Slideshow",
  "kernelspec": {
   "display_name": "Python 3",
   "language": "python",
   "name": "python3"
  },
  "language_info": {
   "codemirror_mode": {
    "name": "ipython",
    "version": 3
   },
   "file_extension": ".py",
   "mimetype": "text/x-python",
   "name": "python",
   "nbconvert_exporter": "python",
   "pygments_lexer": "ipython3",
   "version": "3.7.9"
  }
 },
 "nbformat": 4,
 "nbformat_minor": 4
}
