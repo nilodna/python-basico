{
 "cells": [
  {
   "cell_type": "markdown",
   "metadata": {
    "slideshow": {
     "slide_type": "slide"
    }
   },
   "source": [
    "# Aula 3: Python - um pouco mais -  avançado"
   ]
  },
  {
   "cell_type": "markdown",
   "metadata": {
    "slideshow": {
     "slide_type": "slide"
    }
   },
   "source": [
    "**O que veremos hoje?**\n",
    "\n",
    "- como declarar funções e importar pacotes em python\n",
    "- pacote para manipulação numérica de informações\n",
    "- pacote para visualização de dados (1D)"
   ]
  },
  {
   "cell_type": "markdown",
   "metadata": {
    "slideshow": {
     "slide_type": "slide"
    }
   },
   "source": [
    "**material de apoio**\n",
    "\n",
    "- numpy guia de usuário: https://numpy.org/doc/stable/numpy-user.pdf\n",
    "- numpy: https://ncar-hackathons.github.io/scientific-computing/numpy/intro.html\n",
    "- numpy + scipy: https://github.com/gustavo-marques/hands-on-examples/blob/master/scientific-computing/numpy_scipy.ipynb\n",
    "- matplotlib documentação: https://matplotlib.org/3.3.2/contents.html\n",
    "- "
   ]
  },
  {
   "cell_type": "markdown",
   "metadata": {
    "slideshow": {
     "slide_type": "slide"
    }
   },
   "source": [
    "# Python - um pouco mais -  avançado\n",
    "\n",
    "Quando definimos um algoritmo para solucionar um problema, é comum na programação estabelecermos pequenos problemas que possam ser resolvidos. Tal qual já falamos, seria uma espécie de passo a passo para se chegar na solução de um problema.\n",
    "\n",
    "Em python podemos programar estes pequenos problemas em pequeno (não tanto às vezes) códigos, aplicando os conceitos de funções e métodos. \n",
    "\n",
    "Funções seguem o estilo de programação procedural, ou seja, diversas funções sendo requisitadas quando necessário. Enquanto que métodos estão associados à programação orientada a objetos, uma ténica de programação abstrata. Neste curso trataremos somente sobre funções, por questões de tempo."
   ]
  },
  {
   "cell_type": "markdown",
   "metadata": {},
   "source": [
    "# Funções (functions)\n",
    "\n",
    "**Definição**\n",
    "\n",
    "É nada mais do que um bloco de código independente, que realiza uma ou mais ações específicas, retornando ou não um valor/variável quando requisitada. As funções possuem um nome, utilizado para chamá-las, e podemos transmitir informações para elas na forma de ```argumentos```.\n",
    "\n",
    "**Sintaxe**\n",
    "\n",
    "\n",
    "![image.png](https://www.fireblazeaischool.in/blogs/wp-content/uploads/2020/06/Capture-1.png)\n",
    "\n",
    "\n",
    "Vamos destrinchar brevemente uma função.\n",
    "\n",
    "Utilizamos o termo ```def``` para indicar ao python que vamos começar a definir uma nova função e, logo em seguida, dizemos o nome desta função. Dentro dos parênteses colocamos os argumentos, que podem ter qualquer nome. Para entender argumentos, vamos pensar que são variáveis que passarem para a função trabalhar. Isto é necessário uma vez que, por se tratarem de blocos de códigos independentes, as funções não possuem acesso às variáveis gerais de um programa. Por fim, ao final da definição do nome da função e seus argumentos, inserimos ```:``` para indicarmos um novo bloco de códigos.\n",
    "\n",
    "Logo abaixo, entre aspas triplas, colocamos uma ```docstring``` que nada mais é do que uma documentação da função, indicando sua utilidade, explicando os argumentos que ela precisa receber para funcionar adequadamente e outras informações úteis. Isto é muito importante, pois nos ajudará no futuro quando tivermos diversas funções e não lembrarmos para que todas servem. O docstring vai nos salvar um tempo precioso.\n",
    "\n",
    "Por fim, funções podem ou não retornar valores quando requisitadas. Pode ser o resultado de um cálculo, uma mensagem dizendo que o código rodou bem ou não ou simplesmente nada (por exemplo, uma função para plotar e salvar uma figura).\n",
    "\n",
    "Convencionalmente, definimos as funções logo após importar pacotes, ou seja, no início do código. Mas veremos exemplos mais avançados e complexos ao longo das aulas."
   ]
  },
  {
   "cell_type": "code",
   "execution_count": 1,
   "metadata": {},
   "outputs": [
    {
     "name": "stdout",
     "output_type": "stream",
     "text": [
      "Estamos dentro de uma função!\n",
      "0.0\n"
     ]
    }
   ],
   "source": [
    "def K_para_C(T_em_K):\n",
    "    # sequencia de bloco de códigos identados\n",
    "    print('Estamos dentro de uma função!')\n",
    "    \n",
    "    # conversão\n",
    "    T_em_C = T_em_K - 273.15\n",
    "    \n",
    "    return T_em_C\n",
    "\n",
    "temperatura = K_para_C(273.15)\n",
    "print(temperatura)"
   ]
  },
  {
   "cell_type": "markdown",
   "metadata": {},
   "source": [
    "Podemos deixar uma função mais completa adicionando informações sobre como ela funciona. Para isso, usamos as ```docstrings```:"
   ]
  },
  {
   "cell_type": "code",
   "execution_count": 2,
   "metadata": {},
   "outputs": [],
   "source": [
    "def K_para_C(T_em_K):\n",
    "    \"\"\" \n",
    "    Este conjunto de texto entre aspas triplas se chamada docstring. É usada para passar informações \n",
    "    importantes sobre a função, como: valores que ela recebe e retorna, o que ela faz, se é baseada em algum\n",
    "    artigo científico, por exemplo, e muito mais. Quando tivermos dúvida sobre alguma função, podemos buscar\n",
    "    o docstring dela utilizando o comando: K_para_C?\n",
    "    \n",
    "    No nosso caso, essa é uma função para converter uma temperatura de Kelvin para Celsius\n",
    "    \n",
    "    parameters\n",
    "    ----------\n",
    "    T_em_K: float\n",
    "        Temperatura em Kelvin para ser convertida.\n",
    "    \n",
    "    returns\n",
    "    -------\n",
    "    T_em_C: float\n",
    "        Temperatura em graus Celsius.\n",
    "    \"\"\"\n",
    "    # sequencia de bloco de códigos identados\n",
    "    print('Estamos dentro de uma função!')\n",
    "    \n",
    "    # conversão\n",
    "    T_em_C = T_em_K - 273.15\n",
    "    \n",
    "    return T_em_C"
   ]
  },
  {
   "cell_type": "markdown",
   "metadata": {},
   "source": [
    "# Pacotes (packages ou libraries)\n",
    "\n",
    "São conjuntos de funções específicas para resolver um problema, ou realizar análise de dados. Na verdade, utilizamos diversos pacotes ao programar em python, como veremos mais a frente. \n",
    "\n",
    "Podemos criar nosso próprio pacote, gerando instaladores e etc, mas o mais usual é instalarmos estes pacotes através de sistemas de gerenciamento de pacotes como o ```pip``` ou o próprio ```conda/anaconda```."
   ]
  },
  {
   "cell_type": "markdown",
   "metadata": {},
   "source": [
    "---------------"
   ]
  },
  {
   "cell_type": "markdown",
   "metadata": {},
   "source": [
    "# Pacote Numérico: NumPy\n",
    "\n",
    "- background de qualquer pacote científico hoje em dia\n",
    "- utilizado para operações numéricas (matriciais ou escalares)\n",
    "- alta performance\n",
    "\n",
    "**Instalação**\n",
    "\n",
    "```bash\n",
    "pip install numpy\n",
    "```\n",
    "\n",
    "ou \n",
    "\n",
    "```bash\n",
    "conda install numpy\n",
    "```"
   ]
  },
  {
   "cell_type": "markdown",
   "metadata": {},
   "source": [
    "**Importar** pacote:\n",
    "\n",
    "Para utilizar o pacote NumPy, precisamos importa-lo em nosso código. Fazemos isso através do comando ```import``` e, no caso abaixo, adicionamos um apelido para o numpy. Isso nos facilitará para utilizar as funções deste pacote.\n",
    "\n",
    "```python\n",
    "import numpy as np\n",
    "```\n",
    "\n",
    "Se pudéssemos traduzir o comando acima em português, o faríamos da seguinte forma: ```importe numpy como np```. "
   ]
  },
  {
   "cell_type": "markdown",
   "metadata": {},
   "source": [
    "\n",
    "**Conceitos**\n",
    "\n",
    "Lembrando alguns conceitos matemáticos:\n",
    "\n",
    "- Vetores (N,):\n",
    "\n",
    "$V = \\begin{bmatrix}\n",
    "1 & 2 & 3\n",
    "\\end{bmatrix}$\n",
    "\n",
    "- Matrizes (NxM, linhasxcolunas):\n",
    "\n",
    "$M = \\begin{bmatrix}\n",
    "1 & 2 & 3\\\\ \n",
    "4 & 5 & 6\n",
    "\\end{bmatrix}$"
   ]
  },
  {
   "cell_type": "markdown",
   "metadata": {},
   "source": [
    "Vamos ver alguns exemplos e entender na prática a funcionalidade do NumPy."
   ]
  },
  {
   "cell_type": "code",
   "execution_count": 2,
   "metadata": {},
   "outputs": [
    {
     "data": {
      "text/plain": [
       "array([[1, 2, 3],\n",
       "       [4, 5, 6]])"
      ]
     },
     "execution_count": 2,
     "metadata": {},
     "output_type": "execute_result"
    }
   ],
   "source": [
    "# primeiro importamos e só o precisamos fazer uma vez em cada código\n",
    "import numpy as np\n",
    "\n",
    "V = np.array([1, 2, 3])\n",
    "M = np.array([[1, 2, 3], [4, 5, 6]])\n",
    "\n",
    "M"
   ]
  },
  {
   "cell_type": "markdown",
   "metadata": {},
   "source": [
    "Apesar de falarmos em vetores e matrizes, para o numpy é tudo a mesma coisa. O que diferencia é apenas a dimensão.\n",
    "\n",
    "Nota: ```ndarray``` significa n-dimensional array (matriz com n-dimensões)"
   ]
  },
  {
   "cell_type": "code",
   "execution_count": 16,
   "metadata": {},
   "outputs": [
    {
     "data": {
      "text/plain": [
       "(numpy.ndarray, numpy.ndarray)"
      ]
     },
     "execution_count": 16,
     "metadata": {},
     "output_type": "execute_result"
    }
   ],
   "source": [
    "# tipo\n",
    "type(M), type(V)"
   ]
  },
  {
   "cell_type": "markdown",
   "metadata": {},
   "source": [
    "Como descobrir a quantidade de dimensões?"
   ]
  },
  {
   "cell_type": "code",
   "execution_count": 20,
   "metadata": {},
   "outputs": [
    {
     "data": {
      "text/plain": [
       "(1, 2)"
      ]
     },
     "execution_count": 20,
     "metadata": {},
     "output_type": "execute_result"
    }
   ],
   "source": [
    "V.ndim, M.ndim"
   ]
  },
  {
   "cell_type": "markdown",
   "metadata": {},
   "source": [
    "Podemos verificar o formato da matriz que estamos trabalhando, utilizando o método .shape, ou o tamanho geral da matriz, com o método .size:"
   ]
  },
  {
   "cell_type": "code",
   "execution_count": 11,
   "metadata": {},
   "outputs": [
    {
     "data": {
      "text/plain": [
       "((3,), 3)"
      ]
     },
     "execution_count": 11,
     "metadata": {},
     "output_type": "execute_result"
    }
   ],
   "source": [
    "V.shape, V.size"
   ]
  },
  {
   "cell_type": "code",
   "execution_count": 22,
   "metadata": {},
   "outputs": [
    {
     "data": {
      "text/plain": [
       "((2, 3), 6)"
      ]
     },
     "execution_count": 22,
     "metadata": {},
     "output_type": "execute_result"
    }
   ],
   "source": [
    "M.shape, M.size"
   ]
  },
  {
   "cell_type": "markdown",
   "metadata": {},
   "source": [
    "**Utilidade**\n",
    "\n",
    "Os conceitos citados acima parecem muito com as listas que vimos anteriormente. Porém, neste caso, utilizar numpy nos permitirá trabalhar com operações matriciais, além de ter uma performance, em termos de memória, bem melhor.\n",
    "\n",
    "Além disso, uma vez que criamos uma matriz com o numpy, não poderemos atribuir nenhum valor que não seja do mesmo tipo do que a matriz foi criada:"
   ]
  },
  {
   "cell_type": "code",
   "execution_count": 3,
   "metadata": {},
   "outputs": [
    {
     "ename": "ValueError",
     "evalue": "invalid literal for int() with base 10: 'teste'",
     "output_type": "error",
     "traceback": [
      "\u001b[0;31m---------------------------------------------------------------------------\u001b[0m",
      "\u001b[0;31mValueError\u001b[0m                                Traceback (most recent call last)",
      "\u001b[0;32m<ipython-input-3-2b65ea384912>\u001b[0m in \u001b[0;36m<module>\u001b[0;34m()\u001b[0m\n\u001b[0;32m----> 1\u001b[0;31m \u001b[0mV\u001b[0m\u001b[0;34m[\u001b[0m\u001b[0;36m0\u001b[0m\u001b[0;34m]\u001b[0m \u001b[0;34m=\u001b[0m \u001b[0;34m'teste'\u001b[0m\u001b[0;34m\u001b[0m\u001b[0;34m\u001b[0m\u001b[0m\n\u001b[0m",
      "\u001b[0;31mValueError\u001b[0m: invalid literal for int() with base 10: 'teste'"
     ]
    }
   ],
   "source": [
    "V[0] = 'teste'"
   ]
  },
  {
   "cell_type": "code",
   "execution_count": 5,
   "metadata": {},
   "outputs": [
    {
     "data": {
      "text/plain": [
       "array(['teste', '0'], dtype='<U5')"
      ]
     },
     "execution_count": 5,
     "metadata": {},
     "output_type": "execute_result"
    }
   ],
   "source": [
    "# mas porque este funciona?\n",
    "A = np.array(['teste', 0])\n",
    "\n",
    "A[0] = 0"
   ]
  },
  {
   "cell_type": "markdown",
   "metadata": {},
   "source": [
    "Podemos também indicar o tipo de matriz que queremos, ao cria-la, utilizando o argumento ```dtype``` e inserindo alguma das opções que já nos é conhecida (int, float, bool e complex):"
   ]
  },
  {
   "cell_type": "code",
   "execution_count": 36,
   "metadata": {},
   "outputs": [
    {
     "data": {
      "text/plain": [
       "array([1.+0.j, 2.+0.j, 3.+0.j])"
      ]
     },
     "execution_count": 36,
     "metadata": {},
     "output_type": "execute_result"
    }
   ],
   "source": [
    "c = np.array([1, 2, 3], dtype=complex)\n",
    "c"
   ]
  },
  {
   "cell_type": "markdown",
   "metadata": {},
   "source": [
    "**Principais funções disponíveis no Numpy**"
   ]
  },
  {
   "cell_type": "code",
   "execution_count": 37,
   "metadata": {},
   "outputs": [
    {
     "data": {
      "text/plain": [
       "array([ 0,  1,  2,  3,  4,  5,  6,  7,  8,  9, 10, 11, 12, 13, 14, 15, 16,\n",
       "       17, 18, 19, 20, 21, 22, 23, 24, 25, 26, 27, 28, 29, 30, 31, 32, 33,\n",
       "       34, 35, 36, 37, 38, 39, 40, 41, 42, 43, 44, 45, 46, 47, 48, 49, 50,\n",
       "       51, 52, 53, 54, 55, 56, 57, 58, 59, 60, 61, 62, 63, 64, 65, 66, 67,\n",
       "       68, 69, 70, 71, 72, 73, 74, 75, 76, 77, 78, 79, 80, 81, 82, 83, 84,\n",
       "       85, 86, 87, 88, 89, 90, 91, 92, 93, 94, 95, 96, 97, 98, 99])"
      ]
     },
     "execution_count": 37,
     "metadata": {},
     "output_type": "execute_result"
    }
   ],
   "source": [
    "# criar um vetor ordenado (crescente) de 1 a 1 \n",
    "x = np.arange(0, 100, 1)\n",
    "x"
   ]
  },
  {
   "cell_type": "code",
   "execution_count": 38,
   "metadata": {},
   "outputs": [
    {
     "data": {
      "text/plain": [
       "array([100,  99,  98,  97,  96,  95,  94,  93,  92,  91,  90,  89,  88,\n",
       "        87,  86,  85,  84,  83,  82,  81,  80,  79,  78,  77,  76,  75,\n",
       "        74,  73,  72,  71,  70,  69,  68,  67,  66,  65,  64,  63,  62,\n",
       "        61,  60,  59,  58,  57,  56,  55,  54,  53,  52,  51,  50,  49,\n",
       "        48,  47,  46,  45,  44,  43,  42,  41,  40,  39,  38,  37,  36,\n",
       "        35,  34,  33,  32,  31,  30,  29,  28,  27,  26,  25,  24,  23,\n",
       "        22,  21,  20,  19,  18,  17,  16,  15,  14,  13,  12,  11,  10,\n",
       "         9,   8,   7,   6,   5,   4,   3,   2,   1])"
      ]
     },
     "execution_count": 38,
     "metadata": {},
     "output_type": "execute_result"
    }
   ],
   "source": [
    "# podemos criar o mesmo vetor, mas na ordem descrescente\n",
    "x_inverso  = np.arange(100, 0, -1)\n",
    "x_inverso"
   ]
  },
  {
   "cell_type": "code",
   "execution_count": 39,
   "metadata": {},
   "outputs": [
    {
     "data": {
      "text/plain": [
       "array([  0.        ,  11.11111111,  22.22222222,  33.33333333,\n",
       "        44.44444444,  55.55555556,  66.66666667,  77.77777778,\n",
       "        88.88888889, 100.        ])"
      ]
     },
     "execution_count": 39,
     "metadata": {},
     "output_type": "execute_result"
    }
   ],
   "source": [
    "# criar um vetor de 0 a 100, com de 10 intervalos\n",
    "y = np.linspace(0, 100, 10)\n",
    "y"
   ]
  },
  {
   "cell_type": "code",
   "execution_count": 49,
   "metadata": {},
   "outputs": [
    {
     "data": {
      "text/plain": [
       "array([[0, 0, 0, 0, 0],\n",
       "       [1, 1, 1, 1, 1],\n",
       "       [2, 2, 2, 2, 2],\n",
       "       [3, 3, 3, 3, 3],\n",
       "       [4, 4, 4, 4, 4]])"
      ]
     },
     "execution_count": 49,
     "metadata": {},
     "output_type": "execute_result"
    }
   ],
   "source": [
    "# criar uma grade\n",
    "\n",
    "x,y  = np.mgrid[0:5, 0:5]\n",
    "x"
   ]
  },
  {
   "cell_type": "code",
   "execution_count": 61,
   "metadata": {},
   "outputs": [
    {
     "data": {
      "text/plain": [
       "array([[0.80918819, 0.85329949, 0.85587939],\n",
       "       [0.13542662, 0.00098259, 0.54767253],\n",
       "       [0.38835973, 0.09601561, 0.64113827]])"
      ]
     },
     "execution_count": 61,
     "metadata": {},
     "output_type": "execute_result"
    }
   ],
   "source": [
    "# utilizando números aleatórios\n",
    "\n",
    "np.random.rand(3,3)"
   ]
  },
  {
   "cell_type": "markdown",
   "metadata": {},
   "source": [
    "Outros métodos:\n",
    "\n",
    "cumsum, dot, det, sort, max, min, argmax, argmin, sqrt, e outros.\n",
    "\n",
    "Testem o que estes métodos fazem.\n",
    "\n",
    "Lembre que parar usar você deve:\n",
    "\n",
    "```python\n",
    "x = np.arange(0,10,1)\n",
    "soma = x.sum()\n",
    "```"
   ]
  },
  {
   "cell_type": "markdown",
   "metadata": {},
   "source": [
    "---------------\n",
    "\n",
    "Mesclando numpy e visualização de dados"
   ]
  },
  {
   "cell_type": "markdown",
   "metadata": {},
   "source": [
    "# Pacote de visualização: Matplotlib\n",
    "\n",
    "- base para qualquer visualização de dados\n",
    "- é um saco importar, porém com o tempo fica menor pior\n",
    "- muito poderoso em termos de controle dos elementos do gráfico e da estrutura em si, isto é:\n",
    " - estruturas complexas de eixos de visualização podem ser manipuladas por este pacote\n",
    "\n",
    "**Importar**\n",
    "\n",
    "```python\n",
    "import matplotlib.pyplot as plt\n",
    "```"
   ]
  },
  {
   "cell_type": "markdown",
   "metadata": {},
   "source": [
    "![image1](https://raw.githubusercontent.com/storopoli/ciencia-de-dados/e350e1c686cd00b91c0f316f33644dfd2322b2e3/notebooks/images/matplotlib-anatomy.png)\n",
    "\n",
    "Fonte: Prof Storopoli [https://github.com/storopoli/ciencia-de-dados]"
   ]
  },
  {
   "cell_type": "code",
   "execution_count": 3,
   "metadata": {},
   "outputs": [],
   "source": [
    "import matplotlib.pyplot as plt\n",
    "\n",
    "# quando usando notebook, use o comando abaixo para exibir as figuras no proprio arquivo:\n",
    "%matplotlib inline "
   ]
  },
  {
   "cell_type": "markdown",
   "metadata": {},
   "source": [
    "Plotando matrizes 1D, podemos utilizar o método ```plt.plot()```:"
   ]
  },
  {
   "cell_type": "code",
   "execution_count": 60,
   "metadata": {
    "scrolled": true
   },
   "outputs": [
    {
     "data": {
      "text/plain": [
       "[<matplotlib.lines.Line2D at 0x7f8202115d90>]"
      ]
     },
     "execution_count": 60,
     "metadata": {},
     "output_type": "execute_result"
    },
    {
     "data": {
      "image/png": "[encoded data removed]",
      "text/plain": [
       "<Figure size 432x288 with 1 Axes>"
      ]
     },
     "metadata": {
      "needs_background": "light"
     },
     "output_type": "display_data"
    }
   ],
   "source": [
    "plt.plot(V,V)"
   ]
  },
  {
   "cell_type": "code",
   "execution_count": null,
   "metadata": {},
   "outputs": [],
   "source": []
  }
 ],
 "metadata": {
  "celltoolbar": "Slideshow",
  "kernelspec": {
   "display_name": "Python 3",
   "language": "python",
   "name": "python3"
  },
  "language_info": {
   "codemirror_mode": {
    "name": "ipython",
    "version": 3
   },
   "file_extension": ".py",
   "mimetype": "text/x-python",
   "name": "python",
   "nbconvert_exporter": "python",
   "pygments_lexer": "ipython3",
   "version": "3.7.8"
  }
 },
 "nbformat": 4,
 "nbformat_minor": 4
}
