{
 "cells": [
  {
   "cell_type": "markdown",
   "metadata": {
    "slideshow": {
     "slide_type": "slide"
    }
   },
   "source": [
    "# Aula 3: Python - um pouco mais -  avançado\n"
   ]
  },
  {
   "cell_type": "markdown",
   "metadata": {
    "slideshow": {
     "slide_type": "subslide"
    }
   },
   "source": [
    "Exercício da semana passada, resolvendo usando alguns conceitos (filosóficos) de python:\n",
    "\n",
    "- DRY: don't repeat yourself (não se repita)\n",
    "- Loops para simplificar"
   ]
  },
  {
   "cell_type": "code",
   "execution_count": null,
   "metadata": {
    "slideshow": {
     "slide_type": "subslide"
    }
   },
   "outputs": [],
   "source": [
    "## carregar arquivo com a lista de especies\n",
    "lista_especies = open('../dados/lista_de_especies.txt', 'r').read()\n",
    "lista_especies = lista_especies.split('\\n')\n",
    "\n",
    "# pegamos as ocorrências únicas, ou seja, o nome de cada espécie que aparece na lista\n",
    "todas_especies = set(lista_especies)\n",
    "\n",
    "# criamos um dicionario vazio que será preenchido mais pra frente\n",
    "dicionario_especies = {}\n",
    "\n",
    "# iteramos pelas especies [DRY+loops]\n",
    "for especie in todas_especies:\n",
    "    if especie != '':\n",
    "        # podemos obter a ocorrência de uma variavel em um lista usando o método count()\n",
    "        ocorrencias = lista_especies.count(especie)\n",
    "\n",
    "        # adicionamos um novo registro ao dicionário\n",
    "        dicionario_especies[especie] = ocorrencias\n",
    "\n",
    "# vamos exibir na tela a quantidade de organismos de cada especie de forma iterativa, utilizando o método .items():\n",
    "for especie,ocorrencia in dicionario_especies.items():\n",
    "    print(f\"A espécie {especie} possui {ocorrencia} ocorrencias.\")"
   ]
  },
  {
   "cell_type": "markdown",
   "metadata": {
    "slideshow": {
     "slide_type": "subslide"
    }
   },
   "source": [
    "**O que veremos hoje?**\n",
    "\n",
    "- como declarar funções e importar pacotes em python\n",
    "- pacote para manipulação numérica de informações\n",
    "- pacote para visualização de dados (1D)\n"
   ]
  },
  {
   "cell_type": "markdown",
   "metadata": {
    "slideshow": {
     "slide_type": "subslide"
    }
   },
   "source": [
    "**material de apoio**\n",
    "\n",
    "- numpy guia de usuário: https://numpy.org/doc/stable/numpy-user.pdf\n",
    "- numpy: https://ncar-hackathons.github.io/scientific-computing/numpy/intro.html\n",
    "- numpy + scipy: https://github.com/gustavo-marques/hands-on-examples/blob/master/scientific-computing/numpy_scipy.ipynb\n",
    "- matplotlib documentação: https://matplotlib.org/3.3.2/contents.html\n",
    "- "
   ]
  },
  {
   "cell_type": "markdown",
   "metadata": {
    "slideshow": {
     "slide_type": "slide"
    }
   },
   "source": [
    "# Python - um pouco mais -  avançado\n",
    "\n",
    "- pequenos problemas, pequenos trechos de códigos\n",
    "- funções e métodos"
   ]
  },
  {
   "cell_type": "markdown",
   "metadata": {
    "slideshow": {
     "slide_type": "subslide"
    }
   },
   "source": [
    "## Funções (functions)\n",
    "\n",
    "- bloco de código independente\n",
    "- uma ou mais ações específicas (funções)\n",
    "- retorna ou não alguma informação\n",
    "\n",
    "\n",
    "\n",
    "\n",
    "\n"
   ]
  },
  {
   "cell_type": "markdown",
   "metadata": {
    "slideshow": {
     "slide_type": "subslide"
    }
   },
   "source": [
    "## Funções (functions)\n",
    "\n",
    "- bloco de código independente\n",
    "- uma ou mais ações específicas (funções)\n",
    "- retorna ou não alguma informação\n",
    "- sintaxe:\n",
    "\n",
    "\n",
    "![image.png](https://www.fireblazeaischool.in/blogs/wp-content/uploads/2020/06/Capture-1.png)\n",
    "\n",
    "Exemplo prático:"
   ]
  },
  {
   "cell_type": "code",
   "execution_count": 9,
   "metadata": {
    "slideshow": {
     "slide_type": "subslide"
    }
   },
   "outputs": [],
   "source": [
    "def K_para_C(T_em_K):\n",
    "    # sequencia de bloco de códigos identados\n",
    "    print('Estamos dentro de uma função!')\n",
    "    \n",
    "    # conversão\n",
    "    T_em_C = T_em_K - 273.15\n",
    "    \n",
    "    return T_em_C"
   ]
  },
  {
   "cell_type": "code",
   "execution_count": 10,
   "metadata": {
    "slideshow": {
     "slide_type": "-"
    }
   },
   "outputs": [
    {
     "name": "stdout",
     "output_type": "stream",
     "text": [
      "Estamos dentro de uma função!\n",
      "0.0\n"
     ]
    }
   ],
   "source": [
    "temp = 273.15\n",
    "temperatura = K_para_C(temp)\n",
    "print(temperatura)"
   ]
  },
  {
   "cell_type": "markdown",
   "metadata": {
    "slideshow": {
     "slide_type": "subslide"
    }
   },
   "source": [
    "Podemos deixar uma função mais completa adicionando informações sobre como ela funciona. Para isso, usamos as ```docstrings```:"
   ]
  },
  {
   "cell_type": "code",
   "execution_count": 12,
   "metadata": {
    "slideshow": {
     "slide_type": "-"
    }
   },
   "outputs": [],
   "source": [
    "def K_para_C(T_em_K):\n",
    "    \"\"\" \n",
    "    Este conjunto de texto entre aspas triplas se chamada docstring. É usada para passar informações \n",
    "    importantes sobre a função, como: valores que ela recebe e retorna, o que ela faz, se é baseada em algum\n",
    "    artigo científico, por exemplo, e muito mais. Quando tivermos dúvida sobre alguma função, podemos buscar\n",
    "    o docstring dela utilizando o comando: K_para_C?\n",
    "    \n",
    "    No nosso caso, essa é uma função para converter uma temperatura de Kelvin para Celsius\n",
    "    \n",
    "    argumentos\n",
    "    ----------\n",
    "    T_em_K: float\n",
    "        Temperatura em Kelvin para ser convertida.\n",
    "    \n",
    "    returns\n",
    "    -------\n",
    "    T_em_C: float\n",
    "        Temperatura em graus Celsius.\n",
    "    \"\"\"\n",
    "    # sequencia de bloco de códigos identados\n",
    "    print('Estamos dentro de uma função!')\n",
    "    \n",
    "    # conversão\n",
    "    T_em_C = T_em_K - 273.15\n",
    "    \n",
    "    return T_em_C"
   ]
  },
  {
   "cell_type": "code",
   "execution_count": 13,
   "metadata": {
    "slideshow": {
     "slide_type": "-"
    }
   },
   "outputs": [],
   "source": [
    "K_para_C?\n"
   ]
  },
  {
   "cell_type": "markdown",
   "metadata": {
    "slideshow": {
     "slide_type": "slide"
    }
   },
   "source": [
    "# Pacotes (packages ou libraries)\n",
    "\n",
    "- coleção de funções\n",
    "- objetivo específico\n",
    "- podemos criar um\n",
    "- podemos (e iremos sempre) importar um pacote"
   ]
  },
  {
   "cell_type": "markdown",
   "metadata": {
    "slideshow": {
     "slide_type": "slide"
    }
   },
   "source": [
    "# NumPy: pacote numérico\n",
    "\n",
    "- background de qualquer pacote científico hoje em dia\n",
    "- utilizado para operações numéricas (matriciais ou escalares)\n",
    "- alta performance\n",
    "- Importamos da seguinte forma:"
   ]
  },
  {
   "cell_type": "code",
   "execution_count": 14,
   "metadata": {
    "slideshow": {
     "slide_type": "-"
    }
   },
   "outputs": [],
   "source": [
    "import numpy as np"
   ]
  },
  {
   "cell_type": "markdown",
   "metadata": {
    "slideshow": {
     "slide_type": "subslide"
    }
   },
   "source": [
    "\n",
    "**Conceitos**\n",
    "\n",
    "Lembrando alguns conceitos matemáticos:\n",
    "\n",
    "- Vetores (N,):\n",
    "\n",
    "$V = \\begin{bmatrix}\n",
    "1 & 2 & 3\n",
    "\\end{bmatrix}$\n",
    "\n",
    "- Matrizes (NxM, linhasxcolunas):\n",
    "\n",
    "$M = \\begin{bmatrix}\n",
    "1 & 2 & 3\\\\ \n",
    "4 & 5 & 6\n",
    "\\end{bmatrix}$\n",
    "\n",
    "Vamos ver alguns exemplos e entender na prática a funcionalidade do NumPy."
   ]
  },
  {
   "cell_type": "code",
   "execution_count": 16,
   "metadata": {
    "slideshow": {
     "slide_type": "subslide"
    }
   },
   "outputs": [
    {
     "data": {
      "text/plain": [
       "array([[1, 2, 3],\n",
       "       [4, 5, 6]])"
      ]
     },
     "execution_count": 16,
     "metadata": {},
     "output_type": "execute_result"
    }
   ],
   "source": [
    "# primeiro importamos e só o precisamos fazer uma vez em cada código\n",
    "import numpy as np\n",
    "\n",
    "V = np.array([1, 2, 3]) # vetor: 1D\n",
    "M = np.array([[1, 2, 3], [4, 5, 6]]) # matriz 2D\n",
    "\n",
    "M"
   ]
  },
  {
   "cell_type": "markdown",
   "metadata": {
    "slideshow": {
     "slide_type": "subslide"
    }
   },
   "source": [
    "Apesar de falarmos em vetores e matrizes, para o numpy é tudo a mesma coisa. O que diferencia é apenas a dimensão.\n",
    "\n",
    "Nota: ```ndarray``` significa n-dimensional array (matriz com n-dimensões)"
   ]
  },
  {
   "cell_type": "code",
   "execution_count": 18,
   "metadata": {},
   "outputs": [
    {
     "data": {
      "text/plain": [
       "(numpy.ndarray, numpy.ndarray)"
      ]
     },
     "execution_count": 18,
     "metadata": {},
     "output_type": "execute_result"
    }
   ],
   "source": [
    "type(M), type(V)"
   ]
  },
  {
   "cell_type": "markdown",
   "metadata": {
    "slideshow": {
     "slide_type": "subslide"
    }
   },
   "source": [
    "Mas como saber quantas dimensões uma matriz tem?"
   ]
  },
  {
   "cell_type": "code",
   "execution_count": 22,
   "metadata": {
    "slideshow": {
     "slide_type": "-"
    }
   },
   "outputs": [
    {
     "data": {
      "text/plain": [
       "(1, 2)"
      ]
     },
     "execution_count": 22,
     "metadata": {},
     "output_type": "execute_result"
    }
   ],
   "source": [
    "V.ndim, M.ndim"
   ]
  },
  {
   "cell_type": "markdown",
   "metadata": {
    "slideshow": {
     "slide_type": "subslide"
    }
   },
   "source": [
    "Podemo verificar o tamanho de uma matriz utilizando o método .shape. Se quisermos saber o tamanho geral da matriz (número total de itens), usamos o método. size:"
   ]
  },
  {
   "cell_type": "code",
   "execution_count": 17,
   "metadata": {
    "slideshow": {
     "slide_type": "-"
    }
   },
   "outputs": [
    {
     "name": "stdout",
     "output_type": "stream",
     "text": [
      "[1 2 3]\n"
     ]
    }
   ],
   "source": [
    "# V.shape, V.size\n",
    "print(V)"
   ]
  },
  {
   "cell_type": "code",
   "execution_count": 18,
   "metadata": {
    "slideshow": {
     "slide_type": "-"
    }
   },
   "outputs": [
    {
     "name": "stdout",
     "output_type": "stream",
     "text": [
      "[[1 2 3]\n",
      " [4 5 6]]\n"
     ]
    }
   ],
   "source": [
    "# M.shape, M.size\n",
    "print(M)"
   ]
  },
  {
   "cell_type": "markdown",
   "metadata": {
    "slideshow": {
     "slide_type": "subslide"
    }
   },
   "source": [
    "**Utilidade**\n",
    "\n",
    "- muito similar a listas\n",
    "- numpy nos permite trabalhar com:\n",
    "   - operações matriciais\n",
    "- performance computacional alta\n",
    "\n",
    "**Nota**:\n",
    "\n",
    "- matrizes somente com mesmo tipo de variável (dtype)\n",
    "- o tipo de variável mais restritivo comanda o dtype da matriz:"
   ]
  },
  {
   "cell_type": "code",
   "execution_count": 34,
   "metadata": {},
   "outputs": [
    {
     "data": {
      "text/plain": [
       "array(['0', 'teste'], dtype='<U21')"
      ]
     },
     "execution_count": 34,
     "metadata": {},
     "output_type": "execute_result"
    }
   ],
   "source": [
    "A = np.array([0,'teste'])\n",
    "A"
   ]
  },
  {
   "cell_type": "markdown",
   "metadata": {
    "slideshow": {
     "slide_type": "subslide"
    }
   },
   "source": [
    "Podemos também indicar o tipo de matriz que queremos, ao cria-la, utilizando o argumento ```dtype``` e inserindo alguma das opções que já nos é conhecida (int, float, bool e complex):"
   ]
  },
  {
   "cell_type": "code",
   "execution_count": 35,
   "metadata": {},
   "outputs": [
    {
     "data": {
      "text/plain": [
       "array([1.+0.j, 2.+0.j, 3.+0.j])"
      ]
     },
     "execution_count": 35,
     "metadata": {},
     "output_type": "execute_result"
    }
   ],
   "source": [
    "c = np.array([1, 2, 3], dtype=complex)\n",
    "c"
   ]
  },
  {
   "cell_type": "markdown",
   "metadata": {
    "slideshow": {
     "slide_type": "subslide"
    }
   },
   "source": [
    "**Principais funções disponíveis no Numpy**"
   ]
  },
  {
   "cell_type": "code",
   "execution_count": 19,
   "metadata": {
    "slideshow": {
     "slide_type": "subslide"
    }
   },
   "outputs": [
    {
     "data": {
      "text/plain": [
       "array([ 0,  1,  2,  3,  4,  5,  6,  7,  8,  9, 10, 11, 12, 13, 14, 15, 16,\n",
       "       17, 18, 19, 20, 21, 22, 23, 24, 25, 26, 27, 28, 29, 30, 31, 32, 33,\n",
       "       34, 35, 36, 37, 38, 39, 40, 41, 42, 43, 44, 45, 46, 47, 48, 49, 50,\n",
       "       51, 52, 53, 54, 55, 56, 57, 58, 59, 60, 61, 62, 63, 64, 65, 66, 67,\n",
       "       68, 69, 70, 71, 72, 73, 74, 75, 76, 77, 78, 79, 80, 81, 82, 83, 84,\n",
       "       85, 86, 87, 88, 89, 90, 91, 92, 93, 94, 95, 96, 97, 98, 99])"
      ]
     },
     "execution_count": 19,
     "metadata": {},
     "output_type": "execute_result"
    }
   ],
   "source": [
    "# criar um vetor ordenado (crescente) de 1 a 1 \n",
    "x = np.arange(0, 100, 1)\n",
    "x"
   ]
  },
  {
   "cell_type": "code",
   "execution_count": 22,
   "metadata": {
    "slideshow": {
     "slide_type": "subslide"
    }
   },
   "outputs": [
    {
     "data": {
      "text/plain": [
       "array([100,  99,  98,  97,  96,  95,  94,  93,  92,  91,  90,  89,  88,\n",
       "        87,  86,  85,  84,  83,  82,  81,  80,  79,  78,  77,  76,  75,\n",
       "        74,  73,  72,  71,  70,  69,  68,  67,  66,  65,  64,  63,  62,\n",
       "        61,  60,  59,  58,  57,  56,  55,  54,  53,  52,  51,  50,  49,\n",
       "        48,  47,  46,  45,  44,  43,  42,  41,  40,  39,  38,  37,  36,\n",
       "        35,  34,  33,  32,  31,  30,  29,  28,  27,  26,  25,  24,  23,\n",
       "        22,  21,  20,  19,  18,  17,  16,  15,  14,  13,  12,  11,  10,\n",
       "         9,   8,   7,   6,   5,   4,   3,   2,   1])"
      ]
     },
     "execution_count": 22,
     "metadata": {},
     "output_type": "execute_result"
    }
   ],
   "source": [
    "# podemos criar o mesmo vetor, mas na ordem descrescente\n",
    "x_inverso  = np.arange(100, 0, -1)\n",
    "x_inverso"
   ]
  },
  {
   "cell_type": "code",
   "execution_count": 23,
   "metadata": {
    "slideshow": {
     "slide_type": "subslide"
    }
   },
   "outputs": [
    {
     "data": {
      "text/plain": [
       "array([  0.        ,  11.11111111,  22.22222222,  33.33333333,\n",
       "        44.44444444,  55.55555556,  66.66666667,  77.77777778,\n",
       "        88.88888889, 100.        ])"
      ]
     },
     "execution_count": 23,
     "metadata": {},
     "output_type": "execute_result"
    }
   ],
   "source": [
    "# criar um vetor de 0 a 100, com de 10 intervalos\n",
    "y = np.linspace(0, 100, 10)\n",
    "y"
   ]
  },
  {
   "cell_type": "code",
   "execution_count": 26,
   "metadata": {
    "slideshow": {
     "slide_type": "subslide"
    }
   },
   "outputs": [
    {
     "data": {
      "text/plain": [
       "array([[0, 0, 0, 0, 0],\n",
       "       [1, 1, 1, 1, 1],\n",
       "       [2, 2, 2, 2, 2],\n",
       "       [3, 3, 3, 3, 3],\n",
       "       [4, 4, 4, 4, 4]])"
      ]
     },
     "execution_count": 26,
     "metadata": {},
     "output_type": "execute_result"
    }
   ],
   "source": [
    "# criar uma grade\n",
    "\n",
    "x,y  = np.mgrid[0:5, 0:5]\n",
    "x"
   ]
  },
  {
   "cell_type": "code",
   "execution_count": 34,
   "metadata": {
    "slideshow": {
     "slide_type": "subslide"
    }
   },
   "outputs": [
    {
     "data": {
      "text/plain": [
       "array([[0.39590541, 0.01325574, 0.50428347],\n",
       "       [0.17729773, 0.8143706 , 0.72029127],\n",
       "       [0.24200904, 0.11496177, 0.77342476],\n",
       "       [0.09886501, 0.01837205, 0.68003205],\n",
       "       [0.54186279, 0.48548216, 0.79967468]])"
      ]
     },
     "execution_count": 34,
     "metadata": {},
     "output_type": "execute_result"
    }
   ],
   "source": [
    "# utilizando números aleatórios\n",
    "np.random.rand(5,3)"
   ]
  },
  {
   "cell_type": "markdown",
   "metadata": {
    "slideshow": {
     "slide_type": "subslide"
    }
   },
   "source": [
    "Outros métodos:\n",
    "\n",
    "cumsum, dot, det, sort, max, min, argmax, argmin, sqrt, e outros.\n",
    "\n",
    "Testem o que estes métodos fazem.\n",
    "\n",
    "Lembre que parar usar você deve:\n",
    "\n",
    "```python\n",
    "x = np.arange(0,10,1)\n",
    "soma = x.sum()\n",
    "```"
   ]
  },
  {
   "cell_type": "markdown",
   "metadata": {
    "slideshow": {
     "slide_type": "-"
    }
   },
   "source": [
    "Para quem vem do matlab:\n",
    "\n",
    "http://wiki.scipy.org/NumPy_for_Matlab_Users"
   ]
  },
  {
   "cell_type": "code",
   "execution_count": null,
   "metadata": {},
   "outputs": [],
   "source": []
  },
  {
   "cell_type": "markdown",
   "metadata": {
    "slideshow": {
     "slide_type": "slide"
    }
   },
   "source": [
    "# Pacote de visualização: Matplotlib\n",
    "\n",
    "- base para qualquer visualização de dados\n",
    "- é um saco importar, porém com o tempo fica menor pior\n",
    "- muito poderoso em termos de controle dos elementos do gráfico e da estrutura em si, isto é:\n",
    " - estruturas complexas de eixos de visualização podem ser manipuladas por este pacote\n",
    "\n",
    "**Importar**\n",
    "\n",
    "```python\n",
    "import matplotlib.pyplot as plt\n",
    "```\n",
    "\n",
    "Quando utilizando um notebook, como no caso da aula, precisamos ativar o modo de exibir as figuras dentro do próprio notebook. Usamos então:\n",
    "\n",
    "```python\n",
    "%matplotlib inline\n",
    "```"
   ]
  },
  {
   "cell_type": "markdown",
   "metadata": {
    "slideshow": {
     "slide_type": "subslide"
    }
   },
   "source": [
    "**Elementos de uma figura**\n",
    "\n",
    "![image1](https://raw.githubusercontent.com/storopoli/ciencia-de-dados/e350e1c686cd00b91c0f316f33644dfd2322b2e3/notebooks/images/matplotlib-anatomy.png)\n",
    "\n",
    "Fonte: Prof Storopoli [https://github.com/storopoli/ciencia-de-dados]"
   ]
  },
  {
   "cell_type": "code",
   "execution_count": 44,
   "metadata": {
    "slideshow": {
     "slide_type": "subslide"
    }
   },
   "outputs": [],
   "source": [
    "import matplotlib.pyplot as plt\n",
    "\n",
    "# quando usando notebook, use o comando mágico abaixo para exibir as figuras no proprio arquivo:\n",
    "%matplotlib inline "
   ]
  },
  {
   "cell_type": "markdown",
   "metadata": {
    "slideshow": {
     "slide_type": "subslide"
    }
   },
   "source": [
    "Gráfico único na figura:"
   ]
  },
  {
   "cell_type": "code",
   "execution_count": 3,
   "metadata": {
    "slideshow": {
     "slide_type": "-"
    }
   },
   "outputs": [
    {
     "data": {
      "text/plain": [
       "<Figure size 432x288 with 0 Axes>"
      ]
     },
     "metadata": {},
     "output_type": "display_data"
    }
   ],
   "source": [
    "fig = plt.figure()\n",
    "\n",
    "# porém, como não existe informação plotada, nada é exibido abaixo."
   ]
  },
  {
   "cell_type": "markdown",
   "metadata": {
    "slideshow": {
     "slide_type": "subslide"
    }
   },
   "source": [
    "Refazendo o comando, mas inserindo um plot 1D simples:"
   ]
  },
  {
   "cell_type": "code",
   "execution_count": 5,
   "metadata": {
    "slideshow": {
     "slide_type": "-"
    }
   },
   "outputs": [
    {
     "data": {
      "text/plain": [
       "[<matplotlib.lines.Line2D at 0x7f8443240490>]"
      ]
     },
     "execution_count": 5,
     "metadata": {},
     "output_type": "execute_result"
    },
    {
     "data": {
      "image/png": "[encoded data removed]",
      "text/plain": [
       "<Figure size 432x288 with 1 Axes>"
      ]
     },
     "metadata": {
      "needs_background": "light"
     },
     "output_type": "display_data"
    }
   ],
   "source": [
    "fig = plt.figure()\n",
    "\n",
    "plt.plot([1,2,3])"
   ]
  },
  {
   "cell_type": "markdown",
   "metadata": {
    "slideshow": {
     "slide_type": "subslide"
    }
   },
   "source": [
    "Múltiplos gráficos em uma mesma figura:"
   ]
  },
  {
   "cell_type": "code",
   "execution_count": 49,
   "metadata": {
    "slideshow": {
     "slide_type": "-"
    }
   },
   "outputs": [
    {
     "data": {
      "text/plain": [
       "<AxesSubplot:>"
      ]
     },
     "execution_count": 49,
     "metadata": {},
     "output_type": "execute_result"
    },
    {
     "data": {
      "image/png": "[encoded data removed]",
      "text/plain": [
       "<Figure size 432x288 with 2 Axes>"
      ]
     },
     "metadata": {
      "needs_background": "light"
     },
     "output_type": "display_data"
    }
   ],
   "source": [
    "fig,axes = plt.subplots(nrows=1, ncols=2)\n",
    "\n",
    "axes[1]"
   ]
  },
  {
   "cell_type": "markdown",
   "metadata": {},
   "source": [
    "Note: \n",
    "\n",
    "- subplots já estruturados\n",
    "- a variável ```axes```é uma matriz 1D contendo os subplots"
   ]
  },
  {
   "cell_type": "code",
   "execution_count": 51,
   "metadata": {
    "slideshow": {
     "slide_type": "subslide"
    }
   },
   "outputs": [
    {
     "name": "stdout",
     "output_type": "stream",
     "text": [
      "<class 'numpy.ndarray'>\n"
     ]
    },
    {
     "data": {
      "text/plain": [
       "[<matplotlib.lines.Line2D at 0x7f66bd386250>]"
      ]
     },
     "execution_count": 51,
     "metadata": {},
     "output_type": "execute_result"
    },
    {
     "data": {
      "image/png": "[encoded data removed]",
      "text/plain": [
       "<Figure size 432x288 with 2 Axes>"
      ]
     },
     "metadata": {
      "needs_background": "light"
     },
     "output_type": "display_data"
    }
   ],
   "source": [
    "fig,axes = plt.subplots(nrows=1, ncols=2)\n",
    "\n",
    "# exibindo o tipo de axes\n",
    "print(type(axes))\n",
    "\n",
    "# plotando no gráfico da esquerda (1o gráfico)\n",
    "ax = axes[0]\n",
    "ax.plot([1,2,3])\n",
    "\n",
    "# plotando no gráfico da direita (2o gráfico)\n",
    "axes[1].plot([3,2,1])"
   ]
  },
  {
   "cell_type": "markdown",
   "metadata": {
    "slideshow": {
     "slide_type": "subslide"
    }
   },
   "source": [
    "Como o eixo y (ordenada) compartilham o mesmo intervalo, podemos usar:"
   ]
  },
  {
   "cell_type": "code",
   "execution_count": 55,
   "metadata": {
    "slideshow": {
     "slide_type": "-"
    }
   },
   "outputs": [
    {
     "data": {
      "text/plain": [
       "[<matplotlib.lines.Line2D at 0x7f66bcfdbb10>]"
      ]
     },
     "execution_count": 55,
     "metadata": {},
     "output_type": "execute_result"
    },
    {
     "data": {
      "image/png": "[encoded data removed]",
      "text/plain": [
       "<Figure size 432x288 with 2 Axes>"
      ]
     },
     "metadata": {
      "needs_background": "light"
     },
     "output_type": "display_data"
    }
   ],
   "source": [
    "fig,axes = plt.subplots(nrows=2, ncols=1, sharex=True)\n",
    "\n",
    "# plotando no gráfico da esquerda (1o gráfico)\n",
    "ax = axes[0]\n",
    "ax.plot([1,2,3])\n",
    "\n",
    "# plotando no gráfico da direita (2o gráfico)\n",
    "axes[1].plot([3,2,1])"
   ]
  },
  {
   "cell_type": "markdown",
   "metadata": {
    "slideshow": {
     "slide_type": "subslide"
    }
   },
   "source": [
    "E ainda podemos especificar o tamanho da nossa figura com o argumento ```figsize```. Este argumento também funciona em ```plt.figure()```."
   ]
  },
  {
   "cell_type": "code",
   "execution_count": 59,
   "metadata": {
    "slideshow": {
     "slide_type": "-"
    }
   },
   "outputs": [
    {
     "data": {
      "text/plain": [
       "[<matplotlib.lines.Line2D at 0x7f66bcc8de50>]"
      ]
     },
     "execution_count": 59,
     "metadata": {},
     "output_type": "execute_result"
    },
    {
     "data": {
      "image/png": "[encoded data removed]",
      "text/plain": [
       "<Figure size 1440x360 with 3 Axes>"
      ]
     },
     "metadata": {
      "needs_background": "light"
     },
     "output_type": "display_data"
    }
   ],
   "source": [
    "fig,axes = plt.subplots(nrows=1, ncols=3, sharey=True, figsize=(20,5))\n",
    "\n",
    "# plotando no gráfico da esquerda (1o gráfico)\n",
    "ax = axes[0]\n",
    "ax.plot([1,2,3])\n",
    "\n",
    "# plotando no gráfico da direita (2o gráfico)\n",
    "axes[1].plot([3,2,1])\n",
    "\n",
    "axes[2].plot([3,2,1])"
   ]
  },
  {
   "cell_type": "markdown",
   "metadata": {
    "slideshow": {
     "slide_type": "subslide"
    }
   },
   "source": [
    "### Customizando nossos gráficos"
   ]
  },
  {
   "cell_type": "code",
   "execution_count": 67,
   "metadata": {
    "slideshow": {
     "slide_type": "-"
    }
   },
   "outputs": [
    {
     "data": {
      "text/plain": [
       "[<matplotlib.lines.Line2D at 0x7f66bc4f6610>]"
      ]
     },
     "execution_count": 67,
     "metadata": {},
     "output_type": "execute_result"
    },
    {
     "data": {
      "image/png": "[encoded data removed]",
      "text/plain": [
       "<Figure size 1080x360 with 2 Axes>"
      ]
     },
     "metadata": {
      "needs_background": "light"
     },
     "output_type": "display_data"
    }
   ],
   "source": [
    "fig,axes = plt.subplots(nrows=1, ncols=2, sharey=True, figsize=(15,5))\n",
    "\n",
    "# plotando no gráfico da esquerda (1o gráfico)\n",
    "ax = axes[0]\n",
    "ax.plot([1,2,3], 'r')\n",
    "\n",
    "# plotando no gráfico da direita (2o gráfico)\n",
    "axes[1].plot([3,2,1], 'g-o')"
   ]
  },
  {
   "cell_type": "markdown",
   "metadata": {
    "slideshow": {
     "slide_type": "subslide"
    }
   },
   "source": [
    "Para exemplificar uma função de visualização, vamos transformar o código acima em uma função:"
   ]
  },
  {
   "cell_type": "code",
   "execution_count": 69,
   "metadata": {
    "slideshow": {
     "slide_type": "-"
    }
   },
   "outputs": [],
   "source": [
    "def plot_simples():\n",
    "    fig,axes = plt.subplots(nrows=1, ncols=2, sharey=True, figsize=(15,5))\n",
    "\n",
    "    # plotando no gráfico da esquerda (1o gráfico)\n",
    "    ax = axes[0]\n",
    "    ax.plot([1,2,3], 'r-')\n",
    "\n",
    "    # plotando no gráfico da direita (2o gráfico)\n",
    "    axes[1].plot([3,2,1], 'g-o')\n",
    "    \n",
    "    # retornamos fig e axes pq precisaremos no futuro\n",
    "    return fig,axes"
   ]
  },
  {
   "cell_type": "code",
   "execution_count": 89,
   "metadata": {
    "slideshow": {
     "slide_type": "subslide"
    }
   },
   "outputs": [
    {
     "data": {
      "text/plain": [
       "<matplotlib.collections.PolyCollection at 0x7f66bb519850>"
      ]
     },
     "execution_count": 89,
     "metadata": {},
     "output_type": "execute_result"
    },
    {
     "data": {
      "image/png": "[encoded data removed]",
      "text/plain": [
       "<Figure size 1080x360 with 2 Axes>"
      ]
     },
     "metadata": {
      "needs_background": "light"
     },
     "output_type": "display_data"
    }
   ],
   "source": [
    "# usando a função. Note que atribuimos o retorno da função a duas variáveis\n",
    "fig,axes = plot_simples()\n",
    "\n",
    "# inserindo rótulos ao eixo das abscissas (x) e ordenada (y):\n",
    "axes[0].set_xlabel('Abscissa', fontsize=20)\n",
    "axes[0].set_ylabel('Ordenada', fontsize=20)\n",
    "axes[1].set_xlabel('Abscissa', fontsize=20)\n",
    "\n",
    "# adicionando um título para cada subplot\n",
    "axes[0].set_title('Figura da esquerda', fontsize=25)\n",
    "axes[1].set_title('Figura da direita', fontsize=25)\n",
    "\n",
    "# podemos configurar o intervalo discreto das abscissas e ordenadas\n",
    "axes[0].set_xticks(np.arange(0,3,1))\n",
    "\n",
    "# podemos ainda trocar os rótulos de cada tick\n",
    "axes[0].set_xticklabels(['primeiro', 'segundo', 'terceiro'])\n",
    "\n",
    "# configurar os limites\n",
    "axes[1].set_xlim([0,10])\n",
    "\n",
    "# inserindo outros elementos:\n",
    "axes[0].grid('--', alpha=.3)\n",
    "axes[1].grid('--', alpha=.3)\n",
    "\n",
    "# axes[0].fill_between([0,1,2], 0, 2)"
   ]
  },
  {
   "cell_type": "code",
   "execution_count": null,
   "metadata": {},
   "outputs": [],
   "source": []
  },
  {
   "cell_type": "markdown",
   "metadata": {
    "slideshow": {
     "slide_type": "subslide"
    }
   },
   "source": [
    "**Tipos de gráficos para 1D**\n",
    "\n",
    "- linha: ```plt.plot()```\n",
    "- barra: ```plt.barh()```\n",
    "- histograma: ```plt.hist()```\n",
    "\n",
    "Podemos plotar, de forma semelhante, histogramas ou gráficos de barra ou histograma:"
   ]
  },
  {
   "cell_type": "code",
   "execution_count": 8,
   "metadata": {
    "slideshow": {
     "slide_type": "-"
    }
   },
   "outputs": [
    {
     "data": {
      "image/png": "[encoded data removed]",
      "text/plain": [
       "<Figure size 1080x360 with 2 Axes>"
      ]
     },
     "metadata": {
      "needs_background": "light"
     },
     "output_type": "display_data"
    }
   ],
   "source": [
    "fig,axes = plt.subplots(1,2,figsize=(15,5))\n",
    "\n",
    "# grafico de barras horizontal\n",
    "axes[0].barh(x,y)\n",
    "\n",
    "# histograma para x\n",
    "_,_,_ = axes[1].hist(x,5)\n",
    "\n",
    "# bonus: personalizacao dos subplots usando apenas uma linha com compreensão de listas (list comprehension)\n",
    "_ = [ax.grid('--', alpha=.3) for ax in axes]"
   ]
  },
  {
   "cell_type": "code",
   "execution_count": 90,
   "metadata": {
    "slideshow": {
     "slide_type": "subslide"
    }
   },
   "outputs": [],
   "source": [
    "# precisando de ajuda? \n",
    "help(plt.plot)\n",
    "# plt.plot?"
   ]
  },
  {
   "cell_type": "markdown",
   "metadata": {
    "slideshow": {
     "slide_type": "subslide"
    }
   },
   "source": [
    "Enfim, para **salvar** uma figura, utilizamos o método ```plt.savefig()```:\n",
    "\n",
    "- formatos disponíveis: pdf, png, jpg, tif, svg\n",
    "- dpi: qualidade da figura salva\n",
    "- bbox_to_inches: use ```tight``` para remover espaços em branco ao redor"
   ]
  },
  {
   "cell_type": "code",
   "execution_count": 91,
   "metadata": {
    "slideshow": {
     "slide_type": "-"
    }
   },
   "outputs": [
    {
     "name": "stderr",
     "output_type": "stream",
     "text": [
      "/home/danilo/miniconda3/envs/doc_env/lib/python3.7/site-packages/ipykernel_launcher.py:5: MatplotlibDeprecationWarning: savefig() got unexpected keyword argument \"bbox_to_inches\" which is no longer supported as of 3.3 and will become an error two minor releases later\n",
      "  \"\"\"\n"
     ]
    },
    {
     "data": {
      "image/png": "[encoded data removed]",
      "text/plain": [
       "<Figure size 1080x360 with 2 Axes>"
      ]
     },
     "metadata": {
      "needs_background": "light"
     },
     "output_type": "display_data"
    }
   ],
   "source": [
    "# usando a nossa função\n",
    "fig,ax = plot_simples()\n",
    "\n",
    "# salvando a figura\n",
    "plt.savefig('nome_da_figure.png', dpi=150, bbox_to_inches='tight')\n"
   ]
  },
  {
   "cell_type": "markdown",
   "metadata": {
    "slideshow": {
     "slide_type": "subslide"
    }
   },
   "source": [
    "Exercício:\n",
    "\n",
    "Utilizando o dicionário criado com a lista de espécies, plote um gráfico de barras horizontais, utilizando ```plt.barh()```.\n",
    "\n",
    "**dica**: use ```list()``` para converter as chaves e valores do dicionário para uma lista."
   ]
  },
  {
   "cell_type": "code",
   "execution_count": 104,
   "metadata": {},
   "outputs": [
    {
     "data": {
      "text/plain": [
       "Text(0.5, 1.0, 'Titulo para o gráfico')"
      ]
     },
     "execution_count": 104,
     "metadata": {},
     "output_type": "execute_result"
    },
    {
     "data": {
      "image/png": "[encoded data removed]",
      "text/plain": [
       "<Figure size 1080x360 with 1 Axes>"
      ]
     },
     "metadata": {
      "needs_background": "light"
     },
     "output_type": "display_data"
    }
   ],
   "source": [
    "# solução\n",
    "especies = list(dicionario_especies.keys())\n",
    "ocorrencias = list(dicionario_especies.values())\n",
    "\n",
    "fig = plt.figure(figsize=(15,5))\n",
    "ax = plt.barh(especies, ocorrencias)\n",
    "plt.xlabel('Ocorrências')\n",
    "plt.title('Titulo para o gráfico')"
   ]
  },
  {
   "cell_type": "markdown",
   "metadata": {
    "slideshow": {
     "slide_type": "subslide"
    }
   },
   "source": [
    "\n",
    "É claro que existem diversas formas de visualização de gráficos de uma dimensão no python. Apresentamos dois tipos bem básicos, porém muito utilizados no dia a dia de um cientista. \n",
    "\n",
    "Para mais exemplo, navegue pela documentação do matplotlib. Ao longo do curso iremos explorar diversos formatos de visualização e explicaremos cada caso conforme uso."
   ]
  },
  {
   "cell_type": "markdown",
   "metadata": {
    "slideshow": {
     "slide_type": "subslide"
    }
   },
   "source": [
    "Exercícios de casa: perfis verticais\n",
    "\n",
    "Arquivos com temperatura e salinidade climatológica do World Ocean Atlas (WOA) serão fornecidos para uma região específica do litoral Norte de São Paulo: Ubatuba. \n",
    "\n",
    "1. carregue os dados com numpy usando genfromtxt ou loadtxt(sep=','), sendo uma variável para cada propriedade\n",
    "\n",
    "```python\n",
    "temperatura = np.loadtxt('../dados/salinidade_woa2018_ubatuba_60m.csv', delimiter=',')\n",
    "```\n",
    "\n",
    "2. explore a estrutura da matriz que virá. Por exemplo, identifique:\n",
    "   - o que é cada coluna? E cada linha?\n",
    "   - como acessá-los pelo indexamento de matrizes?\n",
    "\n",
    "Esteja familiarizado com a matriz fornecida antes de prosseguir para a visualização, assim erros que poderão assustar serão evitados."
   ]
  },
  {
   "cell_type": "code",
   "execution_count": null,
   "metadata": {
    "scrolled": true
   },
   "outputs": [],
   "source": [
    "# codigo para baixar o arquivo, caso você esteja rodando este notebook no Google Colab\n",
    "!wget --directory-prefix=../dados/ https://raw.githubusercontent.com/nilodna/python-basico/feature_iojr-shortcourse/dados/temperatura_woa2018_ubatuba_60m.csv\n",
    "!wget --directory-prefix=../dados/ https://raw.githubusercontent.com/nilodna/python-basico/feature_iojr-shortcourse/dados/salinidade_woa2018_ubatuba_60m.csv"
   ]
  },
  {
   "cell_type": "code",
   "execution_count": 111,
   "metadata": {
    "slideshow": {
     "slide_type": "subslide"
    }
   },
   "outputs": [
    {
     "data": {
      "text/plain": [
       "array([24.151209, 23.4219  , 22.481491, 21.607891, 20.65369 , 19.68269 ,\n",
       "       18.76281 , 17.920109, 17.141209, 16.284891, 15.723709, 15.306991])"
      ]
     },
     "execution_count": 111,
     "metadata": {},
     "output_type": "execute_result"
    }
   ],
   "source": [
    "# explorando matrizes de temperatura e salinidade\n",
    "temperatura = np.loadtxt('../dados/temperatura_woa2018_ubatuba_60m.csv', delimiter=',')\n",
    "temperatura[:, 12]"
   ]
  },
  {
   "cell_type": "markdown",
   "metadata": {
    "slideshow": {
     "slide_type": "subslide"
    }
   },
   "source": [
    "Nível 1:\n",
    "- faça subplots de perfis verticais para o mês de janeiro. Cada subplot será uma propriedade (temperatura e salinidade)\n",
    "\n",
    "Nível 2:\n",
    "- Faça uma média dos meses de verão e meses de inverno\n",
    "- plot as médias em dois subplots, para cada propriedade\n",
    "\n",
    "Nível 3:\n",
    "- plote todos os meses da climatologia em cada figura (uma para cada propriedade como feito nos anteriores).\n",
    "- mantenha consistência em cores ou marcadores para cada mês\n",
    "\n",
    "Bônus:\n",
    "- plote em um só gráfico a temperatura e salinidade para um mês a sua escolha. \n",
    "- sabendo que os limites serão diferentes, adicione um segundo eixo (eixo gêmeo) à figura usando ```ax.twinx()```.\n",
    "\n",
    "**dicas**\n",
    "- use ```:``` para acessar todos os valores de uma dimensão da matriz\n",
    "- estilize seu perfil vertical com gradeamento (grid), rotulos (labels) nos eixos. legenda (legend), etc..."
   ]
  }
 ],
 "metadata": {
  "celltoolbar": "Slideshow",
  "kernelspec": {
   "display_name": "Python 3",
   "language": "python",
   "name": "python3"
  },
  "language_info": {
   "codemirror_mode": {
    "name": "ipython",
    "version": 3
   },
   "file_extension": ".py",
   "mimetype": "text/x-python",
   "name": "python",
   "nbconvert_exporter": "python",
   "pygments_lexer": "ipython3",
   "version": "3.7.8"
  }
 },
 "nbformat": 4,
 "nbformat_minor": 4
}
