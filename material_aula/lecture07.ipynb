{
 "cells": [
  {
   "cell_type": "code",
   "execution_count": 1,
   "metadata": {
    "slideshow": {
     "slide_type": "skip"
    }
   },
   "outputs": [],
   "source": [
    "import warnings\n",
    "warnings.filterwarnings('ignore')\n",
    "import pandas as pd\n",
    "import numpy as np\n",
    "import matplotlib.pyplot as plt\n",
    "import matplotlib.patches as mpatches\n",
    "import os\n",
    "\n",
    "import cartopy.crs as ccrs\n",
    "import cartopy.feature as cfeature\n",
    "\n",
    "%matplotlib inline\n",
    "\n",
    "#---- declarando as funções que serão utilizadas ao longo do script ----#\n",
    "\n",
    "def fix_pos(pos):\n",
    "    \"\"\" funcao para corrigir os valores de coordenadas vindos no excel do IBAMA \"\"\"\n",
    "    # source: ttps://gist.github.com/ocefpaf/60bec6fbd252107de11073376bad7925\n",
    "    deg, rest = pos.split(\"°\")\n",
    "    mi, rest = rest.strip().split(\"'\")\n",
    "    sec, hem = rest.strip().split('\"')\n",
    "    hem = hem.strip()\n",
    "\n",
    "    deg, mi, sec = map(float, (deg, mi, sec))\n",
    "    if hem in [\"S\", \"W\"]:\n",
    "        sign = -1\n",
    "    elif hem in [\"N\", \"E\"]:\n",
    "        sign = +1\n",
    "    else:\n",
    "        raise ValueError(f\"Unrecognized sign {sign}, expected 'S', 'W', 'E', or 'N'\")\n",
    "\n",
    "    return sign * (deg + mi/60 + sec/60/60)\n",
    "\n",
    "###################################################\n",
    "\n",
    "def make_map(fig=None, ax=None, extent=[-50,-41,-30,-22], projection=ccrs.PlateCarree()):\n",
    "    \"\"\" \n",
    "    documente-a como exercício para entender a \n",
    "    ação de cada linha\n",
    "    \"\"\"\n",
    "    ax.set_extent(extent, crs=ccrs.PlateCarree())\n",
    "\n",
    "    coastline_10m = cfeature.NaturalEarthFeature(\n",
    "        category='physical',name='coastline',scale='10m',\n",
    "        facecolor=cfeature.COLORS['land'])\n",
    "\n",
    "    bathy_0m      = cfeature.NaturalEarthFeature(\n",
    "        category='physical',name='bathymetry_L_0',scale='10m')\n",
    "\n",
    "    # inserting information over the map\n",
    "    ax.add_feature(coastline_10m, \n",
    "                   edgecolor='black',\n",
    "                   linewidth=.1)\n",
    "    ax.add_feature(bathy_0m,\n",
    "                   facecolor='lightblue',\n",
    "                   alpha=.3)\n",
    "    \n",
    "    return ax\n",
    "\n",
    "###################################################\n",
    "\n",
    "def configuring_map(ax, extent):\n",
    "    # criando as gridlines \n",
    "    gl = ax.gridlines(crs=ccrs.PlateCarree(), draw_labels=True,\n",
    "                      linewidth=.4, color='gray', \n",
    "                      alpha=0.5, linestyle='--', \n",
    "                      xlocs=np.linspace(extent[0], extent[1], 5),\n",
    "                      ylocs=np.linspace(extent[3], extent[2], 5))\n",
    "\n",
    "    gl.top_labels = False\n",
    "    gl.right_labels = False\n",
    "\n",
    "    # dicionario com configurações dos rótulos\n",
    "    dict_style_labels = {\n",
    "        'color': 'black',\n",
    "        'fontsize': 8\n",
    "    }\n",
    "\n",
    "    gl.ylabel_style = dict_style_labels\n",
    "    \n",
    "###################################################\n",
    "\n",
    "#---- começo do código principal ----#\n",
    "\n",
    "url = \"http://www.ibama.gov.br/phocadownload/emergenciasambientais/2019/manchasdeoleo/2019-12-02_LOCALIDADES_AFETADAS.xlsx\"\n",
    "df = pd.read_excel(\n",
    "    url,\n",
    "    parse_dates=[\"Data_Avist\", \"Data_Revis\"],\n",
    ")\n",
    "\n",
    "# Calculando o tempo de permanência da mancha em cada localidade\n",
    "df[\"dias\"] = (df[\"Data_Revis\"] - df[\"Data_Avist\"]).dt.days\n",
    "\n",
    "# tratando as colunas de tempo\n",
    "df['Data_Avist'] = df['Data_Avist'].dt.strftime('%Y-%m-%d').str.replace('NaT', 'na')\n",
    "df[\"Data_Revis\"] = df[\"Data_Revis\"].dt.strftime(\"%Y-%m-%d\").str.replace(\"NaT\", \"na\")\n",
    "df[\"dias\"] = df[\"dias\"].astype(float)\n",
    "\n",
    "df.dropna(inplace=True)\n",
    "# um pouco de limpeza de dados (data cleaning)\n",
    "\n",
    "# removendo linhas onde o status == nao observado\n",
    "filtr = (df['Status'] == df['Status'].unique()[2])\n",
    "\n",
    "df = df[~filtr].copy()\n",
    "\n",
    "# removendo registros onde o dias == 0\n",
    "filtr = (df['dias'] == 0)\n",
    "df = df[~filtr].copy()\n",
    "\n",
    "# necessário tratar as colunas de Latitude e Longitude\n",
    "df['lat'] = df['Latitude'].apply(fix_pos)\n",
    "df['lon'] = df['Longitude'].apply(fix_pos)"
   ]
  },
  {
   "cell_type": "code",
   "execution_count": 3,
   "metadata": {
    "slideshow": {
     "slide_type": "subslide"
    }
   },
   "outputs": [],
   "source": [
    "#----- visualizando -----#\n",
    "extent = [-45.949, -30, -20, 0] # regiao brasileira"
   ]
  },
  {
   "cell_type": "code",
   "execution_count": 55,
   "metadata": {
    "slideshow": {
     "slide_type": "subslide"
    }
   },
   "outputs": [
    {
     "data": {
      "image/png": "[encoded data removed]",
      "text/plain": [
       "<Figure size 425.197x566.929 with 1 Axes>"
      ]
     },
     "metadata": {
      "needs_background": "light"
     },
     "output_type": "display_data"
    }
   ],
   "source": [
    "# 1) Faça um mapa indicando os Estados mais afetados, utilizando como marker='o' (uma bola) e essa bola deve \n",
    "# variar de tamanho segundo a quantidade de regiões atingidas apenas.\n",
    "# Estado mais afetado\n",
    "states = df.groupby('sigla_uf').count()\n",
    "states['lat'] = df.groupby('sigla_uf').mean()['lat']\n",
    "states['lon'] = df.groupby('sigla_uf').mean()['lon']\n",
    "\n",
    "fig = plt.figure(figsize=(15/2.54,20/2.54)) # em polegadas (tamanho padrão de algumas revistas)\n",
    "ax = fig.add_subplot(1, 1, 1, projection=ccrs.PlateCarree())\n",
    "\n",
    "ax = make_map(fig=fig, ax=ax, extent=extent, projection=ccrs.PlateCarree())\n",
    "configuring_map(ax, extent=extent)\n",
    "\n",
    "ax.scatter(states['lon'].values, states['lat'].values, \n",
    "           s=states['Latitude'].values*50,  # o pulo do gato para variar o tamanho dos scatter\n",
    "           zorder=50)\n",
    "\n",
    "plt.savefig('lec06_ex01_resposta.png', dpi=150)"
   ]
  },
  {
   "cell_type": "code",
   "execution_count": 46,
   "metadata": {
    "slideshow": {
     "slide_type": "subslide"
    }
   },
   "outputs": [],
   "source": [
    "def extrair_info_UF(df, uf='AL'):\n",
    "    df_por_estado = df[df['sigla_uf'] == uf]\n",
    "    \n",
    "    # limites geográficos com base no estado selecionado\n",
    "    llon,ulon = df_por_estado['lon'].min(), df_por_estado['lon'].max()\n",
    "    llat,ulat = df_por_estado['lat'].min(), df_por_estado['lat'].max()\n",
    "    \n",
    "    extent = [llon-0.05, ulon+0.05, llat-0.02, ulat+0.02]\n",
    "    \n",
    "    return df_por_estado, extent"
   ]
  },
  {
   "cell_type": "code",
   "execution_count": 49,
   "metadata": {
    "slideshow": {
     "slide_type": "subslide"
    }
   },
   "outputs": [
    {
     "data": {
      "text/plain": [
       "<matplotlib.colorbar.Colorbar at 0x7fea2fd24510>"
      ]
     },
     "execution_count": 49,
     "metadata": {},
     "output_type": "execute_result"
    },
    {
     "data": {
      "image/png": "[encoded data removed]",
      "text/plain": [
       "<Figure size 425.197x566.929 with 2 Axes>"
      ]
     },
     "metadata": {
      "needs_background": "light"
     },
     "output_type": "display_data"
    }
   ],
   "source": [
    "# Alagoas\n",
    "alagoas,ext_alagoas = extrair_info_UF(df, uf='AL')\n",
    "df_alagoas = alagoas.groupby('localidade').cumsum().copy()\n",
    "\n",
    "fig = plt.figure(figsize=(15/2.54,20/2.54)) # em polegadas (tamanho padrão de algumas revistas)\n",
    "ax = fig.add_subplot(1, 1, 1, projection=ccrs.PlateCarree())\n",
    "\n",
    "ax = make_map(fig=fig, ax=ax, extent=ext_alagoas, projection=ccrs.PlateCarree())\n",
    "configuring_map(ax, extent=ext_alagoas)\n",
    "\n",
    "cf = ax.scatter(df_alagoas['lon'], df_alagoas['lat'],\n",
    "                s=50, zorder=20,\n",
    "                c=df_alagoas['dias'])\n",
    "\n",
    "plt.colorbar(cf)\n",
    "plt.savefig('lec06_ex02_resposta_alagoas.png', dpi=150)"
   ]
  },
  {
   "cell_type": "code",
   "execution_count": 52,
   "metadata": {
    "slideshow": {
     "slide_type": "subslide"
    }
   },
   "outputs": [
    {
     "data": {
      "text/plain": [
       "<matplotlib.colorbar.Colorbar at 0x7fea30551950>"
      ]
     },
     "execution_count": 52,
     "metadata": {},
     "output_type": "execute_result"
    },
    {
     "data": {
      "image/png": "[encoded data removed]",
      "text/plain": [
       "<Figure size 425.197x566.929 with 2 Axes>"
      ]
     },
     "metadata": {
      "needs_background": "light"
     },
     "output_type": "display_data"
    }
   ],
   "source": [
    "# Bahia\n",
    "estado,ext_estado = extrair_info_UF(df, uf='BA')\n",
    "df_estado = estado.groupby('localidade').cumsum().copy()\n",
    "\n",
    "fig = plt.figure(figsize=(15/2.54,20/2.54)) # em polegadas (tamanho padrão de algumas revistas)\n",
    "ax = fig.add_subplot(1, 1, 1, projection=ccrs.PlateCarree())\n",
    "\n",
    "ax = make_map(fig=fig, ax=ax, extent=ext_estado, projection=ccrs.PlateCarree())\n",
    "configuring_map(ax, extent=ext_estado)\n",
    "\n",
    "cf = ax.scatter(df_estado['lon'], df_estado['lat'],\n",
    "                s=50, zorder=20,\n",
    "                c=df_estado['dias'])\n",
    "\n",
    "plt.colorbar(cf)\n",
    "plt.savefig('lec06_ex02_resposta_bahia.png', dpi=150)"
   ]
  },
  {
   "cell_type": "code",
   "execution_count": 53,
   "metadata": {
    "slideshow": {
     "slide_type": "subslide"
    }
   },
   "outputs": [
    {
     "data": {
      "text/plain": [
       "<matplotlib.colorbar.Colorbar at 0x7fea2fabebd0>"
      ]
     },
     "execution_count": 53,
     "metadata": {},
     "output_type": "execute_result"
    },
    {
     "data": {
      "image/png": "[encoded data removed]",
      "text/plain": [
       "<Figure size 425.197x566.929 with 2 Axes>"
      ]
     },
     "metadata": {
      "needs_background": "light"
     },
     "output_type": "display_data"
    }
   ],
   "source": [
    "# Espirito Santo\n",
    "estado,ext_estado = extrair_info_UF(df, uf='ES')\n",
    "df_estado = estado.groupby('localidade').cumsum().copy()\n",
    "\n",
    "fig = plt.figure(figsize=(15/2.54,20/2.54)) # em polegadas (tamanho padrão de algumas revistas)\n",
    "ax = fig.add_subplot(1, 1, 1, projection=ccrs.PlateCarree())\n",
    "\n",
    "ax = make_map(fig=fig, ax=ax, extent=ext_estado, projection=ccrs.PlateCarree())\n",
    "configuring_map(ax, extent=ext_estado)\n",
    "\n",
    "cf = ax.scatter(df_estado['lon'], df_estado['lat'],\n",
    "                s=50, zorder=20,\n",
    "                c=df_estado['dias'])\n",
    "\n",
    "plt.colorbar(cf)\n",
    "plt.savefig('lec06_ex02_resposta_espiritosanto.png', dpi=150)"
   ]
  },
  {
   "cell_type": "code",
   "execution_count": 58,
   "metadata": {
    "slideshow": {
     "slide_type": "subslide"
    }
   },
   "outputs": [
    {
     "data": {
      "text/plain": [
       "<matplotlib.collections.PathCollection at 0x7fea2f85fd50>"
      ]
     },
     "execution_count": 58,
     "metadata": {},
     "output_type": "execute_result"
    },
    {
     "data": {
      "image/png": "[encoded data removed]",
      "text/plain": [
       "<Figure size 425.197x566.929 with 1 Axes>"
      ]
     },
     "metadata": {
      "needs_background": "light"
     },
     "output_type": "display_data"
    }
   ],
   "source": [
    "# 3) Utilize a coluna \"dias\" do dataframe e refaça o mapa 1), mas agora varie o tamanho dos marcadores \n",
    "# segundo o tempo de permanência somado dos Estados. Para isso use o agrupamento do pandas com o método \n",
    "# .sum().\n",
    "\n",
    "# Estado mais afetado\n",
    "states = df.groupby('sigla_uf').sum()\n",
    "states['lat'] = df.groupby('sigla_uf').mean()['lat']\n",
    "states['lon'] = df.groupby('sigla_uf').mean()['lon']\n",
    "\n",
    "colors = ['']\n",
    "\n",
    "fig = plt.figure(figsize=(15/2.54,20/2.54)) # em polegadas (tamanho padrão de algumas revistas)\n",
    "ax = fig.add_subplot(1, 1, 1, projection=ccrs.PlateCarree())\n",
    "\n",
    "ax = make_map(fig=fig, ax=ax, extent=extent, projection=ccrs.PlateCarree())\n",
    "configuring_map(ax, extent=extent)\n",
    "\n",
    "ax.scatter(states['lon'].values, states['lat'].values, \n",
    "           s=states['dias'].values,  # o pulo do gato para variar o tamanho dos scatter\n",
    "           zorder=50,\n",
    "           )"
   ]
  },
  {
   "cell_type": "markdown",
   "metadata": {
    "slideshow": {
     "slide_type": "slide"
    }
   },
   "source": [
    "## Campo multidimensionais (nD)"
   ]
  },
  {
   "cell_type": "markdown",
   "metadata": {
    "slideshow": {
     "slide_type": "subslide"
    }
   },
   "source": [
    "**O que são campos multidimensionais?**\n",
    "\n",
    "- 1D: série temporal ou perfil\n",
    "- nD: multidimensional:\n",
    "    - (tempo,profundidade), \n",
    "    - (tempo,latitude,longitude),\n",
    "    - (tempo,profundidade,latitude,longitude)\n",
    "    - etc\n",
    "- modelos, satélites, etc"
   ]
  },
  {
   "cell_type": "markdown",
   "metadata": {
    "slideshow": {
     "slide_type": "subslide"
    }
   },
   "source": [
    "**Formato padrão de armazenamento**\n",
    "\n",
    "- ASCII: legível, mas pesado (csv, dat)\n",
    "- Binário: ilegível, mas leve (bin)\n",
    "- NetCDF: combina o melhor dos mundos (nc, cdf)\n",
    "- **Net**work **C**ommon **D**ata **F**ormat\n",
    "    - atributos como metadados em ASCII\n",
    "    - dados em binário"
   ]
  },
  {
   "cell_type": "code",
   "execution_count": null,
   "metadata": {
    "slideshow": {
     "slide_type": "subslide"
    }
   },
   "outputs": [],
   "source": [
    "!ncdump -h ../dados/nino34_ERA5.nc"
   ]
  },
  {
   "cell_type": "markdown",
   "metadata": {
    "slideshow": {
     "slide_type": "subslide"
    }
   },
   "source": [
    "**Leitura de arquivos netcdf no python**\n",
    "\n",
    "- netCDF4:\n",
    "    - clássico e muito utilizado\n",
    "    - matrizes numpy\n",
    "- Xarray:\n",
    "    - recente e em crescimento\n",
    "    - poderoso em análise de dados"
   ]
  },
  {
   "cell_type": "markdown",
   "metadata": {
    "slideshow": {
     "slide_type": "subslide"
    }
   },
   "source": [
    "### Xarray\n",
    "\n",
    "- alternativa aplicada à ciência das terras\n",
    "- precisamos dos metadados\n",
    "- rotulados/nomeados\n",
    "- netcdf4: somente por índices\n",
    "\n",
    "![](http://xarray.pydata.org/en/stable/_images/dataset-diagram.png)"
   ]
  },
  {
   "cell_type": "markdown",
   "metadata": {
    "slideshow": {
     "slide_type": "subslide"
    }
   },
   "source": [
    "### O que é o Xarray?\n",
    "\n",
    "- inspirado no pandas\n",
    "- numpy, matplotlib, cartopy, pandas e dask\n",
    "- novas estruturas aplicadas à campos nD:\n",
    "    - xr.DataArray()\n",
    "    - xr.Dataset()"
   ]
  },
  {
   "cell_type": "markdown",
   "metadata": {
    "slideshow": {
     "slide_type": "subslide"
    }
   },
   "source": [
    "**Algumas definições/métodos**\n",
    "\n",
    "- ```.coords``` (coordenadas)\n",
    "    - matriz 1D com coordenadas\n",
    "    - podemos pensar em ticklabels\n",
    "    \n",
    "- ```.attrs``` (atributos)\n",
    "    - dicionário de DataArray"
   ]
  },
  {
   "cell_type": "markdown",
   "metadata": {
    "slideshow": {
     "slide_type": "subslide"
    }
   },
   "source": [
    "Explorando as diferenças entre netcdf4 e xarray"
   ]
  },
  {
   "cell_type": "code",
   "execution_count": 1,
   "metadata": {},
   "outputs": [
    {
     "data": {
      "text/plain": [
       "(netCDF4._netCDF4.Dataset, xarray.core.dataset.Dataset)"
      ]
     },
     "execution_count": 1,
     "metadata": {},
     "output_type": "execute_result"
    }
   ],
   "source": [
    "# importando os dois pacotes\n",
    "import netCDF4 as nc\n",
    "import xarray as xr\n",
    "\n",
    "# para ler um arquivo em cada pacote:\n",
    "fname = '/home/danilo/DATA/ERA5/SSTreanalysis/atlantic_sst2.nc'\n",
    "data_nc = nc.Dataset(fname)\n",
    "data_xr = xr.open_dataset(fname)\n",
    "\n",
    "# comparar o tipo\n",
    "type(data_nc), type(data_xr)"
   ]
  },
  {
   "cell_type": "code",
   "execution_count": 2,
   "metadata": {
    "slideshow": {
     "slide_type": "subslide"
    }
   },
   "outputs": [
    {
     "data": {
      "text/plain": [
       "<class 'netCDF4._netCDF4.Dataset'>\n",
       "root group (NETCDF3_64BIT_OFFSET data model, file format NETCDF3):\n",
       "    Conventions: CF-1.6\n",
       "    history: 2020-10-06 20:15:49 GMT by grib_to_netcdf-2.16.0: /opt/ecmwf/eccodes/bin/grib_to_netcdf -S param -o /cache/data3/adaptor.mars.internal-1602015108.4814277-3451-1-61049aaf-bf82-4cd2-8423-d4e1bc7df3f4.nc /cache/tmp/61049aaf-bf82-4cd2-8423-d4e1bc7df3f4-adaptor.mars.internal-1602015108.4833565-3451-1-tmp.grib\n",
       "    dimensions(sizes): longitude(277), latitude(193), expver(2), time(501)\n",
       "    variables(dimensions): float32 longitude(longitude), float32 latitude(latitude), int32 expver(expver), int32 time(time), int16 sst(time, expver, latitude, longitude)\n",
       "    groups: "
      ]
     },
     "execution_count": 2,
     "metadata": {},
     "output_type": "execute_result"
    }
   ],
   "source": [
    "data_nc"
   ]
  },
  {
   "cell_type": "code",
   "execution_count": 21,
   "metadata": {
    "slideshow": {
     "slide_type": "subslide"
    }
   },
   "outputs": [
    {
     "data": {
      "text/html": [
       "<div><svg style=\"position: absolute; width: 0; height: 0; overflow: hidden\">\n",
       "<defs>\n",
       "<symbol id=\"icon-database\" viewBox=\"0 0 32 32\">\n",
       "<path d=\"M16 0c-8.837 0-16 2.239-16 5v4c0 2.761 7.163 5 16 5s16-2.239 16-5v-4c0-2.761-7.163-5-16-5z\"></path>\n",
       "<path d=\"M16 17c-8.837 0-16-2.239-16-5v6c0 2.761 7.163 5 16 5s16-2.239 16-5v-6c0 2.761-7.163 5-16 5z\"></path>\n",
       "<path d=\"M16 26c-8.837 0-16-2.239-16-5v6c0 2.761 7.163 5 16 5s16-2.239 16-5v-6c0 2.761-7.163 5-16 5z\"></path>\n",
       "</symbol>\n",
       "<symbol id=\"icon-file-text2\" viewBox=\"0 0 32 32\">\n",
       "<path d=\"M28.681 7.159c-0.694-0.947-1.662-2.053-2.724-3.116s-2.169-2.030-3.116-2.724c-1.612-1.182-2.393-1.319-2.841-1.319h-15.5c-1.378 0-2.5 1.121-2.5 2.5v27c0 1.378 1.122 2.5 2.5 2.5h23c1.378 0 2.5-1.122 2.5-2.5v-19.5c0-0.448-0.137-1.23-1.319-2.841zM24.543 5.457c0.959 0.959 1.712 1.825 2.268 2.543h-4.811v-4.811c0.718 0.556 1.584 1.309 2.543 2.268zM28 29.5c0 0.271-0.229 0.5-0.5 0.5h-23c-0.271 0-0.5-0.229-0.5-0.5v-27c0-0.271 0.229-0.5 0.5-0.5 0 0 15.499-0 15.5 0v7c0 0.552 0.448 1 1 1h7v19.5z\"></path>\n",
       "<path d=\"M23 26h-14c-0.552 0-1-0.448-1-1s0.448-1 1-1h14c0.552 0 1 0.448 1 1s-0.448 1-1 1z\"></path>\n",
       "<path d=\"M23 22h-14c-0.552 0-1-0.448-1-1s0.448-1 1-1h14c0.552 0 1 0.448 1 1s-0.448 1-1 1z\"></path>\n",
       "<path d=\"M23 18h-14c-0.552 0-1-0.448-1-1s0.448-1 1-1h14c0.552 0 1 0.448 1 1s-0.448 1-1 1z\"></path>\n",
       "</symbol>\n",
       "</defs>\n",
       "</svg>\n",
       "<style>/* CSS stylesheet for displaying xarray objects in jupyterlab.\n",
       " *\n",
       " */\n",
       "\n",
       ":root {\n",
       "  --xr-font-color0: var(--jp-content-font-color0, rgba(0, 0, 0, 1));\n",
       "  --xr-font-color2: var(--jp-content-font-color2, rgba(0, 0, 0, 0.54));\n",
       "  --xr-font-color3: var(--jp-content-font-color3, rgba(0, 0, 0, 0.38));\n",
       "  --xr-border-color: var(--jp-border-color2, #e0e0e0);\n",
       "  --xr-disabled-color: var(--jp-layout-color3, #bdbdbd);\n",
       "  --xr-background-color: var(--jp-layout-color0, white);\n",
       "  --xr-background-color-row-even: var(--jp-layout-color1, white);\n",
       "  --xr-background-color-row-odd: var(--jp-layout-color2, #eeeeee);\n",
       "}\n",
       "\n",
       "html[theme=dark],\n",
       "body.vscode-dark {\n",
       "  --xr-font-color0: rgba(255, 255, 255, 1);\n",
       "  --xr-font-color2: rgba(255, 255, 255, 0.54);\n",
       "  --xr-font-color3: rgba(255, 255, 255, 0.38);\n",
       "  --xr-border-color: #1F1F1F;\n",
       "  --xr-disabled-color: #515151;\n",
       "  --xr-background-color: #111111;\n",
       "  --xr-background-color-row-even: #111111;\n",
       "  --xr-background-color-row-odd: #313131;\n",
       "}\n",
       "\n",
       ".xr-wrap {\n",
       "  display: block;\n",
       "  min-width: 300px;\n",
       "  max-width: 700px;\n",
       "}\n",
       "\n",
       ".xr-text-repr-fallback {\n",
       "  /* fallback to plain text repr when CSS is not injected (untrusted notebook) */\n",
       "  display: none;\n",
       "}\n",
       "\n",
       ".xr-header {\n",
       "  padding-top: 6px;\n",
       "  padding-bottom: 6px;\n",
       "  margin-bottom: 4px;\n",
       "  border-bottom: solid 1px var(--xr-border-color);\n",
       "}\n",
       "\n",
       ".xr-header > div,\n",
       ".xr-header > ul {\n",
       "  display: inline;\n",
       "  margin-top: 0;\n",
       "  margin-bottom: 0;\n",
       "}\n",
       "\n",
       ".xr-obj-type,\n",
       ".xr-array-name {\n",
       "  margin-left: 2px;\n",
       "  margin-right: 10px;\n",
       "}\n",
       "\n",
       ".xr-obj-type {\n",
       "  color: var(--xr-font-color2);\n",
       "}\n",
       "\n",
       ".xr-sections {\n",
       "  padding-left: 0 !important;\n",
       "  display: grid;\n",
       "  grid-template-columns: 150px auto auto 1fr 20px 20px;\n",
       "}\n",
       "\n",
       ".xr-section-item {\n",
       "  display: contents;\n",
       "}\n",
       "\n",
       ".xr-section-item input {\n",
       "  display: none;\n",
       "}\n",
       "\n",
       ".xr-section-item input + label {\n",
       "  color: var(--xr-disabled-color);\n",
       "}\n",
       "\n",
       ".xr-section-item input:enabled + label {\n",
       "  cursor: pointer;\n",
       "  color: var(--xr-font-color2);\n",
       "}\n",
       "\n",
       ".xr-section-item input:enabled + label:hover {\n",
       "  color: var(--xr-font-color0);\n",
       "}\n",
       "\n",
       ".xr-section-summary {\n",
       "  grid-column: 1;\n",
       "  color: var(--xr-font-color2);\n",
       "  font-weight: 500;\n",
       "}\n",
       "\n",
       ".xr-section-summary > span {\n",
       "  display: inline-block;\n",
       "  padding-left: 0.5em;\n",
       "}\n",
       "\n",
       ".xr-section-summary-in:disabled + label {\n",
       "  color: var(--xr-font-color2);\n",
       "}\n",
       "\n",
       ".xr-section-summary-in + label:before {\n",
       "  display: inline-block;\n",
       "  content: '►';\n",
       "  font-size: 11px;\n",
       "  width: 15px;\n",
       "  text-align: center;\n",
       "}\n",
       "\n",
       ".xr-section-summary-in:disabled + label:before {\n",
       "  color: var(--xr-disabled-color);\n",
       "}\n",
       "\n",
       ".xr-section-summary-in:checked + label:before {\n",
       "  content: '▼';\n",
       "}\n",
       "\n",
       ".xr-section-summary-in:checked + label > span {\n",
       "  display: none;\n",
       "}\n",
       "\n",
       ".xr-section-summary,\n",
       ".xr-section-inline-details {\n",
       "  padding-top: 4px;\n",
       "  padding-bottom: 4px;\n",
       "}\n",
       "\n",
       ".xr-section-inline-details {\n",
       "  grid-column: 2 / -1;\n",
       "}\n",
       "\n",
       ".xr-section-details {\n",
       "  display: none;\n",
       "  grid-column: 1 / -1;\n",
       "  margin-bottom: 5px;\n",
       "}\n",
       "\n",
       ".xr-section-summary-in:checked ~ .xr-section-details {\n",
       "  display: contents;\n",
       "}\n",
       "\n",
       ".xr-array-wrap {\n",
       "  grid-column: 1 / -1;\n",
       "  display: grid;\n",
       "  grid-template-columns: 20px auto;\n",
       "}\n",
       "\n",
       ".xr-array-wrap > label {\n",
       "  grid-column: 1;\n",
       "  vertical-align: top;\n",
       "}\n",
       "\n",
       ".xr-preview {\n",
       "  color: var(--xr-font-color3);\n",
       "}\n",
       "\n",
       ".xr-array-preview,\n",
       ".xr-array-data {\n",
       "  padding: 0 5px !important;\n",
       "  grid-column: 2;\n",
       "}\n",
       "\n",
       ".xr-array-data,\n",
       ".xr-array-in:checked ~ .xr-array-preview {\n",
       "  display: none;\n",
       "}\n",
       "\n",
       ".xr-array-in:checked ~ .xr-array-data,\n",
       ".xr-array-preview {\n",
       "  display: inline-block;\n",
       "}\n",
       "\n",
       ".xr-dim-list {\n",
       "  display: inline-block !important;\n",
       "  list-style: none;\n",
       "  padding: 0 !important;\n",
       "  margin: 0;\n",
       "}\n",
       "\n",
       ".xr-dim-list li {\n",
       "  display: inline-block;\n",
       "  padding: 0;\n",
       "  margin: 0;\n",
       "}\n",
       "\n",
       ".xr-dim-list:before {\n",
       "  content: '(';\n",
       "}\n",
       "\n",
       ".xr-dim-list:after {\n",
       "  content: ')';\n",
       "}\n",
       "\n",
       ".xr-dim-list li:not(:last-child):after {\n",
       "  content: ',';\n",
       "  padding-right: 5px;\n",
       "}\n",
       "\n",
       ".xr-has-index {\n",
       "  font-weight: bold;\n",
       "}\n",
       "\n",
       ".xr-var-list,\n",
       ".xr-var-item {\n",
       "  display: contents;\n",
       "}\n",
       "\n",
       ".xr-var-item > div,\n",
       ".xr-var-item label,\n",
       ".xr-var-item > .xr-var-name span {\n",
       "  background-color: var(--xr-background-color-row-even);\n",
       "  margin-bottom: 0;\n",
       "}\n",
       "\n",
       ".xr-var-item > .xr-var-name:hover span {\n",
       "  padding-right: 5px;\n",
       "}\n",
       "\n",
       ".xr-var-list > li:nth-child(odd) > div,\n",
       ".xr-var-list > li:nth-child(odd) > label,\n",
       ".xr-var-list > li:nth-child(odd) > .xr-var-name span {\n",
       "  background-color: var(--xr-background-color-row-odd);\n",
       "}\n",
       "\n",
       ".xr-var-name {\n",
       "  grid-column: 1;\n",
       "}\n",
       "\n",
       ".xr-var-dims {\n",
       "  grid-column: 2;\n",
       "}\n",
       "\n",
       ".xr-var-dtype {\n",
       "  grid-column: 3;\n",
       "  text-align: right;\n",
       "  color: var(--xr-font-color2);\n",
       "}\n",
       "\n",
       ".xr-var-preview {\n",
       "  grid-column: 4;\n",
       "}\n",
       "\n",
       ".xr-var-name,\n",
       ".xr-var-dims,\n",
       ".xr-var-dtype,\n",
       ".xr-preview,\n",
       ".xr-attrs dt {\n",
       "  white-space: nowrap;\n",
       "  overflow: hidden;\n",
       "  text-overflow: ellipsis;\n",
       "  padding-right: 10px;\n",
       "}\n",
       "\n",
       ".xr-var-name:hover,\n",
       ".xr-var-dims:hover,\n",
       ".xr-var-dtype:hover,\n",
       ".xr-attrs dt:hover {\n",
       "  overflow: visible;\n",
       "  width: auto;\n",
       "  z-index: 1;\n",
       "}\n",
       "\n",
       ".xr-var-attrs,\n",
       ".xr-var-data {\n",
       "  display: none;\n",
       "  background-color: var(--xr-background-color) !important;\n",
       "  padding-bottom: 5px !important;\n",
       "}\n",
       "\n",
       ".xr-var-attrs-in:checked ~ .xr-var-attrs,\n",
       ".xr-var-data-in:checked ~ .xr-var-data {\n",
       "  display: block;\n",
       "}\n",
       "\n",
       ".xr-var-data > table {\n",
       "  float: right;\n",
       "}\n",
       "\n",
       ".xr-var-name span,\n",
       ".xr-var-data,\n",
       ".xr-attrs {\n",
       "  padding-left: 25px !important;\n",
       "}\n",
       "\n",
       ".xr-attrs,\n",
       ".xr-var-attrs,\n",
       ".xr-var-data {\n",
       "  grid-column: 1 / -1;\n",
       "}\n",
       "\n",
       "dl.xr-attrs {\n",
       "  padding: 0;\n",
       "  margin: 0;\n",
       "  display: grid;\n",
       "  grid-template-columns: 125px auto;\n",
       "}\n",
       "\n",
       ".xr-attrs dt, dd {\n",
       "  padding: 0;\n",
       "  margin: 0;\n",
       "  float: left;\n",
       "  padding-right: 10px;\n",
       "  width: auto;\n",
       "}\n",
       "\n",
       ".xr-attrs dt {\n",
       "  font-weight: normal;\n",
       "  grid-column: 1;\n",
       "}\n",
       "\n",
       ".xr-attrs dt:hover span {\n",
       "  display: inline-block;\n",
       "  background: var(--xr-background-color);\n",
       "  padding-right: 10px;\n",
       "}\n",
       "\n",
       ".xr-attrs dd {\n",
       "  grid-column: 2;\n",
       "  white-space: pre-wrap;\n",
       "  word-break: break-all;\n",
       "}\n",
       "\n",
       ".xr-icon-database,\n",
       ".xr-icon-file-text2 {\n",
       "  display: inline-block;\n",
       "  vertical-align: middle;\n",
       "  width: 1em;\n",
       "  height: 1.5em !important;\n",
       "  stroke-width: 0;\n",
       "  stroke: currentColor;\n",
       "  fill: currentColor;\n",
       "}\n",
       "</style><pre class='xr-text-repr-fallback'>&lt;xarray.Dataset&gt;\n",
       "Dimensions:    (expver: 2, latitude: 193, longitude: 277, time: 501)\n",
       "Coordinates:\n",
       "  * longitude  (longitude) float32 -60.0 -59.75 -59.5 -59.25 ... 8.5 8.75 9.0\n",
       "  * latitude   (latitude) float32 24.0 23.75 23.5 23.25 ... -23.5 -23.75 -24.0\n",
       "  * expver     (expver) int32 1 5\n",
       "  * time       (time) datetime64[ns] 1979-01-01 1979-02-01 ... 2020-09-01\n",
       "Data variables:\n",
       "    sst        (time, expver, latitude, longitude) float32 ...\n",
       "Attributes:\n",
       "    Conventions:  CF-1.6\n",
       "    history:      2020-10-06 20:15:49 GMT by grib_to_netcdf-2.16.0: /opt/ecmw...</pre><div class='xr-wrap' hidden><div class='xr-header'><div class='xr-obj-type'>xarray.Dataset</div></div><ul class='xr-sections'><li class='xr-section-item'><input id='section-3f28a766-5170-45c7-ae3b-36e259df606a' class='xr-section-summary-in' type='checkbox' disabled ><label for='section-3f28a766-5170-45c7-ae3b-36e259df606a' class='xr-section-summary'  title='Expand/collapse section'>Dimensions:</label><div class='xr-section-inline-details'><ul class='xr-dim-list'><li><span class='xr-has-index'>expver</span>: 2</li><li><span class='xr-has-index'>latitude</span>: 193</li><li><span class='xr-has-index'>longitude</span>: 277</li><li><span class='xr-has-index'>time</span>: 501</li></ul></div><div class='xr-section-details'></div></li><li class='xr-section-item'><input id='section-b54590b8-d417-4593-898a-af25b21e795b' class='xr-section-summary-in' type='checkbox'  checked><label for='section-b54590b8-d417-4593-898a-af25b21e795b' class='xr-section-summary' >Coordinates: <span>(4)</span></label><div class='xr-section-inline-details'></div><div class='xr-section-details'><ul class='xr-var-list'><li class='xr-var-item'><div class='xr-var-name'><span class='xr-has-index'>longitude</span></div><div class='xr-var-dims'>(longitude)</div><div class='xr-var-dtype'>float32</div><div class='xr-var-preview xr-preview'>-60.0 -59.75 -59.5 ... 8.5 8.75 9.0</div><input id='attrs-434afab9-2beb-4775-b6c9-d40d314d1a57' class='xr-var-attrs-in' type='checkbox' ><label for='attrs-434afab9-2beb-4775-b6c9-d40d314d1a57' title='Show/Hide attributes'><svg class='icon xr-icon-file-text2'><use xlink:href='#icon-file-text2'></use></svg></label><input id='data-d88fa04a-6ed0-45f8-8590-fa05d5b104e0' class='xr-var-data-in' type='checkbox'><label for='data-d88fa04a-6ed0-45f8-8590-fa05d5b104e0' title='Show/Hide data repr'><svg class='icon xr-icon-database'><use xlink:href='#icon-database'></use></svg></label><div class='xr-var-attrs'><dl class='xr-attrs'><dt><span>units :</span></dt><dd>degrees_east</dd><dt><span>long_name :</span></dt><dd>longitude</dd></dl></div><div class='xr-var-data'><pre>array([-60.  , -59.75, -59.5 , ...,   8.5 ,   8.75,   9.  ], dtype=float32)</pre></div></li><li class='xr-var-item'><div class='xr-var-name'><span class='xr-has-index'>latitude</span></div><div class='xr-var-dims'>(latitude)</div><div class='xr-var-dtype'>float32</div><div class='xr-var-preview xr-preview'>24.0 23.75 23.5 ... -23.75 -24.0</div><input id='attrs-ef320c5f-fed4-43eb-950e-696950066e2c' class='xr-var-attrs-in' type='checkbox' ><label for='attrs-ef320c5f-fed4-43eb-950e-696950066e2c' title='Show/Hide attributes'><svg class='icon xr-icon-file-text2'><use xlink:href='#icon-file-text2'></use></svg></label><input id='data-a7849055-beff-48b3-8247-0a591b3083c6' class='xr-var-data-in' type='checkbox'><label for='data-a7849055-beff-48b3-8247-0a591b3083c6' title='Show/Hide data repr'><svg class='icon xr-icon-database'><use xlink:href='#icon-database'></use></svg></label><div class='xr-var-attrs'><dl class='xr-attrs'><dt><span>units :</span></dt><dd>degrees_north</dd><dt><span>long_name :</span></dt><dd>latitude</dd></dl></div><div class='xr-var-data'><pre>array([ 24.  ,  23.75,  23.5 ,  23.25,  23.  ,  22.75,  22.5 ,  22.25,  22.  ,\n",
       "        21.75,  21.5 ,  21.25,  21.  ,  20.75,  20.5 ,  20.25,  20.  ,  19.75,\n",
       "        19.5 ,  19.25,  19.  ,  18.75,  18.5 ,  18.25,  18.  ,  17.75,  17.5 ,\n",
       "        17.25,  17.  ,  16.75,  16.5 ,  16.25,  16.  ,  15.75,  15.5 ,  15.25,\n",
       "        15.  ,  14.75,  14.5 ,  14.25,  14.  ,  13.75,  13.5 ,  13.25,  13.  ,\n",
       "        12.75,  12.5 ,  12.25,  12.  ,  11.75,  11.5 ,  11.25,  11.  ,  10.75,\n",
       "        10.5 ,  10.25,  10.  ,   9.75,   9.5 ,   9.25,   9.  ,   8.75,   8.5 ,\n",
       "         8.25,   8.  ,   7.75,   7.5 ,   7.25,   7.  ,   6.75,   6.5 ,   6.25,\n",
       "         6.  ,   5.75,   5.5 ,   5.25,   5.  ,   4.75,   4.5 ,   4.25,   4.  ,\n",
       "         3.75,   3.5 ,   3.25,   3.  ,   2.75,   2.5 ,   2.25,   2.  ,   1.75,\n",
       "         1.5 ,   1.25,   1.  ,   0.75,   0.5 ,   0.25,   0.  ,  -0.25,  -0.5 ,\n",
       "        -0.75,  -1.  ,  -1.25,  -1.5 ,  -1.75,  -2.  ,  -2.25,  -2.5 ,  -2.75,\n",
       "        -3.  ,  -3.25,  -3.5 ,  -3.75,  -4.  ,  -4.25,  -4.5 ,  -4.75,  -5.  ,\n",
       "        -5.25,  -5.5 ,  -5.75,  -6.  ,  -6.25,  -6.5 ,  -6.75,  -7.  ,  -7.25,\n",
       "        -7.5 ,  -7.75,  -8.  ,  -8.25,  -8.5 ,  -8.75,  -9.  ,  -9.25,  -9.5 ,\n",
       "        -9.75, -10.  , -10.25, -10.5 , -10.75, -11.  , -11.25, -11.5 , -11.75,\n",
       "       -12.  , -12.25, -12.5 , -12.75, -13.  , -13.25, -13.5 , -13.75, -14.  ,\n",
       "       -14.25, -14.5 , -14.75, -15.  , -15.25, -15.5 , -15.75, -16.  , -16.25,\n",
       "       -16.5 , -16.75, -17.  , -17.25, -17.5 , -17.75, -18.  , -18.25, -18.5 ,\n",
       "       -18.75, -19.  , -19.25, -19.5 , -19.75, -20.  , -20.25, -20.5 , -20.75,\n",
       "       -21.  , -21.25, -21.5 , -21.75, -22.  , -22.25, -22.5 , -22.75, -23.  ,\n",
       "       -23.25, -23.5 , -23.75, -24.  ], dtype=float32)</pre></div></li><li class='xr-var-item'><div class='xr-var-name'><span class='xr-has-index'>expver</span></div><div class='xr-var-dims'>(expver)</div><div class='xr-var-dtype'>int32</div><div class='xr-var-preview xr-preview'>1 5</div><input id='attrs-b88048ba-8281-4b4e-8bbf-c4a978752189' class='xr-var-attrs-in' type='checkbox' ><label for='attrs-b88048ba-8281-4b4e-8bbf-c4a978752189' title='Show/Hide attributes'><svg class='icon xr-icon-file-text2'><use xlink:href='#icon-file-text2'></use></svg></label><input id='data-3701c8c4-06aa-4c42-906e-72ea12a30928' class='xr-var-data-in' type='checkbox'><label for='data-3701c8c4-06aa-4c42-906e-72ea12a30928' title='Show/Hide data repr'><svg class='icon xr-icon-database'><use xlink:href='#icon-database'></use></svg></label><div class='xr-var-attrs'><dl class='xr-attrs'><dt><span>long_name :</span></dt><dd>expver</dd></dl></div><div class='xr-var-data'><pre>array([1, 5], dtype=int32)</pre></div></li><li class='xr-var-item'><div class='xr-var-name'><span class='xr-has-index'>time</span></div><div class='xr-var-dims'>(time)</div><div class='xr-var-dtype'>datetime64[ns]</div><div class='xr-var-preview xr-preview'>1979-01-01 ... 2020-09-01</div><input id='attrs-37f12b7a-74c7-411a-ae7c-16e5d38257ab' class='xr-var-attrs-in' type='checkbox' ><label for='attrs-37f12b7a-74c7-411a-ae7c-16e5d38257ab' title='Show/Hide attributes'><svg class='icon xr-icon-file-text2'><use xlink:href='#icon-file-text2'></use></svg></label><input id='data-073019fa-a55a-4291-aca0-425c32b4380e' class='xr-var-data-in' type='checkbox'><label for='data-073019fa-a55a-4291-aca0-425c32b4380e' title='Show/Hide data repr'><svg class='icon xr-icon-database'><use xlink:href='#icon-database'></use></svg></label><div class='xr-var-attrs'><dl class='xr-attrs'><dt><span>long_name :</span></dt><dd>time</dd></dl></div><div class='xr-var-data'><pre>array([&#x27;1979-01-01T00:00:00.000000000&#x27;, &#x27;1979-02-01T00:00:00.000000000&#x27;,\n",
       "       &#x27;1979-03-01T00:00:00.000000000&#x27;, ..., &#x27;2020-07-01T00:00:00.000000000&#x27;,\n",
       "       &#x27;2020-08-01T00:00:00.000000000&#x27;, &#x27;2020-09-01T00:00:00.000000000&#x27;],\n",
       "      dtype=&#x27;datetime64[ns]&#x27;)</pre></div></li></ul></div></li><li class='xr-section-item'><input id='section-e90cccfe-4a92-4009-84d1-7663a9220a1f' class='xr-section-summary-in' type='checkbox'  checked><label for='section-e90cccfe-4a92-4009-84d1-7663a9220a1f' class='xr-section-summary' >Data variables: <span>(1)</span></label><div class='xr-section-inline-details'></div><div class='xr-section-details'><ul class='xr-var-list'><li class='xr-var-item'><div class='xr-var-name'><span>sst</span></div><div class='xr-var-dims'>(time, expver, latitude, longitude)</div><div class='xr-var-dtype'>float32</div><div class='xr-var-preview xr-preview'>...</div><input id='attrs-ff382d43-00bb-46ce-8271-57fb551f99c1' class='xr-var-attrs-in' type='checkbox' ><label for='attrs-ff382d43-00bb-46ce-8271-57fb551f99c1' title='Show/Hide attributes'><svg class='icon xr-icon-file-text2'><use xlink:href='#icon-file-text2'></use></svg></label><input id='data-43cc22a3-1fac-433b-b2dc-027a67ecfdfb' class='xr-var-data-in' type='checkbox'><label for='data-43cc22a3-1fac-433b-b2dc-027a67ecfdfb' title='Show/Hide data repr'><svg class='icon xr-icon-database'><use xlink:href='#icon-database'></use></svg></label><div class='xr-var-attrs'><dl class='xr-attrs'><dt><span>units :</span></dt><dd>K</dd><dt><span>long_name :</span></dt><dd>Sea surface temperature</dd></dl></div><div class='xr-var-data'><pre>[53567922 values with dtype=float32]</pre></div></li></ul></div></li><li class='xr-section-item'><input id='section-bd4ed77f-21a0-4404-9f1b-6047f09b6a40' class='xr-section-summary-in' type='checkbox'  checked><label for='section-bd4ed77f-21a0-4404-9f1b-6047f09b6a40' class='xr-section-summary' >Attributes: <span>(2)</span></label><div class='xr-section-inline-details'></div><div class='xr-section-details'><dl class='xr-attrs'><dt><span>Conventions :</span></dt><dd>CF-1.6</dd><dt><span>history :</span></dt><dd>2020-10-06 20:15:49 GMT by grib_to_netcdf-2.16.0: /opt/ecmwf/eccodes/bin/grib_to_netcdf -S param -o /cache/data3/adaptor.mars.internal-1602015108.4814277-3451-1-61049aaf-bf82-4cd2-8423-d4e1bc7df3f4.nc /cache/tmp/61049aaf-bf82-4cd2-8423-d4e1bc7df3f4-adaptor.mars.internal-1602015108.4833565-3451-1-tmp.grib</dd></dl></div></li></ul></div></div>"
      ],
      "text/plain": [
       "<xarray.Dataset>\n",
       "Dimensions:    (expver: 2, latitude: 193, longitude: 277, time: 501)\n",
       "Coordinates:\n",
       "  * longitude  (longitude) float32 -60.0 -59.75 -59.5 -59.25 ... 8.5 8.75 9.0\n",
       "  * latitude   (latitude) float32 24.0 23.75 23.5 23.25 ... -23.5 -23.75 -24.0\n",
       "  * expver     (expver) int32 1 5\n",
       "  * time       (time) datetime64[ns] 1979-01-01 1979-02-01 ... 2020-09-01\n",
       "Data variables:\n",
       "    sst        (time, expver, latitude, longitude) float32 ...\n",
       "Attributes:\n",
       "    Conventions:  CF-1.6\n",
       "    history:      2020-10-06 20:15:49 GMT by grib_to_netcdf-2.16.0: /opt/ecmw..."
      ]
     },
     "execution_count": 21,
     "metadata": {},
     "output_type": "execute_result"
    }
   ],
   "source": [
    "data_xr"
   ]
  },
  {
   "cell_type": "code",
   "execution_count": 9,
   "metadata": {
    "slideshow": {
     "slide_type": "subslide"
    }
   },
   "outputs": [
    {
     "data": {
      "text/plain": [
       "<matplotlib.collections.QuadMesh at 0x7f7a6c3fb850>"
      ]
     },
     "execution_count": 9,
     "metadata": {},
     "output_type": "execute_result"
    },
    {
     "data": {
      "image/png": "[encoded data removed]",
      "text/plain": [
       "<Figure size 432x288 with 1 Axes>"
      ]
     },
     "metadata": {
      "needs_background": "light"
     },
     "output_type": "display_data"
    }
   ],
   "source": [
    "lon = data_nc['longitude'][:]\n",
    "lat = data_nc['latitude'][:]\n",
    "sst = data_nc['sst'][:,0,:,:]\n",
    "sst_mean = np.nanmean(sst, axis=0)\n",
    "\n",
    "plt.figure()\n",
    "plt.pcolormesh(lon, lat, sst_mean)"
   ]
  },
  {
   "cell_type": "code",
   "execution_count": 10,
   "metadata": {
    "slideshow": {
     "slide_type": "subslide"
    }
   },
   "outputs": [
    {
     "data": {
      "text/plain": [
       "<matplotlib.collections.QuadMesh at 0x7f7a6c5c2d90>"
      ]
     },
     "execution_count": 10,
     "metadata": {},
     "output_type": "execute_result"
    },
    {
     "data": {
      "image/png": "[encoded data removed]",
      "text/plain": [
       "<Figure size 432x288 with 2 Axes>"
      ]
     },
     "metadata": {
      "needs_background": "light"
     },
     "output_type": "display_data"
    }
   ],
   "source": [
    "data_xr.isel(expver=0).mean(dim='time')['sst'].plot.pcolormesh()"
   ]
  },
  {
   "cell_type": "markdown",
   "metadata": {},
   "source": [
    "Com poucas linhas criamos uma figura já com algumas customizações que são baseadas nos atributos do Dataset.\n",
    "\n",
    "**note**: coordenadas são ticklabels!"
   ]
  },
  {
   "cell_type": "code",
   "execution_count": null,
   "metadata": {},
   "outputs": [],
   "source": [
    "# se estiver no google colab, rode:\n",
    "!wget --directory-prefix=../dados/ https://raw.githubusercontent.com/nilodna/python-basico/feature_iojr-shortcourse/dados/nino34_ERA5.nc"
   ]
  },
  {
   "cell_type": "code",
   "execution_count": 12,
   "metadata": {
    "slideshow": {
     "slide_type": "subslide"
    }
   },
   "outputs": [],
   "source": [
    "ds = xr.open_dataset('../dados/nino34_ERA5.nc')"
   ]
  },
  {
   "cell_type": "markdown",
   "metadata": {
    "slideshow": {
     "slide_type": "-"
    }
   },
   "source": [
    "**Acessando atributos:** ```.attrs()```\n",
    "\n",
    "Funciona tanto para dados (variáveis), quanto para coordenadas e dimensões."
   ]
  },
  {
   "cell_type": "code",
   "execution_count": 13,
   "metadata": {},
   "outputs": [
    {
     "data": {
      "text/plain": [
       "{'units': 'K', 'long_name': 'Sea surface temperature'}"
      ]
     },
     "execution_count": 13,
     "metadata": {},
     "output_type": "execute_result"
    }
   ],
   "source": [
    "ds['sst'].attrs\n",
    "# ds.coords['longitude'].attrs\n",
    "# ds.latitude.attrs"
   ]
  },
  {
   "cell_type": "markdown",
   "metadata": {
    "slideshow": {
     "slide_type": "subslide"
    }
   },
   "source": [
    "### Extraindo dados por indexamento\n",
    "\n",
    "- similar ao pandas"
   ]
  },
  {
   "cell_type": "code",
   "execution_count": 15,
   "metadata": {},
   "outputs": [],
   "source": [
    "# selecionar registros para um ano específico\n",
    "ds.sel(time='2010')\n",
    "\n",
    "# selecionando tempo com o comando slice (recorte)\n",
    "ds.sel(time=slice('2010','2019'))"
   ]
  },
  {
   "cell_type": "code",
   "execution_count": null,
   "metadata": {
    "slideshow": {
     "slide_type": "subslide"
    }
   },
   "outputs": [],
   "source": [
    "# selecionar uma coordenada específica, utilizando o método do\n",
    "# mais próximo. \n",
    "ds.sel(longitude=-40, latitude=-30, method='nearest')\n",
    "\n",
    "# Note que sem o método 'nearest', não é encontrado nenhum  valor\n",
    "ds.sel(longitude=-40, latitude=-30)"
   ]
  },
  {
   "cell_type": "markdown",
   "metadata": {
    "slideshow": {
     "slide_type": "subslide"
    }
   },
   "source": [
    "**Position-based indexing**: .isel()\n",
    "\n",
    "- indexação (posição) referente à matriz 1D da coordenada/dimensão"
   ]
  },
  {
   "cell_type": "code",
   "execution_count": 17,
   "metadata": {
    "slideshow": {
     "slide_type": "subslide"
    }
   },
   "outputs": [],
   "source": [
    "# seleção com base no\n",
    "ds.isel(time=0, expver=0)['sst']"
   ]
  },
  {
   "cell_type": "code",
   "execution_count": 18,
   "metadata": {
    "slideshow": {
     "slide_type": "subslide"
    }
   },
   "outputs": [],
   "source": [
    "# seleção de uma coordenada pelo índice desta na coordenada referente\n",
    "ds.isel(longitude=10, latitude=10)"
   ]
  },
  {
   "cell_type": "markdown",
   "metadata": {
    "slideshow": {
     "slide_type": "subslide"
    }
   },
   "source": [
    "### Cálculos de alto nível\n",
    "\n",
    "- groupby\n",
    "- resample\n",
    "- rolling"
   ]
  },
  {
   "cell_type": "code",
   "execution_count": null,
   "metadata": {
    "slideshow": {
     "slide_type": "subslide"
    }
   },
   "outputs": [],
   "source": [
    "# agrupamento temporal por ano, aplica-se a média\n",
    "ds.groupby('time.year').mean()"
   ]
  },
  {
   "cell_type": "code",
   "execution_count": null,
   "metadata": {
    "slideshow": {
     "slide_type": "subslide"
    }
   },
   "outputs": [],
   "source": [
    "# agrupamento temporal por estação do ano, aplica-se a média\n",
    "ds.groupby('time.season').mean()"
   ]
  },
  {
   "cell_type": "code",
   "execution_count": null,
   "metadata": {
    "slideshow": {
     "slide_type": "subslide"
    }
   },
   "outputs": [],
   "source": [
    "# reamostragem de mensal para anual, aplica-se a média\n",
    "ds.resample(time='Y').mean()"
   ]
  },
  {
   "cell_type": "code",
   "execution_count": null,
   "metadata": {
    "slideshow": {
     "slide_type": "subslide"
    }
   },
   "outputs": [],
   "source": [
    "# média móvel de 3 meses\n",
    "ds.rolling(time=3).mean()"
   ]
  },
  {
   "cell_type": "markdown",
   "metadata": {
    "slideshow": {
     "slide_type": "slide"
    }
   },
   "source": [
    "# Cálculo do Índice do El Niño 3.4\n",
    "\n",
    "[[fonte]](https://ncar.github.io/PySpark4Climate/tutorials/Oceanic-Ni%C3%B1o-Index/#Computational-Recipe)\n",
    "\n",
    "Receita da lógica/algoritmo:\n",
    "- média espacial na região do Niño 3.4 (ponderada pela lat/lon)\n",
    "- cálculo da climatologia mensal\n",
    "- cálculo da anomalia da média espacial\n",
    "- média móvel de 3 meses para suavização"
   ]
  },
  {
   "cell_type": "code",
   "execution_count": 24,
   "metadata": {
    "slideshow": {
     "slide_type": "subslide"
    }
   },
   "outputs": [
    {
     "data": {
      "text/plain": [
       "<matplotlib.collections.QuadMesh at 0x7f7a6bbfecd0>"
      ]
     },
     "execution_count": 24,
     "metadata": {},
     "output_type": "execute_result"
    },
    {
     "data": {
      "image/png": "[encoded data removed]",
      "text/plain": [
       "<Figure size 432x288 with 2 Axes>"
      ]
     },
     "metadata": {
      "needs_background": "light"
     },
     "output_type": "display_data"
    }
   ],
   "source": [
    "# leitura de arquivos ERA5\n",
    "ds = xr.open_dataset('../dados/nino34_ERA5.nc')\n",
    "ds = ds.mean(dim='expver')\n",
    "\n",
    "# converter de Kelvin para oC\n",
    "ds['sst'] -= 273.15\n",
    "\n",
    "ds.isel(time=0).sst.plot.pcolormesh()"
   ]
  },
  {
   "cell_type": "code",
   "execution_count": 25,
   "metadata": {
    "slideshow": {
     "slide_type": "subslide"
    }
   },
   "outputs": [],
   "source": [
    "def global_mean_sst(dset):\n",
    "    # source: https://ncar.github.io/PySpark4Climate/tutorials/Oceanic-Ni%C3%B1o-Index/#Computational-Recipe\n",
    "    # Find mean temperature for each latitude\n",
    "    mean_sst_lat = dset.sst.mean(dim='longitude')\n",
    "\n",
    "    # Find Weighted mean of those values\n",
    "    num =(np.cos(dset.latitude) * mean_sst_lat).sum(dim='latitude')\n",
    "    denom = np.sum(np.cos(dset.latitude))\n",
    "\n",
    "    # Find mean global temperature\n",
    "    mean_global_temp = num / denom\n",
    "\n",
    "    return mean_global_temp"
   ]
  },
  {
   "cell_type": "code",
   "execution_count": 26,
   "metadata": {
    "slideshow": {
     "slide_type": "subslide"
    }
   },
   "outputs": [],
   "source": [
    "# média espacial ingênua, necessário ponderar pela coordenadas,\n",
    "# pois a variação de lat/lon implica em uma área diferente\n",
    "ds_avg_1 = ds.mean(dim=['latitude', 'longitude'])\n",
    "ds_avg_2 = global_mean_sst(ds)"
   ]
  },
  {
   "cell_type": "code",
   "execution_count": null,
   "metadata": {
    "slideshow": {
     "slide_type": "subslide"
    }
   },
   "outputs": [],
   "source": [
    "# diferença entre os dois tipos de média espacial\n",
    "fig,ax = plt.subplots()\n",
    "\n",
    "ds_avg_1.sst.plot(ax=ax, label='naive')\n",
    "\n",
    "ds_avg_2.plot(ax=ax, label='weigthed')\n",
    "\n",
    "plt.legend()"
   ]
  },
  {
   "cell_type": "code",
   "execution_count": 43,
   "metadata": {
    "slideshow": {
     "slide_type": "subslide"
    }
   },
   "outputs": [
    {
     "data": {
      "text/html": [
       "<div><svg style=\"position: absolute; width: 0; height: 0; overflow: hidden\">\n",
       "<defs>\n",
       "<symbol id=\"icon-database\" viewBox=\"0 0 32 32\">\n",
       "<path d=\"M16 0c-8.837 0-16 2.239-16 5v4c0 2.761 7.163 5 16 5s16-2.239 16-5v-4c0-2.761-7.163-5-16-5z\"></path>\n",
       "<path d=\"M16 17c-8.837 0-16-2.239-16-5v6c0 2.761 7.163 5 16 5s16-2.239 16-5v-6c0 2.761-7.163 5-16 5z\"></path>\n",
       "<path d=\"M16 26c-8.837 0-16-2.239-16-5v6c0 2.761 7.163 5 16 5s16-2.239 16-5v-6c0 2.761-7.163 5-16 5z\"></path>\n",
       "</symbol>\n",
       "<symbol id=\"icon-file-text2\" viewBox=\"0 0 32 32\">\n",
       "<path d=\"M28.681 7.159c-0.694-0.947-1.662-2.053-2.724-3.116s-2.169-2.030-3.116-2.724c-1.612-1.182-2.393-1.319-2.841-1.319h-15.5c-1.378 0-2.5 1.121-2.5 2.5v27c0 1.378 1.122 2.5 2.5 2.5h23c1.378 0 2.5-1.122 2.5-2.5v-19.5c0-0.448-0.137-1.23-1.319-2.841zM24.543 5.457c0.959 0.959 1.712 1.825 2.268 2.543h-4.811v-4.811c0.718 0.556 1.584 1.309 2.543 2.268zM28 29.5c0 0.271-0.229 0.5-0.5 0.5h-23c-0.271 0-0.5-0.229-0.5-0.5v-27c0-0.271 0.229-0.5 0.5-0.5 0 0 15.499-0 15.5 0v7c0 0.552 0.448 1 1 1h7v19.5z\"></path>\n",
       "<path d=\"M23 26h-14c-0.552 0-1-0.448-1-1s0.448-1 1-1h14c0.552 0 1 0.448 1 1s-0.448 1-1 1z\"></path>\n",
       "<path d=\"M23 22h-14c-0.552 0-1-0.448-1-1s0.448-1 1-1h14c0.552 0 1 0.448 1 1s-0.448 1-1 1z\"></path>\n",
       "<path d=\"M23 18h-14c-0.552 0-1-0.448-1-1s0.448-1 1-1h14c0.552 0 1 0.448 1 1s-0.448 1-1 1z\"></path>\n",
       "</symbol>\n",
       "</defs>\n",
       "</svg>\n",
       "<style>/* CSS stylesheet for displaying xarray objects in jupyterlab.\n",
       " *\n",
       " */\n",
       "\n",
       ":root {\n",
       "  --xr-font-color0: var(--jp-content-font-color0, rgba(0, 0, 0, 1));\n",
       "  --xr-font-color2: var(--jp-content-font-color2, rgba(0, 0, 0, 0.54));\n",
       "  --xr-font-color3: var(--jp-content-font-color3, rgba(0, 0, 0, 0.38));\n",
       "  --xr-border-color: var(--jp-border-color2, #e0e0e0);\n",
       "  --xr-disabled-color: var(--jp-layout-color3, #bdbdbd);\n",
       "  --xr-background-color: var(--jp-layout-color0, white);\n",
       "  --xr-background-color-row-even: var(--jp-layout-color1, white);\n",
       "  --xr-background-color-row-odd: var(--jp-layout-color2, #eeeeee);\n",
       "}\n",
       "\n",
       "html[theme=dark],\n",
       "body.vscode-dark {\n",
       "  --xr-font-color0: rgba(255, 255, 255, 1);\n",
       "  --xr-font-color2: rgba(255, 255, 255, 0.54);\n",
       "  --xr-font-color3: rgba(255, 255, 255, 0.38);\n",
       "  --xr-border-color: #1F1F1F;\n",
       "  --xr-disabled-color: #515151;\n",
       "  --xr-background-color: #111111;\n",
       "  --xr-background-color-row-even: #111111;\n",
       "  --xr-background-color-row-odd: #313131;\n",
       "}\n",
       "\n",
       ".xr-wrap {\n",
       "  display: block;\n",
       "  min-width: 300px;\n",
       "  max-width: 700px;\n",
       "}\n",
       "\n",
       ".xr-text-repr-fallback {\n",
       "  /* fallback to plain text repr when CSS is not injected (untrusted notebook) */\n",
       "  display: none;\n",
       "}\n",
       "\n",
       ".xr-header {\n",
       "  padding-top: 6px;\n",
       "  padding-bottom: 6px;\n",
       "  margin-bottom: 4px;\n",
       "  border-bottom: solid 1px var(--xr-border-color);\n",
       "}\n",
       "\n",
       ".xr-header > div,\n",
       ".xr-header > ul {\n",
       "  display: inline;\n",
       "  margin-top: 0;\n",
       "  margin-bottom: 0;\n",
       "}\n",
       "\n",
       ".xr-obj-type,\n",
       ".xr-array-name {\n",
       "  margin-left: 2px;\n",
       "  margin-right: 10px;\n",
       "}\n",
       "\n",
       ".xr-obj-type {\n",
       "  color: var(--xr-font-color2);\n",
       "}\n",
       "\n",
       ".xr-sections {\n",
       "  padding-left: 0 !important;\n",
       "  display: grid;\n",
       "  grid-template-columns: 150px auto auto 1fr 20px 20px;\n",
       "}\n",
       "\n",
       ".xr-section-item {\n",
       "  display: contents;\n",
       "}\n",
       "\n",
       ".xr-section-item input {\n",
       "  display: none;\n",
       "}\n",
       "\n",
       ".xr-section-item input + label {\n",
       "  color: var(--xr-disabled-color);\n",
       "}\n",
       "\n",
       ".xr-section-item input:enabled + label {\n",
       "  cursor: pointer;\n",
       "  color: var(--xr-font-color2);\n",
       "}\n",
       "\n",
       ".xr-section-item input:enabled + label:hover {\n",
       "  color: var(--xr-font-color0);\n",
       "}\n",
       "\n",
       ".xr-section-summary {\n",
       "  grid-column: 1;\n",
       "  color: var(--xr-font-color2);\n",
       "  font-weight: 500;\n",
       "}\n",
       "\n",
       ".xr-section-summary > span {\n",
       "  display: inline-block;\n",
       "  padding-left: 0.5em;\n",
       "}\n",
       "\n",
       ".xr-section-summary-in:disabled + label {\n",
       "  color: var(--xr-font-color2);\n",
       "}\n",
       "\n",
       ".xr-section-summary-in + label:before {\n",
       "  display: inline-block;\n",
       "  content: '►';\n",
       "  font-size: 11px;\n",
       "  width: 15px;\n",
       "  text-align: center;\n",
       "}\n",
       "\n",
       ".xr-section-summary-in:disabled + label:before {\n",
       "  color: var(--xr-disabled-color);\n",
       "}\n",
       "\n",
       ".xr-section-summary-in:checked + label:before {\n",
       "  content: '▼';\n",
       "}\n",
       "\n",
       ".xr-section-summary-in:checked + label > span {\n",
       "  display: none;\n",
       "}\n",
       "\n",
       ".xr-section-summary,\n",
       ".xr-section-inline-details {\n",
       "  padding-top: 4px;\n",
       "  padding-bottom: 4px;\n",
       "}\n",
       "\n",
       ".xr-section-inline-details {\n",
       "  grid-column: 2 / -1;\n",
       "}\n",
       "\n",
       ".xr-section-details {\n",
       "  display: none;\n",
       "  grid-column: 1 / -1;\n",
       "  margin-bottom: 5px;\n",
       "}\n",
       "\n",
       ".xr-section-summary-in:checked ~ .xr-section-details {\n",
       "  display: contents;\n",
       "}\n",
       "\n",
       ".xr-array-wrap {\n",
       "  grid-column: 1 / -1;\n",
       "  display: grid;\n",
       "  grid-template-columns: 20px auto;\n",
       "}\n",
       "\n",
       ".xr-array-wrap > label {\n",
       "  grid-column: 1;\n",
       "  vertical-align: top;\n",
       "}\n",
       "\n",
       ".xr-preview {\n",
       "  color: var(--xr-font-color3);\n",
       "}\n",
       "\n",
       ".xr-array-preview,\n",
       ".xr-array-data {\n",
       "  padding: 0 5px !important;\n",
       "  grid-column: 2;\n",
       "}\n",
       "\n",
       ".xr-array-data,\n",
       ".xr-array-in:checked ~ .xr-array-preview {\n",
       "  display: none;\n",
       "}\n",
       "\n",
       ".xr-array-in:checked ~ .xr-array-data,\n",
       ".xr-array-preview {\n",
       "  display: inline-block;\n",
       "}\n",
       "\n",
       ".xr-dim-list {\n",
       "  display: inline-block !important;\n",
       "  list-style: none;\n",
       "  padding: 0 !important;\n",
       "  margin: 0;\n",
       "}\n",
       "\n",
       ".xr-dim-list li {\n",
       "  display: inline-block;\n",
       "  padding: 0;\n",
       "  margin: 0;\n",
       "}\n",
       "\n",
       ".xr-dim-list:before {\n",
       "  content: '(';\n",
       "}\n",
       "\n",
       ".xr-dim-list:after {\n",
       "  content: ')';\n",
       "}\n",
       "\n",
       ".xr-dim-list li:not(:last-child):after {\n",
       "  content: ',';\n",
       "  padding-right: 5px;\n",
       "}\n",
       "\n",
       ".xr-has-index {\n",
       "  font-weight: bold;\n",
       "}\n",
       "\n",
       ".xr-var-list,\n",
       ".xr-var-item {\n",
       "  display: contents;\n",
       "}\n",
       "\n",
       ".xr-var-item > div,\n",
       ".xr-var-item label,\n",
       ".xr-var-item > .xr-var-name span {\n",
       "  background-color: var(--xr-background-color-row-even);\n",
       "  margin-bottom: 0;\n",
       "}\n",
       "\n",
       ".xr-var-item > .xr-var-name:hover span {\n",
       "  padding-right: 5px;\n",
       "}\n",
       "\n",
       ".xr-var-list > li:nth-child(odd) > div,\n",
       ".xr-var-list > li:nth-child(odd) > label,\n",
       ".xr-var-list > li:nth-child(odd) > .xr-var-name span {\n",
       "  background-color: var(--xr-background-color-row-odd);\n",
       "}\n",
       "\n",
       ".xr-var-name {\n",
       "  grid-column: 1;\n",
       "}\n",
       "\n",
       ".xr-var-dims {\n",
       "  grid-column: 2;\n",
       "}\n",
       "\n",
       ".xr-var-dtype {\n",
       "  grid-column: 3;\n",
       "  text-align: right;\n",
       "  color: var(--xr-font-color2);\n",
       "}\n",
       "\n",
       ".xr-var-preview {\n",
       "  grid-column: 4;\n",
       "}\n",
       "\n",
       ".xr-var-name,\n",
       ".xr-var-dims,\n",
       ".xr-var-dtype,\n",
       ".xr-preview,\n",
       ".xr-attrs dt {\n",
       "  white-space: nowrap;\n",
       "  overflow: hidden;\n",
       "  text-overflow: ellipsis;\n",
       "  padding-right: 10px;\n",
       "}\n",
       "\n",
       ".xr-var-name:hover,\n",
       ".xr-var-dims:hover,\n",
       ".xr-var-dtype:hover,\n",
       ".xr-attrs dt:hover {\n",
       "  overflow: visible;\n",
       "  width: auto;\n",
       "  z-index: 1;\n",
       "}\n",
       "\n",
       ".xr-var-attrs,\n",
       ".xr-var-data {\n",
       "  display: none;\n",
       "  background-color: var(--xr-background-color) !important;\n",
       "  padding-bottom: 5px !important;\n",
       "}\n",
       "\n",
       ".xr-var-attrs-in:checked ~ .xr-var-attrs,\n",
       ".xr-var-data-in:checked ~ .xr-var-data {\n",
       "  display: block;\n",
       "}\n",
       "\n",
       ".xr-var-data > table {\n",
       "  float: right;\n",
       "}\n",
       "\n",
       ".xr-var-name span,\n",
       ".xr-var-data,\n",
       ".xr-attrs {\n",
       "  padding-left: 25px !important;\n",
       "}\n",
       "\n",
       ".xr-attrs,\n",
       ".xr-var-attrs,\n",
       ".xr-var-data {\n",
       "  grid-column: 1 / -1;\n",
       "}\n",
       "\n",
       "dl.xr-attrs {\n",
       "  padding: 0;\n",
       "  margin: 0;\n",
       "  display: grid;\n",
       "  grid-template-columns: 125px auto;\n",
       "}\n",
       "\n",
       ".xr-attrs dt, dd {\n",
       "  padding: 0;\n",
       "  margin: 0;\n",
       "  float: left;\n",
       "  padding-right: 10px;\n",
       "  width: auto;\n",
       "}\n",
       "\n",
       ".xr-attrs dt {\n",
       "  font-weight: normal;\n",
       "  grid-column: 1;\n",
       "}\n",
       "\n",
       ".xr-attrs dt:hover span {\n",
       "  display: inline-block;\n",
       "  background: var(--xr-background-color);\n",
       "  padding-right: 10px;\n",
       "}\n",
       "\n",
       ".xr-attrs dd {\n",
       "  grid-column: 2;\n",
       "  white-space: pre-wrap;\n",
       "  word-break: break-all;\n",
       "}\n",
       "\n",
       ".xr-icon-database,\n",
       ".xr-icon-file-text2 {\n",
       "  display: inline-block;\n",
       "  vertical-align: middle;\n",
       "  width: 1em;\n",
       "  height: 1.5em !important;\n",
       "  stroke-width: 0;\n",
       "  stroke: currentColor;\n",
       "  fill: currentColor;\n",
       "}\n",
       "</style><pre class='xr-text-repr-fallback'>&lt;xarray.DataArray (month: 12)&gt;\n",
       "array([27.57312 , 27.703438, 28.208744, 28.778103, 29.0044  , 28.836882,\n",
       "       28.492449, 28.045918, 27.847406, 27.883894, 27.910725, 27.730415],\n",
       "      dtype=float32)\n",
       "Coordinates:\n",
       "  * month    (month) int64 1 2 3 4 5 6 7 8 9 10 11 12</pre><div class='xr-wrap' hidden><div class='xr-header'><div class='xr-obj-type'>xarray.DataArray</div><div class='xr-array-name'></div><ul class='xr-dim-list'><li><span class='xr-has-index'>month</span>: 12</li></ul></div><ul class='xr-sections'><li class='xr-section-item'><div class='xr-array-wrap'><input id='section-af2b5dc1-a7e5-4d4e-b629-66154542343b' class='xr-array-in' type='checkbox' checked><label for='section-af2b5dc1-a7e5-4d4e-b629-66154542343b' title='Show/hide data repr'><svg class='icon xr-icon-database'><use xlink:href='#icon-database'></use></svg></label><div class='xr-array-preview xr-preview'><span>27.57312 27.703438 28.208744 ... 27.883894 27.910725 27.730415</span></div><div class='xr-array-data'><pre>array([27.57312 , 27.703438, 28.208744, 28.778103, 29.0044  , 28.836882,\n",
       "       28.492449, 28.045918, 27.847406, 27.883894, 27.910725, 27.730415],\n",
       "      dtype=float32)</pre></div></div></li><li class='xr-section-item'><input id='section-64a0e430-6d90-4801-acfd-0360d81e1338' class='xr-section-summary-in' type='checkbox'  checked><label for='section-64a0e430-6d90-4801-acfd-0360d81e1338' class='xr-section-summary' >Coordinates: <span>(1)</span></label><div class='xr-section-inline-details'></div><div class='xr-section-details'><ul class='xr-var-list'><li class='xr-var-item'><div class='xr-var-name'><span class='xr-has-index'>month</span></div><div class='xr-var-dims'>(month)</div><div class='xr-var-dtype'>int64</div><div class='xr-var-preview xr-preview'>1 2 3 4 5 6 7 8 9 10 11 12</div><input id='attrs-fbfdfff5-62ba-4bdf-b815-23e70c10b842' class='xr-var-attrs-in' type='checkbox' disabled><label for='attrs-fbfdfff5-62ba-4bdf-b815-23e70c10b842' title='Show/Hide attributes'><svg class='icon xr-icon-file-text2'><use xlink:href='#icon-file-text2'></use></svg></label><input id='data-f6d4d17d-37aa-49d7-bf25-cb5265dbb172' class='xr-var-data-in' type='checkbox'><label for='data-f6d4d17d-37aa-49d7-bf25-cb5265dbb172' title='Show/Hide data repr'><svg class='icon xr-icon-database'><use xlink:href='#icon-database'></use></svg></label><div class='xr-var-attrs'><dl class='xr-attrs'></dl></div><div class='xr-var-data'><pre>array([ 1,  2,  3,  4,  5,  6,  7,  8,  9, 10, 11, 12])</pre></div></li></ul></div></li><li class='xr-section-item'><input id='section-5b5b7504-0aad-4077-8b59-164098d360c1' class='xr-section-summary-in' type='checkbox' disabled ><label for='section-5b5b7504-0aad-4077-8b59-164098d360c1' class='xr-section-summary'  title='Expand/collapse section'>Attributes: <span>(0)</span></label><div class='xr-section-inline-details'></div><div class='xr-section-details'><dl class='xr-attrs'></dl></div></li></ul></div></div>"
      ],
      "text/plain": [
       "<xarray.DataArray (month: 12)>\n",
       "array([27.57312 , 27.703438, 28.208744, 28.778103, 29.0044  , 28.836882,\n",
       "       28.492449, 28.045918, 27.847406, 27.883894, 27.910725, 27.730415],\n",
       "      dtype=float32)\n",
       "Coordinates:\n",
       "  * month    (month) int64 1 2 3 4 5 6 7 8 9 10 11 12"
      ]
     },
     "execution_count": 43,
     "metadata": {},
     "output_type": "execute_result"
    }
   ],
   "source": [
    "# climatologia utilizando groupby\n",
    "ds_clim = ds_avg_2.sel(time=slice('1980','2016')).groupby('time.month').mean('time')\n",
    "ds_clim"
   ]
  },
  {
   "cell_type": "code",
   "execution_count": 44,
   "metadata": {
    "slideshow": {
     "slide_type": "subslide"
    }
   },
   "outputs": [
    {
     "data": {
      "text/plain": [
       "[<matplotlib.lines.Line2D at 0x7f7a637a3e50>]"
      ]
     },
     "execution_count": 44,
     "metadata": {},
     "output_type": "execute_result"
    },
    {
     "data": {
      "image/png": "[encoded data removed]",
      "text/plain": [
       "<Figure size 432x288 with 1 Axes>"
      ]
     },
     "metadata": {
      "needs_background": "light"
     },
     "output_type": "display_data"
    }
   ],
   "source": [
    "# anomalia espacial utilizando o groupby sem método estatístico\n",
    "ds_anom = ds_avg_2.groupby('time.month') - ds_clim\n",
    "\n",
    "ds_anom.plot()"
   ]
  },
  {
   "cell_type": "code",
   "execution_count": 45,
   "metadata": {
    "slideshow": {
     "slide_type": "subslide"
    }
   },
   "outputs": [
    {
     "data": {
      "text/plain": [
       "[<matplotlib.lines.Line2D at 0x7f7a63721750>]"
      ]
     },
     "execution_count": 45,
     "metadata": {},
     "output_type": "execute_result"
    },
    {
     "data": {
      "image/png": "[encoded data removed]",
      "text/plain": [
       "<Figure size 432x288 with 1 Axes>"
      ]
     },
     "metadata": {
      "needs_background": "light"
     },
     "output_type": "display_data"
    }
   ],
   "source": [
    "# suavização com média móvel de 3 meses para calcular o \n",
    "# Oceanic Nino Index (ONI)\n",
    "ds_oni = ds_anom.rolling(time=3).mean()\n",
    "\n",
    "ds_oni.plot()"
   ]
  },
  {
   "cell_type": "markdown",
   "metadata": {
    "slideshow": {
     "slide_type": "subslide"
    }
   },
   "source": [
    "### Bonus: vamos comparar com o ONI da NOAA (oficial)"
   ]
  },
  {
   "cell_type": "code",
   "execution_count": 46,
   "metadata": {
    "slideshow": {
     "slide_type": "-"
    }
   },
   "outputs": [],
   "source": [
    "# getting the ONI computed by NOAA from the website\n",
    "url = 'https://www.cpc.ncep.noaa.gov/data/indices/oni.ascii.txt'\n",
    "\n",
    "oni = pd.read_csv(url, sep='\\s+')\n",
    "dt = pd.date_range(start='1950-01', end='2020-10', freq='M')\n",
    "oni.index = dt\n",
    "\n",
    "oni = oni.drop(['SEAS', 'YR'], axis=1)"
   ]
  },
  {
   "cell_type": "code",
   "execution_count": 47,
   "metadata": {
    "slideshow": {
     "slide_type": "subslide"
    }
   },
   "outputs": [
    {
     "data": {
      "text/html": [
       "<div><svg style=\"position: absolute; width: 0; height: 0; overflow: hidden\">\n",
       "<defs>\n",
       "<symbol id=\"icon-database\" viewBox=\"0 0 32 32\">\n",
       "<path d=\"M16 0c-8.837 0-16 2.239-16 5v4c0 2.761 7.163 5 16 5s16-2.239 16-5v-4c0-2.761-7.163-5-16-5z\"></path>\n",
       "<path d=\"M16 17c-8.837 0-16-2.239-16-5v6c0 2.761 7.163 5 16 5s16-2.239 16-5v-6c0 2.761-7.163 5-16 5z\"></path>\n",
       "<path d=\"M16 26c-8.837 0-16-2.239-16-5v6c0 2.761 7.163 5 16 5s16-2.239 16-5v-6c0 2.761-7.163 5-16 5z\"></path>\n",
       "</symbol>\n",
       "<symbol id=\"icon-file-text2\" viewBox=\"0 0 32 32\">\n",
       "<path d=\"M28.681 7.159c-0.694-0.947-1.662-2.053-2.724-3.116s-2.169-2.030-3.116-2.724c-1.612-1.182-2.393-1.319-2.841-1.319h-15.5c-1.378 0-2.5 1.121-2.5 2.5v27c0 1.378 1.122 2.5 2.5 2.5h23c1.378 0 2.5-1.122 2.5-2.5v-19.5c0-0.448-0.137-1.23-1.319-2.841zM24.543 5.457c0.959 0.959 1.712 1.825 2.268 2.543h-4.811v-4.811c0.718 0.556 1.584 1.309 2.543 2.268zM28 29.5c0 0.271-0.229 0.5-0.5 0.5h-23c-0.271 0-0.5-0.229-0.5-0.5v-27c0-0.271 0.229-0.5 0.5-0.5 0 0 15.499-0 15.5 0v7c0 0.552 0.448 1 1 1h7v19.5z\"></path>\n",
       "<path d=\"M23 26h-14c-0.552 0-1-0.448-1-1s0.448-1 1-1h14c0.552 0 1 0.448 1 1s-0.448 1-1 1z\"></path>\n",
       "<path d=\"M23 22h-14c-0.552 0-1-0.448-1-1s0.448-1 1-1h14c0.552 0 1 0.448 1 1s-0.448 1-1 1z\"></path>\n",
       "<path d=\"M23 18h-14c-0.552 0-1-0.448-1-1s0.448-1 1-1h14c0.552 0 1 0.448 1 1s-0.448 1-1 1z\"></path>\n",
       "</symbol>\n",
       "</defs>\n",
       "</svg>\n",
       "<style>/* CSS stylesheet for displaying xarray objects in jupyterlab.\n",
       " *\n",
       " */\n",
       "\n",
       ":root {\n",
       "  --xr-font-color0: var(--jp-content-font-color0, rgba(0, 0, 0, 1));\n",
       "  --xr-font-color2: var(--jp-content-font-color2, rgba(0, 0, 0, 0.54));\n",
       "  --xr-font-color3: var(--jp-content-font-color3, rgba(0, 0, 0, 0.38));\n",
       "  --xr-border-color: var(--jp-border-color2, #e0e0e0);\n",
       "  --xr-disabled-color: var(--jp-layout-color3, #bdbdbd);\n",
       "  --xr-background-color: var(--jp-layout-color0, white);\n",
       "  --xr-background-color-row-even: var(--jp-layout-color1, white);\n",
       "  --xr-background-color-row-odd: var(--jp-layout-color2, #eeeeee);\n",
       "}\n",
       "\n",
       "html[theme=dark],\n",
       "body.vscode-dark {\n",
       "  --xr-font-color0: rgba(255, 255, 255, 1);\n",
       "  --xr-font-color2: rgba(255, 255, 255, 0.54);\n",
       "  --xr-font-color3: rgba(255, 255, 255, 0.38);\n",
       "  --xr-border-color: #1F1F1F;\n",
       "  --xr-disabled-color: #515151;\n",
       "  --xr-background-color: #111111;\n",
       "  --xr-background-color-row-even: #111111;\n",
       "  --xr-background-color-row-odd: #313131;\n",
       "}\n",
       "\n",
       ".xr-wrap {\n",
       "  display: block;\n",
       "  min-width: 300px;\n",
       "  max-width: 700px;\n",
       "}\n",
       "\n",
       ".xr-text-repr-fallback {\n",
       "  /* fallback to plain text repr when CSS is not injected (untrusted notebook) */\n",
       "  display: none;\n",
       "}\n",
       "\n",
       ".xr-header {\n",
       "  padding-top: 6px;\n",
       "  padding-bottom: 6px;\n",
       "  margin-bottom: 4px;\n",
       "  border-bottom: solid 1px var(--xr-border-color);\n",
       "}\n",
       "\n",
       ".xr-header > div,\n",
       ".xr-header > ul {\n",
       "  display: inline;\n",
       "  margin-top: 0;\n",
       "  margin-bottom: 0;\n",
       "}\n",
       "\n",
       ".xr-obj-type,\n",
       ".xr-array-name {\n",
       "  margin-left: 2px;\n",
       "  margin-right: 10px;\n",
       "}\n",
       "\n",
       ".xr-obj-type {\n",
       "  color: var(--xr-font-color2);\n",
       "}\n",
       "\n",
       ".xr-sections {\n",
       "  padding-left: 0 !important;\n",
       "  display: grid;\n",
       "  grid-template-columns: 150px auto auto 1fr 20px 20px;\n",
       "}\n",
       "\n",
       ".xr-section-item {\n",
       "  display: contents;\n",
       "}\n",
       "\n",
       ".xr-section-item input {\n",
       "  display: none;\n",
       "}\n",
       "\n",
       ".xr-section-item input + label {\n",
       "  color: var(--xr-disabled-color);\n",
       "}\n",
       "\n",
       ".xr-section-item input:enabled + label {\n",
       "  cursor: pointer;\n",
       "  color: var(--xr-font-color2);\n",
       "}\n",
       "\n",
       ".xr-section-item input:enabled + label:hover {\n",
       "  color: var(--xr-font-color0);\n",
       "}\n",
       "\n",
       ".xr-section-summary {\n",
       "  grid-column: 1;\n",
       "  color: var(--xr-font-color2);\n",
       "  font-weight: 500;\n",
       "}\n",
       "\n",
       ".xr-section-summary > span {\n",
       "  display: inline-block;\n",
       "  padding-left: 0.5em;\n",
       "}\n",
       "\n",
       ".xr-section-summary-in:disabled + label {\n",
       "  color: var(--xr-font-color2);\n",
       "}\n",
       "\n",
       ".xr-section-summary-in + label:before {\n",
       "  display: inline-block;\n",
       "  content: '►';\n",
       "  font-size: 11px;\n",
       "  width: 15px;\n",
       "  text-align: center;\n",
       "}\n",
       "\n",
       ".xr-section-summary-in:disabled + label:before {\n",
       "  color: var(--xr-disabled-color);\n",
       "}\n",
       "\n",
       ".xr-section-summary-in:checked + label:before {\n",
       "  content: '▼';\n",
       "}\n",
       "\n",
       ".xr-section-summary-in:checked + label > span {\n",
       "  display: none;\n",
       "}\n",
       "\n",
       ".xr-section-summary,\n",
       ".xr-section-inline-details {\n",
       "  padding-top: 4px;\n",
       "  padding-bottom: 4px;\n",
       "}\n",
       "\n",
       ".xr-section-inline-details {\n",
       "  grid-column: 2 / -1;\n",
       "}\n",
       "\n",
       ".xr-section-details {\n",
       "  display: none;\n",
       "  grid-column: 1 / -1;\n",
       "  margin-bottom: 5px;\n",
       "}\n",
       "\n",
       ".xr-section-summary-in:checked ~ .xr-section-details {\n",
       "  display: contents;\n",
       "}\n",
       "\n",
       ".xr-array-wrap {\n",
       "  grid-column: 1 / -1;\n",
       "  display: grid;\n",
       "  grid-template-columns: 20px auto;\n",
       "}\n",
       "\n",
       ".xr-array-wrap > label {\n",
       "  grid-column: 1;\n",
       "  vertical-align: top;\n",
       "}\n",
       "\n",
       ".xr-preview {\n",
       "  color: var(--xr-font-color3);\n",
       "}\n",
       "\n",
       ".xr-array-preview,\n",
       ".xr-array-data {\n",
       "  padding: 0 5px !important;\n",
       "  grid-column: 2;\n",
       "}\n",
       "\n",
       ".xr-array-data,\n",
       ".xr-array-in:checked ~ .xr-array-preview {\n",
       "  display: none;\n",
       "}\n",
       "\n",
       ".xr-array-in:checked ~ .xr-array-data,\n",
       ".xr-array-preview {\n",
       "  display: inline-block;\n",
       "}\n",
       "\n",
       ".xr-dim-list {\n",
       "  display: inline-block !important;\n",
       "  list-style: none;\n",
       "  padding: 0 !important;\n",
       "  margin: 0;\n",
       "}\n",
       "\n",
       ".xr-dim-list li {\n",
       "  display: inline-block;\n",
       "  padding: 0;\n",
       "  margin: 0;\n",
       "}\n",
       "\n",
       ".xr-dim-list:before {\n",
       "  content: '(';\n",
       "}\n",
       "\n",
       ".xr-dim-list:after {\n",
       "  content: ')';\n",
       "}\n",
       "\n",
       ".xr-dim-list li:not(:last-child):after {\n",
       "  content: ',';\n",
       "  padding-right: 5px;\n",
       "}\n",
       "\n",
       ".xr-has-index {\n",
       "  font-weight: bold;\n",
       "}\n",
       "\n",
       ".xr-var-list,\n",
       ".xr-var-item {\n",
       "  display: contents;\n",
       "}\n",
       "\n",
       ".xr-var-item > div,\n",
       ".xr-var-item label,\n",
       ".xr-var-item > .xr-var-name span {\n",
       "  background-color: var(--xr-background-color-row-even);\n",
       "  margin-bottom: 0;\n",
       "}\n",
       "\n",
       ".xr-var-item > .xr-var-name:hover span {\n",
       "  padding-right: 5px;\n",
       "}\n",
       "\n",
       ".xr-var-list > li:nth-child(odd) > div,\n",
       ".xr-var-list > li:nth-child(odd) > label,\n",
       ".xr-var-list > li:nth-child(odd) > .xr-var-name span {\n",
       "  background-color: var(--xr-background-color-row-odd);\n",
       "}\n",
       "\n",
       ".xr-var-name {\n",
       "  grid-column: 1;\n",
       "}\n",
       "\n",
       ".xr-var-dims {\n",
       "  grid-column: 2;\n",
       "}\n",
       "\n",
       ".xr-var-dtype {\n",
       "  grid-column: 3;\n",
       "  text-align: right;\n",
       "  color: var(--xr-font-color2);\n",
       "}\n",
       "\n",
       ".xr-var-preview {\n",
       "  grid-column: 4;\n",
       "}\n",
       "\n",
       ".xr-var-name,\n",
       ".xr-var-dims,\n",
       ".xr-var-dtype,\n",
       ".xr-preview,\n",
       ".xr-attrs dt {\n",
       "  white-space: nowrap;\n",
       "  overflow: hidden;\n",
       "  text-overflow: ellipsis;\n",
       "  padding-right: 10px;\n",
       "}\n",
       "\n",
       ".xr-var-name:hover,\n",
       ".xr-var-dims:hover,\n",
       ".xr-var-dtype:hover,\n",
       ".xr-attrs dt:hover {\n",
       "  overflow: visible;\n",
       "  width: auto;\n",
       "  z-index: 1;\n",
       "}\n",
       "\n",
       ".xr-var-attrs,\n",
       ".xr-var-data {\n",
       "  display: none;\n",
       "  background-color: var(--xr-background-color) !important;\n",
       "  padding-bottom: 5px !important;\n",
       "}\n",
       "\n",
       ".xr-var-attrs-in:checked ~ .xr-var-attrs,\n",
       ".xr-var-data-in:checked ~ .xr-var-data {\n",
       "  display: block;\n",
       "}\n",
       "\n",
       ".xr-var-data > table {\n",
       "  float: right;\n",
       "}\n",
       "\n",
       ".xr-var-name span,\n",
       ".xr-var-data,\n",
       ".xr-attrs {\n",
       "  padding-left: 25px !important;\n",
       "}\n",
       "\n",
       ".xr-attrs,\n",
       ".xr-var-attrs,\n",
       ".xr-var-data {\n",
       "  grid-column: 1 / -1;\n",
       "}\n",
       "\n",
       "dl.xr-attrs {\n",
       "  padding: 0;\n",
       "  margin: 0;\n",
       "  display: grid;\n",
       "  grid-template-columns: 125px auto;\n",
       "}\n",
       "\n",
       ".xr-attrs dt, dd {\n",
       "  padding: 0;\n",
       "  margin: 0;\n",
       "  float: left;\n",
       "  padding-right: 10px;\n",
       "  width: auto;\n",
       "}\n",
       "\n",
       ".xr-attrs dt {\n",
       "  font-weight: normal;\n",
       "  grid-column: 1;\n",
       "}\n",
       "\n",
       ".xr-attrs dt:hover span {\n",
       "  display: inline-block;\n",
       "  background: var(--xr-background-color);\n",
       "  padding-right: 10px;\n",
       "}\n",
       "\n",
       ".xr-attrs dd {\n",
       "  grid-column: 2;\n",
       "  white-space: pre-wrap;\n",
       "  word-break: break-all;\n",
       "}\n",
       "\n",
       ".xr-icon-database,\n",
       ".xr-icon-file-text2 {\n",
       "  display: inline-block;\n",
       "  vertical-align: middle;\n",
       "  width: 1em;\n",
       "  height: 1.5em !important;\n",
       "  stroke-width: 0;\n",
       "  stroke: currentColor;\n",
       "  fill: currentColor;\n",
       "}\n",
       "</style><pre class='xr-text-repr-fallback'>&lt;xarray.Dataset&gt;\n",
       "Dimensions:   (time: 500)\n",
       "Coordinates:\n",
       "    month     (time) int64 1 2 3 4 5 6 7 8 9 10 11 ... 10 11 12 1 2 3 4 5 6 7 8\n",
       "  * time      (time) datetime64[ns] 1979-01-01 1979-02-01 ... 2020-08-01\n",
       "Data variables:\n",
       "    oni_era5  (time) float32 nan nan 0.04134051 ... 0.05538559 -0.18224335\n",
       "    oni_noaa  (time) float64 0.03 0.07 0.2 0.28 0.23 ... -0.01 -0.25 -0.4 -0.62</pre><div class='xr-wrap' hidden><div class='xr-header'><div class='xr-obj-type'>xarray.Dataset</div></div><ul class='xr-sections'><li class='xr-section-item'><input id='section-a8601154-b8a5-4767-8086-d169c4f818a4' class='xr-section-summary-in' type='checkbox' disabled ><label for='section-a8601154-b8a5-4767-8086-d169c4f818a4' class='xr-section-summary'  title='Expand/collapse section'>Dimensions:</label><div class='xr-section-inline-details'><ul class='xr-dim-list'><li><span class='xr-has-index'>time</span>: 500</li></ul></div><div class='xr-section-details'></div></li><li class='xr-section-item'><input id='section-b4e996c7-1899-4325-8e8d-ec19d4545aa2' class='xr-section-summary-in' type='checkbox'  checked><label for='section-b4e996c7-1899-4325-8e8d-ec19d4545aa2' class='xr-section-summary' >Coordinates: <span>(2)</span></label><div class='xr-section-inline-details'></div><div class='xr-section-details'><ul class='xr-var-list'><li class='xr-var-item'><div class='xr-var-name'><span>month</span></div><div class='xr-var-dims'>(time)</div><div class='xr-var-dtype'>int64</div><div class='xr-var-preview xr-preview'>1 2 3 4 5 6 7 8 ... 1 2 3 4 5 6 7 8</div><input id='attrs-9e394889-af0e-4443-a850-c53963f86205' class='xr-var-attrs-in' type='checkbox' disabled><label for='attrs-9e394889-af0e-4443-a850-c53963f86205' title='Show/Hide attributes'><svg class='icon xr-icon-file-text2'><use xlink:href='#icon-file-text2'></use></svg></label><input id='data-69acae74-62b9-48f5-8e8c-e0cd098ee6ad' class='xr-var-data-in' type='checkbox'><label for='data-69acae74-62b9-48f5-8e8c-e0cd098ee6ad' title='Show/Hide data repr'><svg class='icon xr-icon-database'><use xlink:href='#icon-database'></use></svg></label><div class='xr-var-attrs'><dl class='xr-attrs'></dl></div><div class='xr-var-data'><pre>array([ 1,  2,  3,  4,  5,  6,  7,  8,  9, 10, 11, 12,  1,  2,  3,  4,  5,\n",
       "        6,  7,  8,  9, 10, 11, 12,  1,  2,  3,  4,  5,  6,  7,  8,  9, 10,\n",
       "       11, 12,  1,  2,  3,  4,  5,  6,  7,  8,  9, 10, 11, 12,  1,  2,  3,\n",
       "        4,  5,  6,  7,  8,  9, 10, 11, 12,  1,  2,  3,  4,  5,  6,  7,  8,\n",
       "        9, 10, 11, 12,  1,  2,  3,  4,  5,  6,  7,  8,  9, 10, 11, 12,  1,\n",
       "        2,  3,  4,  5,  6,  7,  8,  9, 10, 11, 12,  1,  2,  3,  4,  5,  6,\n",
       "        7,  8,  9, 10, 11, 12,  1,  2,  3,  4,  5,  6,  7,  8,  9, 10, 11,\n",
       "       12,  1,  2,  3,  4,  5,  6,  7,  8,  9, 10, 11, 12,  1,  2,  3,  4,\n",
       "        5,  6,  7,  8,  9, 10, 11, 12,  1,  2,  3,  4,  5,  6,  7,  8,  9,\n",
       "       10, 11, 12,  1,  2,  3,  4,  5,  6,  7,  8,  9, 10, 11, 12,  1,  2,\n",
       "        3,  4,  5,  6,  7,  8,  9, 10, 11, 12,  1,  2,  3,  4,  5,  6,  7,\n",
       "        8,  9, 10, 11, 12,  1,  2,  3,  4,  5,  6,  7,  8,  9, 10, 11, 12,\n",
       "        1,  2,  3,  4,  5,  6,  7,  8,  9, 10, 11, 12,  1,  2,  3,  4,  5,\n",
       "        6,  7,  8,  9, 10, 11, 12,  1,  2,  3,  4,  5,  6,  7,  8,  9, 10,\n",
       "       11, 12,  1,  2,  3,  4,  5,  6,  7,  8,  9, 10, 11, 12,  1,  2,  3,\n",
       "        4,  5,  6,  7,  8,  9, 10, 11, 12,  1,  2,  3,  4,  5,  6,  7,  8,\n",
       "        9, 10, 11, 12,  1,  2,  3,  4,  5,  6,  7,  8,  9, 10, 11, 12,  1,\n",
       "        2,  3,  4,  5,  6,  7,  8,  9, 10, 11, 12,  1,  2,  3,  4,  5,  6,\n",
       "        7,  8,  9, 10, 11, 12,  1,  2,  3,  4,  5,  6,  7,  8,  9, 10, 11,\n",
       "       12,  1,  2,  3,  4,  5,  6,  7,  8,  9, 10, 11, 12,  1,  2,  3,  4,\n",
       "        5,  6,  7,  8,  9, 10, 11, 12,  1,  2,  3,  4,  5,  6,  7,  8,  9,\n",
       "       10, 11, 12,  1,  2,  3,  4,  5,  6,  7,  8,  9, 10, 11, 12,  1,  2,\n",
       "        3,  4,  5,  6,  7,  8,  9, 10, 11, 12,  1,  2,  3,  4,  5,  6,  7,\n",
       "        8,  9, 10, 11, 12,  1,  2,  3,  4,  5,  6,  7,  8,  9, 10, 11, 12,\n",
       "        1,  2,  3,  4,  5,  6,  7,  8,  9, 10, 11, 12,  1,  2,  3,  4,  5,\n",
       "        6,  7,  8,  9, 10, 11, 12,  1,  2,  3,  4,  5,  6,  7,  8,  9, 10,\n",
       "       11, 12,  1,  2,  3,  4,  5,  6,  7,  8,  9, 10, 11, 12,  1,  2,  3,\n",
       "        4,  5,  6,  7,  8,  9, 10, 11, 12,  1,  2,  3,  4,  5,  6,  7,  8,\n",
       "        9, 10, 11, 12,  1,  2,  3,  4,  5,  6,  7,  8,  9, 10, 11, 12,  1,\n",
       "        2,  3,  4,  5,  6,  7,  8])</pre></div></li><li class='xr-var-item'><div class='xr-var-name'><span class='xr-has-index'>time</span></div><div class='xr-var-dims'>(time)</div><div class='xr-var-dtype'>datetime64[ns]</div><div class='xr-var-preview xr-preview'>1979-01-01 ... 2020-08-01</div><input id='attrs-500ff637-a781-46fb-9edd-d75cc105d166' class='xr-var-attrs-in' type='checkbox' ><label for='attrs-500ff637-a781-46fb-9edd-d75cc105d166' title='Show/Hide attributes'><svg class='icon xr-icon-file-text2'><use xlink:href='#icon-file-text2'></use></svg></label><input id='data-fe339035-3f3d-4bd6-954e-5ff1759966e0' class='xr-var-data-in' type='checkbox'><label for='data-fe339035-3f3d-4bd6-954e-5ff1759966e0' title='Show/Hide data repr'><svg class='icon xr-icon-database'><use xlink:href='#icon-database'></use></svg></label><div class='xr-var-attrs'><dl class='xr-attrs'><dt><span>long_name :</span></dt><dd>time</dd></dl></div><div class='xr-var-data'><pre>array([&#x27;1979-01-01T00:00:00.000000000&#x27;, &#x27;1979-02-01T00:00:00.000000000&#x27;,\n",
       "       &#x27;1979-03-01T00:00:00.000000000&#x27;, ..., &#x27;2020-06-01T00:00:00.000000000&#x27;,\n",
       "       &#x27;2020-07-01T00:00:00.000000000&#x27;, &#x27;2020-08-01T00:00:00.000000000&#x27;],\n",
       "      dtype=&#x27;datetime64[ns]&#x27;)</pre></div></li></ul></div></li><li class='xr-section-item'><input id='section-bf04e602-ecb9-45e5-9741-5e9ac726ebde' class='xr-section-summary-in' type='checkbox'  checked><label for='section-bf04e602-ecb9-45e5-9741-5e9ac726ebde' class='xr-section-summary' >Data variables: <span>(2)</span></label><div class='xr-section-inline-details'></div><div class='xr-section-details'><ul class='xr-var-list'><li class='xr-var-item'><div class='xr-var-name'><span>oni_era5</span></div><div class='xr-var-dims'>(time)</div><div class='xr-var-dtype'>float32</div><div class='xr-var-preview xr-preview'>nan nan ... 0.05538559 -0.18224335</div><input id='attrs-ea967ada-188a-4b4a-80d5-32986754f492' class='xr-var-attrs-in' type='checkbox' disabled><label for='attrs-ea967ada-188a-4b4a-80d5-32986754f492' title='Show/Hide attributes'><svg class='icon xr-icon-file-text2'><use xlink:href='#icon-file-text2'></use></svg></label><input id='data-6243be50-01f1-4880-8399-72901394c096' class='xr-var-data-in' type='checkbox'><label for='data-6243be50-01f1-4880-8399-72901394c096' title='Show/Hide data repr'><svg class='icon xr-icon-database'><use xlink:href='#icon-database'></use></svg></label><div class='xr-var-attrs'><dl class='xr-attrs'></dl></div><div class='xr-var-data'><pre>array([            nan,             nan,  4.13405113e-02,  4.55595665e-02,\n",
       "        1.04674019e-01,  8.76197815e-02, -4.30304222e-02, -1.59725830e-01,\n",
       "       -7.21906051e-02,  1.76111851e-02,  5.79051971e-02,  5.63411713e-02,\n",
       "        1.32151917e-01,  1.54007599e-01,  1.98747635e-01,  1.84638977e-01,\n",
       "        2.15149567e-01,  2.13326767e-01,  7.52588883e-02,  1.24613449e-04,\n",
       "       -7.32345581e-02, -4.78903465e-02, -4.77828979e-02, -3.47353630e-02,\n",
       "       -1.18527733e-01, -2.36129120e-01, -3.90432984e-01, -3.30039352e-01,\n",
       "       -1.84006378e-01, -1.23672485e-01, -4.26877327e-02, -1.19123459e-01,\n",
       "       -1.81698486e-01, -3.77175659e-01, -3.58794540e-01, -2.59761810e-01,\n",
       "       -9.92132798e-02, -1.50550202e-01, -8.67284164e-02,  4.12966423e-02,\n",
       "        2.53157943e-01,  3.37102264e-01,  3.14267486e-01,  3.45571518e-01,\n",
       "        4.44820404e-01,  6.64005935e-01,  8.94628525e-01,  1.17158949e+00,\n",
       "        1.40561295e+00,  1.39414847e+00,  1.14268625e+00,  6.49677277e-01,\n",
       "        3.11624527e-01,  3.47566605e-01,  5.71478546e-01,  7.43540466e-01,\n",
       "        6.90149963e-01,  6.33643448e-01,  5.12157440e-01,  3.45990509e-01,\n",
       "        2.05383942e-01,  1.44176483e-01,  2.02922821e-02, -9.11979675e-02,\n",
       "       -9.69028473e-02, -8.63087997e-02, -1.67995453e-01, -3.04075867e-01,\n",
       "       -3.53597641e-01, -4.51346070e-01, -5.51481903e-01, -7.08044708e-01,\n",
       "       -7.06021607e-01, -6.69449508e-01, -5.15739441e-01, -4.21512604e-01,\n",
       "       -3.87785584e-01, -4.75906998e-01, -5.91110229e-01, -6.48381531e-01,\n",
       "...\n",
       "       -1.61225006e-01, -7.43637085e-02,  1.26895264e-01,  2.13503525e-01,\n",
       "        2.17285156e-01,  1.21629715e-01,  1.54798508e-01,  2.58476257e-01,\n",
       "        3.33235413e-01,  3.58273178e-01,  2.81891495e-01,  1.95071533e-01,\n",
       "        1.26983643e-01,  1.74139664e-01,  3.63510132e-01,  6.32057846e-01,\n",
       "        9.90957916e-01,  1.23711205e+00,  1.45118904e+00,  1.54506361e+00,\n",
       "        1.55885565e+00,  1.44570482e+00,  1.30581725e+00,  1.25677812e+00,\n",
       "        1.34147072e+00,  1.30958998e+00,  1.16272676e+00,  7.52054870e-01,\n",
       "        4.53404754e-01,  1.87299088e-01,  1.78576156e-01,  1.16401039e-01,\n",
       "        5.02115898e-02, -1.82622280e-02,  1.20442070e-01,  3.20955276e-01,\n",
       "        4.44445938e-01,  4.60687637e-01,  4.02547210e-01,  3.79365295e-01,\n",
       "        2.29609177e-01,  1.48498535e-01,  1.19845076e-02, -2.60257721e-02,\n",
       "       -8.78531113e-02, -2.10039139e-01, -3.69829178e-01, -4.33221817e-01,\n",
       "       -4.37854767e-01, -3.72936875e-01, -2.82910675e-01, -1.28651932e-01,\n",
       "       -4.67255898e-02,  1.08158112e-01,  1.97806671e-01,  3.71156067e-01,\n",
       "        3.63837570e-01,  3.79052490e-01,  3.62763077e-01,  4.22381729e-01,\n",
       "        4.99427170e-01,  4.80285645e-01,  3.68803650e-01,  1.79117203e-01,\n",
       "        1.26309082e-01,  1.14647545e-01,  2.44459793e-01,  3.24795395e-01,\n",
       "        4.12956238e-01,  3.36267471e-01,  2.31863022e-01,  1.92099884e-01,\n",
       "        3.34566116e-01,  2.72425324e-01,  5.53855896e-02, -1.82243347e-01],\n",
       "      dtype=float32)</pre></div></li><li class='xr-var-item'><div class='xr-var-name'><span>oni_noaa</span></div><div class='xr-var-dims'>(time)</div><div class='xr-var-dtype'>float64</div><div class='xr-var-preview xr-preview'>0.03 0.07 0.2 ... -0.25 -0.4 -0.62</div><input id='attrs-906dd13e-1463-4f10-a8ad-d242d76a1b95' class='xr-var-attrs-in' type='checkbox' disabled><label for='attrs-906dd13e-1463-4f10-a8ad-d242d76a1b95' title='Show/Hide attributes'><svg class='icon xr-icon-file-text2'><use xlink:href='#icon-file-text2'></use></svg></label><input id='data-a5397ac5-01e1-4213-92c2-9400a26c5e12' class='xr-var-data-in' type='checkbox'><label for='data-a5397ac5-01e1-4213-92c2-9400a26c5e12' title='Show/Hide data repr'><svg class='icon xr-icon-database'><use xlink:href='#icon-database'></use></svg></label><div class='xr-var-attrs'><dl class='xr-attrs'></dl></div><div class='xr-var-data'><pre>array([ 0.03,  0.07,  0.2 ,  0.28,  0.23,  0.05,  0.04,  0.17,  0.33,\n",
       "        0.45,  0.52,  0.64,  0.59,  0.46,  0.34,  0.38,  0.48,  0.46,\n",
       "        0.25,  0.03, -0.07,  0.02,  0.11, -0.01, -0.26, -0.5 , -0.47,\n",
       "       -0.37, -0.26, -0.29, -0.3 , -0.25, -0.16, -0.13, -0.15, -0.08,\n",
       "       -0.05,  0.07,  0.19,  0.47,  0.66,  0.72,  0.79,  1.07,  1.58,\n",
       "        1.97,  2.18,  2.23,  2.18,  1.92,  1.54,  1.29,  1.06,  0.72,\n",
       "        0.31, -0.08, -0.46, -0.81, -1.  , -0.91, -0.6 , -0.42, -0.34,\n",
       "       -0.43, -0.51, -0.45, -0.3 , -0.16, -0.24, -0.56, -0.92, -1.14,\n",
       "       -1.04, -0.85, -0.77, -0.78, -0.78, -0.63, -0.49, -0.46, -0.4 ,\n",
       "       -0.35, -0.27, -0.36, -0.49, -0.47, -0.31, -0.2 , -0.12, -0.04,\n",
       "        0.22,  0.44,  0.71,  0.94,  1.14,  1.22,  1.23,  1.19,  1.06,\n",
       "        0.95,  0.97,  1.22,  1.51,  1.7 ,  1.65,  1.48,  1.25,  1.11,\n",
       "        0.81,  0.54,  0.14, -0.31, -0.88, -1.3 , -1.3 , -1.11, -1.19,\n",
       "       -1.48, -1.8 , -1.85, -1.69, -1.43, -1.08, -0.83, -0.58, -0.4 ,\n",
       "       -0.31, -0.27, -0.24, -0.22, -0.16, -0.05,  0.14,  0.21,  0.28,\n",
       "        0.29,  0.29,  0.31,  0.33,  0.38,  0.39,  0.35,  0.4 ,  0.41,\n",
       "        0.41,  0.26,  0.22,  0.26,  0.45,  0.64,  0.73,  0.64,  0.62,\n",
       "        0.79,  1.21,  1.53,  1.71,  1.63,  1.48,  1.29,  1.06,  0.73,\n",
       "        0.37,  0.09, -0.13, -0.25, -0.28, -0.13,  0.09,  0.3 ,  0.5 ,\n",
       "        0.67,  0.7 ,  0.57,  0.32,  0.25,  0.15,  0.1 ,  0.04,  0.06,\n",
       "...\n",
       "       -0.79, -0.67, -0.47, -0.28, -0.05,  0.04,  0.12,  0.27,  0.48,\n",
       "        0.71,  0.9 ,  0.95,  0.71,  0.32, -0.03, -0.23, -0.29, -0.41,\n",
       "       -0.54, -0.84, -1.13, -1.4 , -1.54, -1.6 , -1.59, -1.42, -1.19,\n",
       "       -0.92, -0.75, -0.54, -0.35, -0.26, -0.3 , -0.41, -0.6 , -0.73,\n",
       "       -0.8 , -0.69, -0.52, -0.24,  0.09,  0.35,  0.47,  0.54,  0.65,\n",
       "        0.95,  1.31,  1.57,  1.55,  1.31,  0.94,  0.44, -0.09, -0.59,\n",
       "       -1.03, -1.38, -1.61, -1.7 , -1.69, -1.59, -1.37, -1.09, -0.83,\n",
       "       -0.64, -0.47, -0.38, -0.46, -0.65, -0.89, -1.06, -1.14, -1.03,\n",
       "       -0.81, -0.62, -0.5 , -0.38, -0.18,  0.05,  0.27,  0.33,  0.31,\n",
       "        0.21,  0.01, -0.21, -0.38, -0.33, -0.24, -0.21, -0.27, -0.34,\n",
       "       -0.38, -0.35, -0.31, -0.23, -0.22, -0.27, -0.37, -0.36, -0.17,\n",
       "        0.13,  0.3 ,  0.23,  0.07,  0.03,  0.18,  0.44,  0.59,  0.66,\n",
       "        0.6 ,  0.56,  0.62,  0.79,  1.02,  1.25,  1.54,  1.83,  2.11,\n",
       "        2.37,  2.53,  2.64,  2.53,  2.23,  1.68,  1.03,  0.48, -0.  ,\n",
       "       -0.34, -0.57, -0.68, -0.74, -0.71, -0.56, -0.29, -0.06,  0.15,\n",
       "        0.29,  0.39,  0.38,  0.16, -0.14, -0.44, -0.7 , -0.88, -0.97,\n",
       "       -0.87, -0.76, -0.6 , -0.41, -0.13,  0.06,  0.11,  0.2 ,  0.43,\n",
       "        0.7 ,  0.85,  0.81,  0.8 ,  0.82,  0.81,  0.75,  0.63,  0.52,\n",
       "        0.3 ,  0.11,  0.13,  0.29,  0.46,  0.55,  0.54,  0.57,  0.49,\n",
       "        0.27, -0.01, -0.25, -0.4 , -0.62])</pre></div></li></ul></div></li><li class='xr-section-item'><input id='section-7742a668-0b8b-484f-9b41-5d2695f42c3a' class='xr-section-summary-in' type='checkbox' disabled ><label for='section-7742a668-0b8b-484f-9b41-5d2695f42c3a' class='xr-section-summary'  title='Expand/collapse section'>Attributes: <span>(0)</span></label><div class='xr-section-inline-details'></div><div class='xr-section-details'><dl class='xr-attrs'></dl></div></li></ul></div></div>"
      ],
      "text/plain": [
       "<xarray.Dataset>\n",
       "Dimensions:   (time: 500)\n",
       "Coordinates:\n",
       "    month     (time) int64 1 2 3 4 5 6 7 8 9 10 11 ... 10 11 12 1 2 3 4 5 6 7 8\n",
       "  * time      (time) datetime64[ns] 1979-01-01 1979-02-01 ... 2020-08-01\n",
       "Data variables:\n",
       "    oni_era5  (time) float32 nan nan 0.04134051 ... 0.05538559 -0.18224335\n",
       "    oni_noaa  (time) float64 0.03 0.07 0.2 0.28 0.23 ... -0.01 -0.25 -0.4 -0.62"
      ]
     },
     "execution_count": 47,
     "metadata": {},
     "output_type": "execute_result"
    }
   ],
   "source": [
    "ONI = xr.Dataset()\n",
    "ONI['time'] = ds_oni.time\n",
    "ONI['oni_era5'] = (('time'), ds_oni.values)\n",
    "ONI['oni_noaa'] = (('time'), oni['1979':'2020-08']['ANOM'].values)\n",
    "ONI"
   ]
  },
  {
   "cell_type": "code",
   "execution_count": 50,
   "metadata": {
    "slideshow": {
     "slide_type": "subslide"
    }
   },
   "outputs": [
    {
     "data": {
      "text/plain": [
       "<matplotlib.legend.Legend at 0x7f7a6c314910>"
      ]
     },
     "execution_count": 50,
     "metadata": {},
     "output_type": "execute_result"
    },
    {
     "data": {
      "image/png": "[encoded data removed]",
      "text/plain": [
       "<Figure size 432x288 with 1 Axes>"
      ]
     },
     "metadata": {
      "needs_background": "light"
     },
     "output_type": "display_data"
    }
   ],
   "source": [
    "fig,ax = plt.subplots()\n",
    "\n",
    "ONI.sel(time=slice('1986', '2020'))['oni_era5'].plot(ax=ax, label='ERA5')\n",
    "ONI.sel(time=slice('1986', '2020'))['oni_noaa'].plot(ax=ax, label='NOAA official')\n",
    "\n",
    "ax.set_xlabel(\"Year\", fontsize=14)\n",
    "ax.set_ylabel(\"Oceanic Nino Index (ONI) [C]\", fontsize=14)\n",
    "plt.axhline(0, c='k', alpha=.5)\n",
    "plt.grid('--', alpha=.3)\n",
    "plt.legend()"
   ]
  }
 ],
 "metadata": {
  "celltoolbar": "Slideshow",
  "kernelspec": {
   "display_name": "Python 3",
   "language": "python",
   "name": "python3"
  },
  "language_info": {
   "codemirror_mode": {
    "name": "ipython",
    "version": 3
   },
   "file_extension": ".py",
   "mimetype": "text/x-python",
   "name": "python",
   "nbconvert_exporter": "python",
   "pygments_lexer": "ipython3",
   "version": "3.7.8"
  }
 },
 "nbformat": 4,
 "nbformat_minor": 4
}
