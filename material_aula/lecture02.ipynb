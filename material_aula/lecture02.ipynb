{
 "cells": [
  {
   "cell_type": "markdown",
   "metadata": {
    "slideshow": {
     "slide_type": "slide"
    }
   },
   "source": [
    "# Aula 2 - Fundamento do Python"
   ]
  },
  {
   "cell_type": "markdown",
   "metadata": {
    "slideshow": {
     "slide_type": "slide"
    }
   },
   "source": [
    "Antes de começarmos, vamos entender como abrir o arquivo que irei utilizar nesta aula no Google Colab:\n",
    "\n",
    "1. acessar: https://github.com/nilodna/python-basico [encaminharei via chat]\n",
    "2. clicar no símbolo do Google Colab ao lado da Aula 2, na descrição do repositório.\n"
   ]
  },
  {
   "cell_type": "markdown",
   "metadata": {
    "slideshow": {
     "slide_type": "slide"
    }
   },
   "source": [
    "**O que vamos aprender nesta aula?**\n",
    "\n",
    "- tipos de variáveis\n",
    "- tipos de estruturas de dados\n",
    "- estruturas de repetição (loops) e desvios condicionais (statements)\n",
    "- operadores aritméticos, relacionais/condicionais e lógicos"
   ]
  },
  {
   "cell_type": "markdown",
   "metadata": {
    "slideshow": {
     "slide_type": "slide"
    }
   },
   "source": [
    "Sugestões:\n",
    "\n",
    "- muitas informações;\n",
    "- anotem dúvidas (que surgirão);\n",
    "- revejam este material no dia seguinte à aula;\n",
    "- pratiquem;\n",
    "- consultem materiais sugeridos;\n",
    "\n",
    "Pratiquem (de novo):\n",
    "- desenvolvimento em programação ocorrerá com prática;\n",
    "- dúvidas? pesquisem e perguntem."
   ]
  },
  {
   "cell_type": "markdown",
   "metadata": {
    "slideshow": {
     "slide_type": "slide"
    }
   },
   "source": [
    "Material de apoio para esta aula:\n",
    "\n",
    "- Documentação do python possui um tutorial bem interessante: https://docs.python.org/pt-br/3.7/tutorial/\n",
    "- Convenção de nomes de variáveis e boas normas de programação: https://www.python.org/dev/peps/pep-0008/#naming-conventions\n",
    "- Material sobre estruturas de dados: https://docs.python.org/3/tutorial/datastructures.html"
   ]
  },
  {
   "cell_type": "markdown",
   "metadata": {
    "slideshow": {
     "slide_type": "slide"
    }
   },
   "source": [
    "## Atribuição (assignment)\n",
    "\n",
    "- inserir um valor, qualquer, a uma variável\n",
    "\n",
    "```python\n",
    "x = 10\n",
    "```"
   ]
  },
  {
   "cell_type": "markdown",
   "metadata": {
    "slideshow": {
     "slide_type": "slide"
    }
   },
   "source": [
    "## Comentários\n",
    "\n",
    "- documentar\n",
    "- facilitar\n",
    "- explicar\n",
    "\n",
    "```python\n",
    "# isso indica o início de um comentário, portanto não será compilado pelo python\n",
    "```"
   ]
  },
  {
   "cell_type": "markdown",
   "metadata": {
    "slideshow": {
     "slide_type": "slide"
    }
   },
   "source": [
    "# Variáveis\n",
    "\n",
    "- int (integer): valores numérics inteiros\n",
    "  \n",
    "- float: valores numéricos decimais\n",
    "    \n",
    "- str: (string): valores textuais (**devem** estar entre aspas, simples ou duplas)\n",
    "    \n",
    "- bool (boolean): valores binários (True/False ou 1/0)\n",
    "    \n",
    "- complex: números complexos\n"
   ]
  },
  {
   "cell_type": "markdown",
   "metadata": {
    "slideshow": {
     "slide_type": "slide"
    }
   },
   "source": [
    "Alguns exemplos práticos:"
   ]
  },
  {
   "cell_type": "code",
   "execution_count": 1,
   "metadata": {
    "slideshow": {
     "slide_type": "subslide"
    }
   },
   "outputs": [
    {
     "name": "stdout",
     "output_type": "stream",
     "text": [
      "10\n"
     ]
    },
    {
     "data": {
      "text/plain": [
       "int"
      ]
     },
     "execution_count": 1,
     "metadata": {},
     "output_type": "execute_result"
    }
   ],
   "source": [
    "# tudo que vem depois do # é um comentário e não \n",
    "# é processado pelo python\n",
    "\n",
    "# integer\n",
    "x = 10\n",
    "\n",
    "# para visualizar o que é a variável, use o print\n",
    "print(x)\n",
    "type(x)"
   ]
  },
  {
   "cell_type": "code",
   "execution_count": 2,
   "metadata": {
    "slideshow": {
     "slide_type": "subslide"
    }
   },
   "outputs": [
    {
     "name": "stdout",
     "output_type": "stream",
     "text": [
      "3.14\n"
     ]
    },
    {
     "data": {
      "text/plain": [
       "float"
      ]
     },
     "execution_count": 2,
     "metadata": {},
     "output_type": "execute_result"
    }
   ],
   "source": [
    "# float\n",
    "pi = 3.14\n",
    "\n",
    "print(pi)\n",
    "type(pi)"
   ]
  },
  {
   "cell_type": "code",
   "execution_count": 4,
   "metadata": {
    "slideshow": {
     "slide_type": "subslide"
    }
   },
   "outputs": [
    {
     "name": "stdout",
     "output_type": "stream",
     "text": [
      "3.14\n"
     ]
    },
    {
     "data": {
      "text/plain": [
       "str"
      ]
     },
     "execution_count": 4,
     "metadata": {},
     "output_type": "execute_result"
    }
   ],
   "source": [
    "# string\n",
    "\n",
    "texto1 = '3.14'\n",
    "\n",
    "print(texto1)\n",
    "type(texto1)"
   ]
  },
  {
   "cell_type": "code",
   "execution_count": 8,
   "metadata": {
    "slideshow": {
     "slide_type": "subslide"
    }
   },
   "outputs": [
    {
     "name": "stdout",
     "output_type": "stream",
     "text": [
      "False\n"
     ]
    },
    {
     "data": {
      "text/plain": [
       "bool"
      ]
     },
     "execution_count": 8,
     "metadata": {},
     "output_type": "execute_result"
    }
   ],
   "source": [
    "# boolean\n",
    "boolean_true = True\n",
    "boolean_false = False\n",
    "\n",
    "print(boolean_false)\n",
    "type(boolean_false)"
   ]
  },
  {
   "cell_type": "code",
   "execution_count": 10,
   "metadata": {
    "slideshow": {
     "slide_type": "subslide"
    }
   },
   "outputs": [
    {
     "data": {
      "text/plain": [
       "(1+0j)"
      ]
     },
     "execution_count": 10,
     "metadata": {},
     "output_type": "execute_result"
    }
   ],
   "source": [
    "# complex\n",
    "complexo = 1.0 + 0j\n",
    "complexo"
   ]
  },
  {
   "cell_type": "markdown",
   "metadata": {
    "slideshow": {
     "slide_type": "slide"
    }
   },
   "source": [
    "#### Algumas recomendações\n",
    "\n",
    "- Booleano com primeira letra maiúscula (True/False)\n"
   ]
  },
  {
   "cell_type": "code",
   "execution_count": 13,
   "metadata": {
    "slideshow": {
     "slide_type": "-"
    }
   },
   "outputs": [
    {
     "data": {
      "text/plain": [
       "True"
      ]
     },
     "execution_count": 13,
     "metadata": {},
     "output_type": "execute_result"
    }
   ],
   "source": [
    "# tentando atribuir um novo valor booleano, mas com tudo minúsculo\n",
    "boolean_true = True\n",
    "\n",
    "boolean_true"
   ]
  },
  {
   "cell_type": "markdown",
   "metadata": {
    "slideshow": {
     "slide_type": "slide"
    }
   },
   "source": [
    "#### Algumas recomendações\n",
    "\n",
    "- Booleano com primeira letra maiúscula (True/False)\n",
    "\n",
    "- Das opções, qual indica melhor o que significa a variável?\n",
    "\n",
    "```python\n",
    "    x = 3.14\n",
    "    pi = 3.14\n",
    "```"
   ]
  },
  {
   "cell_type": "markdown",
   "metadata": {
    "slideshow": {
     "slide_type": "slide"
    }
   },
   "source": [
    "#### Palavras reservadas\n",
    "\n",
    "- existem palavras **reservadas** no python, que são usadas pela linguagem de programação durante o processamento do código. Exemplos:\n",
    "\n",
    "|   and  |  assert | break | class | continue |\n",
    "|:------:|:-------:|:-----:|:-----:|:--------:|\n",
    "| def    | del     | elif  | else  | except   |\n",
    "| exec   | finally | for   | from  | global   |\n",
    "| if     | import  | in    | is    | lambda   |\n",
    "| not    | or      | pass  | print | raise    |\n",
    "| return | try     | while | enumerate|          |\n"
   ]
  },
  {
   "cell_type": "markdown",
   "metadata": {
    "slideshow": {
     "slide_type": "slide"
    }
   },
   "source": [
    "\n",
    "#### Outro grupo de palavras a não serem usadas como \n",
    "\n",
    "|     |  float | int | numeric | array ||\n",
    "|:------:|:-------:|:-----:|:-----:|:--------:||\n",
    "| array   | open | range   | type  | write   | zeros |\n",
    "\n",
    "\n",
    "A razão destas palavras é que elas representam funções nativas do python, isto é, possuem uma aplicação específica. Veremos ao longo do curso diversos exemplos.\n",
    "\n",
    "Sugestão de leitura para entender a convenção dos nomes das variáveis:\n",
    "\n",
    "https://www.python.org/dev/peps/pep-0008/#naming-conventions"
   ]
  },
  {
   "cell_type": "markdown",
   "metadata": {
    "slideshow": {
     "slide_type": "slide"
    }
   },
   "source": [
    "### **palavras reservadas - exemplos práticos**"
   ]
  },
  {
   "cell_type": "code",
   "execution_count": 17,
   "metadata": {
    "slideshow": {
     "slide_type": "subslide"
    }
   },
   "outputs": [
    {
     "ename": "SyntaxError",
     "evalue": "can't assign to keyword (<ipython-input-17-07145b54629c>, line 1)",
     "output_type": "error",
     "traceback": [
      "\u001b[0;36m  File \u001b[0;32m\"<ipython-input-17-07145b54629c>\"\u001b[0;36m, line \u001b[0;32m1\u001b[0m\n\u001b[0;31m    True = 'variavel'\u001b[0m\n\u001b[0m                     ^\u001b[0m\n\u001b[0;31mSyntaxError\u001b[0m\u001b[0;31m:\u001b[0m can't assign to keyword\n"
     ]
    }
   ],
   "source": [
    "True = 'variavel'"
   ]
  },
  {
   "cell_type": "code",
   "execution_count": 18,
   "metadata": {
    "slideshow": {
     "slide_type": "subslide"
    }
   },
   "outputs": [
    {
     "ename": "SyntaxError",
     "evalue": "invalid syntax (<ipython-input-18-e8816e418cbd>, line 1)",
     "output_type": "error",
     "traceback": [
      "\u001b[0;36m  File \u001b[0;32m\"<ipython-input-18-e8816e418cbd>\"\u001b[0;36m, line \u001b[0;32m1\u001b[0m\n\u001b[0;31m    if = 'senao'\u001b[0m\n\u001b[0m       ^\u001b[0m\n\u001b[0;31mSyntaxError\u001b[0m\u001b[0;31m:\u001b[0m invalid syntax\n"
     ]
    }
   ],
   "source": [
    "else = 'senao'"
   ]
  },
  {
   "cell_type": "code",
   "execution_count": 30,
   "metadata": {
    "slideshow": {
     "slide_type": "subslide"
    }
   },
   "outputs": [
    {
     "name": "stdout",
     "output_type": "stream",
     "text": [
      "variavel\n"
     ]
    }
   ],
   "source": [
    "true = 'variavel'\n",
    "print(true)"
   ]
  },
  {
   "cell_type": "code",
   "execution_count": 20,
   "metadata": {
    "slideshow": {
     "slide_type": "subslide"
    }
   },
   "outputs": [
    {
     "name": "stdout",
     "output_type": "stream",
     "text": [
      "True\n"
     ]
    }
   ],
   "source": [
    "boolean = True # pode ser falso\n",
    "\n",
    "print(boolean)"
   ]
  },
  {
   "cell_type": "markdown",
   "metadata": {
    "slideshow": {
     "slide_type": "slide"
    }
   },
   "source": [
    "# Operadores básicos\n",
    "\n",
    "\n",
    "| Símbolo |      Função      |\n",
    "|:-------:|:----------------:|\n",
    "| +       | adição           |\n",
    "| -       | subtração        |\n",
    "| *       | multiplicação    |\n",
    "| /       | divisão          |\n",
    "| %       | resto da divisão |\n",
    "| **      | potência         |\n",
    "\n",
    "- parênteses indica ordem das operações\n",
    "- em algumas IDEs, não atribuir um valor à uma variável exibe o valor na tela\n"
   ]
  },
  {
   "cell_type": "code",
   "execution_count": 24,
   "metadata": {
    "slideshow": {
     "slide_type": "subslide"
    }
   },
   "outputs": [
    {
     "data": {
      "text/plain": [
       "6.28"
      ]
     },
     "execution_count": 24,
     "metadata": {},
     "output_type": "execute_result"
    }
   ],
   "source": [
    "# adição/subtração\n",
    "pi = 3.14\n",
    "\n",
    "pi + pi"
   ]
  },
  {
   "cell_type": "code",
   "execution_count": 26,
   "metadata": {},
   "outputs": [
    {
     "data": {
      "text/plain": [
       "0.6369426751592356"
      ]
     },
     "execution_count": 26,
     "metadata": {},
     "output_type": "execute_result"
    }
   ],
   "source": [
    "# multiplicação/divisão\n",
    "2 * pi"
   ]
  },
  {
   "cell_type": "code",
   "execution_count": 27,
   "metadata": {},
   "outputs": [
    {
     "data": {
      "text/plain": [
       "2.0"
      ]
     },
     "execution_count": 27,
     "metadata": {},
     "output_type": "execute_result"
    }
   ],
   "source": [
    "# podemos realizar operações com inteiros e decimais:\n",
    "x = 2\n",
    "\n",
    "x % pi"
   ]
  },
  {
   "cell_type": "markdown",
   "metadata": {
    "slideshow": {
     "slide_type": "slide"
    }
   },
   "source": [
    "# Operações com textos\n",
    "\n",
    "Podemos definir uma string de diversas formas. Usando:\n",
    "\n",
    "``` t = 'com aspas simples'```\n",
    "\n",
    "``` t = \"com aspas duplas\"```\n",
    "\n",
    "``` t = \"\"\"com aspas triplas\"\"\"```"
   ]
  },
  {
   "cell_type": "code",
   "execution_count": 28,
   "metadata": {
    "slideshow": {
     "slide_type": "slide"
    }
   },
   "outputs": [
    {
     "name": "stdout",
     "output_type": "stream",
     "text": [
      "Estamos aprendendo o básico de python\n"
     ]
    }
   ],
   "source": [
    "texto_novo = \"Estamos aprendendo o básico de python\"\n",
    "\n",
    "print(texto_novo)"
   ]
  },
  {
   "cell_type": "markdown",
   "metadata": {
    "slideshow": {
     "slide_type": "slide"
    }
   },
   "source": [
    "Strings podem ser \"fatiadas\" (slice) para selecionarmos caractereses específicos. Isso é feito através do uso de índices:"
   ]
  },
  {
   "cell_type": "code",
   "execution_count": 33,
   "metadata": {
    "slideshow": {
     "slide_type": "-"
    }
   },
   "outputs": [
    {
     "data": {
      "text/plain": [
       "'E'"
      ]
     },
     "execution_count": 33,
     "metadata": {},
     "output_type": "execute_result"
    }
   ],
   "source": [
    "# print da primeira letra da nossa string\n",
    "texto_novo[0]"
   ]
  },
  {
   "cell_type": "code",
   "execution_count": 41,
   "metadata": {
    "slideshow": {
     "slide_type": "-"
    }
   },
   "outputs": [
    {
     "data": {
      "text/plain": [
       "'python'"
      ]
     },
     "execution_count": 41,
     "metadata": {},
     "output_type": "execute_result"
    }
   ],
   "source": [
    "# print de um pedaço da nossa string\n",
    "texto_novo[31:]"
   ]
  },
  {
   "cell_type": "markdown",
   "metadata": {
    "slideshow": {
     "slide_type": "slide"
    }
   },
   "source": [
    "Embora possamos acessar os elementos da string, nós **não** podemos substituir algum elemento específico. Se tentarmos, o seguinte erro surgirá:"
   ]
  },
  {
   "cell_type": "code",
   "execution_count": 42,
   "metadata": {
    "slideshow": {
     "slide_type": "-"
    }
   },
   "outputs": [
    {
     "ename": "TypeError",
     "evalue": "'str' object does not support item assignment",
     "output_type": "error",
     "traceback": [
      "\u001b[0;31m------------------------------------\u001b[0m",
      "\u001b[0;31mTypeError\u001b[0mTraceback (most recent call last)",
      "\u001b[0;32m<ipython-input-42-939d1750fc2f>\u001b[0m in \u001b[0;36m<module>\u001b[0;34m()\u001b[0m\n\u001b[0;32m----> 1\u001b[0;31m \u001b[0mtexto_novo\u001b[0m\u001b[0;34m[\u001b[0m\u001b[0;36m0\u001b[0m\u001b[0;34m]\u001b[0m \u001b[0;34m=\u001b[0m \u001b[0;34m'A'\u001b[0m\u001b[0;34m\u001b[0m\u001b[0;34m\u001b[0m\u001b[0m\n\u001b[0m",
      "\u001b[0;31mTypeError\u001b[0m: 'str' object does not support item assignment"
     ]
    }
   ],
   "source": [
    "texto_novo[0] = 'A'"
   ]
  },
  {
   "cell_type": "markdown",
   "metadata": {
    "slideshow": {
     "slide_type": "subslide"
    }
   },
   "source": [
    "Será que conseguimos realizar operações aritméticas com strings?"
   ]
  },
  {
   "cell_type": "code",
   "execution_count": 45,
   "metadata": {
    "slideshow": {
     "slide_type": "-"
    }
   },
   "outputs": [
    {
     "data": {
      "text/plain": [
       "'3.143.14'"
      ]
     },
     "execution_count": 45,
     "metadata": {},
     "output_type": "execute_result"
    }
   ],
   "source": [
    "2 * texto1"
   ]
  },
  {
   "cell_type": "markdown",
   "metadata": {
    "slideshow": {
     "slide_type": "-"
    }
   },
   "source": [
    "Neste caso, o python é esperto para entender que você deseja multiplicar o texto contido na variável. Mas e se tentar alguma subtração ou adição?"
   ]
  },
  {
   "cell_type": "code",
   "execution_count": 46,
   "metadata": {
    "slideshow": {
     "slide_type": "-"
    }
   },
   "outputs": [
    {
     "ename": "TypeError",
     "evalue": "unsupported operand type(s) for +: 'int' and 'str'",
     "output_type": "error",
     "traceback": [
      "\u001b[0;31m------------------------------------\u001b[0m",
      "\u001b[0;31mTypeError\u001b[0mTraceback (most recent call last)",
      "\u001b[0;32m<ipython-input-46-db293aabfacd>\u001b[0m in \u001b[0;36m<module>\u001b[0;34m()\u001b[0m\n\u001b[0;32m----> 1\u001b[0;31m \u001b[0;36m2\u001b[0m \u001b[0;34m+\u001b[0m \u001b[0mtexto1\u001b[0m\u001b[0;34m\u001b[0m\u001b[0;34m\u001b[0m\u001b[0m\n\u001b[0m",
      "\u001b[0;31mTypeError\u001b[0m: unsupported operand type(s) for +: 'int' and 'str'"
     ]
    }
   ],
   "source": [
    "2 + texto1"
   ]
  },
  {
   "cell_type": "markdown",
   "metadata": {
    "slideshow": {
     "slide_type": "slide"
    }
   },
   "source": [
    "Ele não realiza, pois somar/subtrair só é permitido entre variáveis que sejam números (inteiros ou decimais) ou textos (strings):"
   ]
  },
  {
   "cell_type": "code",
   "execution_count": 51,
   "metadata": {
    "slideshow": {
     "slide_type": "subslide"
    }
   },
   "outputs": [
    {
     "name": "stdout",
     "output_type": "stream",
     "text": [
      "3.143.14\n",
      "3.143.14\n"
     ]
    }
   ],
   "source": [
    "print(texto1 + texto1)\n",
    "print(2 * texto1)"
   ]
  },
  {
   "cell_type": "markdown",
   "metadata": {
    "slideshow": {
     "slide_type": "slide"
    }
   },
   "source": [
    "No entanto, se variável for um texto que representa algum valor numérico (ex: ``` y = '100'```), podemos converter seu texto em valores numéricos e realizar alguma operação:"
   ]
  },
  {
   "cell_type": "code",
   "execution_count": 49,
   "metadata": {
    "slideshow": {
     "slide_type": "-"
    }
   },
   "outputs": [
    {
     "name": "stdout",
     "output_type": "stream",
     "text": [
      "102\n",
      "102.0\n"
     ]
    }
   ],
   "source": [
    "y = '100'\n",
    "\n",
    "print(x + int(y))\n",
    "print(x + float(y))"
   ]
  },
  {
   "cell_type": "markdown",
   "metadata": {
    "slideshow": {
     "slide_type": "subslide"
    }
   },
   "source": [
    "No caso acima, realizamos a operação aritmética utilizando duas funções nativas do python que converte nossa variável para o tipo que queremos:\n",
    "\n",
    "- ```int``` \n",
    "- ```float```\n",
    "\n",
    "Isso também serve para ```str``` e ```bool```:"
   ]
  },
  {
   "cell_type": "code",
   "execution_count": 51,
   "metadata": {
    "slideshow": {
     "slide_type": "subslide"
    }
   },
   "outputs": [
    {
     "name": "stdout",
     "output_type": "stream",
     "text": [
      "True\n"
     ]
    },
    {
     "data": {
      "text/plain": [
       "'11'"
      ]
     },
     "execution_count": 51,
     "metadata": {},
     "output_type": "execute_result"
    }
   ],
   "source": [
    "print(bool(1))\n",
    "str(11)"
   ]
  },
  {
   "cell_type": "markdown",
   "metadata": {
    "slideshow": {
     "slide_type": "slide"
    }
   },
   "source": [
    "# Estruturas de dados\n",
    "\n",
    "- armazenar uma coleção de variáveis\n",
    "- listas, tuplas, dicionários\n",
    "- variáveis arbitrárias\n"
   ]
  },
  {
   "cell_type": "markdown",
   "metadata": {
    "slideshow": {
     "slide_type": "slide"
    }
   },
   "source": [
    "### Listas (list)\n",
    "\n",
    "- cria-se com []\n",
    "- acesso via indexamento (indexing)\n",
    "- indexação inicia em 0 -> n-1, sendo n a quantidade de elementos\n",
    "\n",
    "- matlab: começa em 1 -> n, então tomem cuidado\n",
    "\n",
    "- indexação funciona com números negativos, pegando a partir o último"
   ]
  },
  {
   "cell_type": "code",
   "execution_count": 55,
   "metadata": {
    "slideshow": {
     "slide_type": "subslide"
    }
   },
   "outputs": [
    {
     "data": {
      "text/plain": [
       "[1, 2, 3]"
      ]
     },
     "execution_count": 55,
     "metadata": {},
     "output_type": "execute_result"
    }
   ],
   "source": [
    "# definindo lista\n",
    "lista = [1, 2, 3]\n",
    "\n",
    "lista"
   ]
  },
  {
   "cell_type": "code",
   "execution_count": 58,
   "metadata": {
    "slideshow": {
     "slide_type": "subslide"
    }
   },
   "outputs": [
    {
     "name": "stdout",
     "output_type": "stream",
     "text": [
      "Nossa lista possui: 3 elementos que são:\n",
      "['primeiro item tem índice 0', 100.1, ['outra lista', 'também rola']]\n"
     ]
    }
   ],
   "source": [
    "# criando uma lista:\n",
    "lista = ['primeiro item tem índice 0', 100.10, ['outra lista', 'também rola']]\n",
    "\n",
    "# tamanho da nossa lista usando a função nativa len, de length:\n",
    "n = len(lista)\n",
    "\n",
    "# opa, coisa nova!\n",
    "print(f\"Nossa lista possui: {n} elementos que são:\")\n",
    "print(lista)"
   ]
  },
  {
   "cell_type": "code",
   "execution_count": 61,
   "metadata": {
    "slideshow": {
     "slide_type": "subslide"
    }
   },
   "outputs": [
    {
     "name": "stdout",
     "output_type": "stream",
     "text": [
      "Qual o índice do primeiro item? primeiro item tem índice 0\n"
     ]
    }
   ],
   "source": [
    "print(f\"Qual o índice do primeiro item? {lista[0]}\")"
   ]
  },
  {
   "cell_type": "markdown",
   "metadata": {
    "slideshow": {
     "slide_type": "subslide"
    }
   },
   "source": [
    "#### conseguimos acessar o último elemento usando ```n```?"
   ]
  },
  {
   "cell_type": "code",
   "execution_count": 65,
   "metadata": {
    "slideshow": {
     "slide_type": "subslide"
    }
   },
   "outputs": [
    {
     "data": {
      "text/plain": [
       "['outra lista', 'também rola']"
      ]
     },
     "execution_count": 65,
     "metadata": {},
     "output_type": "execute_result"
    }
   ],
   "source": [
    "lista[n-1]"
   ]
  },
  {
   "cell_type": "code",
   "execution_count": 68,
   "metadata": {
    "slideshow": {
     "slide_type": "subslide"
    }
   },
   "outputs": [
    {
     "name": "stdout",
     "output_type": "stream",
     "text": [
      "['primeiro item tem índice 0', 100.1]\n"
     ]
    }
   ],
   "source": [
    "# print dos dois primeiros itens (de 0 a 2, porém 2 não está incluso)\n",
    "print(lista[0:2])"
   ]
  },
  {
   "cell_type": "code",
   "execution_count": 70,
   "metadata": {
    "slideshow": {
     "slide_type": "subslide"
    }
   },
   "outputs": [
    {
     "name": "stdout",
     "output_type": "stream",
     "text": [
      "['primeiro item tem índice 0', 100.1]\n"
     ]
    }
   ],
   "source": [
    "# podemos omitir o 0 neste caso, mas se quisermos a partir do elemento 1, não.\n",
    "print(lista[:2])"
   ]
  },
  {
   "cell_type": "markdown",
   "metadata": {
    "slideshow": {
     "slide_type": "slide"
    }
   },
   "source": [
    "Podemos substituir elementos, através de seus índices:"
   ]
  },
  {
   "cell_type": "code",
   "execution_count": 71,
   "metadata": {
    "slideshow": {
     "slide_type": "subslide"
    }
   },
   "outputs": [
    {
     "name": "stdout",
     "output_type": "stream",
     "text": [
      "['primeiro item tem índice 0', 100.1, ['outra lista', 'também rola']]\n",
      "['mudei o valor do primeiro elemento', 100.1, ['outra lista', 'também rola']]\n"
     ]
    }
   ],
   "source": [
    "print(lista)\n",
    "\n",
    "lista[0] = 'mudei o valor do primeiro elemento'\n",
    "\n",
    "print(lista)"
   ]
  },
  {
   "cell_type": "markdown",
   "metadata": {
    "slideshow": {
     "slide_type": "slide"
    }
   },
   "source": [
    "## Copiando listas\n",
    "\n",
    "- algumas peculiaridades\n",
    "\n",
    "```lista_copia = copia```\n",
    "\n",
    "- mesma alocação de memória, portanto: edições em uma mudam a outra\n",
    "\n",
    "- vejamos:"
   ]
  },
  {
   "cell_type": "code",
   "execution_count": 72,
   "metadata": {
    "slideshow": {
     "slide_type": "subslide"
    }
   },
   "outputs": [
    {
     "name": "stdout",
     "output_type": "stream",
     "text": [
      "['mudei o valor do primeiro elemento', 100.1, ['outra lista', 'também rola']]\n",
      "['mudei o valor do primeiro elemento', 100.1, ['outra lista', 'também rola']]\n"
     ]
    }
   ],
   "source": [
    "# exemplo de cópia \"rasa\" (shallow copy)\n",
    "nova_lista = lista\n",
    "\n",
    "print(lista)\n",
    "print(nova_lista)"
   ]
  },
  {
   "cell_type": "code",
   "execution_count": 88,
   "metadata": {
    "slideshow": {
     "slide_type": "subslide"
    }
   },
   "outputs": [
    {
     "name": "stdout",
     "output_type": "stream",
     "text": [
      "['primeiro item tem índice 0', 100.1, ['outra lista', 'também rola']]\n",
      "['primeiro item tem índice 0', 100.1, ['outra lista', 'também rola']]\n"
     ]
    }
   ],
   "source": [
    "nova_lista[0] = 'primeiro item tem índice 0'\n",
    "\n",
    "print(lista)\n",
    "print(nova_lista)"
   ]
  },
  {
   "cell_type": "markdown",
   "metadata": {
    "slideshow": {
     "slide_type": "subslide"
    }
   },
   "source": [
    "Para resolver este problema, fazemos uma cópia \"profunda\", forçando o python da seguinte forma:"
   ]
  },
  {
   "cell_type": "code",
   "execution_count": 91,
   "metadata": {
    "slideshow": {
     "slide_type": "subslide"
    }
   },
   "outputs": [
    {
     "name": "stdout",
     "output_type": "stream",
     "text": [
      "['primeiro item tem índice 0', 100.1, ['outra lista', 'também rola']]\n",
      "['mudei o valor do primeiro elemento', 100.1, ['outra lista', 'também rola']]\n"
     ]
    }
   ],
   "source": [
    "# exemplo de cópia profunda (deep copy)\n",
    "nova_lista = lista[:]\n",
    "\n",
    "nova_lista[0] = 'mudei o valor do primeiro elemento'\n",
    "\n",
    "print(lista)\n",
    "print(nova_lista)"
   ]
  },
  {
   "cell_type": "markdown",
   "metadata": {
    "slideshow": {
     "slide_type": "slide"
    }
   },
   "source": [
    "#### Métodos de listas\n",
    "\n",
    "- **.append(novo_valor)**: para adicionarmos um novo elemento à nossa lista\n",
    "\n",
    "- **.count(valor)**: retorna quantas vezes o elemento enviado como argumento para o método ocorre dentro da lista:\n",
    "\n",
    "- **.insert(arg1, arg2)**: insere um novo valor em uma posição específica da lista. O primeiro argumento é o índice e o segundo o valor\n",
    "\n",
    "- **.sort()**: ordena a lista em ordem crescente. Mas só funciona se tivermos homogeneidade dos tipos de variáveis dentro da lista\n",
    "\n",
    "- **.index()**: retorna o índice do elemento que enviamos como argumento."
   ]
  },
  {
   "cell_type": "code",
   "execution_count": 78,
   "metadata": {
    "slideshow": {
     "slide_type": "subslide"
    }
   },
   "outputs": [
    {
     "name": "stdout",
     "output_type": "stream",
     "text": [
      "['a', 100.1, 'c', False, 100.1]\n"
     ]
    }
   ],
   "source": [
    "lista = ['a', 100.1, 'c', False]\n",
    "\n",
    "var =  100.1\n",
    "\n",
    "lista.append(var)\n",
    "\n",
    "print(lista)"
   ]
  },
  {
   "cell_type": "code",
   "execution_count": 79,
   "metadata": {
    "slideshow": {
     "slide_type": "subslide"
    }
   },
   "outputs": [
    {
     "name": "stdout",
     "output_type": "stream",
     "text": [
      "2\n"
     ]
    }
   ],
   "source": [
    "print(lista.count(100.1))"
   ]
  },
  {
   "cell_type": "code",
   "execution_count": 80,
   "metadata": {
    "slideshow": {
     "slide_type": "subslide"
    }
   },
   "outputs": [
    {
     "name": "stdout",
     "output_type": "stream",
     "text": [
      "[100, 'a', 100.1, 'c', False, 100.1]\n"
     ]
    }
   ],
   "source": [
    "# .insert(arg1, arg2), arg1: indice/posicao, arg2: valor\n",
    "lista.insert(0,100)\n",
    "print(lista)"
   ]
  },
  {
   "cell_type": "code",
   "execution_count": 83,
   "metadata": {
    "slideshow": {
     "slide_type": "subslide"
    }
   },
   "outputs": [
    {
     "name": "stdout",
     "output_type": "stream",
     "text": [
      "[100, 'a', 100.1, 'c', False, 100.1]\n",
      "2\n"
     ]
    }
   ],
   "source": [
    "print(lista)\n",
    "\n",
    "print(lista.index(100.1))"
   ]
  },
  {
   "cell_type": "code",
   "execution_count": 90,
   "metadata": {
    "slideshow": {
     "slide_type": "subslide"
    }
   },
   "outputs": [
    {
     "name": "stdout",
     "output_type": "stream",
     "text": [
      "[1, 2, 3]\n"
     ]
    }
   ],
   "source": [
    "# print(lista)\n",
    "lista2 = [3,2,1]\n",
    "lista2.sort()\n",
    "print(lista2)"
   ]
  },
  {
   "cell_type": "markdown",
   "metadata": {
    "slideshow": {
     "slide_type": "slide"
    }
   },
   "source": [
    "### Tuplas (tuple)\n",
    "\n",
    "- cria-se com ()\n",
    "\n",
    "```python\n",
    "    tupla = (1,2,3, 'texto', ['lista', 'tambem'])\n",
    "```\n",
    "\n",
    "- são imutáveis, isto é, ao contrário das listas não podemos alterar os valores\n",
    "\n",
    "- muito utilizada para transmitir informações estáticas dentro de um código\n",
    "\n",
    "- Ex: coordenadas geográficas para plotar em um mapa."
   ]
  },
  {
   "cell_type": "code",
   "execution_count": 92,
   "metadata": {
    "slideshow": {
     "slide_type": "subslide"
    }
   },
   "outputs": [
    {
     "name": "stdout",
     "output_type": "stream",
     "text": [
      "(-44.460789, -23.006711)\n"
     ]
    }
   ],
   "source": [
    "coords = (-44.460789, -23.006711)\n",
    "\n",
    "print(coords)"
   ]
  },
  {
   "cell_type": "code",
   "execution_count": 154,
   "metadata": {
    "slideshow": {
     "slide_type": "subslide"
    }
   },
   "outputs": [
    {
     "data": {
      "text/plain": [
       "tuple"
      ]
     },
     "execution_count": 154,
     "metadata": {},
     "output_type": "execute_result"
    }
   ],
   "source": [
    "type(coords)"
   ]
  },
  {
   "cell_type": "code",
   "execution_count": 155,
   "metadata": {
    "slideshow": {
     "slide_type": "subslide"
    }
   },
   "outputs": [
    {
     "name": "stdout",
     "output_type": "stream",
     "text": [
      "-44.460789\n"
     ]
    }
   ],
   "source": [
    "print(coords[0])"
   ]
  },
  {
   "cell_type": "code",
   "execution_count": 156,
   "metadata": {
    "slideshow": {
     "slide_type": "subslide"
    }
   },
   "outputs": [
    {
     "ename": "TypeError",
     "evalue": "'tuple' object does not support item assignment",
     "output_type": "error",
     "traceback": [
      "\u001b[0;31m---------------------------------------------------------------------------\u001b[0m",
      "\u001b[0;31mTypeError\u001b[0m                                 Traceback (most recent call last)",
      "\u001b[0;32m<ipython-input-156-107dfc953159>\u001b[0m in \u001b[0;36m<module>\u001b[0;34m()\u001b[0m\n\u001b[0;32m----> 1\u001b[0;31m \u001b[0mtupla\u001b[0m\u001b[0;34m[\u001b[0m\u001b[0;36m0\u001b[0m\u001b[0;34m]\u001b[0m \u001b[0;34m=\u001b[0m \u001b[0;36m0\u001b[0m\u001b[0;34m\u001b[0m\u001b[0;34m\u001b[0m\u001b[0m\n\u001b[0m",
      "\u001b[0;31mTypeError\u001b[0m: 'tuple' object does not support item assignment"
     ]
    }
   ],
   "source": [
    "tupla[0] = 0"
   ]
  },
  {
   "cell_type": "markdown",
   "metadata": {
    "slideshow": {
     "slide_type": "slide"
    }
   },
   "source": [
    "### Dicionários (dict)\n",
    "\n",
    "- cria-se com {} ou com ```dict```:\n",
    "\n",
    "```python\n",
    "    dicionario = {}\n",
    "    dicionario = dict([(key, value)])\n",
    "```\n",
    "\n",
    "- obrigatório o uso do conceito de chaves e valores\n",
    "\n",
    "- acesso é feito via chaves\n",
    "\n",
    "- as chaves devem ser únicas no dicionário!"
   ]
  },
  {
   "cell_type": "code",
   "execution_count": 94,
   "metadata": {
    "slideshow": {
     "slide_type": "subslide"
    }
   },
   "outputs": [
    {
     "data": {
      "text/plain": [
       "{'nova-chave': ['novo', 'valor', 'aqui']}"
      ]
     },
     "execution_count": 94,
     "metadata": {},
     "output_type": "execute_result"
    }
   ],
   "source": [
    "# criando dicionário da primeira forma\n",
    "dicionario = {}\n",
    "\n",
    "# adicionando informações dentro de um dicionário já existente\n",
    "dicionario['nova-chave'] = ['novo', 'valor', 'aqui']\n",
    "\n",
    "dicionario"
   ]
  },
  {
   "cell_type": "code",
   "execution_count": 152,
   "metadata": {
    "slideshow": {
     "slide_type": "subslide"
    }
   },
   "outputs": [
    {
     "data": {
      "text/plain": [
       "dict"
      ]
     },
     "execution_count": 152,
     "metadata": {},
     "output_type": "execute_result"
    }
   ],
   "source": [
    "type(dicionario)"
   ]
  },
  {
   "cell_type": "code",
   "execution_count": 95,
   "metadata": {
    "slideshow": {
     "slide_type": "slide"
    }
   },
   "outputs": [
    {
     "data": {
      "text/plain": [
       "{'A701': (-23.496294, -46.620088), 'A728': (-23.041668, -45.520841)}"
      ]
     },
     "execution_count": 95,
     "metadata": {},
     "output_type": "execute_result"
    }
   ],
   "source": [
    "# criando dicionário da segunda forma, para duas estações \n",
    "# meteorológias do CPTEC e suas coordenadas geográficas\n",
    "estacoesAutomaticas = {\n",
    "    'A701': (-23.496294, -46.620088),\n",
    "    'A728': (-23.041668, -45.520841)\n",
    "}\n",
    "\n",
    "estacoesAutomaticas"
   ]
  },
  {
   "cell_type": "code",
   "execution_count": 151,
   "metadata": {
    "slideshow": {
     "slide_type": "subslide"
    }
   },
   "outputs": [
    {
     "data": {
      "text/plain": [
       "dict"
      ]
     },
     "execution_count": 151,
     "metadata": {},
     "output_type": "execute_result"
    }
   ],
   "source": [
    "type(dicionario2)"
   ]
  },
  {
   "cell_type": "markdown",
   "metadata": {
    "slideshow": {
     "slide_type": "subslide"
    }
   },
   "source": [
    "\n",
    "\n",
    "Pode-se acessar os valores utilizando as chaves:"
   ]
  },
  {
   "cell_type": "code",
   "execution_count": 96,
   "metadata": {
    "slideshow": {
     "slide_type": "subslide"
    }
   },
   "outputs": [
    {
     "name": "stdout",
     "output_type": "stream",
     "text": [
      "(-23.496294, -46.620088)\n"
     ]
    }
   ],
   "source": [
    "print(estacoesAutomaticas['A701'])"
   ]
  },
  {
   "cell_type": "code",
   "execution_count": 97,
   "metadata": {
    "slideshow": {
     "slide_type": "subslide"
    }
   },
   "outputs": [
    {
     "data": {
      "text/plain": [
       "{'A701': (-23.496294, -46.620088),\n",
       " 'A728': (-23.041668, -45.520841),\n",
       " 'A000': (-23.041668, -45.520841)}"
      ]
     },
     "execution_count": 97,
     "metadata": {},
     "output_type": "execute_result"
    }
   ],
   "source": [
    "estacoesAutomaticas['A000'] = (-23.041668, -45.520841)\n",
    "\n",
    "estacoesAutomaticas"
   ]
  },
  {
   "cell_type": "code",
   "execution_count": 100,
   "metadata": {
    "slideshow": {
     "slide_type": "subslide"
    }
   },
   "outputs": [
    {
     "data": {
      "text/plain": [
       "dict_keys(['A701', 'A728', 'A000'])"
      ]
     },
     "execution_count": 100,
     "metadata": {},
     "output_type": "execute_result"
    }
   ],
   "source": [
    "estacoesAutomaticas.keys()"
   ]
  },
  {
   "cell_type": "code",
   "execution_count": 157,
   "metadata": {
    "slideshow": {
     "slide_type": "subslide"
    }
   },
   "outputs": [
    {
     "data": {
      "text/plain": [
       "{'A701': (-23.496294, -46.620088),\n",
       " 'A728': (-23.041668, -45.520841),\n",
       " 'A000': (-23.041668, -45.520841)}"
      ]
     },
     "execution_count": 157,
     "metadata": {},
     "output_type": "execute_result"
    }
   ],
   "source": [
    "estAutomaticas. #'tab' para consultar métodos disponíveis"
   ]
  },
  {
   "cell_type": "code",
   "execution_count": 158,
   "metadata": {
    "slideshow": {
     "slide_type": "subslide"
    }
   },
   "outputs": [
    {
     "data": {
      "text/plain": [
       "dict_items([('A701', (-23.496294, -46.620088)), ('A728', (-23.041668, -45.520841)), ('A000', (-23.041668, -45.520841))])"
      ]
     },
     "execution_count": 158,
     "metadata": {},
     "output_type": "execute_result"
    }
   ],
   "source": [
    "estAutomaticas.items()"
   ]
  },
  {
   "cell_type": "markdown",
   "metadata": {
    "slideshow": {
     "slide_type": "slide"
    }
   },
   "source": [
    "### Sets\n",
    "\n",
    "Set é uma estrutura de dados ordenadas e imutáveis sem valores duplicados.\n",
    "\n",
    "- criada com {} ou usando ```set()```:\n",
    "\n",
    "```python\n",
    "    especies = set([...])\n",
    "```"
   ]
  },
  {
   "cell_type": "code",
   "execution_count": 102,
   "metadata": {
    "slideshow": {
     "slide_type": "subslide"
    }
   },
   "outputs": [
    {
     "data": {
      "text/plain": [
       "{0.1, 1, '3', '3.0'}"
      ]
     },
     "execution_count": 102,
     "metadata": {},
     "output_type": "execute_result"
    }
   ],
   "source": [
    "S = set(['3.0', 1, 0.1, '3', 1.0])\n",
    "S"
   ]
  },
  {
   "cell_type": "markdown",
   "metadata": {
    "slideshow": {
     "slide_type": "subslide"
    }
   },
   "source": [
    "Note que:\n",
    "\n",
    "- a ordem foi alterada automaticamente quando criamos o set\n",
    "\n",
    "- veja o que ocorre com os valores duplicados"
   ]
  },
  {
   "cell_type": "markdown",
   "metadata": {
    "slideshow": {
     "slide_type": "subslide"
    }
   },
   "source": [
    "#### Métodos importantes\n",
    "\n",
    "- Podemos usar:\n",
    "    - **.copy()**\n",
    "    - **.add()**\n",
    "    - **.intersection()**\n",
    "    - **.difference()**\n",
    "    - **.clear()**\n",
    "\n",
    "\n",
    "- mais informações sobre set: https://www.python-course.eu/python3_sets_frozensets.php"
   ]
  },
  {
   "cell_type": "code",
   "execution_count": 103,
   "metadata": {
    "slideshow": {
     "slide_type": "subslide"
    }
   },
   "outputs": [
    {
     "data": {
      "text/plain": [
       "{'carpa', 'dourado', 'pintado', 'tilápia'}"
      ]
     },
     "execution_count": 103,
     "metadata": {},
     "output_type": "execute_result"
    }
   ],
   "source": [
    "# criando um set com nomes populares de peixes\n",
    "nomes_populares = set(['tilápia', 'dourado', 'carpa', 'pintado'])\n",
    "nomes_populares"
   ]
  },
  {
   "cell_type": "markdown",
   "metadata": {
    "slideshow": {
     "slide_type": "subslide"
    }
   },
   "source": [
    "Podemos também realizar cópias usando o método ```.copy()```, porém neste caso é feita uma cópia independente, diferente das listas."
   ]
  },
  {
   "cell_type": "code",
   "execution_count": 104,
   "metadata": {
    "slideshow": {
     "slide_type": "subslide"
    }
   },
   "outputs": [
    {
     "data": {
      "text/plain": [
       "{'carpa', 'dourado', 'pintado', 'tilápia'}"
      ]
     },
     "execution_count": 104,
     "metadata": {},
     "output_type": "execute_result"
    }
   ],
   "source": [
    "nomes_populares_copia = nomes_populares.copy()\n",
    "\n",
    "nomes_populares_copia"
   ]
  },
  {
   "cell_type": "markdown",
   "metadata": {
    "slideshow": {
     "slide_type": "subslide"
    }
   },
   "source": [
    "Podemos adicionar novos elementos a um set e a ordenação é feita automaticamente:"
   ]
  },
  {
   "cell_type": "code",
   "execution_count": 31,
   "metadata": {
    "slideshow": {
     "slide_type": "subslide"
    }
   },
   "outputs": [
    {
     "name": "stdout",
     "output_type": "stream",
     "text": [
      "{'carpa', 'dourado', 'pintado', 'tilápia', 'tambaqui'}\n",
      "{'dourado', 'tilápia', 'pintado', 'carpa'}\n"
     ]
    }
   ],
   "source": [
    "# não precisa atribuir à uma variável nova\n",
    "nomes_populares.add('tambaqui')\n",
    "\n",
    "print(nomes_populares)\n",
    "print(nomes_populares_copia)"
   ]
  },
  {
   "cell_type": "markdown",
   "metadata": {
    "slideshow": {
     "slide_type": "subslide"
    }
   },
   "source": [
    "Ainda, podemos descobrir qual a diferença e a intersecção entre dois sets:"
   ]
  },
  {
   "cell_type": "code",
   "execution_count": 32,
   "metadata": {},
   "outputs": [
    {
     "data": {
      "text/plain": [
       "{'tambaqui'}"
      ]
     },
     "execution_count": 32,
     "metadata": {},
     "output_type": "execute_result"
    }
   ],
   "source": [
    "nomes_populares.difference(nomes_populares_copia)"
   ]
  },
  {
   "cell_type": "code",
   "execution_count": 34,
   "metadata": {},
   "outputs": [
    {
     "data": {
      "text/plain": [
       "{'carpa', 'dourado', 'pintado', 'tilápia'}"
      ]
     },
     "execution_count": 34,
     "metadata": {},
     "output_type": "execute_result"
    }
   ],
   "source": [
    "nomes_populares.intersection(nomes_populares_copia)"
   ]
  },
  {
   "cell_type": "markdown",
   "metadata": {
    "slideshow": {
     "slide_type": "subslide"
    }
   },
   "source": [
    "Finalmente, podemos limpar um set com:"
   ]
  },
  {
   "cell_type": "code",
   "execution_count": 35,
   "metadata": {},
   "outputs": [
    {
     "data": {
      "text/plain": [
       "set()"
      ]
     },
     "execution_count": 35,
     "metadata": {},
     "output_type": "execute_result"
    }
   ],
   "source": [
    "nomes_populares_copia.clear()\n",
    "nomes_populares_copia"
   ]
  },
  {
   "cell_type": "markdown",
   "metadata": {
    "slideshow": {
     "slide_type": "slide"
    }
   },
   "source": [
    "# Blocos de código\n",
    "\n",
    "- indicar bloco de instruções específicos\n",
    "- dentro ou fora de um estrutura de repetição ou função\n",
    "- no caso do python: identação\n",
    "- 4 espaços a esquerda\n",
    "- código legível\n"
   ]
  },
  {
   "cell_type": "markdown",
   "metadata": {
    "slideshow": {
     "slide_type": "subslide"
    }
   },
   "source": [
    "\n",
    "Um exemplo (real):\n",
    "\n",
    "```python\n",
    "# dias para plotar\n",
    "dias = ['2020-01-01', '2020-01-02', '2020-01-03']\n",
    "\n",
    "# loop nos dias\n",
    "for dia in dias:\n",
    "    # condição para plotar apenas dados de 2020\n",
    "    if(dia[:5] == '2020'):\n",
    "        print('Ano de 2020')\n",
    "        ds.isel(time=dia).sst.plot.pcolormesh(x='lon', y='lat')\n",
    "```\n"
   ]
  },
  {
   "cell_type": "code",
   "execution_count": 109,
   "metadata": {
    "slideshow": {
     "slide_type": "subslide"
    }
   },
   "outputs": [
    {
     "ename": "IndentationError",
     "evalue": "expected an indented block (<ipython-input-109-1cd5984864f6>, line 6)",
     "output_type": "error",
     "traceback": [
      "\u001b[0;36m  File \u001b[0;32m\"<ipython-input-109-1cd5984864f6>\"\u001b[0;36m, line \u001b[0;32m6\u001b[0m\n\u001b[0;31m    print(dia)\u001b[0m\n\u001b[0m        ^\u001b[0m\n\u001b[0;31mIndentationError\u001b[0m\u001b[0;31m:\u001b[0m expected an indented block\n"
     ]
    }
   ],
   "source": [
    "# E se errarmos a identação?\n",
    "dias = ['2020-01-01', '2020-01-02', '2020-01-03']\n",
    "\n",
    "for dia in dias:\n",
    "    if(dia[:5] == '2020'):\n",
    "    print(dia)"
   ]
  },
  {
   "cell_type": "markdown",
   "metadata": {
    "slideshow": {
     "slide_type": "slide"
    }
   },
   "source": [
    "## Estruturas (loops) de repetição\n",
    "\n",
    "- repetições de código\n",
    "- ```while``` e ```for```\n",
    "\n",
    "```python\n",
    "    for item in lista:\n",
    "        # serie de códigos que acontecerão enquanto o for estiver ativado\n",
    "        print('estamos dentro de um loop de repetição for')\n",
    "        \n",
    "    while(expressao):\n",
    "        print('estamos dentro de um loop de repetição while')\n",
    "```\n"
   ]
  },
  {
   "cell_type": "code",
   "execution_count": 111,
   "metadata": {
    "slideshow": {
     "slide_type": "subslide"
    }
   },
   "outputs": [
    {
     "name": "stdout",
     "output_type": "stream",
     "text": [
      "estamos\n",
      "na\n",
      "segunda\n",
      "encontro\n",
      "do\n",
      "curso\n"
     ]
    }
   ],
   "source": [
    "for x in ['estamos', 'na', 'segunda', 'encontro', 'do', 'curso']:\n",
    "    print(x)"
   ]
  },
  {
   "cell_type": "code",
   "execution_count": 112,
   "metadata": {
    "slideshow": {
     "slide_type": "subslide"
    }
   },
   "outputs": [
    {
     "name": "stdout",
     "output_type": "stream",
     "text": [
      "p\n",
      "y\n",
      "t\n",
      "h\n",
      "o\n",
      "n\n"
     ]
    }
   ],
   "source": [
    "string = 'python'\n",
    "for s in string:\n",
    "    print(s)"
   ]
  },
  {
   "cell_type": "markdown",
   "metadata": {
    "slideshow": {
     "slide_type": "subslide"
    }
   },
   "source": [
    "Podemos aplicar um **for** em uma string!\n",
    "\n",
    "![image.png](../figures/mind-blow.gif)"
   ]
  },
  {
   "cell_type": "markdown",
   "metadata": {
    "slideshow": {
     "slide_type": "slide"
    }
   },
   "source": [
    "## Desvios condicionais (statement) \n",
    "\n",
    "- testes do tipo \"se ... senão\"\n",
    "- ```if```, ```elif```, ```else```\n",
    "- sintaxe:\n",
    "\n",
    "\n",
    "```python\n",
    "if expressao:\n",
    "    print('desvio simples')\n",
    "```"
   ]
  },
  {
   "cell_type": "markdown",
   "metadata": {
    "slideshow": {
     "slide_type": "subslide"
    }
   },
   "source": [
    "No caso de desvio composto, precisamos complementar com:\n",
    "\n",
    "```python\n",
    "if expressao:\n",
    "    print('desvio composto')\n",
    "else:\n",
    "    print('expressao não é verdadeira')\n",
    "```\n",
    "\n",
    "Por fim, desvios encadeados:\n",
    "\n",
    "```python\n",
    "if expressao1:\n",
    "    print('expressao 1 foi atendida')\n",
    "elif expressao2:\n",
    "    print('expressao 2 foi atentida, mas somente porque a primeira não foi')\n",
    "else:\n",
    "    print('nenhuma expressao atendida')\n",
    "```"
   ]
  },
  {
   "cell_type": "markdown",
   "metadata": {
    "slideshow": {
     "slide_type": "subslide"
    }
   },
   "source": [
    "Vamos praticar as combinações, alterando as variáveis ```expressao1``` e ```expressao2``` entre ```True``` e ```False```."
   ]
  },
  {
   "cell_type": "code",
   "execution_count": 115,
   "metadata": {},
   "outputs": [
    {
     "name": "stdout",
     "output_type": "stream",
     "text": [
      "linha9: nenhuma expressao atendida\n"
     ]
    }
   ],
   "source": [
    "expressao1 = False\n",
    "expressao2 = False\n",
    "\n",
    "if expressao1:\n",
    "    print('linha5: expressao 1 foi atendida')\n",
    "elif expressao2:\n",
    "    print('linha7: expressao 2 foi atentida, mas somente porque a primeira não foi')\n",
    "else:\n",
    "    print('linha9: nenhuma expressao atendida')"
   ]
  },
  {
   "cell_type": "markdown",
   "metadata": {
    "slideshow": {
     "slide_type": "subslide"
    }
   },
   "source": [
    "Da mesma forma que podemos rodar uma estrutura de repetição em uma string, também podemos utilizar os desvios condicionais para pesquisar por sequências específicas de caracteres:"
   ]
  },
  {
   "cell_type": "code",
   "execution_count": 118,
   "metadata": {},
   "outputs": [
    {
     "name": "stdout",
     "output_type": "stream",
     "text": [
      "Existe\n"
     ]
    }
   ],
   "source": [
    "variavel = 'python'\n",
    "\n",
    "if 'ython' in variavel:\n",
    "    print('Existe')\n",
    "else:\n",
    "    print('Nao existe')"
   ]
  },
  {
   "cell_type": "markdown",
   "metadata": {
    "slideshow": {
     "slide_type": "slide"
    }
   },
   "source": [
    "## Operadores condicionais e lógicos\n",
    "\n",
    " **operadores condicionais**\n",
    "\n",
    "| Símbolo |      Função      |\n",
    "|:-------:|:----------------:|\n",
    "| ==      | igual            |\n",
    "| !=      | diferente        |\n",
    "| >       | maior que        |\n",
    "| <       | menor que        |\n",
    "| >=      | maior ou igual a |\n",
    "| <=      | menor ou igual a |"
   ]
  },
  {
   "cell_type": "markdown",
   "metadata": {
    "slideshow": {
     "slide_type": "subslide"
    }
   },
   "source": [
    "- **not**: negação\n",
    "- **and**: conjunção\n",
    "- **or**: disjunção\n"
   ]
  },
  {
   "cell_type": "markdown",
   "metadata": {
    "slideshow": {
     "slide_type": "subslide"
    }
   },
   "source": [
    "\n",
    "\n",
    "| Expressão 1 | operador lógico | Expressão 2 | resultado lógico |\n",
    "|-------------|-----------------|-------------|------------------|\n",
    "| True        | and             | True        | True             |\n",
    "| True        | and             | False       | False            |\n",
    "| False       | and             | True        | False            |\n",
    "| False       | and             | False:      | True             |\n",
    "| True        | or              | True        | True             |\n",
    "| True        | or              | False       | True             |\n",
    "| False       | or              | True        | True             |\n",
    "| False       | or              | False:      | False            |\n"
   ]
  },
  {
   "cell_type": "code",
   "execution_count": 125,
   "metadata": {
    "slideshow": {
     "slide_type": "-"
    }
   },
   "outputs": [
    {
     "data": {
      "text/plain": [
       "False"
      ]
     },
     "execution_count": 125,
     "metadata": {},
     "output_type": "execute_result"
    }
   ],
   "source": [
    "# testando\n",
    "False or False"
   ]
  },
  {
   "cell_type": "markdown",
   "metadata": {
    "slideshow": {
     "slide_type": "slide"
    }
   },
   "source": [
    "Combinando, agora, os operadores condicionais e lógicos para testes complexos reais, podemos testar:\n",
    "\n",
    "```A é igual a B e C é igual a D?```\n",
    "\n",
    "```python\n",
    "((A==B) and (C==D))\n",
    "```\n",
    "\n",
    "```A é igual a B e C é diferente a D?```\n",
    "\n",
    "```python\n",
    "((A==B) and (C!=D))\n",
    "```"
   ]
  },
  {
   "cell_type": "markdown",
   "metadata": {
    "slideshow": {
     "slide_type": "subslide"
    }
   },
   "source": [
    "## Vamos aos exemplos\n",
    "\n",
    "Agora com essas novas ferramentas em mãos, podemos criar exemplos reais de aplicações das estruturas de repetição!"
   ]
  },
  {
   "cell_type": "markdown",
   "metadata": {
    "slideshow": {
     "slide_type": "subslide"
    }
   },
   "source": [
    "Podemos utilizar a estrutura ```for``` para iterar em uma sequência de números ou variáveis, para realizar alguma ação:"
   ]
  },
  {
   "cell_type": "code",
   "execution_count": 127,
   "metadata": {
    "slideshow": {
     "slide_type": "-"
    }
   },
   "outputs": [
    {
     "name": "stdout",
     "output_type": "stream",
     "text": [
      "0\n",
      "1\n",
      "2\n",
      "3\n",
      "4\n",
      "5\n",
      "6\n",
      "7\n",
      "8\n",
      "9\n"
     ]
    }
   ],
   "source": [
    "# nova função nativa: range\n",
    "lista = range(10)\n",
    "\n",
    "for i in lista:\n",
    "    print(i)"
   ]
  },
  {
   "cell_type": "markdown",
   "metadata": {
    "slideshow": {
     "slide_type": "subslide"
    }
   },
   "source": [
    "Aplicando os conceitos do encontro passado com os de hoje:\n",
    "\n",
    "![image.png](../figures/loops-repeticao.png)"
   ]
  },
  {
   "cell_type": "code",
   "execution_count": 130,
   "metadata": {
    "slideshow": {
     "slide_type": "subslide"
    }
   },
   "outputs": [
    {
     "name": "stdout",
     "output_type": "stream",
     "text": [
      "Temperatura da água: 100ºC\n",
      "Hora de adicionar miojo\n"
     ]
    }
   ],
   "source": [
    "ponto_ebulicao = 100 # graus Celsius\n",
    "\n",
    "temperatura_agua = 20 # graus Celsius, temperatura ambiente\n",
    "\n",
    "# enquanto a temperatura da agua for menor ou igual ao ponto de ebulição, continuamos a aquecer\n",
    "# a água.\n",
    "while temperatura_agua < ponto_ebulicao:\n",
    "    # a expressão acima é o equivalente à pergunta do diagrama \"Ferveu?\"\n",
    "    temperatura_agua += 1\n",
    "\n",
    "print(f\"Temperatura da água: {temperatura_agua}ºC\")\n",
    "print('Hora de adicionar miojo')"
   ]
  },
  {
   "cell_type": "markdown",
   "metadata": {
    "slideshow": {
     "slide_type": "subslide"
    }
   },
   "source": [
    "Para o caso de testar se o miojo está no ponto: \n",
    "\n",
    "![image.png](../figures/loops-repeticao.png)"
   ]
  },
  {
   "cell_type": "code",
   "execution_count": 133,
   "metadata": {
    "slideshow": {
     "slide_type": "subslide"
    }
   },
   "outputs": [
    {
     "name": "stdout",
     "output_type": "stream",
     "text": [
      "Já se passaram: 1min\n",
      "Já se passaram: 2min\n",
      "Já se passaram: 3min\n",
      "Miojão tá pronto!\n",
      "Tempo necessário: 180s\n"
     ]
    }
   ],
   "source": [
    "# retomando o exemplo da última aula (do miojo):\n",
    "tempo = 0 # contador\n",
    "miojo_pronto = False\n",
    "\n",
    "while miojo_pronto != True:\n",
    "    # vamos exibir na tela o tempo passando a cada min:\n",
    "    if(((tempo%60) == 0) and ((tempo/60) != 0)):        \n",
    "        print(f\"Já se passaram: {int(tempo/60)}min\")\n",
    "        \n",
    "    if tempo == 180: # 360 igual a segundos em 3min\n",
    "        miojo_pronto = True\n",
    "        print('Miojão tá pronto!')\n",
    "        \n",
    "        # outra forma de exibir mensagens com variáveis\n",
    "        print('Tempo necessário: {}s'.format(tempo))\n",
    "    else:\n",
    "        # adicionamos um segundo no nosso tempo\n",
    "        tempo += 1"
   ]
  },
  {
   "cell_type": "markdown",
   "metadata": {
    "slideshow": {
     "slide_type": "subslide"
    }
   },
   "source": [
    "Nota:\n",
    "\n",
    "- variáveis auxiliares (```tempo```)\n",
    "- estruturas de repetição, desvios, iterações, etc"
   ]
  },
  {
   "cell_type": "markdown",
   "metadata": {
    "slideshow": {
     "slide_type": "skip"
    }
   },
   "source": [
    "--------------------------------------------"
   ]
  },
  {
   "cell_type": "markdown",
   "metadata": {
    "slideshow": {
     "slide_type": "slide"
    }
   },
   "source": [
    "#### Prática\n",
    "\n",
    "Para sairmos um pouco deste monte de teoria, vamos realizar alguns exercícios utilizando o que aprendemos até aqui."
   ]
  },
  {
   "cell_type": "markdown",
   "metadata": {
    "slideshow": {
     "slide_type": "subslide"
    }
   },
   "source": [
    "**Exercício 1**: calculando quantos números pares temos dentro de uma sequência de números. Siga o algoritmo abaixo:\n",
    "\n",
    "1. crie uma lista de números inteiros aleatórios que você quiser\n",
    "2. selecione a melhor estrutura que aprendemos para iterar nessa lista\n",
    "3. faça testes para checar se o número em questão é par\n",
    "4. caso seja, concatene (+1) a uma variável auxiliar\n",
    "\n",
    "- **dica**: use ```range``` para iterar em uma lista de 0 a 100, descobrindo quantos pares temos nesta lista.\n",
    "- **dica**: Um número será par quando o resto de sua divisão por 2 for 0: use %"
   ]
  },
  {
   "cell_type": "code",
   "execution_count": 1,
   "metadata": {
    "slideshow": {
     "slide_type": "slide"
    }
   },
   "outputs": [
    {
     "name": "stdout",
     "output_type": "stream",
     "text": [
      "Na lista: range(0, 100) foram identificados 50 números pares\n"
     ]
    }
   ],
   "source": [
    "# 1. contador\n",
    "contador_auxiliar = 0\n",
    "\n",
    "# 2. criar uma lista\n",
    "numeros = range(100)\n",
    "\n",
    "# 3. iteração na lista\n",
    "for numero in numeros:\n",
    "    # 4. calcular resto\n",
    "    resto = numero%2\n",
    "    \n",
    "    # 5. testar se é par\n",
    "    if resto == 0:\n",
    "        # temos um numero par!\n",
    "        contador_auxiliar += 1\n",
    "\n",
    "# 6. imprime na tela o resultado    \n",
    "print(f\"Na lista: {numeros} foram identificados {contador_auxiliar} números pares\")"
   ]
  },
  {
   "cell_type": "code",
   "execution_count": null,
   "metadata": {},
   "outputs": [],
   "source": []
  },
  {
   "cell_type": "code",
   "execution_count": null,
   "metadata": {
    "slideshow": {
     "slide_type": "subslide"
    }
   },
   "outputs": [],
   "source": []
  },
  {
   "cell_type": "markdown",
   "metadata": {
    "slideshow": {
     "slide_type": "subslide"
    }
   },
   "source": [
    "**Exercício 2**\n",
    "\n",
    "Passando para algo mais temático, vamos fazer uma série de exercícios em cima de uma lista de espécies (que peguei de um artigo científico para a região sudeste brasileira). Esta lista é fornecida na próxima célula."
   ]
  },
  {
   "cell_type": "code",
   "execution_count": 3,
   "metadata": {
    "slideshow": {
     "slide_type": "skip"
    }
   },
   "outputs": [
    {
     "name": "stdout",
     "output_type": "stream",
     "text": [
      "--2020-11-05 07:08:26--  https://raw.githubusercontent.com/nilodna/python-basico/feature_iojr-shortcourse/dados/lista_de_especies.txt\n",
      "Resolving raw.githubusercontent.com (raw.githubusercontent.com)... 151.101.92.133\n",
      "Connecting to raw.githubusercontent.com (raw.githubusercontent.com)|151.101.92.133|:443... connected.\n",
      "HTTP request sent, awaiting response... 200 OK\n",
      "Length: 6363 (6,2K) [text/plain]\n",
      "Saving to: ‘../dados/lista_de_especies.txt.1’\n",
      "\n",
      "lista_de_especies.t 100%[===================>]   6,21K  --.-KB/s    in 0,001s  \n",
      "\n",
      "2020-11-05 07:08:26 (4,93 MB/s) - ‘../dados/lista_de_especies.txt.1’ saved [6363/6363]\n",
      "\n"
     ]
    }
   ],
   "source": [
    "# codigo para baixar o arquivo, caso você esteja rodando este notebook no Google Colab\n",
    "!wget --directory-prefix=../dados/ https://raw.githubusercontent.com/nilodna/python-basico/feature_iojr-shortcourse/dados/lista_de_especies.txt"
   ]
  },
  {
   "cell_type": "code",
   "execution_count": 1,
   "metadata": {
    "scrolled": true,
    "slideshow": {
     "slide_type": "subslide"
    }
   },
   "outputs": [
    {
     "data": {
      "text/plain": [
       "'Mugil platanus\\nMugil curema\\nMugil gaimardianus\\nTrachinotus marginatus\\nTrachinotus marginatus\\nMugil gaimardianus\\nMugil curema\\nTrachinotus marginatus\\nTrachinotus marginatus\\nMugil curema\\nMugil curema\\nTrachinotus marginatus\\nMugil gaimardianus\\nMenticirrhus littoralis\\nMugil gaimardianus\\nTrachinotus marginatus\\nMugil platanus\\nTrachinotus marginatus\\nMugil curema\\nMugil gaimardianus\\nBrevoortia pectinata\\nMugil curema\\nTrachinotus marginatus\\nMugil platanus\\nMugil platanus\\nMugil gaimardianus\\nMugil platanus\\nMugil gaimardianus\\nMenticirrhus littoralis\\nMugil curema\\nTrachinotus marginatus\\nMugil platanus\\nMenticirrhus littoralis\\nMugil curema\\nMenticirrhus littoralis\\nTrachinotus marginatus\\nMugil platanus\\nMenticirrhus littoralis\\nMugil gaimardianus\\nMugil curema\\nMugil gaimardianus\\nMugil curema\\nMugil platanus\\nTrachinotus marginatus\\nMenticirrhus littoralis\\nMenticirrhus littoralis\\nMugil curema\\nMugil platanus\\nMugil curema\\nOdonthestes bonariensis\\nMenticirrhus littoralis\\nTrachinotus marginatus\\nMugil curema\\nMugil platanus\\nMugil curema\\nMugil curema\\nMugil curema\\nTrachinotus marginatus\\nTrachinotus marginatus\\nMenticirrhus littoralis\\nMenticirrhus littoralis\\nMugil platanus\\nTrachinotus marginatus\\nMugil platanus\\nTrachinotus marginatus\\nTrachinotus marginatus\\nBrevoortia pectinata\\nMenticirrhus littoralis\\nMugil curema\\nMugil gaimardianus\\nMugil platanus\\nTrachinotus marginatus\\nTrachinotus marginatus\\nOdonthestes bonariensis\\nTrachinotus marginatus\\nOdonthestes bonariensis\\nTrachinotus marginatus\\nMenticirrhus littoralis\\nOdonthestes bonariensis\\nMenticirrhus littoralis\\nBrevoortia pectinata\\nTrachinotus marginatus\\nTrachinotus marginatus\\nMugil curema\\nMenticirrhus littoralis\\nMugil gaimardianus\\nTrachinotus marginatus\\nMugil gaimardianus\\nMugil gaimardianus\\nTrachinotus marginatus\\nTrachinotus marginatus\\nMenticirrhus littoralis\\nMugil platanus\\nBrevoortia pectinata\\nMugil platanus\\nTrachinotus marginatus\\nTrachinotus marginatus\\nMenticirrhus littoralis\\nMugil platanus\\nMugil platanus\\nOdonthestes bonariensis\\nMugil platanus\\nOdonthestes bonariensis\\nMenticirrhus littoralis\\nMugil platanus\\nBrevoortia pectinata\\nOdonthestes bonariensis\\nMugil gaimardianus\\nMugil platanus\\nMenticirrhus littoralis\\nOdonthestes bonariensis\\nMugil curema\\nMugil curema\\nMugil platanus\\nTrachinotus marginatus\\nMugil curema\\nMugil curema\\nTrachinotus marginatus\\nMugil platanus\\nMugil curema\\nTrachinotus marginatus\\nOdonthestes bonariensis\\nMugil platanus\\nTrachinotus marginatus\\nMugil platanus\\nBrevoortia pectinata\\nMugil platanus\\nMugil platanus\\nMugil curema\\nTrachinotus marginatus\\nMugil curema\\nMenticirrhus littoralis\\nMugil platanus\\nTrachinotus marginatus\\nTrachinotus marginatus\\nMugil curema\\nMugil platanus\\nOdonthestes bonariensis\\nMenticirrhus littoralis\\nMenticirrhus littoralis\\nMugil platanus\\nTrachinotus marginatus\\nMugil curema\\nOdonthestes bonariensis\\nBrevoortia pectinata\\nTrachinotus marginatus\\nBrevoortia pectinata\\nMugil platanus\\nMugil gaimardianus\\nTrachinotus marginatus\\nMugil curema\\nMugil gaimardianus\\nTrachinotus marginatus\\nTrachinotus marginatus\\nOdonthestes bonariensis\\nMugil platanus\\nMenticirrhus littoralis\\nMenticirrhus littoralis\\nMugil curema\\nMugil gaimardianus\\nMugil curema\\nMugil platanus\\nMugil platanus\\nMugil platanus\\nMugil gaimardianus\\nMugil curema\\nMugil platanus\\nMenticirrhus littoralis\\nMugil platanus\\nMenticirrhus littoralis\\nTrachinotus marginatus\\nMugil curema\\nOdonthestes bonariensis\\nMugil platanus\\nTrachinotus marginatus\\nMugil gaimardianus\\nMenticirrhus littoralis\\nTrachinotus marginatus\\nOdonthestes bonariensis\\nTrachinotus marginatus\\nMugil curema\\nMugil curema\\nMugil curema\\nMugil gaimardianus\\nMugil curema\\nOdonthestes bonariensis\\nMenticirrhus littoralis\\nMenticirrhus littoralis\\nTrachinotus marginatus\\nBrevoortia pectinata\\nMugil platanus\\nMugil platanus\\nBrevoortia pectinata\\nMugil gaimardianus\\nMenticirrhus littoralis\\nMenticirrhus littoralis\\nMenticirrhus littoralis\\nMugil curema\\nTrachinotus marginatus\\nTrachinotus marginatus\\nMugil platanus\\nMugil platanus\\nTrachinotus marginatus\\nMenticirrhus littoralis\\nMugil platanus\\nMugil curema\\nTrachinotus marginatus\\nMugil gaimardianus\\nOdonthestes bonariensis\\nBrevoortia pectinata\\nTrachinotus marginatus\\nMugil platanus\\nMugil gaimardianus\\nTrachinotus marginatus\\nMugil curema\\nTrachinotus marginatus\\nTrachinotus marginatus\\nMugil platanus\\nMugil platanus\\nMugil platanus\\nMugil gaimardianus\\nTrachinotus marginatus\\nTrachinotus marginatus\\nMugil platanus\\nTrachinotus marginatus\\nBrevoortia pectinata\\nTrachinotus marginatus\\nMugil curema\\nTrachinotus marginatus\\nMenticirrhus littoralis\\nMugil gaimardianus\\nMugil platanus\\nTrachinotus marginatus\\nMenticirrhus littoralis\\nTrachinotus marginatus\\nMenticirrhus littoralis\\nMenticirrhus littoralis\\nTrachinotus marginatus\\nMugil platanus\\nMugil platanus\\nOdonthestes bonariensis\\nMugil curema\\nMenticirrhus littoralis\\nOdonthestes bonariensis\\nMugil curema\\nMugil curema\\nTrachinotus marginatus\\nMenticirrhus littoralis\\nMugil platanus\\nBrevoortia pectinata\\nBrevoortia pectinata\\nTrachinotus marginatus\\nOdonthestes bonariensis\\nMugil platanus\\nMenticirrhus littoralis\\nTrachinotus marginatus\\nTrachinotus marginatus\\nTrachinotus marginatus\\nMugil curema\\nMenticirrhus littoralis\\nTrachinotus marginatus\\nMugil platanus\\nBrevoortia pectinata\\nTrachinotus marginatus\\nMugil platanus\\nMugil curema\\nMugil gaimardianus\\nTrachinotus marginatus\\nMugil gaimardianus\\nTrachinotus marginatus\\nMenticirrhus littoralis\\nTrachinotus marginatus\\nMugil platanus\\nOdonthestes bonariensis\\nMugil curema\\nTrachinotus marginatus\\nOdonthestes bonariensis\\nMugil curema\\nMugil curema\\nMugil gaimardianus\\nMugil gaimardianus\\nMugil platanus\\nTrachinotus marginatus\\nTrachinotus marginatus\\nMugil gaimardianus\\nTrachinotus marginatus\\nTrachinotus marginatus\\nTrachinotus marginatus\\nMugil platanus\\nMugil platanus\\nMenticirrhus littoralis\\nOdonthestes bonariensis\\nMugil platanus\\nMugil gaimardianus\\nTrachinotus marginatus\\nMugil platanus\\nOdonthestes bonariensis\\nMugil platanus\\nTrachinotus marginatus\\nMugil platanus\\nMugil curema\\nMugil platanus\\nTrachinotus marginatus\\nTrachinotus marginatus\\nOdonthestes bonariensis\\nMugil curema\\nMenticirrhus littoralis\\nTrachinotus marginatus\\nTrachinotus marginatus\\nOdonthestes bonariensis\\nTrachinotus marginatus\\nMenticirrhus littoralis\\nTrachinotus marginatus\\nMugil gaimardianus\\nMugil curema\\nMenticirrhus littoralis\\nOdonthestes bonariensis\\nMugil gaimardianus\\nTrachinotus marginatus\\nTrachinotus marginatus\\nMenticirrhus littoralis\\nOdonthestes bonariensis\\nMugil curema\\nTrachinotus marginatus\\nMenticirrhus littoralis\\n'"
      ]
     },
     "execution_count": 1,
     "metadata": {},
     "output_type": "execute_result"
    }
   ],
   "source": [
    "# lista aleatória de organismos\n",
    "\n",
    "# vamos abrir um arquivo txt usando a função nativa do python open(). Caso tenha dúvidas de como essa função trabalha, abra uma célula nova e digite open? e rode. Um \n",
    "# pequeno manual da função abrirá para você\n",
    "lista_especies = open('../dados/lista_de_especies.txt', 'r').read()\n",
    "\n",
    "# infelizmente, a função open nos retorna toda uma lista como uma unica string. \n",
    "lista_especies"
   ]
  },
  {
   "cell_type": "code",
   "execution_count": 109,
   "metadata": {
    "scrolled": true,
    "slideshow": {
     "slide_type": "subslide"
    }
   },
   "outputs": [
    {
     "data": {
      "text/plain": [
       "['Mugil platanus',\n",
       " 'Mugil curema',\n",
       " 'Mugil gaimardianus',\n",
       " 'Trachinotus marginatus',\n",
       " 'Trachinotus marginatus',\n",
       " 'Mugil gaimardianus',\n",
       " 'Mugil curema',\n",
       " 'Trachinotus marginatus',\n",
       " 'Trachinotus marginatus',\n",
       " 'Mugil curema',\n",
       " 'Mugil curema',\n",
       " 'Trachinotus marginatus',\n",
       " 'Mugil gaimardianus',\n",
       " 'Menticirrhus littoralis',\n",
       " 'Mugil gaimardianus',\n",
       " 'Trachinotus marginatus',\n",
       " 'Mugil platanus',\n",
       " 'Trachinotus marginatus',\n",
       " 'Mugil curema',\n",
       " 'Mugil gaimardianus',\n",
       " 'Brevoortia pectinata',\n",
       " 'Mugil curema',\n",
       " 'Trachinotus marginatus',\n",
       " 'Mugil platanus',\n",
       " 'Mugil platanus',\n",
       " 'Mugil gaimardianus',\n",
       " 'Mugil platanus',\n",
       " 'Mugil gaimardianus',\n",
       " 'Menticirrhus littoralis',\n",
       " 'Mugil curema',\n",
       " 'Trachinotus marginatus',\n",
       " 'Mugil platanus',\n",
       " 'Menticirrhus littoralis',\n",
       " 'Mugil curema',\n",
       " 'Menticirrhus littoralis',\n",
       " 'Trachinotus marginatus',\n",
       " 'Mugil platanus',\n",
       " 'Menticirrhus littoralis',\n",
       " 'Mugil gaimardianus',\n",
       " 'Mugil curema',\n",
       " 'Mugil gaimardianus',\n",
       " 'Mugil curema',\n",
       " 'Mugil platanus',\n",
       " 'Trachinotus marginatus',\n",
       " 'Menticirrhus littoralis',\n",
       " 'Menticirrhus littoralis',\n",
       " 'Mugil curema',\n",
       " 'Mugil platanus',\n",
       " 'Mugil curema',\n",
       " 'Odonthestes bonariensis',\n",
       " 'Menticirrhus littoralis',\n",
       " 'Trachinotus marginatus',\n",
       " 'Mugil curema',\n",
       " 'Mugil platanus',\n",
       " 'Mugil curema',\n",
       " 'Mugil curema',\n",
       " 'Mugil curema',\n",
       " 'Trachinotus marginatus',\n",
       " 'Trachinotus marginatus',\n",
       " 'Menticirrhus littoralis',\n",
       " 'Menticirrhus littoralis',\n",
       " 'Mugil platanus',\n",
       " 'Trachinotus marginatus',\n",
       " 'Mugil platanus',\n",
       " 'Trachinotus marginatus',\n",
       " 'Trachinotus marginatus',\n",
       " 'Brevoortia pectinata',\n",
       " 'Menticirrhus littoralis',\n",
       " 'Mugil curema',\n",
       " 'Mugil gaimardianus',\n",
       " 'Mugil platanus',\n",
       " 'Trachinotus marginatus',\n",
       " 'Trachinotus marginatus',\n",
       " 'Odonthestes bonariensis',\n",
       " 'Trachinotus marginatus',\n",
       " 'Odonthestes bonariensis',\n",
       " 'Trachinotus marginatus',\n",
       " 'Menticirrhus littoralis',\n",
       " 'Odonthestes bonariensis',\n",
       " 'Menticirrhus littoralis',\n",
       " 'Brevoortia pectinata',\n",
       " 'Trachinotus marginatus',\n",
       " 'Trachinotus marginatus',\n",
       " 'Mugil curema',\n",
       " 'Menticirrhus littoralis',\n",
       " 'Mugil gaimardianus',\n",
       " 'Trachinotus marginatus',\n",
       " 'Mugil gaimardianus',\n",
       " 'Mugil gaimardianus',\n",
       " 'Trachinotus marginatus',\n",
       " 'Trachinotus marginatus',\n",
       " 'Menticirrhus littoralis',\n",
       " 'Mugil platanus',\n",
       " 'Brevoortia pectinata',\n",
       " 'Mugil platanus',\n",
       " 'Trachinotus marginatus',\n",
       " 'Trachinotus marginatus',\n",
       " 'Menticirrhus littoralis',\n",
       " 'Mugil platanus',\n",
       " 'Mugil platanus',\n",
       " 'Odonthestes bonariensis',\n",
       " 'Mugil platanus',\n",
       " 'Odonthestes bonariensis',\n",
       " 'Menticirrhus littoralis',\n",
       " 'Mugil platanus',\n",
       " 'Brevoortia pectinata',\n",
       " 'Odonthestes bonariensis',\n",
       " 'Mugil gaimardianus',\n",
       " 'Mugil platanus',\n",
       " 'Menticirrhus littoralis',\n",
       " 'Odonthestes bonariensis',\n",
       " 'Mugil curema',\n",
       " 'Mugil curema',\n",
       " 'Mugil platanus',\n",
       " 'Trachinotus marginatus',\n",
       " 'Mugil curema',\n",
       " 'Mugil curema',\n",
       " 'Trachinotus marginatus',\n",
       " 'Mugil platanus',\n",
       " 'Mugil curema',\n",
       " 'Trachinotus marginatus',\n",
       " 'Odonthestes bonariensis',\n",
       " 'Mugil platanus',\n",
       " 'Trachinotus marginatus',\n",
       " 'Mugil platanus',\n",
       " 'Brevoortia pectinata',\n",
       " 'Mugil platanus',\n",
       " 'Mugil platanus',\n",
       " 'Mugil curema',\n",
       " 'Trachinotus marginatus',\n",
       " 'Mugil curema',\n",
       " 'Menticirrhus littoralis',\n",
       " 'Mugil platanus',\n",
       " 'Trachinotus marginatus',\n",
       " 'Trachinotus marginatus',\n",
       " 'Mugil curema',\n",
       " 'Mugil platanus',\n",
       " 'Odonthestes bonariensis',\n",
       " 'Menticirrhus littoralis',\n",
       " 'Menticirrhus littoralis',\n",
       " 'Mugil platanus',\n",
       " 'Trachinotus marginatus',\n",
       " 'Mugil curema',\n",
       " 'Odonthestes bonariensis',\n",
       " 'Brevoortia pectinata',\n",
       " 'Trachinotus marginatus',\n",
       " 'Brevoortia pectinata',\n",
       " 'Mugil platanus',\n",
       " 'Mugil gaimardianus',\n",
       " 'Trachinotus marginatus',\n",
       " 'Mugil curema',\n",
       " 'Mugil gaimardianus',\n",
       " 'Trachinotus marginatus',\n",
       " 'Trachinotus marginatus',\n",
       " 'Odonthestes bonariensis',\n",
       " 'Mugil platanus',\n",
       " 'Menticirrhus littoralis',\n",
       " 'Menticirrhus littoralis',\n",
       " 'Mugil curema',\n",
       " 'Mugil gaimardianus',\n",
       " 'Mugil curema',\n",
       " 'Mugil platanus',\n",
       " 'Mugil platanus',\n",
       " 'Mugil platanus',\n",
       " 'Mugil gaimardianus',\n",
       " 'Mugil curema',\n",
       " 'Mugil platanus',\n",
       " 'Menticirrhus littoralis',\n",
       " 'Mugil platanus',\n",
       " 'Menticirrhus littoralis',\n",
       " 'Trachinotus marginatus',\n",
       " 'Mugil curema',\n",
       " 'Odonthestes bonariensis',\n",
       " 'Mugil platanus',\n",
       " 'Trachinotus marginatus',\n",
       " 'Mugil gaimardianus',\n",
       " 'Menticirrhus littoralis',\n",
       " 'Trachinotus marginatus',\n",
       " 'Odonthestes bonariensis',\n",
       " 'Trachinotus marginatus',\n",
       " 'Mugil curema',\n",
       " 'Mugil curema',\n",
       " 'Mugil curema',\n",
       " 'Mugil gaimardianus',\n",
       " 'Mugil curema',\n",
       " 'Odonthestes bonariensis',\n",
       " 'Menticirrhus littoralis',\n",
       " 'Menticirrhus littoralis',\n",
       " 'Trachinotus marginatus',\n",
       " 'Brevoortia pectinata',\n",
       " 'Mugil platanus',\n",
       " 'Mugil platanus',\n",
       " 'Brevoortia pectinata',\n",
       " 'Mugil gaimardianus',\n",
       " 'Menticirrhus littoralis',\n",
       " 'Menticirrhus littoralis',\n",
       " 'Menticirrhus littoralis',\n",
       " 'Mugil curema',\n",
       " 'Trachinotus marginatus',\n",
       " 'Trachinotus marginatus',\n",
       " 'Mugil platanus',\n",
       " 'Mugil platanus',\n",
       " 'Trachinotus marginatus',\n",
       " 'Menticirrhus littoralis',\n",
       " 'Mugil platanus',\n",
       " 'Mugil curema',\n",
       " 'Trachinotus marginatus',\n",
       " 'Mugil gaimardianus',\n",
       " 'Odonthestes bonariensis',\n",
       " 'Brevoortia pectinata',\n",
       " 'Trachinotus marginatus',\n",
       " 'Mugil platanus',\n",
       " 'Mugil gaimardianus',\n",
       " 'Trachinotus marginatus',\n",
       " 'Mugil curema',\n",
       " 'Trachinotus marginatus',\n",
       " 'Trachinotus marginatus',\n",
       " 'Mugil platanus',\n",
       " 'Mugil platanus',\n",
       " 'Mugil platanus',\n",
       " 'Mugil gaimardianus',\n",
       " 'Trachinotus marginatus',\n",
       " 'Trachinotus marginatus',\n",
       " 'Mugil platanus',\n",
       " 'Trachinotus marginatus',\n",
       " 'Brevoortia pectinata',\n",
       " 'Trachinotus marginatus',\n",
       " 'Mugil curema',\n",
       " 'Trachinotus marginatus',\n",
       " 'Menticirrhus littoralis',\n",
       " 'Mugil gaimardianus',\n",
       " 'Mugil platanus',\n",
       " 'Trachinotus marginatus',\n",
       " 'Menticirrhus littoralis',\n",
       " 'Trachinotus marginatus',\n",
       " 'Menticirrhus littoralis',\n",
       " 'Menticirrhus littoralis',\n",
       " 'Trachinotus marginatus',\n",
       " 'Mugil platanus',\n",
       " 'Mugil platanus',\n",
       " 'Odonthestes bonariensis',\n",
       " 'Mugil curema',\n",
       " 'Menticirrhus littoralis',\n",
       " 'Odonthestes bonariensis',\n",
       " 'Mugil curema',\n",
       " 'Mugil curema',\n",
       " 'Trachinotus marginatus',\n",
       " 'Menticirrhus littoralis',\n",
       " 'Mugil platanus',\n",
       " 'Brevoortia pectinata',\n",
       " 'Brevoortia pectinata',\n",
       " 'Trachinotus marginatus',\n",
       " 'Odonthestes bonariensis',\n",
       " 'Mugil platanus',\n",
       " 'Menticirrhus littoralis',\n",
       " 'Trachinotus marginatus',\n",
       " 'Trachinotus marginatus',\n",
       " 'Trachinotus marginatus',\n",
       " 'Mugil curema',\n",
       " 'Menticirrhus littoralis',\n",
       " 'Trachinotus marginatus',\n",
       " 'Mugil platanus',\n",
       " 'Brevoortia pectinata',\n",
       " 'Trachinotus marginatus',\n",
       " 'Mugil platanus',\n",
       " 'Mugil curema',\n",
       " 'Mugil gaimardianus',\n",
       " 'Trachinotus marginatus',\n",
       " 'Mugil gaimardianus',\n",
       " 'Trachinotus marginatus',\n",
       " 'Menticirrhus littoralis',\n",
       " 'Trachinotus marginatus',\n",
       " 'Mugil platanus',\n",
       " 'Odonthestes bonariensis',\n",
       " 'Mugil curema',\n",
       " 'Trachinotus marginatus',\n",
       " 'Odonthestes bonariensis',\n",
       " 'Mugil curema',\n",
       " 'Mugil curema',\n",
       " 'Mugil gaimardianus',\n",
       " 'Mugil gaimardianus',\n",
       " 'Mugil platanus',\n",
       " 'Trachinotus marginatus',\n",
       " 'Trachinotus marginatus',\n",
       " 'Mugil gaimardianus',\n",
       " 'Trachinotus marginatus',\n",
       " 'Trachinotus marginatus',\n",
       " 'Trachinotus marginatus',\n",
       " 'Mugil platanus',\n",
       " 'Mugil platanus',\n",
       " 'Menticirrhus littoralis',\n",
       " 'Odonthestes bonariensis',\n",
       " 'Mugil platanus',\n",
       " 'Mugil gaimardianus',\n",
       " 'Trachinotus marginatus',\n",
       " 'Mugil platanus',\n",
       " 'Odonthestes bonariensis',\n",
       " 'Mugil platanus',\n",
       " 'Trachinotus marginatus',\n",
       " 'Mugil platanus',\n",
       " 'Mugil curema',\n",
       " 'Mugil platanus',\n",
       " 'Trachinotus marginatus',\n",
       " 'Trachinotus marginatus',\n",
       " 'Odonthestes bonariensis',\n",
       " 'Mugil curema',\n",
       " 'Menticirrhus littoralis',\n",
       " 'Trachinotus marginatus',\n",
       " 'Trachinotus marginatus',\n",
       " 'Odonthestes bonariensis',\n",
       " 'Trachinotus marginatus',\n",
       " 'Menticirrhus littoralis',\n",
       " 'Trachinotus marginatus',\n",
       " 'Mugil gaimardianus',\n",
       " 'Mugil curema',\n",
       " 'Menticirrhus littoralis',\n",
       " 'Odonthestes bonariensis',\n",
       " 'Mugil gaimardianus',\n",
       " 'Trachinotus marginatus',\n",
       " 'Trachinotus marginatus',\n",
       " 'Menticirrhus littoralis',\n",
       " 'Odonthestes bonariensis',\n",
       " 'Mugil curema',\n",
       " 'Trachinotus marginatus',\n",
       " 'Menticirrhus littoralis',\n",
       " '']"
      ]
     },
     "execution_count": 109,
     "metadata": {},
     "output_type": "execute_result"
    }
   ],
   "source": [
    "# resolvemos recortando essa string com o método .split() usando um caracter específico\n",
    "lista_especies = lista_especies.split('\\n')\n",
    "\n",
    "# neste caso, \\n representa uma quebra de linha \n",
    "\n",
    "lista_especies"
   ]
  },
  {
   "cell_type": "markdown",
   "metadata": {
    "slideshow": {
     "slide_type": "subslide"
    }
   },
   "source": [
    "Com essa lista, faça:\n",
    "\n",
    "Item 1:\n",
    "1. selecione uma espécie que te atraia mais. Use set() para facilitar a escolha de qual espécie\n",
    "2. conte quantas vezes essa espécie ocorre dentro da lista. Use alguma estrutura de repetição inicialmente"
   ]
  },
  {
   "cell_type": "markdown",
   "metadata": {
    "slideshow": {
     "slide_type": "subslide"
    }
   },
   "source": [
    "Avançando um pouco mais:\n",
    "\n",
    "Item 2:\n",
    "1. selecione mais de uma espécie\n",
    "2. faça a contagem, mas armazenando em um dicionário, onde cada espécie é uma chave\n",
    "\n",
    "Item 3:\n",
    "1. selecione todas as espécies. Use set() para facilitar\n",
    "2. conte todas as espécies e armazene em um dicionário. Use o método .count() das listas para facilitar"
   ]
  },
  {
   "cell_type": "markdown",
   "metadata": {
    "slideshow": {
     "slide_type": "slide"
    }
   },
   "source": [
    "**Prática de Lógica**\n",
    "\n",
    "Este exercício é para quem possui alguma atividade que queira resolver usando python. Caso você não tenha nenhuma atividade ainda, pode escolher alguma coisa aleatória que você deseje fazer aplicando python (se tiver dúvidas, me procure e podemos pensar em algo juntos). A ideia é que este projeto seja desenvolvido ao longo do curso."
   ]
  },
  {
   "cell_type": "markdown",
   "metadata": {
    "slideshow": {
     "slide_type": "subslide"
    }
   },
   "source": [
    "1. Monte, em linhas gerais, uma proposta de como resolver este seu problema usando programação. Não precisa ter uma estrutura python, mas tente estabelecer já de início o que é necessário para que o objetivo seja alcançado.\n",
    "2. Caso sinta-se a vontade para isso, monte um diagrama de blocos. Pode ser mais difícil do que parece, mas vai exercitar a sua mente a resolver o item anterior.\n"
   ]
  }
 ],
 "metadata": {
  "celltoolbar": "Slideshow",
  "kernelspec": {
   "display_name": "Python 3",
   "language": "python",
   "name": "python3"
  },
  "language_info": {
   "codemirror_mode": {
    "name": "ipython",
    "version": 3
   },
   "file_extension": ".py",
   "mimetype": "text/x-python",
   "name": "python",
   "nbconvert_exporter": "python",
   "pygments_lexer": "ipython3",
   "version": "3.7.9"
  }
 },
 "nbformat": 4,
 "nbformat_minor": 4
}
