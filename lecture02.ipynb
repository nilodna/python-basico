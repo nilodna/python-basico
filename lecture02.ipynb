{
 "cells": [
  {
   "cell_type": "markdown",
   "metadata": {},
   "source": [
    "# Aula 2 - Fundamento do Python\n",
    "\n",
    "**O que vamos aprender nesta aula?**\n",
    "\n",
    "- tipos de variáveis\n",
    "- tipos de estruturas de dados\n",
    "- estruturas de repetição (loops) e desvios condicionais (statements)\n",
    "- operadores aritméticos, relacionais/condicionais e lógicos\n",
    "\n",
    "Sugestões:\n",
    "\n",
    "- muitas informações;\n",
    "- anotem dúvidas (que surgirão);\n",
    "- revejam este material no dia seguinte à aula;\n",
    "- pratiquem;\n",
    "- consultem materiais sugeridos;\n",
    "\n",
    "Pratiquem (de novo):\n",
    "- desenvolvimento em programação ocorrerá com prática;\n",
    "- dúvidas? pesquisem e perguntem.\n",
    "\n",
    "Material de apoio para esta aula:\n",
    "\n",
    "- Documentação do python possui um tutorial bem interessante: https://docs.python.org/pt-br/3.7/tutorial/\n",
    "- Convenção de nomes de variáveis e boas normas de programação: https://www.python.org/dev/peps/pep-0008/#naming-conventions\n",
    "- Material sobre estruturas de dados: https://docs.python.org/3/tutorial/datastructures.html"
   ]
  },
  {
   "cell_type": "markdown",
   "metadata": {},
   "source": [
    "## Atribuição (assignment)\n",
    "\n",
    "Dentre todas as linhas de um código, a **atribuição** ocorre talvez em uns 75% (se não mais) linhas deste código. Isto porque este comando é utilizado para inserir um valor à uma variável, ou seja, atribuir um valor a uma variável. Isto independe da variável que estamos definindo, a sintaxe será sempre a mesma. Usamos o operador de atribuição =\n",
    "```python\n",
    "x = 10\n",
    "```\n",
    "\n",
    "Além disso, durante o desenvolvimento de um código, precisaremos sempre comentar algumas informações sobre as ações que o código deve fazer, que tipo de informação deve ser utilizada para que seu código funcione ou simples colocar seu nome no começo do código dizendo que foi você quem fez. Para isso, utiliza-se o símbolo #:\n",
    "\n",
    "```python\n",
    "# isso é um comentário e, portanto, não será rodado pelo pythn\n",
    "```"
   ]
  },
  {
   "cell_type": "markdown",
   "metadata": {},
   "source": [
    "# Variáveis\n",
    "\n",
    "**Tipos de variáveis**\n",
    "\n",
    "- int (integer): valores numérics inteiros\n",
    "\n",
    "    - ```python\n",
    "        x = 3\n",
    "    ```\n",
    "    \n",
    "- float: valores numéricos decimais\n",
    "\n",
    "    - ```python\n",
    "        pi = 3.14\n",
    "    ```\n",
    "    \n",
    "- str: (string): valores textuais (**devem** estar entre aspas, simples ou duplas)\n",
    "\n",
    "    - ```python\n",
    "        PI = \"3.14\"\n",
    "    ```\n",
    "    \n",
    "- bool (boolean): valores binários (True/False ou 1/0)\n",
    "\n",
    "    - ```python\n",
    "        boolean_true = True\n",
    "        ```\n",
    "    - ```python\n",
    "        boolean_false = False\n",
    "        ``` \n",
    "    \n",
    "- complex: números complexos\n",
    "    - ```python\n",
    "        x = 3.14 + ij\n",
    "        ```"
   ]
  },
  {
   "cell_type": "markdown",
   "metadata": {},
   "source": [
    "Alguns exemplos práticos:"
   ]
  },
  {
   "cell_type": "code",
   "execution_count": 11,
   "metadata": {},
   "outputs": [
    {
     "name": "stdout",
     "output_type": "stream",
     "text": [
      "3\n"
     ]
    },
    {
     "data": {
      "text/plain": [
       "int"
      ]
     },
     "execution_count": 11,
     "metadata": {},
     "output_type": "execute_result"
    }
   ],
   "source": [
    "# tudo que vem depois do # é um comentário e não é processado pelo python\n",
    "# integer\n",
    "x = 3\n",
    "\n",
    "# para visualizar o que é a variável, use o print\n",
    "print(x)\n",
    "type(x)"
   ]
  },
  {
   "cell_type": "code",
   "execution_count": 8,
   "metadata": {},
   "outputs": [
    {
     "name": "stdout",
     "output_type": "stream",
     "text": [
      "3.14\n"
     ]
    },
    {
     "data": {
      "text/plain": [
       "float"
      ]
     },
     "execution_count": 8,
     "metadata": {},
     "output_type": "execute_result"
    }
   ],
   "source": [
    "# float\n",
    "pi = 3.14\n",
    "\n",
    "print(pi)\n",
    "type(pi)"
   ]
  },
  {
   "cell_type": "code",
   "execution_count": 7,
   "metadata": {},
   "outputs": [
    {
     "name": "stdout",
     "output_type": "stream",
     "text": [
      "3.14\n"
     ]
    },
    {
     "data": {
      "text/plain": [
       "str"
      ]
     },
     "execution_count": 7,
     "metadata": {},
     "output_type": "execute_result"
    }
   ],
   "source": [
    "# string\n",
    "\n",
    "texto1 = \"3.14\"\n",
    "\n",
    "print(texto1)\n",
    "type(texto1)"
   ]
  },
  {
   "cell_type": "code",
   "execution_count": 10,
   "metadata": {},
   "outputs": [
    {
     "name": "stdout",
     "output_type": "stream",
     "text": [
      "True\n"
     ]
    },
    {
     "data": {
      "text/plain": [
       "bool"
      ]
     },
     "execution_count": 10,
     "metadata": {},
     "output_type": "execute_result"
    }
   ],
   "source": [
    "boolean_true = True\n",
    "boolean_false = False\n",
    "\n",
    "print(boolean_true)\n",
    "type(boolean_true)"
   ]
  },
  {
   "cell_type": "markdown",
   "metadata": {},
   "source": [
    "#### Algumas recomendações\n",
    "\n",
    "- valores booleanos devem ser, obrigatoriamente, com a primeira letra maiúscula (True ou False). Qualquer coisa diferente disso, o python procurará por variáveis com este nome\n",
    "- existe uma convenção para os nomes das variáveis, mas no geral use nomes que expliquem o que a variável é de fato:\n",
    "\n",
    "```python\n",
    "    x = 3.14\n",
    "    pi = 3.14\n",
    "```\n",
    "\n",
    "#### Palavras reservadas\n",
    "\n",
    "- existem palavras **reservadas** no python, que são usadas pela linguagem de programação durante o processamento do código. Exemplos:\n",
    "\n",
    "|   and  |  assert | break | class | continue |\n",
    "|:------:|:-------:|:-----:|:-----:|:--------:|\n",
    "| def    | del     | elif  | else  | except   |\n",
    "| exec   | finally | for   | from  | global   |\n",
    "| if     | import  | in    | is    | lambda   |\n",
    "| not    | or      | pass  | print | raise    |\n",
    "| return | try     | while | enumerate|          |\n",
    "\n",
    "\n",
    "#### Outro grupo de palavras a não serem usadas como \n",
    "\n",
    "|   data  |  float | int | numeric | array ||\n",
    "|:------:|:-------:|:-----:|:-----:|:--------:||\n",
    "| array   | open | range   | type  | write   | zeros |\n",
    "\n",
    "\n",
    "A grande função destas palavras é que elas constituem funções nativas do python, isto é, possuem uma aplicação específica. Veremos ao longo do curso diversos exemplos.\n",
    "\n",
    "Sugestão de leitura para entender a convenção dos nomes das variáveis:\n",
    "\n",
    "https://www.python.org/dev/peps/pep-0008/#naming-conventions"
   ]
  },
  {
   "cell_type": "code",
   "execution_count": 12,
   "metadata": {},
   "outputs": [
    {
     "ename": "NameError",
     "evalue": "name 'true' is not defined",
     "output_type": "error",
     "traceback": [
      "\u001b[0;31m---------------------------------------------------------------------------\u001b[0m",
      "\u001b[0;31mNameError\u001b[0m                                 Traceback (most recent call last)",
      "\u001b[0;32m<ipython-input-12-7641cbde5a69>\u001b[0m in \u001b[0;36m<module>\u001b[0;34m()\u001b[0m\n\u001b[1;32m      1\u001b[0m \u001b[0;31m# tentando atribuir um novo valor booleano, mas com tudo minúsculo\u001b[0m\u001b[0;34m\u001b[0m\u001b[0;34m\u001b[0m\u001b[0;34m\u001b[0m\u001b[0m\n\u001b[0;32m----> 2\u001b[0;31m \u001b[0mboolean_true\u001b[0m \u001b[0;34m=\u001b[0m \u001b[0mtrue\u001b[0m\u001b[0;34m\u001b[0m\u001b[0;34m\u001b[0m\u001b[0m\n\u001b[0m",
      "\u001b[0;31mNameError\u001b[0m: name 'true' is not defined"
     ]
    }
   ],
   "source": [
    "# tentando atribuir um novo valor booleano, mas com tudo minúsculo\n",
    "boolean_true = true"
   ]
  },
  {
   "cell_type": "markdown",
   "metadata": {},
   "source": [
    "### **palavras reservadas - exemplos práticos**"
   ]
  },
  {
   "cell_type": "code",
   "execution_count": 31,
   "metadata": {},
   "outputs": [
    {
     "ename": "SyntaxError",
     "evalue": "can't assign to keyword (<ipython-input-31-07145b54629c>, line 1)",
     "output_type": "error",
     "traceback": [
      "\u001b[0;36m  File \u001b[0;32m\"<ipython-input-31-07145b54629c>\"\u001b[0;36m, line \u001b[0;32m1\u001b[0m\n\u001b[0;31m    True = 'variavel'\u001b[0m\n\u001b[0m                     ^\u001b[0m\n\u001b[0;31mSyntaxError\u001b[0m\u001b[0;31m:\u001b[0m can't assign to keyword\n"
     ]
    }
   ],
   "source": [
    "True = 'variavel'"
   ]
  },
  {
   "cell_type": "code",
   "execution_count": 34,
   "metadata": {},
   "outputs": [
    {
     "ename": "SyntaxError",
     "evalue": "invalid syntax (<ipython-input-34-7c93b721ebd8>, line 1)",
     "output_type": "error",
     "traceback": [
      "\u001b[0;36m  File \u001b[0;32m\"<ipython-input-34-7c93b721ebd8>\"\u001b[0;36m, line \u001b[0;32m1\u001b[0m\n\u001b[0;31m    else = 'senao'\u001b[0m\n\u001b[0m       ^\u001b[0m\n\u001b[0;31mSyntaxError\u001b[0m\u001b[0;31m:\u001b[0m invalid syntax\n"
     ]
    }
   ],
   "source": [
    "else = 'senao'"
   ]
  },
  {
   "cell_type": "code",
   "execution_count": 30,
   "metadata": {},
   "outputs": [
    {
     "name": "stdout",
     "output_type": "stream",
     "text": [
      "variavel\n"
     ]
    }
   ],
   "source": [
    "true = 'variavel'\n",
    "print(true)"
   ]
  },
  {
   "cell_type": "code",
   "execution_count": 13,
   "metadata": {},
   "outputs": [
    {
     "name": "stdout",
     "output_type": "stream",
     "text": [
      "True\n"
     ]
    }
   ],
   "source": [
    "boolean = True # pode ser falso\n",
    "\n",
    "print(boolean)"
   ]
  },
  {
   "cell_type": "markdown",
   "metadata": {},
   "source": [
    "# Operadores básicos\n",
    "\n",
    "Agora que entendemos um pouco sobre variáveis, vamos aprender a usá-las efetivamente para realizar operações. Para isso, precisamos conhecer os símbolos que realizam as operações matemáticas com as nossas variáveis:\n",
    "\n",
    "| Símbolo |      Função      |\n",
    "|:-------:|:----------------:|\n",
    "| +       | adição           |\n",
    "| -       | subtração        |\n",
    "| *       | multiplicação    |\n",
    "| /       | divisão          |\n",
    "| %       | resto da divisão |\n",
    "| **      | potência         |\n",
    "\n",
    "Importante ressaltar que o uso de parênteses determina a ordem que as operações são realizadas.\n",
    "\n",
    "Vejamos alguns exemplos, mas antes:\n",
    "\n",
    "**Nota**: se, quando estiver trabalhando em um IDE ou jupyter notebook, você realizar alguma operação sem atribuir a uma variável, o resultado da operação será impresso na tela."
   ]
  },
  {
   "cell_type": "code",
   "execution_count": 16,
   "metadata": {},
   "outputs": [
    {
     "data": {
      "text/plain": [
       "6.28"
      ]
     },
     "execution_count": 16,
     "metadata": {},
     "output_type": "execute_result"
    }
   ],
   "source": [
    "pi + pi"
   ]
  },
  {
   "cell_type": "code",
   "execution_count": 18,
   "metadata": {},
   "outputs": [
    {
     "data": {
      "text/plain": [
       "6.28"
      ]
     },
     "execution_count": 18,
     "metadata": {},
     "output_type": "execute_result"
    }
   ],
   "source": [
    "2 * pi"
   ]
  },
  {
   "cell_type": "code",
   "execution_count": 21,
   "metadata": {},
   "outputs": [
    {
     "data": {
      "text/plain": [
       "0.9554140127388535"
      ]
     },
     "execution_count": 21,
     "metadata": {},
     "output_type": "execute_result"
    }
   ],
   "source": [
    "# podemos realizar operações com inteiros e decimais:\n",
    "\n",
    "x / pi"
   ]
  },
  {
   "cell_type": "markdown",
   "metadata": {},
   "source": [
    "# Operações com textos\n",
    "\n",
    "Podemos definir uma string de diversas formas. Usando:\n",
    "\n",
    "``` t = 'com aspas simples'```\n",
    "\n",
    "``` t = \"com aspas duplas\"```\n",
    "\n",
    "``` t = \"\"\"com aspas triplas\"\"\"```"
   ]
  },
  {
   "cell_type": "code",
   "execution_count": 40,
   "metadata": {},
   "outputs": [
    {
     "name": "stdout",
     "output_type": "stream",
     "text": [
      "Estamos aprendendo o básico de python\n"
     ]
    }
   ],
   "source": [
    "texto_novo = \"\"\"Estamos aprendendo o básico de python\"\"\"\n",
    "\n",
    "print(texto_novo)"
   ]
  },
  {
   "cell_type": "markdown",
   "metadata": {},
   "source": [
    "Strings podem ser \"fatiadas\" (slice) para selecionarmos caractereses específicos. Isso é feito através do uso de índices:"
   ]
  },
  {
   "cell_type": "code",
   "execution_count": 38,
   "metadata": {},
   "outputs": [
    {
     "data": {
      "text/plain": [
       "'E'"
      ]
     },
     "execution_count": 38,
     "metadata": {},
     "output_type": "execute_result"
    }
   ],
   "source": [
    "# print da primeira letra da nossa string\n",
    "texto_novo[0]"
   ]
  },
  {
   "cell_type": "code",
   "execution_count": 43,
   "metadata": {},
   "outputs": [
    {
     "data": {
      "text/plain": [
       "'python'"
      ]
     },
     "execution_count": 43,
     "metadata": {},
     "output_type": "execute_result"
    }
   ],
   "source": [
    "# print de um pedaço da nossa string\n",
    "texto_novo[31:]"
   ]
  },
  {
   "cell_type": "markdown",
   "metadata": {},
   "source": [
    "Embora possamos acessar os elementos da string, nós **não** podemos substituir algum elemento específico. Se tentarmos, o seguinte erro surgirá:"
   ]
  },
  {
   "cell_type": "code",
   "execution_count": 46,
   "metadata": {},
   "outputs": [
    {
     "ename": "TypeError",
     "evalue": "'str' object does not support item assignment",
     "output_type": "error",
     "traceback": [
      "\u001b[0;31m---------------------------------------------------------------------------\u001b[0m",
      "\u001b[0;31mTypeError\u001b[0m                                 Traceback (most recent call last)",
      "\u001b[0;32m<ipython-input-46-939d1750fc2f>\u001b[0m in \u001b[0;36m<module>\u001b[0;34m()\u001b[0m\n\u001b[0;32m----> 1\u001b[0;31m \u001b[0mtexto_novo\u001b[0m\u001b[0;34m[\u001b[0m\u001b[0;36m0\u001b[0m\u001b[0;34m]\u001b[0m \u001b[0;34m=\u001b[0m \u001b[0;34m'A'\u001b[0m\u001b[0;34m\u001b[0m\u001b[0;34m\u001b[0m\u001b[0m\n\u001b[0m",
      "\u001b[0;31mTypeError\u001b[0m: 'str' object does not support item assignment"
     ]
    }
   ],
   "source": [
    "texto_novo[0] = 'A'"
   ]
  },
  {
   "cell_type": "markdown",
   "metadata": {},
   "source": [
    "Será que conseguimos realizar operações aritméticas com strings?"
   ]
  },
  {
   "cell_type": "code",
   "execution_count": 49,
   "metadata": {},
   "outputs": [
    {
     "data": {
      "text/plain": [
       "'3.143.14'"
      ]
     },
     "execution_count": 49,
     "metadata": {},
     "output_type": "execute_result"
    }
   ],
   "source": [
    "2 * texto1"
   ]
  },
  {
   "cell_type": "markdown",
   "metadata": {},
   "source": [
    "Neste caso, o python é esperto para entender que você deseja multiplicar o texto contido na variável. Mas e se tentar alguma subtração ou adição?"
   ]
  },
  {
   "cell_type": "code",
   "execution_count": 50,
   "metadata": {},
   "outputs": [
    {
     "ename": "TypeError",
     "evalue": "unsupported operand type(s) for +: 'int' and 'str'",
     "output_type": "error",
     "traceback": [
      "\u001b[0;31m---------------------------------------------------------------------------\u001b[0m",
      "\u001b[0;31mTypeError\u001b[0m                                 Traceback (most recent call last)",
      "\u001b[0;32m<ipython-input-50-db293aabfacd>\u001b[0m in \u001b[0;36m<module>\u001b[0;34m()\u001b[0m\n\u001b[0;32m----> 1\u001b[0;31m \u001b[0;36m2\u001b[0m \u001b[0;34m+\u001b[0m \u001b[0mtexto1\u001b[0m\u001b[0;34m\u001b[0m\u001b[0;34m\u001b[0m\u001b[0m\n\u001b[0m",
      "\u001b[0;31mTypeError\u001b[0m: unsupported operand type(s) for +: 'int' and 'str'"
     ]
    }
   ],
   "source": [
    "2 + texto1"
   ]
  },
  {
   "cell_type": "markdown",
   "metadata": {},
   "source": [
    "Ele não realiza, pois somar/subtrair só é permitido entre variáveis que sejam números (inteiros ou decimais) ou textos (strings):"
   ]
  },
  {
   "cell_type": "code",
   "execution_count": 51,
   "metadata": {},
   "outputs": [
    {
     "name": "stdout",
     "output_type": "stream",
     "text": [
      "3.143.14\n",
      "3.143.14\n"
     ]
    }
   ],
   "source": [
    "print(texto1 + texto1)\n",
    "print(2 * texto1)"
   ]
  },
  {
   "cell_type": "markdown",
   "metadata": {},
   "source": [
    "No entanto, se a sua variável contendo um texto representar algum valor numérico (ex: ``` y = '100'```, você pode converter seu texto em valores numéricos e realizar alguma operação:"
   ]
  },
  {
   "cell_type": "code",
   "execution_count": 53,
   "metadata": {},
   "outputs": [
    {
     "name": "stdout",
     "output_type": "stream",
     "text": [
      "103\n",
      "103.0\n"
     ]
    }
   ],
   "source": [
    "y = '100'\n",
    "\n",
    "print(x + int(y))\n",
    "print(x + float(y))"
   ]
  },
  {
   "cell_type": "markdown",
   "metadata": {},
   "source": [
    "No caso acima, realizamos a operação aritmética utilizando duas funções nativas do python que converte nossa variável para o tipo que queremos:\n",
    "\n",
    "- ```int``` \n",
    "- ```float```\n",
    "\n",
    "Isso também serve para ```str``` e ```bool```:"
   ]
  },
  {
   "cell_type": "code",
   "execution_count": 62,
   "metadata": {},
   "outputs": [
    {
     "name": "stdout",
     "output_type": "stream",
     "text": [
      "11\n",
      "True\n"
     ]
    }
   ],
   "source": [
    "print(str(11))\n",
    "print(bool(1))"
   ]
  },
  {
   "cell_type": "markdown",
   "metadata": {},
   "source": [
    "# Estruturas de dados\n",
    "\n",
    "Estrutura de dados são consideradas formas de armazenar uma coleção de variáveis. No python, temos disponíveis três tipos básicos de estruturas, chamadas de: **lists**, **tuples**, **dictionaries** e **sets**.\n",
    "\n",
    "Estes tipos de estruturas colecionam variáveis de forma arbitrária. Isto quer dizer que podemos colocar em uma mesma estrutura diversos tipos de variáveis, inclusive outras estruturas de dados.\n",
    "\n",
    "Porém, cada uma possui suas particularidades e vamos compreender um pouco mais."
   ]
  },
  {
   "cell_type": "markdown",
   "metadata": {},
   "source": [
    "### Listas (list)\n",
    "\n",
    "- cria-se com []\n",
    "\n",
    "```python\n",
    "    lista = ['valor1', 10, 'valor3']\n",
    "```\n",
    "\n",
    "- acesso via indexamento (indexing)\n",
    "\n",
    "```python\n",
    "    lista[0]\n",
    "```\n",
    "\n",
    "- indexação inicia em 0 -> n-1, sendo n a quantidade de elementos\n",
    "\n",
    "- matlab: começa em 1 -> n, então tomem cuidado\n",
    "\n",
    "- indexação funciona com números negativos, pegando a partir o último\n",
    "\n",
    "```python\n",
    "    lista[-1]\n",
    "```\n",
    "- provavelmente a que mais será usada durante o desenvolvimento de um algoritmo"
   ]
  },
  {
   "cell_type": "code",
   "execution_count": 141,
   "metadata": {},
   "outputs": [
    {
     "name": "stdout",
     "output_type": "stream",
     "text": [
      "Nossa lista possui: 3 elementos que são:\n",
      "['primeiro item tem índice 0', 100.1, ['outra lista', 'também rola']]\n"
     ]
    }
   ],
   "source": [
    "# criando uma lista:\n",
    "lista = ['primeiro item tem índice 0', 100.10, ['outra lista', 'também rola']]\n",
    "\n",
    "# tamanho da nossa lista usando a função nativa len, de length:\n",
    "n = len(lista)\n",
    "\n",
    "print(f\"Nossa lista possui: {n} elementos que são:\") # opa, coisa nova!\n",
    "print(lista)"
   ]
  },
  {
   "cell_type": "code",
   "execution_count": 126,
   "metadata": {},
   "outputs": [
    {
     "name": "stdout",
     "output_type": "stream",
     "text": [
      "O primeiro elemento possui índice 0: primeiro item tem índice 0\n"
     ]
    }
   ],
   "source": [
    "print(f\"Qual o índice do primeiro item? {lista[0]}\")"
   ]
  },
  {
   "cell_type": "markdown",
   "metadata": {},
   "source": [
    "#### conseguimos acessar o último elemento usando n? \n",
    "\n",
    "#### Por que não?"
   ]
  },
  {
   "cell_type": "code",
   "execution_count": null,
   "metadata": {},
   "outputs": [],
   "source": [
    "lista[n]"
   ]
  },
  {
   "cell_type": "code",
   "execution_count": 127,
   "metadata": {},
   "outputs": [
    {
     "name": "stdout",
     "output_type": "stream",
     "text": [
      "['primeiro item tem índice 0', 100.1]\n"
     ]
    }
   ],
   "source": [
    "# print dos dois primeiros itens (de 0 a 2, porém 2 não está incluso)\n",
    "print(lista[0:2])"
   ]
  },
  {
   "cell_type": "code",
   "execution_count": 128,
   "metadata": {},
   "outputs": [
    {
     "name": "stdout",
     "output_type": "stream",
     "text": [
      "['primeiro item tem índice 0', 100.1]\n"
     ]
    }
   ],
   "source": [
    "# podemos omitir o 0 neste caso, mas se quisermos a partir do elemento 1, não.\n",
    "print(lista[:2])"
   ]
  },
  {
   "cell_type": "markdown",
   "metadata": {},
   "source": [
    "Podemos substituir elementos, através de seus índices:"
   ]
  },
  {
   "cell_type": "code",
   "execution_count": 85,
   "metadata": {},
   "outputs": [
    {
     "name": "stdout",
     "output_type": "stream",
     "text": [
      "['mudei o valor do primeiro elemento', 100.1, ['outra lista', 'também rola']]\n"
     ]
    }
   ],
   "source": [
    "lista[0] = 'mudei o valor do primeiro elemento'\n",
    "\n",
    "print(lista)"
   ]
  },
  {
   "cell_type": "markdown",
   "metadata": {},
   "source": [
    "Realizar cópia de listas pode parecer algo simples, mas aqui tem uma pegadinha no python.\n",
    "\n",
    "Se fizermos simplesmente uma cópia através da atribuição da nossa lista à uma outra variável:\n",
    "\n",
    "```nova_lista = lista```\n",
    "\n",
    "vamos ter alguns problemas, pois neste caso o python duplicou a lista, mas ambas apontam para a mesma alocação de memória do seu computador. Assim, se fizermos alguma operação na lista nova, esta alteração se reflete na nossa lista original. Vamos ver isso na prática:"
   ]
  },
  {
   "cell_type": "code",
   "execution_count": 86,
   "metadata": {},
   "outputs": [
    {
     "name": "stdout",
     "output_type": "stream",
     "text": [
      "['mudei o valor do primeiro elemento', 100.1, ['outra lista', 'também rola']]\n",
      "['mudei o valor do primeiro elemento', 100.1, ['outra lista', 'também rola']]\n"
     ]
    }
   ],
   "source": [
    "# exemplo de cópia \"rasa\" (shallow copy)\n",
    "nova_lista = lista\n",
    "\n",
    "print(lista)\n",
    "print(nova_lista)"
   ]
  },
  {
   "cell_type": "code",
   "execution_count": 88,
   "metadata": {},
   "outputs": [
    {
     "name": "stdout",
     "output_type": "stream",
     "text": [
      "['primeiro item tem índice 0', 100.1, ['outra lista', 'também rola']]\n",
      "['primeiro item tem índice 0', 100.1, ['outra lista', 'também rola']]\n"
     ]
    }
   ],
   "source": [
    "nova_lista[0] = 'primeiro item tem índice 0'\n",
    "\n",
    "print(lista)\n",
    "print(nova_lista)"
   ]
  },
  {
   "cell_type": "markdown",
   "metadata": {},
   "source": [
    "Para resolver este problema, fazemos uma cópia \"profunda\", forçando o python da seguinte forma:"
   ]
  },
  {
   "cell_type": "code",
   "execution_count": 91,
   "metadata": {},
   "outputs": [
    {
     "name": "stdout",
     "output_type": "stream",
     "text": [
      "['primeiro item tem índice 0', 100.1, ['outra lista', 'também rola']]\n",
      "['mudei o valor do primeiro elemento', 100.1, ['outra lista', 'também rola']]\n"
     ]
    }
   ],
   "source": [
    "# exemplo de cópia profunda (deep copy)\n",
    "nova_lista = lista[:]\n",
    "\n",
    "nova_lista[0] = 'mudei o valor do primeiro elemento'\n",
    "\n",
    "print(lista)\n",
    "print(nova_lista)"
   ]
  },
  {
   "cell_type": "markdown",
   "metadata": {},
   "source": [
    "#### Métodos de listas\n",
    "\n",
    "Vamos falar de alguns métodos muito úteis das nossas listas, mas que funcionamente __somente__ para listas.\n",
    "\n",
    "- **.append(novo_valor)**: para adicionarmos um novo elemento à nossa lista\n",
    "\n",
    "- **.count(valor)**: retorna quantas vezes o elemento enviado como argumento para o método ocorre dentro da lista:\n",
    "\n",
    "- **.insert(arg1, arg2)**: insere um novo valor em uma posição específica da lista. O primeiro argumento é o índice e o segundo o valor\n",
    "\n",
    "- **.sort()**: ordena a lista em ordem crescente. Mas só funciona se tivermos homogeneidade dos tipos de variáveis dentro da lista\n",
    "\n",
    "- **.index()**: retorna o índice do elemento que enviamos como argumento."
   ]
  },
  {
   "cell_type": "code",
   "execution_count": 92,
   "metadata": {},
   "outputs": [
    {
     "name": "stdout",
     "output_type": "stream",
     "text": [
      "['primeiro item tem índice 0', 100.1, ['outra lista', 'também rola'], 'novo valor no final']\n"
     ]
    }
   ],
   "source": [
    "lista.append('novo valor no final')\n",
    "\n",
    "print(lista)"
   ]
  },
  {
   "cell_type": "code",
   "execution_count": 165,
   "metadata": {},
   "outputs": [
    {
     "name": "stdout",
     "output_type": "stream",
     "text": [
      "1\n"
     ]
    }
   ],
   "source": [
    "print(lista.count(100.1))"
   ]
  },
  {
   "cell_type": "code",
   "execution_count": 166,
   "metadata": {},
   "outputs": [
    {
     "name": "stdout",
     "output_type": "stream",
     "text": [
      "[0, 0, 0, 'primeiro item tem índice 0', 100.1, ['outra lista', 'também rola']]\n"
     ]
    }
   ],
   "source": [
    "lista.insert(0,0)\n",
    "print(lista)"
   ]
  },
  {
   "cell_type": "code",
   "execution_count": 167,
   "metadata": {},
   "outputs": [
    {
     "name": "stdout",
     "output_type": "stream",
     "text": [
      "4\n"
     ]
    }
   ],
   "source": [
    "print(lista.index(100.1))"
   ]
  },
  {
   "cell_type": "code",
   "execution_count": 163,
   "metadata": {},
   "outputs": [
    {
     "ename": "TypeError",
     "evalue": "'<' not supported between instances of 'str' and 'int'",
     "output_type": "error",
     "traceback": [
      "\u001b[0;31m---------------------------------------------------------------------------\u001b[0m",
      "\u001b[0;31mTypeError\u001b[0m                                 Traceback (most recent call last)",
      "\u001b[0;32m<ipython-input-163-237225307a4d>\u001b[0m in \u001b[0;36m<module>\u001b[0;34m()\u001b[0m\n\u001b[1;32m      1\u001b[0m \u001b[0;31m# o método .sort() ordena a lista em ordem crescente:\u001b[0m\u001b[0;34m\u001b[0m\u001b[0;34m\u001b[0m\u001b[0;34m\u001b[0m\u001b[0m\n\u001b[1;32m      2\u001b[0m \u001b[0;34m\u001b[0m\u001b[0m\n\u001b[0;32m----> 3\u001b[0;31m \u001b[0mprint\u001b[0m\u001b[0;34m(\u001b[0m\u001b[0mlista\u001b[0m\u001b[0;34m.\u001b[0m\u001b[0msort\u001b[0m\u001b[0;34m(\u001b[0m\u001b[0;34m)\u001b[0m\u001b[0;34m)\u001b[0m\u001b[0;34m\u001b[0m\u001b[0;34m\u001b[0m\u001b[0m\n\u001b[0m",
      "\u001b[0;31mTypeError\u001b[0m: '<' not supported between instances of 'str' and 'int'"
     ]
    }
   ],
   "source": [
    "print(lista.sort())"
   ]
  },
  {
   "cell_type": "markdown",
   "metadata": {},
   "source": [
    "### Tuplas (tuple)\n",
    "\n",
    "- cria-se com ()\n",
    "\n",
    "```python\n",
    "    tupla = (1,2,3, 'texto', ['lista', 'tambem'])\n",
    "```\n",
    "\n",
    "- são imutáveis, isto é, ao contrário das listas não podemos alterar os valores\n",
    "\n",
    "- muito utilizada para transmitir informações estáticas dentro de um código\n",
    "\n",
    "- Ex: coordenadas geográficas para plotar em um mapa."
   ]
  },
  {
   "cell_type": "code",
   "execution_count": 153,
   "metadata": {},
   "outputs": [
    {
     "name": "stdout",
     "output_type": "stream",
     "text": [
      "(-44.460789, -23.006711)\n"
     ]
    }
   ],
   "source": [
    "coords = (-44.460789, -23.006711)\n",
    "\n",
    "print(coords)"
   ]
  },
  {
   "cell_type": "code",
   "execution_count": 154,
   "metadata": {},
   "outputs": [
    {
     "data": {
      "text/plain": [
       "tuple"
      ]
     },
     "execution_count": 154,
     "metadata": {},
     "output_type": "execute_result"
    }
   ],
   "source": [
    "type(coords)"
   ]
  },
  {
   "cell_type": "code",
   "execution_count": 155,
   "metadata": {},
   "outputs": [
    {
     "name": "stdout",
     "output_type": "stream",
     "text": [
      "-44.460789\n"
     ]
    }
   ],
   "source": [
    "print(coords[0])"
   ]
  },
  {
   "cell_type": "code",
   "execution_count": 156,
   "metadata": {},
   "outputs": [
    {
     "ename": "TypeError",
     "evalue": "'tuple' object does not support item assignment",
     "output_type": "error",
     "traceback": [
      "\u001b[0;31m---------------------------------------------------------------------------\u001b[0m",
      "\u001b[0;31mTypeError\u001b[0m                                 Traceback (most recent call last)",
      "\u001b[0;32m<ipython-input-156-107dfc953159>\u001b[0m in \u001b[0;36m<module>\u001b[0;34m()\u001b[0m\n\u001b[0;32m----> 1\u001b[0;31m \u001b[0mtupla\u001b[0m\u001b[0;34m[\u001b[0m\u001b[0;36m0\u001b[0m\u001b[0;34m]\u001b[0m \u001b[0;34m=\u001b[0m \u001b[0;36m0\u001b[0m\u001b[0;34m\u001b[0m\u001b[0;34m\u001b[0m\u001b[0m\n\u001b[0m",
      "\u001b[0;31mTypeError\u001b[0m: 'tuple' object does not support item assignment"
     ]
    }
   ],
   "source": [
    "tupla[0] = 0"
   ]
  },
  {
   "cell_type": "markdown",
   "metadata": {},
   "source": [
    "### Dicionários (dict)\n",
    "\n",
    "- cria-se com {} ou com ```dict```:\n",
    "\n",
    "```python\n",
    "    dicionario = {}\n",
    "    dicionario = dict([(key, value)])\n",
    "```\n",
    "\n",
    "- obrigatório o uso do conceito de chaves e valores\n",
    "\n",
    "- acesso é feito via chaves\n",
    "\n",
    "- as chaves devem ser únicas no dicionário!"
   ]
  },
  {
   "cell_type": "code",
   "execution_count": 139,
   "metadata": {},
   "outputs": [
    {
     "data": {
      "text/plain": [
       "{'nova-chave': ['novo', 'valor', 'aqui']}"
      ]
     },
     "execution_count": 139,
     "metadata": {},
     "output_type": "execute_result"
    }
   ],
   "source": [
    "# criando dicionário da primeira forma\n",
    "dicionario = {}\n",
    "\n",
    "# adicionando informações dentro de um dicionário já existente\n",
    "dicionario['nova-chave'] = ['novo', 'valor', 'aqui']\n",
    "\n",
    "dicionario"
   ]
  },
  {
   "cell_type": "code",
   "execution_count": 152,
   "metadata": {},
   "outputs": [
    {
     "data": {
      "text/plain": [
       "dict"
      ]
     },
     "execution_count": 152,
     "metadata": {},
     "output_type": "execute_result"
    }
   ],
   "source": [
    "type(dicionario)"
   ]
  },
  {
   "cell_type": "markdown",
   "metadata": {},
   "source": [
    "Atribui-se uma chave a um valor, podendo ser qualquer valor (lista, string, tupla, variável).\n",
    "\n",
    "Vamos construir um dicionário utilizando as coordenadas das estaçoes automáticas do CPTEC:"
   ]
  },
  {
   "cell_type": "code",
   "execution_count": 144,
   "metadata": {},
   "outputs": [
    {
     "data": {
      "text/plain": [
       "{'A701': (-23.496294, -46.620088), 'A728': (-23.041668, -45.520841)}"
      ]
     },
     "execution_count": 144,
     "metadata": {},
     "output_type": "execute_result"
    }
   ],
   "source": [
    "# criando dicionário da segunda forma, para duas estações meteorológias do CPTEC e suas coordenadas geográficas\n",
    "estAutomaticas = {\n",
    "    'A701': (-23.496294, -46.620088),\n",
    "    'A728': (-23.041668, -45.520841)\n",
    "}\n",
    "\n",
    "estAutomaticas"
   ]
  },
  {
   "cell_type": "code",
   "execution_count": 151,
   "metadata": {},
   "outputs": [
    {
     "data": {
      "text/plain": [
       "dict"
      ]
     },
     "execution_count": 151,
     "metadata": {},
     "output_type": "execute_result"
    }
   ],
   "source": [
    "type(dicionario2)"
   ]
  },
  {
   "cell_type": "markdown",
   "metadata": {},
   "source": [
    "\n",
    "\n",
    "Pode-se acessar os valores utilizando as chaves:"
   ]
  },
  {
   "cell_type": "code",
   "execution_count": 147,
   "metadata": {},
   "outputs": [
    {
     "name": "stdout",
     "output_type": "stream",
     "text": [
      "(-23.496294, -46.620088)\n"
     ]
    }
   ],
   "source": [
    "print(estAutomaticas['A701'])"
   ]
  },
  {
   "cell_type": "code",
   "execution_count": 148,
   "metadata": {},
   "outputs": [],
   "source": [
    "estAutomaticas['A000'] = (-23.041668, -45.520841)"
   ]
  },
  {
   "cell_type": "code",
   "execution_count": 149,
   "metadata": {},
   "outputs": [
    {
     "data": {
      "text/plain": [
       "dict_keys(['A701', 'A728', 'A000'])"
      ]
     },
     "execution_count": 149,
     "metadata": {},
     "output_type": "execute_result"
    }
   ],
   "source": [
    "estAutomaticas.keys()"
   ]
  },
  {
   "cell_type": "code",
   "execution_count": 157,
   "metadata": {},
   "outputs": [
    {
     "data": {
      "text/plain": [
       "{'A701': (-23.496294, -46.620088),\n",
       " 'A728': (-23.041668, -45.520841),\n",
       " 'A000': (-23.041668, -45.520841)}"
      ]
     },
     "execution_count": 157,
     "metadata": {},
     "output_type": "execute_result"
    }
   ],
   "source": [
    "estAutomaticas. # tab to consult methods available"
   ]
  },
  {
   "cell_type": "code",
   "execution_count": 158,
   "metadata": {},
   "outputs": [
    {
     "data": {
      "text/plain": [
       "dict_items([('A701', (-23.496294, -46.620088)), ('A728', (-23.041668, -45.520841)), ('A000', (-23.041668, -45.520841))])"
      ]
     },
     "execution_count": 158,
     "metadata": {},
     "output_type": "execute_result"
    }
   ],
   "source": [
    "estAutomaticas.items()"
   ]
  },
  {
   "cell_type": "markdown",
   "metadata": {},
   "source": [
    "### Sets\n",
    "\n",
    "Set é uma estrutura de dados não ordenadas e imutáveis sem valores duplicados.\n",
    "\n",
    "- criada com {} ou usando ```set()```:\n",
    "\n",
    "```python\n",
    "    especies = set([...])\n",
    "```"
   ]
  },
  {
   "cell_type": "code",
   "execution_count": 18,
   "metadata": {},
   "outputs": [
    {
     "data": {
      "text/plain": [
       "{0.1, 1, '3', '3.0'}"
      ]
     },
     "execution_count": 18,
     "metadata": {},
     "output_type": "execute_result"
    }
   ],
   "source": [
    "S = set(['3.0', 1, 0.1, '3', 1.0])\n",
    "S"
   ]
  },
  {
   "cell_type": "markdown",
   "metadata": {},
   "source": [
    "Note que:\n",
    "\n",
    "- a ordem foi alterada automaticamente quando criamos o set\n",
    "\n",
    "- veja o que ocorre com os valores duplicados"
   ]
  },
  {
   "cell_type": "markdown",
   "metadata": {},
   "source": [
    "#### Métodos importantes\n",
    "\n",
    "- Podemos usar:\n",
    "    - **.copy()**\n",
    "    - **.add()**\n",
    "    - **.intersection()**\n",
    "    - **.difference()**\n",
    "    - **.clear()**\n",
    "\n",
    "\n",
    "- mais informações sobre set: https://www.python-course.eu/python3_sets_frozensets.php"
   ]
  },
  {
   "cell_type": "code",
   "execution_count": 25,
   "metadata": {},
   "outputs": [
    {
     "data": {
      "text/plain": [
       "{'carpa', 'dourado', 'pintado', 'tilápia'}"
      ]
     },
     "execution_count": 25,
     "metadata": {},
     "output_type": "execute_result"
    }
   ],
   "source": [
    "# criando um set com nomes populares de peixes\n",
    "nomes_populares = set(['tilápia', 'dourado', 'carpa', 'pintado'])\n",
    "nomes_populares"
   ]
  },
  {
   "cell_type": "markdown",
   "metadata": {},
   "source": [
    "Podemos também realizar cópias usando o método ```.copy()```, porém neste caso é feita uma cópia independente, diferente das listas."
   ]
  },
  {
   "cell_type": "code",
   "execution_count": 27,
   "metadata": {},
   "outputs": [
    {
     "data": {
      "text/plain": [
       "{'carpa', 'dourado', 'pintado', 'tilápia'}"
      ]
     },
     "execution_count": 27,
     "metadata": {},
     "output_type": "execute_result"
    }
   ],
   "source": [
    "nomes_populares_copia = nomes_populares.copy()\n",
    "\n",
    "nomes_populares_copia"
   ]
  },
  {
   "cell_type": "markdown",
   "metadata": {},
   "source": [
    "Podemos adicionar novos elementos a um set e a ordenação é feita automaticamente:"
   ]
  },
  {
   "cell_type": "code",
   "execution_count": 31,
   "metadata": {},
   "outputs": [
    {
     "name": "stdout",
     "output_type": "stream",
     "text": [
      "{'carpa', 'dourado', 'pintado', 'tilápia', 'tambaqui'}\n",
      "{'dourado', 'tilápia', 'pintado', 'carpa'}\n"
     ]
    }
   ],
   "source": [
    "# não precisa atribuir à uma variável nova\n",
    "nomes_populares.add('tambaqui')\n",
    "\n",
    "print(nomes_populares)\n",
    "print(nomes_populares_copia)"
   ]
  },
  {
   "cell_type": "markdown",
   "metadata": {},
   "source": [
    "Ainda, podemos descobrir qual a diferença e a intersecção entre dois sets:"
   ]
  },
  {
   "cell_type": "code",
   "execution_count": 32,
   "metadata": {},
   "outputs": [
    {
     "data": {
      "text/plain": [
       "{'tambaqui'}"
      ]
     },
     "execution_count": 32,
     "metadata": {},
     "output_type": "execute_result"
    }
   ],
   "source": [
    "nomes_populares.difference(nomes_populares_copia)"
   ]
  },
  {
   "cell_type": "code",
   "execution_count": 34,
   "metadata": {},
   "outputs": [
    {
     "data": {
      "text/plain": [
       "{'carpa', 'dourado', 'pintado', 'tilápia'}"
      ]
     },
     "execution_count": 34,
     "metadata": {},
     "output_type": "execute_result"
    }
   ],
   "source": [
    "nomes_populares.intersection(nomes_populares_copia)"
   ]
  },
  {
   "cell_type": "markdown",
   "metadata": {},
   "source": [
    "Finalmente, podemos limpar um set com:"
   ]
  },
  {
   "cell_type": "code",
   "execution_count": 35,
   "metadata": {},
   "outputs": [
    {
     "data": {
      "text/plain": [
       "set()"
      ]
     },
     "execution_count": 35,
     "metadata": {},
     "output_type": "execute_result"
    }
   ],
   "source": [
    "nomes_populares_copia.clear()\n",
    "nomes_populares_copia"
   ]
  },
  {
   "cell_type": "markdown",
   "metadata": {},
   "source": [
    "----------"
   ]
  },
  {
   "cell_type": "markdown",
   "metadata": {},
   "source": [
    "# Blocos de código\n",
    "\n",
    "Blocos de código indicam à linguagem de programação instruções que estão dentro ou fora de uma estrutura (repetição, desvios, função, etc). \n",
    "\n",
    "Cada linguagem de programação oferece uma forma de determinar blocos de código, no caso do python usamos a **identação** (4 espaços a esquerda). Isso é muito bom, pois o código fica legível para \"lermos\" mais facilmente.\n",
    "\n",
    "Um exemplo (real):\n",
    "\n",
    "```python\n",
    "# dias para plotar\n",
    "dias = ['2020-01-01', '2020-01-02', '2020-01-03']\n",
    "\n",
    "# loop nos dias\n",
    "for dia in dias:\n",
    "    # condição para plotar apenas dados de 2020\n",
    "    if(dia[:5] == '2020'):\n",
    "        print('Ano de 2020')\n",
    "        ds.isel(time=dia).sst.plot.pcolormesh(x='lon', y='lat')\n",
    "```\n",
    "\n",
    "Percebam que existem dois 3 níveis de identação neste pequeno trecho de código:\n",
    "\n",
    "- nível 1: aonde defino minha lista de dias e começo a definidr meu loop for (vamos entender o que é esse tal loop já já)\n",
    "\n",
    "- nível 2: aonde defino minha condição if (vamos entender em breve)\n",
    "\n",
    "- nível 3: aonde, efetivamente, executamos algum código. No caso seria plotar um mapa de temperatura da superfície do mar que veremos nas próximas semanas como fazer."
   ]
  },
  {
   "cell_type": "code",
   "execution_count": null,
   "metadata": {},
   "outputs": [],
   "source": [
    "# E se errarmos a identação?\n",
    "dias = ['2020-01-01', '2020-01-02', '2020-01-03']\n",
    "\n",
    "for dia in dias:\n",
    "    if(dia[:5] == '2020'):\n",
    "    print(dia)"
   ]
  },
  {
   "cell_type": "markdown",
   "metadata": {},
   "source": [
    "## Estruturas (loops) de repetição\n",
    "\n",
    "Lembrando da última aula, durante a elaboração de um diagrama de blocos, nós vimos que às vezes podemos fazer repetições no código (chamamos de loop), de modo a testar expressões matemáticas até que algo aconteça e possamos sair deste loop.\n",
    "\n",
    "Vamos ver um pouco mais estas estruturas, estes loops, no python.\n",
    "\n",
    "Basicamente, temos 2 tipos (alguns dirão 3) mais utilizados no desenvolvimento em python: **for** e **while** (**while...else**).\n",
    "\n",
    "Entendendo um pouco melhor a sintaxe de cada estrutura:"
   ]
  },
  {
   "cell_type": "markdown",
   "metadata": {},
   "source": [
    "```python\n",
    "    for item in lista:\n",
    "        # serie de códigos que acontecerão enquanto o for estiver ativado\n",
    "        print('estamos dentro de um loop de repetição for')\n",
    "        \n",
    "    while(expressao):\n",
    "        print('estamos dentro de um loop de repetição while')\n",
    "```\n",
    "\n",
    "Note que, para que estruturas de repetição funcionem, precisamos usar duas coisas importantíssimas (e razões de muitos códigos que dão erro):\n",
    "\n",
    "- dois ponto (:) após a definição da expressão\n",
    "\n",
    "- precisamos identar o código que será rodado dentro do loop\n",
    "\n",
    "As duas estruturas são iterativas, isto é, realizam uma sequência de comandos. No entanto, a estrutura **for** nos permite acessar sequencialmente os items de uma lista, sem precisar sabermos o índice deles, e aplicar um determinado código em cima deste valor. Enquanto que a estrutura **while** nos permite rodar o mesmo bloco de código, até que uma condição, uma expressão matemática, seja satisfeita.\n",
    "\n",
    "Exemplos aleatórios:"
   ]
  },
  {
   "cell_type": "code",
   "execution_count": 59,
   "metadata": {},
   "outputs": [
    {
     "name": "stdout",
     "output_type": "stream",
     "text": [
      "estamos\n",
      "na\n",
      "segunda\n",
      "aula\n",
      "do\n",
      "curso\n"
     ]
    }
   ],
   "source": [
    "for x in ['estamos', 'na', 'segunda', 'aula', 'do', 'curso']:\n",
    "    print(x)"
   ]
  },
  {
   "cell_type": "code",
   "execution_count": 60,
   "metadata": {},
   "outputs": [
    {
     "name": "stdout",
     "output_type": "stream",
     "text": [
      "s\n",
      "t\n",
      "r\n",
      "i\n",
      "n\n",
      "g\n"
     ]
    }
   ],
   "source": [
    "string = 'string'\n",
    "for s in string:\n",
    "    print(s)"
   ]
  },
  {
   "cell_type": "markdown",
   "metadata": {},
   "source": [
    "Podemos aplicar um **for** em uma string!\n",
    "\n",
    "![image.png](figures/mind-blow.gif)"
   ]
  },
  {
   "cell_type": "markdown",
   "metadata": {},
   "source": [
    "## Desvios condicionais (statement) \n",
    "\n",
    "Da mesma forma que estruturas de repetição, podemos criar Desvios condicionais que são testes básicos do tipo \"se...senão\" (**if**, **elif**, **else**), que podemos utilizar no código para só fazer determinada ação se uma expressão for verdadeira.\n",
    "\n",
    "A sintaxe básica é:"
   ]
  },
  {
   "cell_type": "markdown",
   "metadata": {},
   "source": [
    "Importante ressaltar que os desvios condicionais podem ser classificados como: simples, compostos e encadeados. No primeiro caso, bastaria utilizarmos:\n",
    "\n",
    "```python\n",
    "if expressao:\n",
    "    print('desvio simples')\n",
    "```\n",
    "\n",
    "Já no segundo caso, precisamos complementar com:\n",
    "\n",
    "```python\n",
    "if expressao:\n",
    "    print('desvio composto')\n",
    "else:\n",
    "    print('expressao não é verdadeira')\n",
    "```\n",
    "\n",
    "Já no terceiro, utilizamos a sintaxe completa do desvio:\n",
    "\n",
    "```python\n",
    "if expressao1:\n",
    "    print('expressao 1 foi atendida')\n",
    "elif expressao2:\n",
    "    print('expressao 2 foi atentida, mas somente porque a primeira não foi')\n",
    "else:\n",
    "    print('nenhuma expressao atendida')\n",
    "```"
   ]
  },
  {
   "cell_type": "markdown",
   "metadata": {},
   "source": [
    "Pratique com a célula abaixo, variando as variáveis ```expressao1``` e ```expressao2``` entre ```True``` e ```False```."
   ]
  },
  {
   "cell_type": "code",
   "execution_count": null,
   "metadata": {},
   "outputs": [],
   "source": [
    "expressao1 = False\n",
    "expressao2 = False\n",
    "\n",
    "if expressao1:\n",
    "    print('expressao 1 foi atendida')\n",
    "elif expressao2:\n",
    "    print('expressao 2 foi atentida, mas somente porque a primeira não foi')\n",
    "else:\n",
    "    print('nenhuma expressao atendida')"
   ]
  },
  {
   "cell_type": "markdown",
   "metadata": {},
   "source": [
    "Da mesma forma que podemos rodar uma estrutura de repetição em uma string, também podemos utilizar os desvios condicionais para pesquisar por sequências específicas de caracteres:"
   ]
  },
  {
   "cell_type": "code",
   "execution_count": 2,
   "metadata": {},
   "outputs": [
    {
     "name": "stdout",
     "output_type": "stream",
     "text": [
      "True\n"
     ]
    }
   ],
   "source": [
    "variavel = 'python'\n",
    "\n",
    "if 'yth' in variavel:\n",
    "    print(True)"
   ]
  },
  {
   "cell_type": "markdown",
   "metadata": {},
   "source": [
    "## Operadores condicionais e lógicos\n",
    "\n",
    "Antes de vermos exemplos práticos destas estruturas, precisamos entender o conceito da expressão matemática que vamos inserir como condição para que o loop rode.\n",
    "\n",
    "Para isso, inserimos novos operadores (**operadores condicionais**):\n",
    "\n",
    "| Símbolo |      Função      |\n",
    "|:-------:|:----------------:|\n",
    "| ==      | igual            |\n",
    "| !=      | diferente        |\n",
    "| >       | maior que        |\n",
    "| <       | menor que        |\n",
    "| >=      | maior ou igual a |\n",
    "| <=      | menor ou igual a |\n",
    "\n",
    "Nós tambéms podemos combinar condições, usando operadores lógicos:\n",
    "\n",
    "- **not**: negação\n",
    "- **and**: conjunção\n",
    "- **or**: disjunção\n",
    "\n",
    "Neste caso, é preciso compreender o que será retornado pelo teste combinado das condições, pois isto pode acarretar em um erro de lógica e seu código não funcionará da forma como você gostaria. \n",
    "\n",
    "| Expressão 1 | operador lógico | Expressão 2 | resultado lógico |\n",
    "|-------------|-----------------|-------------|------------------|\n",
    "| True        | and             | True        | True             |\n",
    "| True        | and             | False       | False            |\n",
    "| False       | and             | True        | False            |\n",
    "| False       | and             | False:      | True             |\n",
    "| True        | or              | True        | True             |\n",
    "| True        | or              | False       | True             |\n",
    "| False       | or              | True        | True             |\n",
    "| False       | or              | False:      | False            |\n",
    "\n",
    "Percebam que o uso correto do operador lógico é de fundamental importância para que possamos ter a combinação correta como resposta deste teste."
   ]
  },
  {
   "cell_type": "code",
   "execution_count": 50,
   "metadata": {},
   "outputs": [
    {
     "data": {
      "text/plain": [
       "False"
      ]
     },
     "execution_count": 50,
     "metadata": {},
     "output_type": "execute_result"
    }
   ],
   "source": [
    "# testando\n",
    "True and False"
   ]
  },
  {
   "cell_type": "markdown",
   "metadata": {},
   "source": [
    "Combinando, agora, os operadores condicionais e lógicos para testes complexos reais, podemos testar:\n",
    "\n",
    "```A é igual a B e C é igual a D?```\n",
    "\n",
    "```python\n",
    "((A==B) and (C==D))\n",
    "```\n",
    "\n",
    "```A é igual a B e C é diferente a D?```\n",
    "\n",
    "```python\n",
    "((A==B) and (C!=D))\n",
    "```"
   ]
  },
  {
   "cell_type": "markdown",
   "metadata": {},
   "source": [
    "## Vamos aos exemplos\n",
    "\n",
    "Agora com essas novas ferramentas em mãos, podemos criar exemplos reais de aplicações das estruturas de repetição!"
   ]
  },
  {
   "cell_type": "markdown",
   "metadata": {},
   "source": [
    "Podemos utilizar a estrutura ```for``` para iterar em uma sequência de números ou variáveis, para realizar alguma ação:"
   ]
  },
  {
   "cell_type": "code",
   "execution_count": 75,
   "metadata": {},
   "outputs": [
    {
     "name": "stdout",
     "output_type": "stream",
     "text": [
      "0\n",
      "1\n",
      "2\n",
      "3\n",
      "4\n",
      "5\n",
      "6\n",
      "7\n",
      "8\n",
      "9\n"
     ]
    }
   ],
   "source": [
    "# nova função nativa: range\n",
    "for i in range(10):\n",
    "    print(i)"
   ]
  },
  {
   "cell_type": "markdown",
   "metadata": {},
   "source": [
    "![image.png](figures/loops-repeticao.png)"
   ]
  },
  {
   "cell_type": "code",
   "execution_count": 80,
   "metadata": {},
   "outputs": [
    {
     "name": "stdout",
     "output_type": "stream",
     "text": [
      "Temperatura da água: 101ºC\n",
      "Hora de adicionar miojo\n"
     ]
    }
   ],
   "source": [
    "ponto_ebulicao = 100 # graus Celsius\n",
    "\n",
    "temperatura_agua = 20 # graus Celsius, temperatura ambiente\n",
    "\n",
    "# enquanto a temperatura da agua for menor ou igual ao ponto de ebulição, continuamos a aquecer\n",
    "# a água.\n",
    "while temperatura_agua <= ponto_ebulicao:\n",
    "    # a expressão acima é o equivalente à pergunta do diagrama \"Ferveu?\"\n",
    "    temperatura_agua += 1\n",
    "\n",
    "print(f\"Temperatura da água: {temperatura_agua}ºC\")\n",
    "print('Hora de adicionar miojo')"
   ]
  },
  {
   "cell_type": "code",
   "execution_count": 93,
   "metadata": {},
   "outputs": [
    {
     "name": "stdout",
     "output_type": "stream",
     "text": [
      "Já se passaram: 1min\n",
      "Já se passaram: 2min\n",
      "Já se passaram: 3min\n",
      "Miojão tá pronto!\n",
      "Tempo necessário: 180s\n"
     ]
    }
   ],
   "source": [
    "# retomando o exemplo da última aula (do miojo):\n",
    "tempo = 0\n",
    "miojo_pronto = False\n",
    "\n",
    "while miojo_pronto != True:\n",
    "    # vamos exibir na tela o tempo passando a cada min:\n",
    "    if(((tempo%60) == 0) and ((tempo/60) != 0)):        \n",
    "        print(f\"Já se passaram: {int(tempo/60)}min\")\n",
    "        \n",
    "    if tempo == 180: # 360 igual a segundos em 3min\n",
    "        miojo_pronto = True\n",
    "        print('Miojão tá pronto!')\n",
    "        \n",
    "        # outra forma de exibir mensagens com variáveis\n",
    "        print('Tempo necessário: {}s'.format(tempo))\n",
    "    else:\n",
    "        # adicionamos um segundo no nosso tempo\n",
    "        tempo += 1"
   ]
  },
  {
   "cell_type": "markdown",
   "metadata": {},
   "source": [
    "Vejam que, para traduzir aquele pequeno trecho do diagrama de blocos, é necessário criar variáveis auxiliares que nos ajudarão a rodar as estruturas de repetição, a iteração em si, etc."
   ]
  },
  {
   "cell_type": "markdown",
   "metadata": {},
   "source": [
    "--------------------------------------------"
   ]
  },
  {
   "cell_type": "markdown",
   "metadata": {},
   "source": [
    "#### Exercício (para casa)\n",
    "\n",
    "Para sairmos um pouco deste monte de teoria, vamos realizar alguns exercícios utilizando o que aprendemos até aqui.\n",
    "\n",
    "**Exercício 1**: vamos exercitar um pouco a lógica de programação calculando quantos números pares temos dentro de uma sequência de números.\n",
    "\n",
    "\n",
    "Começamos pelo mais simples:\n",
    "\n",
    "1. crie uma lista de números inteiros aleatórios que você quiser\n",
    "2. selecione a melhor estrutura que aprendemos para iterar nessa lista\n",
    "3. faça testes para checar se o número em questão é par\n",
    "4. caso seja, concatene +1 a uma variável auxiliar\n",
    "\n",
    "Podemos agorar selecionar uma lista maior. Utilize a função ```range``` para iterar em uma lista de 0 a 100, descobrindo quantos pares temos nesta lista.\n",
    "\n",
    "**dica**:\n",
    "Um número será par quando o resto de sua divisão por 2 for 0. Temos um operador específico para calcular o resto de uma divisão (%), use-o."
   ]
  },
  {
   "cell_type": "markdown",
   "metadata": {},
   "source": [
    "**Exercício 2**\n",
    "\n",
    "Passando para algo mais temático, vamos fazer uma série de exercícios em cima de uma lista de espécies (que peguei de um artigo científico para a região sudeste brasileira). Esta lista é fornecida na próxima célula."
   ]
  },
  {
   "cell_type": "code",
   "execution_count": null,
   "metadata": {},
   "outputs": [],
   "source": [
    "# codigo para baixar o arquivo, caso você esteja rodando este notebook no Google Colab\n",
    "!wget https://raw.githubusercontent.com/nilodna/python-basico/feature_iojr-shortcourse/lista_de_especies.txt"
   ]
  },
  {
   "cell_type": "code",
   "execution_count": 108,
   "metadata": {
    "scrolled": true
   },
   "outputs": [
    {
     "data": {
      "text/plain": [
       "'Mugil platanus\\nMugil curema\\nMugil gaimardianus\\nTrachinotus marginatus\\nTrachinotus marginatus\\nMugil gaimardianus\\nMugil curema\\nTrachinotus marginatus\\nTrachinotus marginatus\\nMugil curema\\nMugil curema\\nTrachinotus marginatus\\nMugil gaimardianus\\nMenticirrhus littoralis\\nMugil gaimardianus\\nTrachinotus marginatus\\nMugil platanus\\nTrachinotus marginatus\\nMugil curema\\nMugil gaimardianus\\nBrevoortia pectinata\\nMugil curema\\nTrachinotus marginatus\\nMugil platanus\\nMugil platanus\\nMugil gaimardianus\\nMugil platanus\\nMugil gaimardianus\\nMenticirrhus littoralis\\nMugil curema\\nTrachinotus marginatus\\nMugil platanus\\nMenticirrhus littoralis\\nMugil curema\\nMenticirrhus littoralis\\nTrachinotus marginatus\\nMugil platanus\\nMenticirrhus littoralis\\nMugil gaimardianus\\nMugil curema\\nMugil gaimardianus\\nMugil curema\\nMugil platanus\\nTrachinotus marginatus\\nMenticirrhus littoralis\\nMenticirrhus littoralis\\nMugil curema\\nMugil platanus\\nMugil curema\\nOdonthestes bonariensis\\nMenticirrhus littoralis\\nTrachinotus marginatus\\nMugil curema\\nMugil platanus\\nMugil curema\\nMugil curema\\nMugil curema\\nTrachinotus marginatus\\nTrachinotus marginatus\\nMenticirrhus littoralis\\nMenticirrhus littoralis\\nMugil platanus\\nTrachinotus marginatus\\nMugil platanus\\nTrachinotus marginatus\\nTrachinotus marginatus\\nBrevoortia pectinata\\nMenticirrhus littoralis\\nMugil curema\\nMugil gaimardianus\\nMugil platanus\\nTrachinotus marginatus\\nTrachinotus marginatus\\nOdonthestes bonariensis\\nTrachinotus marginatus\\nOdonthestes bonariensis\\nTrachinotus marginatus\\nMenticirrhus littoralis\\nOdonthestes bonariensis\\nMenticirrhus littoralis\\nBrevoortia pectinata\\nTrachinotus marginatus\\nTrachinotus marginatus\\nMugil curema\\nMenticirrhus littoralis\\nMugil gaimardianus\\nTrachinotus marginatus\\nMugil gaimardianus\\nMugil gaimardianus\\nTrachinotus marginatus\\nTrachinotus marginatus\\nMenticirrhus littoralis\\nMugil platanus\\nBrevoortia pectinata\\nMugil platanus\\nTrachinotus marginatus\\nTrachinotus marginatus\\nMenticirrhus littoralis\\nMugil platanus\\nMugil platanus\\nOdonthestes bonariensis\\nMugil platanus\\nOdonthestes bonariensis\\nMenticirrhus littoralis\\nMugil platanus\\nBrevoortia pectinata\\nOdonthestes bonariensis\\nMugil gaimardianus\\nMugil platanus\\nMenticirrhus littoralis\\nOdonthestes bonariensis\\nMugil curema\\nMugil curema\\nMugil platanus\\nTrachinotus marginatus\\nMugil curema\\nMugil curema\\nTrachinotus marginatus\\nMugil platanus\\nMugil curema\\nTrachinotus marginatus\\nOdonthestes bonariensis\\nMugil platanus\\nTrachinotus marginatus\\nMugil platanus\\nBrevoortia pectinata\\nMugil platanus\\nMugil platanus\\nMugil curema\\nTrachinotus marginatus\\nMugil curema\\nMenticirrhus littoralis\\nMugil platanus\\nTrachinotus marginatus\\nTrachinotus marginatus\\nMugil curema\\nMugil platanus\\nOdonthestes bonariensis\\nMenticirrhus littoralis\\nMenticirrhus littoralis\\nMugil platanus\\nTrachinotus marginatus\\nMugil curema\\nOdonthestes bonariensis\\nBrevoortia pectinata\\nTrachinotus marginatus\\nBrevoortia pectinata\\nMugil platanus\\nMugil gaimardianus\\nTrachinotus marginatus\\nMugil curema\\nMugil gaimardianus\\nTrachinotus marginatus\\nTrachinotus marginatus\\nOdonthestes bonariensis\\nMugil platanus\\nMenticirrhus littoralis\\nMenticirrhus littoralis\\nMugil curema\\nMugil gaimardianus\\nMugil curema\\nMugil platanus\\nMugil platanus\\nMugil platanus\\nMugil gaimardianus\\nMugil curema\\nMugil platanus\\nMenticirrhus littoralis\\nMugil platanus\\nMenticirrhus littoralis\\nTrachinotus marginatus\\nMugil curema\\nOdonthestes bonariensis\\nMugil platanus\\nTrachinotus marginatus\\nMugil gaimardianus\\nMenticirrhus littoralis\\nTrachinotus marginatus\\nOdonthestes bonariensis\\nTrachinotus marginatus\\nMugil curema\\nMugil curema\\nMugil curema\\nMugil gaimardianus\\nMugil curema\\nOdonthestes bonariensis\\nMenticirrhus littoralis\\nMenticirrhus littoralis\\nTrachinotus marginatus\\nBrevoortia pectinata\\nMugil platanus\\nMugil platanus\\nBrevoortia pectinata\\nMugil gaimardianus\\nMenticirrhus littoralis\\nMenticirrhus littoralis\\nMenticirrhus littoralis\\nMugil curema\\nTrachinotus marginatus\\nTrachinotus marginatus\\nMugil platanus\\nMugil platanus\\nTrachinotus marginatus\\nMenticirrhus littoralis\\nMugil platanus\\nMugil curema\\nTrachinotus marginatus\\nMugil gaimardianus\\nOdonthestes bonariensis\\nBrevoortia pectinata\\nTrachinotus marginatus\\nMugil platanus\\nMugil gaimardianus\\nTrachinotus marginatus\\nMugil curema\\nTrachinotus marginatus\\nTrachinotus marginatus\\nMugil platanus\\nMugil platanus\\nMugil platanus\\nMugil gaimardianus\\nTrachinotus marginatus\\nTrachinotus marginatus\\nMugil platanus\\nTrachinotus marginatus\\nBrevoortia pectinata\\nTrachinotus marginatus\\nMugil curema\\nTrachinotus marginatus\\nMenticirrhus littoralis\\nMugil gaimardianus\\nMugil platanus\\nTrachinotus marginatus\\nMenticirrhus littoralis\\nTrachinotus marginatus\\nMenticirrhus littoralis\\nMenticirrhus littoralis\\nTrachinotus marginatus\\nMugil platanus\\nMugil platanus\\nOdonthestes bonariensis\\nMugil curema\\nMenticirrhus littoralis\\nOdonthestes bonariensis\\nMugil curema\\nMugil curema\\nTrachinotus marginatus\\nMenticirrhus littoralis\\nMugil platanus\\nBrevoortia pectinata\\nBrevoortia pectinata\\nTrachinotus marginatus\\nOdonthestes bonariensis\\nMugil platanus\\nMenticirrhus littoralis\\nTrachinotus marginatus\\nTrachinotus marginatus\\nTrachinotus marginatus\\nMugil curema\\nMenticirrhus littoralis\\nTrachinotus marginatus\\nMugil platanus\\nBrevoortia pectinata\\nTrachinotus marginatus\\nMugil platanus\\nMugil curema\\nMugil gaimardianus\\nTrachinotus marginatus\\nMugil gaimardianus\\nTrachinotus marginatus\\nMenticirrhus littoralis\\nTrachinotus marginatus\\nMugil platanus\\nOdonthestes bonariensis\\nMugil curema\\nTrachinotus marginatus\\nOdonthestes bonariensis\\nMugil curema\\nMugil curema\\nMugil gaimardianus\\nMugil gaimardianus\\nMugil platanus\\nTrachinotus marginatus\\nTrachinotus marginatus\\nMugil gaimardianus\\nTrachinotus marginatus\\nTrachinotus marginatus\\nTrachinotus marginatus\\nMugil platanus\\nMugil platanus\\nMenticirrhus littoralis\\nOdonthestes bonariensis\\nMugil platanus\\nMugil gaimardianus\\nTrachinotus marginatus\\nMugil platanus\\nOdonthestes bonariensis\\nMugil platanus\\nTrachinotus marginatus\\nMugil platanus\\nMugil curema\\nMugil platanus\\nTrachinotus marginatus\\nTrachinotus marginatus\\nOdonthestes bonariensis\\nMugil curema\\nMenticirrhus littoralis\\nTrachinotus marginatus\\nTrachinotus marginatus\\nOdonthestes bonariensis\\nTrachinotus marginatus\\nMenticirrhus littoralis\\nTrachinotus marginatus\\nMugil gaimardianus\\nMugil curema\\nMenticirrhus littoralis\\nOdonthestes bonariensis\\nMugil gaimardianus\\nTrachinotus marginatus\\nTrachinotus marginatus\\nMenticirrhus littoralis\\nOdonthestes bonariensis\\nMugil curema\\nTrachinotus marginatus\\nMenticirrhus littoralis\\n'"
      ]
     },
     "execution_count": 108,
     "metadata": {},
     "output_type": "execute_result"
    }
   ],
   "source": [
    "# lista aleatória de organismos\n",
    "\n",
    "# vamos abrir um arquivo txt usando a função nativa do python open(). Caso tenha dúvidas de como essa função trabalha, abra uma célula nova e digite open? e rode. Um \n",
    "# pequeno manual da função abrirá para você\n",
    "lista_especies = open('lista_de_especies.txt', 'r').read()\n",
    "\n",
    "# infelizmente, a função open nos retorna toda uma lista como uma unica string. \n",
    "lista_especies"
   ]
  },
  {
   "cell_type": "code",
   "execution_count": 109,
   "metadata": {
    "scrolled": true
   },
   "outputs": [
    {
     "data": {
      "text/plain": [
       "['Mugil platanus',\n",
       " 'Mugil curema',\n",
       " 'Mugil gaimardianus',\n",
       " 'Trachinotus marginatus',\n",
       " 'Trachinotus marginatus',\n",
       " 'Mugil gaimardianus',\n",
       " 'Mugil curema',\n",
       " 'Trachinotus marginatus',\n",
       " 'Trachinotus marginatus',\n",
       " 'Mugil curema',\n",
       " 'Mugil curema',\n",
       " 'Trachinotus marginatus',\n",
       " 'Mugil gaimardianus',\n",
       " 'Menticirrhus littoralis',\n",
       " 'Mugil gaimardianus',\n",
       " 'Trachinotus marginatus',\n",
       " 'Mugil platanus',\n",
       " 'Trachinotus marginatus',\n",
       " 'Mugil curema',\n",
       " 'Mugil gaimardianus',\n",
       " 'Brevoortia pectinata',\n",
       " 'Mugil curema',\n",
       " 'Trachinotus marginatus',\n",
       " 'Mugil platanus',\n",
       " 'Mugil platanus',\n",
       " 'Mugil gaimardianus',\n",
       " 'Mugil platanus',\n",
       " 'Mugil gaimardianus',\n",
       " 'Menticirrhus littoralis',\n",
       " 'Mugil curema',\n",
       " 'Trachinotus marginatus',\n",
       " 'Mugil platanus',\n",
       " 'Menticirrhus littoralis',\n",
       " 'Mugil curema',\n",
       " 'Menticirrhus littoralis',\n",
       " 'Trachinotus marginatus',\n",
       " 'Mugil platanus',\n",
       " 'Menticirrhus littoralis',\n",
       " 'Mugil gaimardianus',\n",
       " 'Mugil curema',\n",
       " 'Mugil gaimardianus',\n",
       " 'Mugil curema',\n",
       " 'Mugil platanus',\n",
       " 'Trachinotus marginatus',\n",
       " 'Menticirrhus littoralis',\n",
       " 'Menticirrhus littoralis',\n",
       " 'Mugil curema',\n",
       " 'Mugil platanus',\n",
       " 'Mugil curema',\n",
       " 'Odonthestes bonariensis',\n",
       " 'Menticirrhus littoralis',\n",
       " 'Trachinotus marginatus',\n",
       " 'Mugil curema',\n",
       " 'Mugil platanus',\n",
       " 'Mugil curema',\n",
       " 'Mugil curema',\n",
       " 'Mugil curema',\n",
       " 'Trachinotus marginatus',\n",
       " 'Trachinotus marginatus',\n",
       " 'Menticirrhus littoralis',\n",
       " 'Menticirrhus littoralis',\n",
       " 'Mugil platanus',\n",
       " 'Trachinotus marginatus',\n",
       " 'Mugil platanus',\n",
       " 'Trachinotus marginatus',\n",
       " 'Trachinotus marginatus',\n",
       " 'Brevoortia pectinata',\n",
       " 'Menticirrhus littoralis',\n",
       " 'Mugil curema',\n",
       " 'Mugil gaimardianus',\n",
       " 'Mugil platanus',\n",
       " 'Trachinotus marginatus',\n",
       " 'Trachinotus marginatus',\n",
       " 'Odonthestes bonariensis',\n",
       " 'Trachinotus marginatus',\n",
       " 'Odonthestes bonariensis',\n",
       " 'Trachinotus marginatus',\n",
       " 'Menticirrhus littoralis',\n",
       " 'Odonthestes bonariensis',\n",
       " 'Menticirrhus littoralis',\n",
       " 'Brevoortia pectinata',\n",
       " 'Trachinotus marginatus',\n",
       " 'Trachinotus marginatus',\n",
       " 'Mugil curema',\n",
       " 'Menticirrhus littoralis',\n",
       " 'Mugil gaimardianus',\n",
       " 'Trachinotus marginatus',\n",
       " 'Mugil gaimardianus',\n",
       " 'Mugil gaimardianus',\n",
       " 'Trachinotus marginatus',\n",
       " 'Trachinotus marginatus',\n",
       " 'Menticirrhus littoralis',\n",
       " 'Mugil platanus',\n",
       " 'Brevoortia pectinata',\n",
       " 'Mugil platanus',\n",
       " 'Trachinotus marginatus',\n",
       " 'Trachinotus marginatus',\n",
       " 'Menticirrhus littoralis',\n",
       " 'Mugil platanus',\n",
       " 'Mugil platanus',\n",
       " 'Odonthestes bonariensis',\n",
       " 'Mugil platanus',\n",
       " 'Odonthestes bonariensis',\n",
       " 'Menticirrhus littoralis',\n",
       " 'Mugil platanus',\n",
       " 'Brevoortia pectinata',\n",
       " 'Odonthestes bonariensis',\n",
       " 'Mugil gaimardianus',\n",
       " 'Mugil platanus',\n",
       " 'Menticirrhus littoralis',\n",
       " 'Odonthestes bonariensis',\n",
       " 'Mugil curema',\n",
       " 'Mugil curema',\n",
       " 'Mugil platanus',\n",
       " 'Trachinotus marginatus',\n",
       " 'Mugil curema',\n",
       " 'Mugil curema',\n",
       " 'Trachinotus marginatus',\n",
       " 'Mugil platanus',\n",
       " 'Mugil curema',\n",
       " 'Trachinotus marginatus',\n",
       " 'Odonthestes bonariensis',\n",
       " 'Mugil platanus',\n",
       " 'Trachinotus marginatus',\n",
       " 'Mugil platanus',\n",
       " 'Brevoortia pectinata',\n",
       " 'Mugil platanus',\n",
       " 'Mugil platanus',\n",
       " 'Mugil curema',\n",
       " 'Trachinotus marginatus',\n",
       " 'Mugil curema',\n",
       " 'Menticirrhus littoralis',\n",
       " 'Mugil platanus',\n",
       " 'Trachinotus marginatus',\n",
       " 'Trachinotus marginatus',\n",
       " 'Mugil curema',\n",
       " 'Mugil platanus',\n",
       " 'Odonthestes bonariensis',\n",
       " 'Menticirrhus littoralis',\n",
       " 'Menticirrhus littoralis',\n",
       " 'Mugil platanus',\n",
       " 'Trachinotus marginatus',\n",
       " 'Mugil curema',\n",
       " 'Odonthestes bonariensis',\n",
       " 'Brevoortia pectinata',\n",
       " 'Trachinotus marginatus',\n",
       " 'Brevoortia pectinata',\n",
       " 'Mugil platanus',\n",
       " 'Mugil gaimardianus',\n",
       " 'Trachinotus marginatus',\n",
       " 'Mugil curema',\n",
       " 'Mugil gaimardianus',\n",
       " 'Trachinotus marginatus',\n",
       " 'Trachinotus marginatus',\n",
       " 'Odonthestes bonariensis',\n",
       " 'Mugil platanus',\n",
       " 'Menticirrhus littoralis',\n",
       " 'Menticirrhus littoralis',\n",
       " 'Mugil curema',\n",
       " 'Mugil gaimardianus',\n",
       " 'Mugil curema',\n",
       " 'Mugil platanus',\n",
       " 'Mugil platanus',\n",
       " 'Mugil platanus',\n",
       " 'Mugil gaimardianus',\n",
       " 'Mugil curema',\n",
       " 'Mugil platanus',\n",
       " 'Menticirrhus littoralis',\n",
       " 'Mugil platanus',\n",
       " 'Menticirrhus littoralis',\n",
       " 'Trachinotus marginatus',\n",
       " 'Mugil curema',\n",
       " 'Odonthestes bonariensis',\n",
       " 'Mugil platanus',\n",
       " 'Trachinotus marginatus',\n",
       " 'Mugil gaimardianus',\n",
       " 'Menticirrhus littoralis',\n",
       " 'Trachinotus marginatus',\n",
       " 'Odonthestes bonariensis',\n",
       " 'Trachinotus marginatus',\n",
       " 'Mugil curema',\n",
       " 'Mugil curema',\n",
       " 'Mugil curema',\n",
       " 'Mugil gaimardianus',\n",
       " 'Mugil curema',\n",
       " 'Odonthestes bonariensis',\n",
       " 'Menticirrhus littoralis',\n",
       " 'Menticirrhus littoralis',\n",
       " 'Trachinotus marginatus',\n",
       " 'Brevoortia pectinata',\n",
       " 'Mugil platanus',\n",
       " 'Mugil platanus',\n",
       " 'Brevoortia pectinata',\n",
       " 'Mugil gaimardianus',\n",
       " 'Menticirrhus littoralis',\n",
       " 'Menticirrhus littoralis',\n",
       " 'Menticirrhus littoralis',\n",
       " 'Mugil curema',\n",
       " 'Trachinotus marginatus',\n",
       " 'Trachinotus marginatus',\n",
       " 'Mugil platanus',\n",
       " 'Mugil platanus',\n",
       " 'Trachinotus marginatus',\n",
       " 'Menticirrhus littoralis',\n",
       " 'Mugil platanus',\n",
       " 'Mugil curema',\n",
       " 'Trachinotus marginatus',\n",
       " 'Mugil gaimardianus',\n",
       " 'Odonthestes bonariensis',\n",
       " 'Brevoortia pectinata',\n",
       " 'Trachinotus marginatus',\n",
       " 'Mugil platanus',\n",
       " 'Mugil gaimardianus',\n",
       " 'Trachinotus marginatus',\n",
       " 'Mugil curema',\n",
       " 'Trachinotus marginatus',\n",
       " 'Trachinotus marginatus',\n",
       " 'Mugil platanus',\n",
       " 'Mugil platanus',\n",
       " 'Mugil platanus',\n",
       " 'Mugil gaimardianus',\n",
       " 'Trachinotus marginatus',\n",
       " 'Trachinotus marginatus',\n",
       " 'Mugil platanus',\n",
       " 'Trachinotus marginatus',\n",
       " 'Brevoortia pectinata',\n",
       " 'Trachinotus marginatus',\n",
       " 'Mugil curema',\n",
       " 'Trachinotus marginatus',\n",
       " 'Menticirrhus littoralis',\n",
       " 'Mugil gaimardianus',\n",
       " 'Mugil platanus',\n",
       " 'Trachinotus marginatus',\n",
       " 'Menticirrhus littoralis',\n",
       " 'Trachinotus marginatus',\n",
       " 'Menticirrhus littoralis',\n",
       " 'Menticirrhus littoralis',\n",
       " 'Trachinotus marginatus',\n",
       " 'Mugil platanus',\n",
       " 'Mugil platanus',\n",
       " 'Odonthestes bonariensis',\n",
       " 'Mugil curema',\n",
       " 'Menticirrhus littoralis',\n",
       " 'Odonthestes bonariensis',\n",
       " 'Mugil curema',\n",
       " 'Mugil curema',\n",
       " 'Trachinotus marginatus',\n",
       " 'Menticirrhus littoralis',\n",
       " 'Mugil platanus',\n",
       " 'Brevoortia pectinata',\n",
       " 'Brevoortia pectinata',\n",
       " 'Trachinotus marginatus',\n",
       " 'Odonthestes bonariensis',\n",
       " 'Mugil platanus',\n",
       " 'Menticirrhus littoralis',\n",
       " 'Trachinotus marginatus',\n",
       " 'Trachinotus marginatus',\n",
       " 'Trachinotus marginatus',\n",
       " 'Mugil curema',\n",
       " 'Menticirrhus littoralis',\n",
       " 'Trachinotus marginatus',\n",
       " 'Mugil platanus',\n",
       " 'Brevoortia pectinata',\n",
       " 'Trachinotus marginatus',\n",
       " 'Mugil platanus',\n",
       " 'Mugil curema',\n",
       " 'Mugil gaimardianus',\n",
       " 'Trachinotus marginatus',\n",
       " 'Mugil gaimardianus',\n",
       " 'Trachinotus marginatus',\n",
       " 'Menticirrhus littoralis',\n",
       " 'Trachinotus marginatus',\n",
       " 'Mugil platanus',\n",
       " 'Odonthestes bonariensis',\n",
       " 'Mugil curema',\n",
       " 'Trachinotus marginatus',\n",
       " 'Odonthestes bonariensis',\n",
       " 'Mugil curema',\n",
       " 'Mugil curema',\n",
       " 'Mugil gaimardianus',\n",
       " 'Mugil gaimardianus',\n",
       " 'Mugil platanus',\n",
       " 'Trachinotus marginatus',\n",
       " 'Trachinotus marginatus',\n",
       " 'Mugil gaimardianus',\n",
       " 'Trachinotus marginatus',\n",
       " 'Trachinotus marginatus',\n",
       " 'Trachinotus marginatus',\n",
       " 'Mugil platanus',\n",
       " 'Mugil platanus',\n",
       " 'Menticirrhus littoralis',\n",
       " 'Odonthestes bonariensis',\n",
       " 'Mugil platanus',\n",
       " 'Mugil gaimardianus',\n",
       " 'Trachinotus marginatus',\n",
       " 'Mugil platanus',\n",
       " 'Odonthestes bonariensis',\n",
       " 'Mugil platanus',\n",
       " 'Trachinotus marginatus',\n",
       " 'Mugil platanus',\n",
       " 'Mugil curema',\n",
       " 'Mugil platanus',\n",
       " 'Trachinotus marginatus',\n",
       " 'Trachinotus marginatus',\n",
       " 'Odonthestes bonariensis',\n",
       " 'Mugil curema',\n",
       " 'Menticirrhus littoralis',\n",
       " 'Trachinotus marginatus',\n",
       " 'Trachinotus marginatus',\n",
       " 'Odonthestes bonariensis',\n",
       " 'Trachinotus marginatus',\n",
       " 'Menticirrhus littoralis',\n",
       " 'Trachinotus marginatus',\n",
       " 'Mugil gaimardianus',\n",
       " 'Mugil curema',\n",
       " 'Menticirrhus littoralis',\n",
       " 'Odonthestes bonariensis',\n",
       " 'Mugil gaimardianus',\n",
       " 'Trachinotus marginatus',\n",
       " 'Trachinotus marginatus',\n",
       " 'Menticirrhus littoralis',\n",
       " 'Odonthestes bonariensis',\n",
       " 'Mugil curema',\n",
       " 'Trachinotus marginatus',\n",
       " 'Menticirrhus littoralis',\n",
       " '']"
      ]
     },
     "execution_count": 109,
     "metadata": {},
     "output_type": "execute_result"
    }
   ],
   "source": [
    "# resolvemos recortando essa string com o método .split() usando um caracter específico\n",
    "lista_especies = lista_especies.split('\\n')\n",
    "\n",
    "# neste caso, \\n representa uma quebra de linha \n",
    "\n",
    "lista_especies"
   ]
  },
  {
   "cell_type": "markdown",
   "metadata": {},
   "source": [
    "Com essa lista, faça:\n",
    "\n",
    "Nível 1:\n",
    "1. selecione uma espécie que te atraia mais. Use set() para facilitar a escolha de qual espécie\n",
    "2. conte quantas vezes essa espécie ocorre dentro da lista. Use alguma estrutura de repetição inicialmente\n",
    "\n",
    "Nível 2:\n",
    "1. selecione mais de uma espécie\n",
    "2. faça a contagem, mas armazenando em um dicionário, onde cada espécie é uma chave\n",
    "\n",
    "Nível 3:\n",
    "1. selecione todas as espécies. Use set() para facilitar\n",
    "2. conte todas as espécies e armazene em um dicionário. Use o método .count() das listas para facilitar"
   ]
  },
  {
   "cell_type": "markdown",
   "metadata": {},
   "source": [
    "**~Exercício 3~**\n",
    "\n",
    "**Prática de Lógica**\n",
    "\n",
    "Este exercício é para quem possui alguma atividade que queira resolver usando python. Caso você não tenha nenhuma atividade ainda, pode escolher alguma coisa aleatória que você deseje fazer aplicando python (se tiver dúvidas, me procure e podemos pensar em algo juntos).\n",
    "\n",
    "1. Monte, em linhas gerais, uma proposta de como resolver este seu problema usando programação. Não precisa ter uma estrutura python, mas tente estabelecer já de início o que é necessário para que o objetivo seja alcançado.\n",
    "2. Caso sinta-se a vontade para isso, monte um diagrama de blocos. Pode ser mais difícil do que parece, mas vai exercitar a sua mente a resolver o item anterior.\n"
   ]
  }
 ],
 "metadata": {
  "kernelspec": {
   "display_name": "Python 3",
   "language": "python",
   "name": "python3"
  },
  "language_info": {
   "codemirror_mode": {
    "name": "ipython",
    "version": 3
   },
   "file_extension": ".py",
   "mimetype": "text/x-python",
   "name": "python",
   "nbconvert_exporter": "python",
   "pygments_lexer": "ipython3",
   "version": "3.7.8"
  }
 },
 "nbformat": 4,
 "nbformat_minor": 4
}
