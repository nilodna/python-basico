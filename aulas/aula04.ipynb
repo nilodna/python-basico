{
 "cells": [
  {
   "cell_type": "markdown",
   "metadata": {
    "slideshow": {
     "slide_type": "slide"
    }
   },
   "source": [
    "# Precisamos falar sobre pandas\n",
    "\n",
    "![image.png](../figures/pandas_computer.gif)"
   ]
  },
  {
   "cell_type": "markdown",
   "metadata": {
    "slideshow": {
     "slide_type": "subslide"
    }
   },
   "source": [
    "**material de apoio**:\n",
    "\n",
    "- Livro online com exemplos e descrições sobre numpy, matplotlib e pandas: [[link]](https://jakevdp.github.io/PythonDataScienceHandbook/)\n",
    "- Lemenkova, P. (2019). Processing oceanographic data by Python libraries NumPy, SciPy and Pandas. [[link]](https://hal.archives-ouvertes.fr/hal-02093491/document)\n",
    "- Lista de pacotes aplicados à oceanografia (olhem com cautela, tem muita coisa): [[link]](https://medium.com/@hafezahmad/some-essential-python-applications-in-the-oceanographic-data-analysis-and-visualization-569d6af25fd4)\n",
    "- Guia do usuário de Pandas: [[link]](https://pandas.pydata.org/pandas-docs/stable/user_guide)\n",
    "\n",
    "- Thermodynamics Equation of Seawater - 2010: [[link]](http://www.teos-10.org/software.htm)"
   ]
  },
  {
   "cell_type": "markdown",
   "metadata": {
    "slideshow": {
     "slide_type": "subslide"
    }
   },
   "source": [
    "**O que é o pandas?**\n",
    "\n",
    "- pacote para analisar dados tabulares\n",
    "- muito utilizado para análise de séries temporais\n",
    "- ciência de dados, aprendizado de máquina? Tem pandas!\n",
    "- na oceanografia também! "
   ]
  },
  {
   "cell_type": "markdown",
   "metadata": {
    "slideshow": {
     "slide_type": "subslide"
    }
   },
   "source": [
    "#### O que são dados tabulares?\n",
    "\n",
    "- dados estruturados\n",
    "- colunas representam variáveis\n",
    "- linhas são informações destas variáveis (observações/medições)\n",
    "- compartilham o mesmo índice\n",
    "- formatos:\n",
    "\n",
    "![](https://pandas.pydata.org/docs/_images/02_io_readwrite.svg)\n",
    "Fonte: [Getting started](https://pandas.pydata.org/docs/getting_started/index.html#getting-started) do Pandas"
   ]
  },
  {
   "cell_type": "markdown",
   "metadata": {
    "slideshow": {
     "slide_type": "subslide"
    }
   },
   "source": [
    "#### Conceitos importantes para utilizar o pandas\n",
    "\n",
    "- Series: matriz 1D com um índice definido (perfil vertical)\n",
    "    \n",
    "- DataFrame: matriz 2D, com eixos rotulados que compartilham o mesmo índice (perfis vertical)\n",
    "\n",
    "- Eixos: axis == 0 (rows) e axis == 1 (cols)\n",
    "    \n",
    "![image.png](https://pandas.pydata.org/docs/_images/01_table_dataframe.svg)\n",
    "Fonte: [Getting started](https://pandas.pydata.org/docs/getting_started/index.html#getting-started) do Pandas"
   ]
  },
  {
   "cell_type": "markdown",
   "metadata": {
    "slideshow": {
     "slide_type": "subslide"
    }
   },
   "source": [
    "### Vamos ver algumas funcionalidade básicas\n",
    "\n",
    "Criando objetos (Series e DataFrame):\n",
    "\n",
    "- ```data``` para indicar os dados que serão armazenados na estrutura e \n",
    "- ```index``` para apontar o indexamento que eles terão."
   ]
  },
  {
   "cell_type": "code",
   "execution_count": 1,
   "metadata": {
    "slideshow": {
     "slide_type": "skip"
    }
   },
   "outputs": [],
   "source": [
    "# linhas de códigos para evitar Warnings. Uso apenas para apresentações com o RISE para não ocupar espaço demais\n",
    "# na tela.\n",
    "import warnings\n",
    "warnings.filterwarnings('ignore')"
   ]
  },
  {
   "cell_type": "code",
   "execution_count": 18,
   "metadata": {
    "slideshow": {
     "slide_type": "-"
    }
   },
   "outputs": [
    {
     "data": {
      "text/html": [
       "<div>\n",
       "<style scoped>\n",
       "    .dataframe tbody tr th:only-of-type {\n",
       "        vertical-align: middle;\n",
       "    }\n",
       "\n",
       "    .dataframe tbody tr th {\n",
       "        vertical-align: top;\n",
       "    }\n",
       "\n",
       "    .dataframe thead th {\n",
       "        text-align: right;\n",
       "    }\n",
       "</style>\n",
       "<table border=\"1\" class=\"dataframe\">\n",
       "  <thead>\n",
       "    <tr style=\"text-align: right;\">\n",
       "      <th></th>\n",
       "      <th>serie1</th>\n",
       "      <th>serie2</th>\n",
       "    </tr>\n",
       "  </thead>\n",
       "  <tbody>\n",
       "    <tr>\n",
       "      <th>0</th>\n",
       "      <td>1.554386</td>\n",
       "      <td>-0.199589</td>\n",
       "    </tr>\n",
       "    <tr>\n",
       "      <th>1</th>\n",
       "      <td>1.412515</td>\n",
       "      <td>-0.213348</td>\n",
       "    </tr>\n",
       "    <tr>\n",
       "      <th>2</th>\n",
       "      <td>-1.264126</td>\n",
       "      <td>0.447311</td>\n",
       "    </tr>\n",
       "    <tr>\n",
       "      <th>3</th>\n",
       "      <td>1.482309</td>\n",
       "      <td>-0.932197</td>\n",
       "    </tr>\n",
       "    <tr>\n",
       "      <th>4</th>\n",
       "      <td>-0.032363</td>\n",
       "      <td>1.590307</td>\n",
       "    </tr>\n",
       "  </tbody>\n",
       "</table>\n",
       "</div>"
      ],
      "text/plain": [
       "     serie1    serie2\n",
       "0  1.554386 -0.199589\n",
       "1  1.412515 -0.213348\n",
       "2 -1.264126  0.447311\n",
       "3  1.482309 -0.932197\n",
       "4 -0.032363  1.590307"
      ]
     },
     "execution_count": 18,
     "metadata": {},
     "output_type": "execute_result"
    }
   ],
   "source": [
    "# padrão de importação\n",
    "import pandas as pd\n",
    "import numpy as np\n",
    "import matplotlib.pyplot as plt\n",
    "\n",
    "# criando um pd.Series\n",
    "sr = pd.Series(data=np.random.randn(5), index=np.arange(0,5))\n",
    "\n",
    "# criando um pd.DataFrame: notem o F maiúsculo\n",
    "df = pd.DataFrame(data={'serie1': sr, \n",
    "                        'serie2': np.random.randn(5)},\n",
    "                  \n",
    "                  index=np.arange(0,5))\n",
    "df"
   ]
  },
  {
   "cell_type": "markdown",
   "metadata": {
    "slideshow": {
     "slide_type": "subslide"
    }
   },
   "source": [
    "No entanto, é comum utilizar dicionários para criar DataFrame, pois podemos indicar também qual o nome de cada coluna (cabeçalho, header), ao passo que em Series não temos esta possibilidade:"
   ]
  },
  {
   "cell_type": "code",
   "execution_count": 20,
   "metadata": {},
   "outputs": [
    {
     "data": {
      "text/html": [
       "<div>\n",
       "<style scoped>\n",
       "    .dataframe tbody tr th:only-of-type {\n",
       "        vertical-align: middle;\n",
       "    }\n",
       "\n",
       "    .dataframe tbody tr th {\n",
       "        vertical-align: top;\n",
       "    }\n",
       "\n",
       "    .dataframe thead th {\n",
       "        text-align: right;\n",
       "    }\n",
       "</style>\n",
       "<table border=\"1\" class=\"dataframe\">\n",
       "  <thead>\n",
       "    <tr style=\"text-align: right;\">\n",
       "      <th></th>\n",
       "      <th>coluna1</th>\n",
       "    </tr>\n",
       "  </thead>\n",
       "  <tbody>\n",
       "    <tr>\n",
       "      <th>0</th>\n",
       "      <td>1.448690</td>\n",
       "    </tr>\n",
       "    <tr>\n",
       "      <th>1</th>\n",
       "      <td>0.687771</td>\n",
       "    </tr>\n",
       "    <tr>\n",
       "      <th>2</th>\n",
       "      <td>-0.146991</td>\n",
       "    </tr>\n",
       "    <tr>\n",
       "      <th>3</th>\n",
       "      <td>1.017169</td>\n",
       "    </tr>\n",
       "    <tr>\n",
       "      <th>4</th>\n",
       "      <td>0.980510</td>\n",
       "    </tr>\n",
       "    <tr>\n",
       "      <th>5</th>\n",
       "      <td>0.356146</td>\n",
       "    </tr>\n",
       "    <tr>\n",
       "      <th>6</th>\n",
       "      <td>1.259673</td>\n",
       "    </tr>\n",
       "    <tr>\n",
       "      <th>7</th>\n",
       "      <td>-0.004672</td>\n",
       "    </tr>\n",
       "    <tr>\n",
       "      <th>8</th>\n",
       "      <td>-0.507556</td>\n",
       "    </tr>\n",
       "    <tr>\n",
       "      <th>9</th>\n",
       "      <td>-0.927046</td>\n",
       "    </tr>\n",
       "  </tbody>\n",
       "</table>\n",
       "</div>"
      ],
      "text/plain": [
       "    coluna1\n",
       "0  1.448690\n",
       "1  0.687771\n",
       "2 -0.146991\n",
       "3  1.017169\n",
       "4  0.980510\n",
       "5  0.356146\n",
       "6  1.259673\n",
       "7 -0.004672\n",
       "8 -0.507556\n",
       "9 -0.927046"
      ]
     },
     "execution_count": 20,
     "metadata": {},
     "output_type": "execute_result"
    }
   ],
   "source": [
    "pd.DataFrame(data={'coluna1': np.random.randn(10)}, index=range(10))"
   ]
  },
  {
   "cell_type": "markdown",
   "metadata": {
    "slideshow": {
     "slide_type": "slide"
    }
   },
   "source": [
    "Utiliza-se o **pandas** para leitura de arquivos csv e planilhas excel, estruturando estes arquivos em um DataFrame organizado. \n",
    "\n",
    "Mas como nem tudo é um mar de rosas, precisamos muitas vezes limpar essa planilha, lidar com caracteres acentuados, etc. \n",
    "\n",
    "Vamos ver alguns casos, utilizando um arquivo csv do projeto PNBOIA."
   ]
  },
  {
   "cell_type": "code",
   "execution_count": 76,
   "metadata": {
    "slideshow": {
     "slide_type": "skip"
    }
   },
   "outputs": [],
   "source": [
    "# se estiver no google colab, rode:\n",
    "!wget --directory-prefix=../dados/ https://raw.githubusercontent.com/nilodna/python-basico/feature_iojr-shortcourse/dados/pnboia_vitoria.csv"
   ]
  },
  {
   "cell_type": "code",
   "execution_count": 22,
   "metadata": {
    "slideshow": {
     "slide_type": "subslide"
    }
   },
   "outputs": [
    {
     "data": {
      "text/html": [
       "<div>\n",
       "<style scoped>\n",
       "    .dataframe tbody tr th:only-of-type {\n",
       "        vertical-align: middle;\n",
       "    }\n",
       "\n",
       "    .dataframe tbody tr th {\n",
       "        vertical-align: top;\n",
       "    }\n",
       "\n",
       "    .dataframe thead th {\n",
       "        text-align: right;\n",
       "    }\n",
       "</style>\n",
       "<table border=\"1\" class=\"dataframe\">\n",
       "  <thead>\n",
       "    <tr style=\"text-align: right;\">\n",
       "      <th></th>\n",
       "      <th># Epoca</th>\n",
       "      <th>Year</th>\n",
       "      <th>Month</th>\n",
       "      <th>Day</th>\n",
       "      <th>Hour</th>\n",
       "      <th>Minute</th>\n",
       "      <th>Wspdflag</th>\n",
       "      <th>Wspdflagid</th>\n",
       "      <th>Wdir</th>\n",
       "      <th>Wdirflag</th>\n",
       "      <th>...</th>\n",
       "      <th>Cdir3flagid</th>\n",
       "      <th>Wvhtflag</th>\n",
       "      <th>Wvhtflagid</th>\n",
       "      <th>Wmaxflag</th>\n",
       "      <th>Wmaxflagid</th>\n",
       "      <th>Dpdflag</th>\n",
       "      <th>Dpdflagid</th>\n",
       "      <th>Mwd</th>\n",
       "      <th>Mwdflag</th>\n",
       "      <th>Mwdflagid</th>\n",
       "    </tr>\n",
       "  </thead>\n",
       "  <tbody>\n",
       "    <tr>\n",
       "      <th>count</th>\n",
       "      <td>1.450300e+04</td>\n",
       "      <td>14503.000000</td>\n",
       "      <td>14503.000000</td>\n",
       "      <td>14503.000000</td>\n",
       "      <td>14503.000000</td>\n",
       "      <td>14503.0</td>\n",
       "      <td>14503.000000</td>\n",
       "      <td>14503.000000</td>\n",
       "      <td>14503.000000</td>\n",
       "      <td>14503.000000</td>\n",
       "      <td>...</td>\n",
       "      <td>14503.000000</td>\n",
       "      <td>14503.000000</td>\n",
       "      <td>14503.000000</td>\n",
       "      <td>14503.000000</td>\n",
       "      <td>14503.000000</td>\n",
       "      <td>14503.000000</td>\n",
       "      <td>14503.000000</td>\n",
       "      <td>14503.000000</td>\n",
       "      <td>14503.000000</td>\n",
       "      <td>14503.000000</td>\n",
       "    </tr>\n",
       "    <tr>\n",
       "      <th>mean</th>\n",
       "      <td>1.471006e+09</td>\n",
       "      <td>2016.131904</td>\n",
       "      <td>6.299111</td>\n",
       "      <td>15.715507</td>\n",
       "      <td>11.584500</td>\n",
       "      <td>21.0</td>\n",
       "      <td>0.001931</td>\n",
       "      <td>0.000207</td>\n",
       "      <td>128.362201</td>\n",
       "      <td>0.001931</td>\n",
       "      <td>...</td>\n",
       "      <td>0.502241</td>\n",
       "      <td>0.091291</td>\n",
       "      <td>0.024753</td>\n",
       "      <td>0.091291</td>\n",
       "      <td>0.023650</td>\n",
       "      <td>0.091291</td>\n",
       "      <td>0.023168</td>\n",
       "      <td>-120.026133</td>\n",
       "      <td>0.091291</td>\n",
       "      <td>0.022271</td>\n",
       "    </tr>\n",
       "    <tr>\n",
       "      <th>std</th>\n",
       "      <td>1.531814e+07</td>\n",
       "      <td>0.613970</td>\n",
       "      <td>3.680174</td>\n",
       "      <td>8.786352</td>\n",
       "      <td>6.957216</td>\n",
       "      <td>0.0</td>\n",
       "      <td>0.087860</td>\n",
       "      <td>0.018567</td>\n",
       "      <td>137.617630</td>\n",
       "      <td>0.087860</td>\n",
       "      <td>...</td>\n",
       "      <td>0.500564</td>\n",
       "      <td>0.597375</td>\n",
       "      <td>0.201380</td>\n",
       "      <td>0.597375</td>\n",
       "      <td>0.183983</td>\n",
       "      <td>0.597375</td>\n",
       "      <td>0.167365</td>\n",
       "      <td>1487.246461</td>\n",
       "      <td>0.597375</td>\n",
       "      <td>0.148036</td>\n",
       "    </tr>\n",
       "    <tr>\n",
       "      <th>min</th>\n",
       "      <td>1.444756e+09</td>\n",
       "      <td>2015.000000</td>\n",
       "      <td>1.000000</td>\n",
       "      <td>1.000000</td>\n",
       "      <td>0.000000</td>\n",
       "      <td>21.0</td>\n",
       "      <td>0.000000</td>\n",
       "      <td>0.000000</td>\n",
       "      <td>-9999.000000</td>\n",
       "      <td>0.000000</td>\n",
       "      <td>...</td>\n",
       "      <td>0.000000</td>\n",
       "      <td>0.000000</td>\n",
       "      <td>0.000000</td>\n",
       "      <td>0.000000</td>\n",
       "      <td>0.000000</td>\n",
       "      <td>0.000000</td>\n",
       "      <td>0.000000</td>\n",
       "      <td>-9999.000000</td>\n",
       "      <td>0.000000</td>\n",
       "      <td>0.000000</td>\n",
       "    </tr>\n",
       "    <tr>\n",
       "      <th>25%</th>\n",
       "      <td>1.457807e+09</td>\n",
       "      <td>2016.000000</td>\n",
       "      <td>3.000000</td>\n",
       "      <td>8.000000</td>\n",
       "      <td>6.000000</td>\n",
       "      <td>21.0</td>\n",
       "      <td>0.000000</td>\n",
       "      <td>0.000000</td>\n",
       "      <td>35.000000</td>\n",
       "      <td>0.000000</td>\n",
       "      <td>...</td>\n",
       "      <td>0.000000</td>\n",
       "      <td>0.000000</td>\n",
       "      <td>0.000000</td>\n",
       "      <td>0.000000</td>\n",
       "      <td>0.000000</td>\n",
       "      <td>0.000000</td>\n",
       "      <td>0.000000</td>\n",
       "      <td>56.000000</td>\n",
       "      <td>0.000000</td>\n",
       "      <td>0.000000</td>\n",
       "    </tr>\n",
       "    <tr>\n",
       "      <th>50%</th>\n",
       "      <td>1.470859e+09</td>\n",
       "      <td>2016.000000</td>\n",
       "      <td>6.000000</td>\n",
       "      <td>16.000000</td>\n",
       "      <td>11.000000</td>\n",
       "      <td>21.0</td>\n",
       "      <td>0.000000</td>\n",
       "      <td>0.000000</td>\n",
       "      <td>87.000000</td>\n",
       "      <td>0.000000</td>\n",
       "      <td>...</td>\n",
       "      <td>1.000000</td>\n",
       "      <td>0.000000</td>\n",
       "      <td>0.000000</td>\n",
       "      <td>0.000000</td>\n",
       "      <td>0.000000</td>\n",
       "      <td>0.000000</td>\n",
       "      <td>0.000000</td>\n",
       "      <td>94.000000</td>\n",
       "      <td>0.000000</td>\n",
       "      <td>0.000000</td>\n",
       "    </tr>\n",
       "    <tr>\n",
       "      <th>75%</th>\n",
       "      <td>1.483911e+09</td>\n",
       "      <td>2017.000000</td>\n",
       "      <td>10.000000</td>\n",
       "      <td>23.000000</td>\n",
       "      <td>18.000000</td>\n",
       "      <td>21.0</td>\n",
       "      <td>0.000000</td>\n",
       "      <td>0.000000</td>\n",
       "      <td>214.000000</td>\n",
       "      <td>0.000000</td>\n",
       "      <td>...</td>\n",
       "      <td>1.000000</td>\n",
       "      <td>0.000000</td>\n",
       "      <td>0.000000</td>\n",
       "      <td>0.000000</td>\n",
       "      <td>0.000000</td>\n",
       "      <td>0.000000</td>\n",
       "      <td>0.000000</td>\n",
       "      <td>144.000000</td>\n",
       "      <td>0.000000</td>\n",
       "      <td>0.000000</td>\n",
       "    </tr>\n",
       "    <tr>\n",
       "      <th>max</th>\n",
       "      <td>1.500156e+09</td>\n",
       "      <td>2017.000000</td>\n",
       "      <td>12.000000</td>\n",
       "      <td>31.000000</td>\n",
       "      <td>23.000000</td>\n",
       "      <td>21.0</td>\n",
       "      <td>4.000000</td>\n",
       "      <td>2.000000</td>\n",
       "      <td>381.000000</td>\n",
       "      <td>4.000000</td>\n",
       "      <td>...</td>\n",
       "      <td>2.000000</td>\n",
       "      <td>4.000000</td>\n",
       "      <td>8.000000</td>\n",
       "      <td>4.000000</td>\n",
       "      <td>9.000000</td>\n",
       "      <td>4.000000</td>\n",
       "      <td>9.000000</td>\n",
       "      <td>369.000000</td>\n",
       "      <td>4.000000</td>\n",
       "      <td>2.000000</td>\n",
       "    </tr>\n",
       "  </tbody>\n",
       "</table>\n",
       "<p>8 rows × 44 columns</p>\n",
       "</div>"
      ],
      "text/plain": [
       "            # Epoca          Year         Month           Day          Hour  \\\n",
       "count  1.450300e+04  14503.000000  14503.000000  14503.000000  14503.000000   \n",
       "mean   1.471006e+09   2016.131904      6.299111     15.715507     11.584500   \n",
       "std    1.531814e+07      0.613970      3.680174      8.786352      6.957216   \n",
       "min    1.444756e+09   2015.000000      1.000000      1.000000      0.000000   \n",
       "25%    1.457807e+09   2016.000000      3.000000      8.000000      6.000000   \n",
       "50%    1.470859e+09   2016.000000      6.000000     16.000000     11.000000   \n",
       "75%    1.483911e+09   2017.000000     10.000000     23.000000     18.000000   \n",
       "max    1.500156e+09   2017.000000     12.000000     31.000000     23.000000   \n",
       "\n",
       "        Minute      Wspdflag    Wspdflagid          Wdir      Wdirflag  ...  \\\n",
       "count  14503.0  14503.000000  14503.000000  14503.000000  14503.000000  ...   \n",
       "mean      21.0      0.001931      0.000207    128.362201      0.001931  ...   \n",
       "std        0.0      0.087860      0.018567    137.617630      0.087860  ...   \n",
       "min       21.0      0.000000      0.000000  -9999.000000      0.000000  ...   \n",
       "25%       21.0      0.000000      0.000000     35.000000      0.000000  ...   \n",
       "50%       21.0      0.000000      0.000000     87.000000      0.000000  ...   \n",
       "75%       21.0      0.000000      0.000000    214.000000      0.000000  ...   \n",
       "max       21.0      4.000000      2.000000    381.000000      4.000000  ...   \n",
       "\n",
       "        Cdir3flagid      Wvhtflag    Wvhtflagid      Wmaxflag    Wmaxflagid  \\\n",
       "count  14503.000000  14503.000000  14503.000000  14503.000000  14503.000000   \n",
       "mean       0.502241      0.091291      0.024753      0.091291      0.023650   \n",
       "std        0.500564      0.597375      0.201380      0.597375      0.183983   \n",
       "min        0.000000      0.000000      0.000000      0.000000      0.000000   \n",
       "25%        0.000000      0.000000      0.000000      0.000000      0.000000   \n",
       "50%        1.000000      0.000000      0.000000      0.000000      0.000000   \n",
       "75%        1.000000      0.000000      0.000000      0.000000      0.000000   \n",
       "max        2.000000      4.000000      8.000000      4.000000      9.000000   \n",
       "\n",
       "            Dpdflag     Dpdflagid           Mwd       Mwdflag     Mwdflagid  \n",
       "count  14503.000000  14503.000000  14503.000000  14503.000000  14503.000000  \n",
       "mean       0.091291      0.023168   -120.026133      0.091291      0.022271  \n",
       "std        0.597375      0.167365   1487.246461      0.597375      0.148036  \n",
       "min        0.000000      0.000000  -9999.000000      0.000000      0.000000  \n",
       "25%        0.000000      0.000000     56.000000      0.000000      0.000000  \n",
       "50%        0.000000      0.000000     94.000000      0.000000      0.000000  \n",
       "75%        0.000000      0.000000    144.000000      0.000000      0.000000  \n",
       "max        4.000000      9.000000    369.000000      4.000000      2.000000  \n",
       "\n",
       "[8 rows x 44 columns]"
      ]
     },
     "execution_count": 22,
     "metadata": {},
     "output_type": "execute_result"
    }
   ],
   "source": [
    "# leitura do arquivo\n",
    "df = pd.read_csv('../dados/pnboia_vitoria.csv')\n",
    "\n",
    "# descrição em termos estatísticos\n",
    "df.describe()"
   ]
  },
  {
   "cell_type": "code",
   "execution_count": 24,
   "metadata": {
    "slideshow": {
     "slide_type": "subslide"
    }
   },
   "outputs": [],
   "source": [
    "# informações em termos computacionais: tipo das colunas, nomes, quantidade de linhas, etc\n",
    "df.info()"
   ]
  },
  {
   "cell_type": "markdown",
   "metadata": {
    "slideshow": {
     "slide_type": "subslide"
    }
   },
   "source": [
    "- temos muita informação neste conjunto \n",
    "- podemos selecionar estas informações durante a leitura do arquivo\n",
    "- explorar metadados"
   ]
  },
  {
   "cell_type": "markdown",
   "metadata": {
    "slideshow": {
     "slide_type": "slide"
    }
   },
   "source": [
    "#### Opções durante leitura do arquivo\n",
    "\n",
    "- ```skiprows```: pular, durante a leitura, uma quantidade de linhas\n",
    "- ```sheet_name```: para ler uma aba específica de uma planilha excel\n",
    "- ```sep```: qual o separador ou delimitador do arquivo (padrão ;)\n",
    "\n",
    "- ```header```: qual linha deve ser utilizada para nomear colunas\n",
    "- ```names```: nomear colunas manualmente\n",
    "- ```usecols```: selecionar quais colunas devem ser lidas (utiliza-se números inteiros)\n",
    "\n",
    "- ```index_col```: indicar qual coluna deve ser o índice\n",
    "\n",
    "- ```encoding``` (utf8 padrão e latin1 para ç à é î ã): para casos com caracteres acentuados\n",
    "\n",
    "- ```decimal```: substitui virgulas por ponto, porém use com cautela!"
   ]
  },
  {
   "cell_type": "code",
   "execution_count": 28,
   "metadata": {
    "slideshow": {
     "slide_type": "subslide"
    }
   },
   "outputs": [
    {
     "data": {
      "text/html": [
       "<div>\n",
       "<style scoped>\n",
       "    .dataframe tbody tr th:only-of-type {\n",
       "        vertical-align: middle;\n",
       "    }\n",
       "\n",
       "    .dataframe tbody tr th {\n",
       "        vertical-align: top;\n",
       "    }\n",
       "\n",
       "    .dataframe thead th {\n",
       "        text-align: right;\n",
       "    }\n",
       "</style>\n",
       "<table border=\"1\" class=\"dataframe\">\n",
       "  <thead>\n",
       "    <tr style=\"text-align: right;\">\n",
       "      <th></th>\n",
       "      <th>Lat</th>\n",
       "      <th>Lon</th>\n",
       "      <th>Battery</th>\n",
       "    </tr>\n",
       "    <tr>\n",
       "      <th># Epoca</th>\n",
       "      <th></th>\n",
       "      <th></th>\n",
       "      <th></th>\n",
       "    </tr>\n",
       "  </thead>\n",
       "  <tbody>\n",
       "    <tr>\n",
       "      <th>1.500138e+09</th>\n",
       "      <td>-19.935</td>\n",
       "      <td>-39.708</td>\n",
       "      <td>13.3</td>\n",
       "    </tr>\n",
       "    <tr>\n",
       "      <th>1.500142e+09</th>\n",
       "      <td>-19.933</td>\n",
       "      <td>-39.708</td>\n",
       "      <td>13.3</td>\n",
       "    </tr>\n",
       "    <tr>\n",
       "      <th>1.500149e+09</th>\n",
       "      <td>-19.936</td>\n",
       "      <td>-39.705</td>\n",
       "      <td>-9999.0</td>\n",
       "    </tr>\n",
       "    <tr>\n",
       "      <th>1.500152e+09</th>\n",
       "      <td>-19.934</td>\n",
       "      <td>-39.704</td>\n",
       "      <td>-9999.0</td>\n",
       "    </tr>\n",
       "    <tr>\n",
       "      <th>1.500156e+09</th>\n",
       "      <td>-19.938</td>\n",
       "      <td>-39.704</td>\n",
       "      <td>12.8</td>\n",
       "    </tr>\n",
       "  </tbody>\n",
       "</table>\n",
       "</div>"
      ],
      "text/plain": [
       "                 Lat     Lon  Battery\n",
       "# Epoca                              \n",
       "1.500138e+09 -19.935 -39.708     13.3\n",
       "1.500142e+09 -19.933 -39.708     13.3\n",
       "1.500149e+09 -19.936 -39.705  -9999.0\n",
       "1.500152e+09 -19.934 -39.704  -9999.0\n",
       "1.500156e+09 -19.938 -39.704     12.8"
      ]
     },
     "execution_count": 28,
     "metadata": {},
     "output_type": "execute_result"
    }
   ],
   "source": [
    "df = pd.read_csv('../dados/pnboia_vitoria.csv', \n",
    "                 usecols=[0,1,2,8], index_col=0, \n",
    "                 decimal=',',\n",
    "                 dtype=float)\n",
    "\n",
    "df.head() # de forma análoga existe o .tail()"
   ]
  },
  {
   "cell_type": "code",
   "execution_count": 29,
   "metadata": {},
   "outputs": [
    {
     "name": "stdout",
     "output_type": "stream",
     "text": [
      "<class 'pandas.core.frame.DataFrame'>\n",
      "Float64Index: 14503 entries, 1444755600.0 to 1500156000.0\n",
      "Data columns (total 3 columns):\n",
      " #   Column   Non-Null Count  Dtype  \n",
      "---  ------   --------------  -----  \n",
      " 0   Lat      14503 non-null  float64\n",
      " 1   Lon      14503 non-null  float64\n",
      " 2   Battery  14503 non-null  float64\n",
      "dtypes: float64(3)\n",
      "memory usage: 453.2 KB\n"
     ]
    }
   ],
   "source": [
    "df.info()"
   ]
  },
  {
   "cell_type": "markdown",
   "metadata": {
    "slideshow": {
     "slide_type": "subslide"
    }
   },
   "source": [
    "Em alguns casos, porém:\n",
    "\n",
    "- valores invalido possuem outro caracter (ex: -9999)\n",
    "- substituímos usando o método ```.replace()```\n",
    "- inserimos ```np.nan``` no lugar"
   ]
  },
  {
   "cell_type": "code",
   "execution_count": 30,
   "metadata": {
    "slideshow": {
     "slide_type": "-"
    }
   },
   "outputs": [
    {
     "data": {
      "text/html": [
       "<div>\n",
       "<style scoped>\n",
       "    .dataframe tbody tr th:only-of-type {\n",
       "        vertical-align: middle;\n",
       "    }\n",
       "\n",
       "    .dataframe tbody tr th {\n",
       "        vertical-align: top;\n",
       "    }\n",
       "\n",
       "    .dataframe thead th {\n",
       "        text-align: right;\n",
       "    }\n",
       "</style>\n",
       "<table border=\"1\" class=\"dataframe\">\n",
       "  <thead>\n",
       "    <tr style=\"text-align: right;\">\n",
       "      <th></th>\n",
       "      <th>Lat</th>\n",
       "      <th>Lon</th>\n",
       "      <th>Battery</th>\n",
       "    </tr>\n",
       "    <tr>\n",
       "      <th># Epoca</th>\n",
       "      <th></th>\n",
       "      <th></th>\n",
       "      <th></th>\n",
       "    </tr>\n",
       "  </thead>\n",
       "  <tbody>\n",
       "    <tr>\n",
       "      <th>1.444756e+09</th>\n",
       "      <td>-19.935850</td>\n",
       "      <td>-39.704233</td>\n",
       "      <td>NaN</td>\n",
       "    </tr>\n",
       "    <tr>\n",
       "      <th>1.444759e+09</th>\n",
       "      <td>-19.935883</td>\n",
       "      <td>-39.704183</td>\n",
       "      <td>NaN</td>\n",
       "    </tr>\n",
       "    <tr>\n",
       "      <th>1.444763e+09</th>\n",
       "      <td>-19.936000</td>\n",
       "      <td>-39.704100</td>\n",
       "      <td>NaN</td>\n",
       "    </tr>\n",
       "    <tr>\n",
       "      <th>1.444766e+09</th>\n",
       "      <td>-19.936133</td>\n",
       "      <td>-39.703967</td>\n",
       "      <td>NaN</td>\n",
       "    </tr>\n",
       "    <tr>\n",
       "      <th>1.444770e+09</th>\n",
       "      <td>-19.936117</td>\n",
       "      <td>-39.703933</td>\n",
       "      <td>NaN</td>\n",
       "    </tr>\n",
       "  </tbody>\n",
       "</table>\n",
       "</div>"
      ],
      "text/plain": [
       "                    Lat        Lon  Battery\n",
       "# Epoca                                    \n",
       "1.444756e+09 -19.935850 -39.704233      NaN\n",
       "1.444759e+09 -19.935883 -39.704183      NaN\n",
       "1.444763e+09 -19.936000 -39.704100      NaN\n",
       "1.444766e+09 -19.936133 -39.703967      NaN\n",
       "1.444770e+09 -19.936117 -39.703933      NaN"
      ]
     },
     "execution_count": 30,
     "metadata": {},
     "output_type": "execute_result"
    }
   ],
   "source": [
    "df = df.replace(-9999, np.nan)\n",
    "df.head() # porém é um float:"
   ]
  },
  {
   "cell_type": "code",
   "execution_count": 143,
   "metadata": {
    "slideshow": {
     "slide_type": "-"
    }
   },
   "outputs": [
    {
     "name": "stdout",
     "output_type": "stream",
     "text": [
      "nan\n"
     ]
    },
    {
     "data": {
      "text/plain": [
       "float"
      ]
     },
     "execution_count": 143,
     "metadata": {},
     "output_type": "execute_result"
    }
   ],
   "source": [
    "print(np.nan)\n",
    "type(np.nan)"
   ]
  },
  {
   "cell_type": "markdown",
   "metadata": {
    "slideshow": {
     "slide_type": "subslide"
    }
   },
   "source": [
    "### Removendo dados\n",
    "\n",
    "- ```.drop()```: remove dados específicos, indicando index/coluna"
   ]
  },
  {
   "cell_type": "code",
   "execution_count": 35,
   "metadata": {
    "slideshow": {
     "slide_type": "-"
    }
   },
   "outputs": [
    {
     "data": {
      "text/html": [
       "<div>\n",
       "<style scoped>\n",
       "    .dataframe tbody tr th:only-of-type {\n",
       "        vertical-align: middle;\n",
       "    }\n",
       "\n",
       "    .dataframe tbody tr th {\n",
       "        vertical-align: top;\n",
       "    }\n",
       "\n",
       "    .dataframe thead th {\n",
       "        text-align: right;\n",
       "    }\n",
       "</style>\n",
       "<table border=\"1\" class=\"dataframe\">\n",
       "  <thead>\n",
       "    <tr style=\"text-align: right;\">\n",
       "      <th></th>\n",
       "      <th>Lat</th>\n",
       "      <th>Lon</th>\n",
       "    </tr>\n",
       "    <tr>\n",
       "      <th># Epoca</th>\n",
       "      <th></th>\n",
       "      <th></th>\n",
       "    </tr>\n",
       "  </thead>\n",
       "  <tbody>\n",
       "    <tr>\n",
       "      <th>1.444756e+09</th>\n",
       "      <td>-19.935850</td>\n",
       "      <td>-39.704233</td>\n",
       "    </tr>\n",
       "    <tr>\n",
       "      <th>1.444759e+09</th>\n",
       "      <td>-19.935883</td>\n",
       "      <td>-39.704183</td>\n",
       "    </tr>\n",
       "    <tr>\n",
       "      <th>1.444763e+09</th>\n",
       "      <td>-19.936000</td>\n",
       "      <td>-39.704100</td>\n",
       "    </tr>\n",
       "    <tr>\n",
       "      <th>1.444766e+09</th>\n",
       "      <td>-19.936133</td>\n",
       "      <td>-39.703967</td>\n",
       "    </tr>\n",
       "    <tr>\n",
       "      <th>1.444770e+09</th>\n",
       "      <td>-19.936117</td>\n",
       "      <td>-39.703933</td>\n",
       "    </tr>\n",
       "  </tbody>\n",
       "</table>\n",
       "</div>"
      ],
      "text/plain": [
       "                    Lat        Lon\n",
       "# Epoca                           \n",
       "1.444756e+09 -19.935850 -39.704233\n",
       "1.444759e+09 -19.935883 -39.704183\n",
       "1.444763e+09 -19.936000 -39.704100\n",
       "1.444766e+09 -19.936133 -39.703967\n",
       "1.444770e+09 -19.936117 -39.703933"
      ]
     },
     "execution_count": 35,
     "metadata": {},
     "output_type": "execute_result"
    }
   ],
   "source": [
    "df.drop(['Battery'], axis=1).head()"
   ]
  },
  {
   "cell_type": "markdown",
   "metadata": {
    "slideshow": {
     "slide_type": "subslide"
    }
   },
   "source": [
    "### Removendo dados\n",
    "\n",
    "- ```.drop()```: remove dados específicos, indicando index/coluna\n",
    "- ```.dropna()```: remove valores faltantes (not-a-number)"
   ]
  },
  {
   "cell_type": "code",
   "execution_count": 42,
   "metadata": {
    "slideshow": {
     "slide_type": "-"
    }
   },
   "outputs": [
    {
     "data": {
      "text/html": [
       "<div>\n",
       "<style scoped>\n",
       "    .dataframe tbody tr th:only-of-type {\n",
       "        vertical-align: middle;\n",
       "    }\n",
       "\n",
       "    .dataframe tbody tr th {\n",
       "        vertical-align: top;\n",
       "    }\n",
       "\n",
       "    .dataframe thead th {\n",
       "        text-align: right;\n",
       "    }\n",
       "</style>\n",
       "<table border=\"1\" class=\"dataframe\">\n",
       "  <thead>\n",
       "    <tr style=\"text-align: right;\">\n",
       "      <th></th>\n",
       "      <th>Lat</th>\n",
       "      <th>Lon</th>\n",
       "      <th>Battery</th>\n",
       "    </tr>\n",
       "    <tr>\n",
       "      <th># Epoca</th>\n",
       "      <th></th>\n",
       "      <th></th>\n",
       "      <th></th>\n",
       "    </tr>\n",
       "  </thead>\n",
       "  <tbody>\n",
       "    <tr>\n",
       "      <th>1.444756e+09</th>\n",
       "      <td>-19.935850</td>\n",
       "      <td>-39.704233</td>\n",
       "      <td>NaN</td>\n",
       "    </tr>\n",
       "    <tr>\n",
       "      <th>1.444759e+09</th>\n",
       "      <td>-19.935883</td>\n",
       "      <td>-39.704183</td>\n",
       "      <td>NaN</td>\n",
       "    </tr>\n",
       "    <tr>\n",
       "      <th>1.444763e+09</th>\n",
       "      <td>-19.936000</td>\n",
       "      <td>-39.704100</td>\n",
       "      <td>NaN</td>\n",
       "    </tr>\n",
       "    <tr>\n",
       "      <th>1.444766e+09</th>\n",
       "      <td>-19.936133</td>\n",
       "      <td>-39.703967</td>\n",
       "      <td>NaN</td>\n",
       "    </tr>\n",
       "    <tr>\n",
       "      <th>1.444770e+09</th>\n",
       "      <td>-19.936117</td>\n",
       "      <td>-39.703933</td>\n",
       "      <td>NaN</td>\n",
       "    </tr>\n",
       "    <tr>\n",
       "      <th>...</th>\n",
       "      <td>...</td>\n",
       "      <td>...</td>\n",
       "      <td>...</td>\n",
       "    </tr>\n",
       "    <tr>\n",
       "      <th>1.500138e+09</th>\n",
       "      <td>-19.935000</td>\n",
       "      <td>-39.708000</td>\n",
       "      <td>13.3</td>\n",
       "    </tr>\n",
       "    <tr>\n",
       "      <th>1.500142e+09</th>\n",
       "      <td>-19.933000</td>\n",
       "      <td>-39.708000</td>\n",
       "      <td>13.3</td>\n",
       "    </tr>\n",
       "    <tr>\n",
       "      <th>1.500149e+09</th>\n",
       "      <td>-19.936000</td>\n",
       "      <td>-39.705000</td>\n",
       "      <td>NaN</td>\n",
       "    </tr>\n",
       "    <tr>\n",
       "      <th>1.500152e+09</th>\n",
       "      <td>-19.934000</td>\n",
       "      <td>-39.704000</td>\n",
       "      <td>NaN</td>\n",
       "    </tr>\n",
       "    <tr>\n",
       "      <th>1.500156e+09</th>\n",
       "      <td>-19.938000</td>\n",
       "      <td>-39.704000</td>\n",
       "      <td>12.8</td>\n",
       "    </tr>\n",
       "  </tbody>\n",
       "</table>\n",
       "<p>14503 rows × 3 columns</p>\n",
       "</div>"
      ],
      "text/plain": [
       "                    Lat        Lon  Battery\n",
       "# Epoca                                    \n",
       "1.444756e+09 -19.935850 -39.704233      NaN\n",
       "1.444759e+09 -19.935883 -39.704183      NaN\n",
       "1.444763e+09 -19.936000 -39.704100      NaN\n",
       "1.444766e+09 -19.936133 -39.703967      NaN\n",
       "1.444770e+09 -19.936117 -39.703933      NaN\n",
       "...                 ...        ...      ...\n",
       "1.500138e+09 -19.935000 -39.708000     13.3\n",
       "1.500142e+09 -19.933000 -39.708000     13.3\n",
       "1.500149e+09 -19.936000 -39.705000      NaN\n",
       "1.500152e+09 -19.934000 -39.704000      NaN\n",
       "1.500156e+09 -19.938000 -39.704000     12.8\n",
       "\n",
       "[14503 rows x 3 columns]"
      ]
     },
     "execution_count": 42,
     "metadata": {},
     "output_type": "execute_result"
    }
   ],
   "source": [
    "df.dropna(axis=1, how='all')"
   ]
  },
  {
   "cell_type": "markdown",
   "metadata": {
    "slideshow": {
     "slide_type": "subslide"
    }
   },
   "source": [
    "### Removendo dados\n",
    "\n",
    "- ```.drop()```: remove dados específicos, indicando index/coluna\n",
    "- ```.dropna()```: remove valores faltantes (not-a-number)\n",
    "- ```.fillna()```: preenche valores faltantes usando alguns métodos"
   ]
  },
  {
   "cell_type": "code",
   "execution_count": 45,
   "metadata": {
    "slideshow": {
     "slide_type": "-"
    }
   },
   "outputs": [
    {
     "data": {
      "text/html": [
       "<div>\n",
       "<style scoped>\n",
       "    .dataframe tbody tr th:only-of-type {\n",
       "        vertical-align: middle;\n",
       "    }\n",
       "\n",
       "    .dataframe tbody tr th {\n",
       "        vertical-align: top;\n",
       "    }\n",
       "\n",
       "    .dataframe thead th {\n",
       "        text-align: right;\n",
       "    }\n",
       "</style>\n",
       "<table border=\"1\" class=\"dataframe\">\n",
       "  <thead>\n",
       "    <tr style=\"text-align: right;\">\n",
       "      <th></th>\n",
       "      <th>Lat</th>\n",
       "      <th>Lon</th>\n",
       "      <th>Battery</th>\n",
       "    </tr>\n",
       "    <tr>\n",
       "      <th># Epoca</th>\n",
       "      <th></th>\n",
       "      <th></th>\n",
       "      <th></th>\n",
       "    </tr>\n",
       "  </thead>\n",
       "  <tbody>\n",
       "    <tr>\n",
       "      <th>1.500138e+09</th>\n",
       "      <td>-19.935</td>\n",
       "      <td>-39.708</td>\n",
       "      <td>13.3</td>\n",
       "    </tr>\n",
       "    <tr>\n",
       "      <th>1.500142e+09</th>\n",
       "      <td>-19.933</td>\n",
       "      <td>-39.708</td>\n",
       "      <td>13.3</td>\n",
       "    </tr>\n",
       "    <tr>\n",
       "      <th>1.500149e+09</th>\n",
       "      <td>-19.936</td>\n",
       "      <td>-39.705</td>\n",
       "      <td>12.8</td>\n",
       "    </tr>\n",
       "    <tr>\n",
       "      <th>1.500152e+09</th>\n",
       "      <td>-19.934</td>\n",
       "      <td>-39.704</td>\n",
       "      <td>12.8</td>\n",
       "    </tr>\n",
       "    <tr>\n",
       "      <th>1.500156e+09</th>\n",
       "      <td>-19.938</td>\n",
       "      <td>-39.704</td>\n",
       "      <td>12.8</td>\n",
       "    </tr>\n",
       "  </tbody>\n",
       "</table>\n",
       "</div>"
      ],
      "text/plain": [
       "                 Lat     Lon  Battery\n",
       "# Epoca                              \n",
       "1.500138e+09 -19.935 -39.708     13.3\n",
       "1.500142e+09 -19.933 -39.708     13.3\n",
       "1.500149e+09 -19.936 -39.705     12.8\n",
       "1.500152e+09 -19.934 -39.704     12.8\n",
       "1.500156e+09 -19.938 -39.704     12.8"
      ]
     },
     "execution_count": 45,
     "metadata": {},
     "output_type": "execute_result"
    }
   ],
   "source": [
    "df.fillna(method='pad').tail() #pad"
   ]
  },
  {
   "cell_type": "markdown",
   "metadata": {
    "slideshow": {
     "slide_type": "slide"
    }
   },
   "source": [
    "Exemplo de leitura de uma tabela um pouco mais complexa."
   ]
  },
  {
   "cell_type": "markdown",
   "metadata": {
    "slideshow": {
     "slide_type": "subslide"
    }
   },
   "source": [
    "#### Revisitando a climatologia do WOA para Ubatuba\n",
    "\n",
    "- retomando o conjunto de dados utilizados na aula anterior\n",
    "- inserir em um Dataframe\n",
    "- colunas nomeadas pelo mês"
   ]
  },
  {
   "cell_type": "code",
   "execution_count": 50,
   "metadata": {
    "slideshow": {
     "slide_type": "subslide"
    }
   },
   "outputs": [],
   "source": [
    "temp = np.loadtxt('../dados/temperatura_woa2018_ubatuba_60m.csv', delimiter=',')\n",
    "# temp"
   ]
  },
  {
   "cell_type": "code",
   "execution_count": 56,
   "metadata": {
    "slideshow": {
     "slide_type": "-"
    }
   },
   "outputs": [
    {
     "data": {
      "text/html": [
       "<div>\n",
       "<style scoped>\n",
       "    .dataframe tbody tr th:only-of-type {\n",
       "        vertical-align: middle;\n",
       "    }\n",
       "\n",
       "    .dataframe tbody tr th {\n",
       "        vertical-align: top;\n",
       "    }\n",
       "\n",
       "    .dataframe thead th {\n",
       "        text-align: right;\n",
       "    }\n",
       "</style>\n",
       "<table border=\"1\" class=\"dataframe\">\n",
       "  <thead>\n",
       "    <tr style=\"text-align: right;\">\n",
       "      <th></th>\n",
       "      <th>z</th>\n",
       "      <th>Jan</th>\n",
       "      <th>Fev</th>\n",
       "      <th>Mar</th>\n",
       "      <th>Abr</th>\n",
       "      <th>Mai</th>\n",
       "      <th>Jun</th>\n",
       "      <th>Jul</th>\n",
       "      <th>Ago</th>\n",
       "      <th>Set</th>\n",
       "      <th>Out</th>\n",
       "      <th>Nov</th>\n",
       "      <th>Dez</th>\n",
       "    </tr>\n",
       "  </thead>\n",
       "  <tbody>\n",
       "    <tr>\n",
       "      <th>0</th>\n",
       "      <td>0.0</td>\n",
       "      <td>25.780909</td>\n",
       "      <td>26.898490</td>\n",
       "      <td>26.306210</td>\n",
       "      <td>25.193900</td>\n",
       "      <td>23.58231</td>\n",
       "      <td>22.418090</td>\n",
       "      <td>21.63910</td>\n",
       "      <td>21.495000</td>\n",
       "      <td>21.659710</td>\n",
       "      <td>21.88560</td>\n",
       "      <td>22.535710</td>\n",
       "      <td>24.151209</td>\n",
       "    </tr>\n",
       "    <tr>\n",
       "      <th>1</th>\n",
       "      <td>5.0</td>\n",
       "      <td>24.777710</td>\n",
       "      <td>25.145191</td>\n",
       "      <td>25.997910</td>\n",
       "      <td>25.292210</td>\n",
       "      <td>23.68611</td>\n",
       "      <td>22.415500</td>\n",
       "      <td>21.50831</td>\n",
       "      <td>21.392090</td>\n",
       "      <td>21.464290</td>\n",
       "      <td>21.61869</td>\n",
       "      <td>21.656391</td>\n",
       "      <td>23.421900</td>\n",
       "    </tr>\n",
       "    <tr>\n",
       "      <th>2</th>\n",
       "      <td>10.0</td>\n",
       "      <td>22.989990</td>\n",
       "      <td>23.257100</td>\n",
       "      <td>25.047810</td>\n",
       "      <td>24.708990</td>\n",
       "      <td>23.58030</td>\n",
       "      <td>22.391190</td>\n",
       "      <td>21.53759</td>\n",
       "      <td>21.214610</td>\n",
       "      <td>21.325610</td>\n",
       "      <td>21.27759</td>\n",
       "      <td>20.960810</td>\n",
       "      <td>22.481491</td>\n",
       "    </tr>\n",
       "    <tr>\n",
       "      <th>3</th>\n",
       "      <td>15.0</td>\n",
       "      <td>21.399410</td>\n",
       "      <td>21.395710</td>\n",
       "      <td>23.969300</td>\n",
       "      <td>23.665290</td>\n",
       "      <td>23.29881</td>\n",
       "      <td>22.450400</td>\n",
       "      <td>21.53441</td>\n",
       "      <td>21.115290</td>\n",
       "      <td>21.065810</td>\n",
       "      <td>20.96969</td>\n",
       "      <td>20.271790</td>\n",
       "      <td>21.607891</td>\n",
       "    </tr>\n",
       "    <tr>\n",
       "      <th>4</th>\n",
       "      <td>20.0</td>\n",
       "      <td>19.691910</td>\n",
       "      <td>19.703000</td>\n",
       "      <td>22.677690</td>\n",
       "      <td>22.719390</td>\n",
       "      <td>22.86900</td>\n",
       "      <td>22.490600</td>\n",
       "      <td>21.84231</td>\n",
       "      <td>21.031391</td>\n",
       "      <td>20.387510</td>\n",
       "      <td>20.55181</td>\n",
       "      <td>19.522709</td>\n",
       "      <td>20.653690</td>\n",
       "    </tr>\n",
       "    <tr>\n",
       "      <th>5</th>\n",
       "      <td>25.0</td>\n",
       "      <td>17.986710</td>\n",
       "      <td>18.501810</td>\n",
       "      <td>21.276290</td>\n",
       "      <td>21.566410</td>\n",
       "      <td>22.35550</td>\n",
       "      <td>22.586910</td>\n",
       "      <td>21.98050</td>\n",
       "      <td>20.898290</td>\n",
       "      <td>19.880000</td>\n",
       "      <td>20.27740</td>\n",
       "      <td>19.043991</td>\n",
       "      <td>19.682690</td>\n",
       "    </tr>\n",
       "    <tr>\n",
       "      <th>6</th>\n",
       "      <td>30.0</td>\n",
       "      <td>17.498909</td>\n",
       "      <td>17.907010</td>\n",
       "      <td>19.894491</td>\n",
       "      <td>20.312510</td>\n",
       "      <td>21.64240</td>\n",
       "      <td>22.208090</td>\n",
       "      <td>21.99181</td>\n",
       "      <td>20.545200</td>\n",
       "      <td>19.469810</td>\n",
       "      <td>20.14820</td>\n",
       "      <td>18.770390</td>\n",
       "      <td>18.762810</td>\n",
       "    </tr>\n",
       "    <tr>\n",
       "      <th>7</th>\n",
       "      <td>35.0</td>\n",
       "      <td>17.197691</td>\n",
       "      <td>17.770500</td>\n",
       "      <td>19.225590</td>\n",
       "      <td>19.396000</td>\n",
       "      <td>20.87930</td>\n",
       "      <td>21.899710</td>\n",
       "      <td>21.77969</td>\n",
       "      <td>20.165010</td>\n",
       "      <td>19.378590</td>\n",
       "      <td>20.07990</td>\n",
       "      <td>18.488600</td>\n",
       "      <td>17.920109</td>\n",
       "    </tr>\n",
       "    <tr>\n",
       "      <th>8</th>\n",
       "      <td>40.0</td>\n",
       "      <td>17.022590</td>\n",
       "      <td>17.784191</td>\n",
       "      <td>18.834300</td>\n",
       "      <td>18.789710</td>\n",
       "      <td>20.17989</td>\n",
       "      <td>21.508709</td>\n",
       "      <td>21.49789</td>\n",
       "      <td>19.630410</td>\n",
       "      <td>19.328290</td>\n",
       "      <td>19.49021</td>\n",
       "      <td>17.923090</td>\n",
       "      <td>17.141209</td>\n",
       "    </tr>\n",
       "    <tr>\n",
       "      <th>9</th>\n",
       "      <td>45.0</td>\n",
       "      <td>16.967190</td>\n",
       "      <td>17.208391</td>\n",
       "      <td>18.328990</td>\n",
       "      <td>18.354210</td>\n",
       "      <td>19.58121</td>\n",
       "      <td>20.970110</td>\n",
       "      <td>21.08669</td>\n",
       "      <td>18.984690</td>\n",
       "      <td>18.953190</td>\n",
       "      <td>18.97859</td>\n",
       "      <td>17.580809</td>\n",
       "      <td>16.284891</td>\n",
       "    </tr>\n",
       "    <tr>\n",
       "      <th>10</th>\n",
       "      <td>50.0</td>\n",
       "      <td>16.729190</td>\n",
       "      <td>16.734910</td>\n",
       "      <td>17.944690</td>\n",
       "      <td>17.748009</td>\n",
       "      <td>18.64969</td>\n",
       "      <td>20.263590</td>\n",
       "      <td>20.71890</td>\n",
       "      <td>18.435190</td>\n",
       "      <td>18.446909</td>\n",
       "      <td>18.52319</td>\n",
       "      <td>17.181700</td>\n",
       "      <td>15.723709</td>\n",
       "    </tr>\n",
       "    <tr>\n",
       "      <th>11</th>\n",
       "      <td>55.0</td>\n",
       "      <td>16.466290</td>\n",
       "      <td>16.490591</td>\n",
       "      <td>17.653710</td>\n",
       "      <td>17.263390</td>\n",
       "      <td>18.28511</td>\n",
       "      <td>20.052809</td>\n",
       "      <td>20.44311</td>\n",
       "      <td>18.124810</td>\n",
       "      <td>18.194200</td>\n",
       "      <td>18.29689</td>\n",
       "      <td>16.925500</td>\n",
       "      <td>15.306991</td>\n",
       "    </tr>\n",
       "  </tbody>\n",
       "</table>\n",
       "</div>"
      ],
      "text/plain": [
       "       z        Jan        Fev        Mar        Abr       Mai        Jun  \\\n",
       "0    0.0  25.780909  26.898490  26.306210  25.193900  23.58231  22.418090   \n",
       "1    5.0  24.777710  25.145191  25.997910  25.292210  23.68611  22.415500   \n",
       "2   10.0  22.989990  23.257100  25.047810  24.708990  23.58030  22.391190   \n",
       "3   15.0  21.399410  21.395710  23.969300  23.665290  23.29881  22.450400   \n",
       "4   20.0  19.691910  19.703000  22.677690  22.719390  22.86900  22.490600   \n",
       "5   25.0  17.986710  18.501810  21.276290  21.566410  22.35550  22.586910   \n",
       "6   30.0  17.498909  17.907010  19.894491  20.312510  21.64240  22.208090   \n",
       "7   35.0  17.197691  17.770500  19.225590  19.396000  20.87930  21.899710   \n",
       "8   40.0  17.022590  17.784191  18.834300  18.789710  20.17989  21.508709   \n",
       "9   45.0  16.967190  17.208391  18.328990  18.354210  19.58121  20.970110   \n",
       "10  50.0  16.729190  16.734910  17.944690  17.748009  18.64969  20.263590   \n",
       "11  55.0  16.466290  16.490591  17.653710  17.263390  18.28511  20.052809   \n",
       "\n",
       "         Jul        Ago        Set       Out        Nov        Dez  \n",
       "0   21.63910  21.495000  21.659710  21.88560  22.535710  24.151209  \n",
       "1   21.50831  21.392090  21.464290  21.61869  21.656391  23.421900  \n",
       "2   21.53759  21.214610  21.325610  21.27759  20.960810  22.481491  \n",
       "3   21.53441  21.115290  21.065810  20.96969  20.271790  21.607891  \n",
       "4   21.84231  21.031391  20.387510  20.55181  19.522709  20.653690  \n",
       "5   21.98050  20.898290  19.880000  20.27740  19.043991  19.682690  \n",
       "6   21.99181  20.545200  19.469810  20.14820  18.770390  18.762810  \n",
       "7   21.77969  20.165010  19.378590  20.07990  18.488600  17.920109  \n",
       "8   21.49789  19.630410  19.328290  19.49021  17.923090  17.141209  \n",
       "9   21.08669  18.984690  18.953190  18.97859  17.580809  16.284891  \n",
       "10  20.71890  18.435190  18.446909  18.52319  17.181700  15.723709  \n",
       "11  20.44311  18.124810  18.194200  18.29689  16.925500  15.306991  "
      ]
     },
     "execution_count": 56,
     "metadata": {},
     "output_type": "execute_result"
    }
   ],
   "source": [
    "# lista com meses\n",
    "meses_siglas = ['z', 'Jan', 'Fev', 'Mar', 'Abr', 'Mai', 'Jun', 'Jul', 'Ago', 'Set', 'Out', 'Nov', 'Dez']\n",
    "# lendo arquivo\n",
    "df_temp = pd.read_csv('../dados/temperatura_woa2018_ubatuba_60m.csv', sep=',',\n",
    "                      header=None, index_col=None, names=meses_siglas)\n",
    "\n",
    "df_temp"
   ]
  },
  {
   "cell_type": "markdown",
   "metadata": {
    "slideshow": {
     "slide_type": "subslide"
    }
   },
   "source": [
    "### Seleção de dados por rótulo e por posição\n",
    "\n",
    "Motivos:\n",
    "- explorar\n",
    "- limpar\n",
    "\n",
    "Como:\n",
    "- ```.loc[row, col]```\n",
    "- ```.iloc[nrow, ncol]```\n",
    "\n",
    "Exemplos:"
   ]
  },
  {
   "cell_type": "code",
   "execution_count": 53,
   "metadata": {
    "slideshow": {
     "slide_type": "subslide"
    }
   },
   "outputs": [
    {
     "data": {
      "text/html": [
       "<div>\n",
       "<style scoped>\n",
       "    .dataframe tbody tr th:only-of-type {\n",
       "        vertical-align: middle;\n",
       "    }\n",
       "\n",
       "    .dataframe tbody tr th {\n",
       "        vertical-align: top;\n",
       "    }\n",
       "\n",
       "    .dataframe thead th {\n",
       "        text-align: right;\n",
       "    }\n",
       "</style>\n",
       "<table border=\"1\" class=\"dataframe\">\n",
       "  <thead>\n",
       "    <tr style=\"text-align: right;\">\n",
       "      <th></th>\n",
       "      <th>Jan</th>\n",
       "      <th>Dez</th>\n",
       "    </tr>\n",
       "  </thead>\n",
       "  <tbody>\n",
       "    <tr>\n",
       "      <th>0</th>\n",
       "      <td>25.780909</td>\n",
       "      <td>24.151209</td>\n",
       "    </tr>\n",
       "    <tr>\n",
       "      <th>1</th>\n",
       "      <td>24.777710</td>\n",
       "      <td>23.421900</td>\n",
       "    </tr>\n",
       "    <tr>\n",
       "      <th>2</th>\n",
       "      <td>22.989990</td>\n",
       "      <td>22.481491</td>\n",
       "    </tr>\n",
       "    <tr>\n",
       "      <th>3</th>\n",
       "      <td>21.399410</td>\n",
       "      <td>21.607891</td>\n",
       "    </tr>\n",
       "    <tr>\n",
       "      <th>4</th>\n",
       "      <td>19.691910</td>\n",
       "      <td>20.653690</td>\n",
       "    </tr>\n",
       "    <tr>\n",
       "      <th>5</th>\n",
       "      <td>17.986710</td>\n",
       "      <td>19.682690</td>\n",
       "    </tr>\n",
       "    <tr>\n",
       "      <th>6</th>\n",
       "      <td>17.498909</td>\n",
       "      <td>18.762810</td>\n",
       "    </tr>\n",
       "    <tr>\n",
       "      <th>7</th>\n",
       "      <td>17.197691</td>\n",
       "      <td>17.920109</td>\n",
       "    </tr>\n",
       "    <tr>\n",
       "      <th>8</th>\n",
       "      <td>17.022590</td>\n",
       "      <td>17.141209</td>\n",
       "    </tr>\n",
       "    <tr>\n",
       "      <th>9</th>\n",
       "      <td>16.967190</td>\n",
       "      <td>16.284891</td>\n",
       "    </tr>\n",
       "    <tr>\n",
       "      <th>10</th>\n",
       "      <td>16.729190</td>\n",
       "      <td>15.723709</td>\n",
       "    </tr>\n",
       "    <tr>\n",
       "      <th>11</th>\n",
       "      <td>16.466290</td>\n",
       "      <td>15.306991</td>\n",
       "    </tr>\n",
       "  </tbody>\n",
       "</table>\n",
       "</div>"
      ],
      "text/plain": [
       "          Jan        Dez\n",
       "0   25.780909  24.151209\n",
       "1   24.777710  23.421900\n",
       "2   22.989990  22.481491\n",
       "3   21.399410  21.607891\n",
       "4   19.691910  20.653690\n",
       "5   17.986710  19.682690\n",
       "6   17.498909  18.762810\n",
       "7   17.197691  17.920109\n",
       "8   17.022590  17.141209\n",
       "9   16.967190  16.284891\n",
       "10  16.729190  15.723709\n",
       "11  16.466290  15.306991"
      ]
     },
     "execution_count": 53,
     "metadata": {},
     "output_type": "execute_result"
    }
   ],
   "source": [
    "# o primeiro item deve ser a linha (neste caso todas)\n",
    "# o segundo deve ser o nome das colunas\n",
    "df_temp.loc[:, ['Jan', 'Dez']]"
   ]
  },
  {
   "cell_type": "code",
   "execution_count": 60,
   "metadata": {
    "slideshow": {
     "slide_type": "subslide"
    }
   },
   "outputs": [
    {
     "data": {
      "text/html": [
       "<div>\n",
       "<style scoped>\n",
       "    .dataframe tbody tr th:only-of-type {\n",
       "        vertical-align: middle;\n",
       "    }\n",
       "\n",
       "    .dataframe tbody tr th {\n",
       "        vertical-align: top;\n",
       "    }\n",
       "\n",
       "    .dataframe thead th {\n",
       "        text-align: right;\n",
       "    }\n",
       "</style>\n",
       "<table border=\"1\" class=\"dataframe\">\n",
       "  <thead>\n",
       "    <tr style=\"text-align: right;\">\n",
       "      <th></th>\n",
       "      <th>Fev</th>\n",
       "    </tr>\n",
       "    <tr>\n",
       "      <th>z</th>\n",
       "      <th></th>\n",
       "    </tr>\n",
       "  </thead>\n",
       "  <tbody>\n",
       "    <tr>\n",
       "      <th>0.0</th>\n",
       "      <td>26.898490</td>\n",
       "    </tr>\n",
       "    <tr>\n",
       "      <th>5.0</th>\n",
       "      <td>25.145191</td>\n",
       "    </tr>\n",
       "    <tr>\n",
       "      <th>10.0</th>\n",
       "      <td>23.257100</td>\n",
       "    </tr>\n",
       "  </tbody>\n",
       "</table>\n",
       "</div>"
      ],
      "text/plain": [
       "            Fev\n",
       "z              \n",
       "0.0   26.898490\n",
       "5.0   25.145191\n",
       "10.0  23.257100"
      ]
     },
     "execution_count": 60,
     "metadata": {},
     "output_type": "execute_result"
    }
   ],
   "source": [
    "# podemos configurar um index novo e argumento novo!\n",
    "df_temp.set_index('z', inplace=True)\n",
    "\n",
    "df_temp.loc[:10, ['Fev']]"
   ]
  },
  {
   "cell_type": "code",
   "execution_count": 65,
   "metadata": {
    "slideshow": {
     "slide_type": "-"
    }
   },
   "outputs": [
    {
     "data": {
      "text/plain": [
       "26.898490000000002"
      ]
     },
     "execution_count": 65,
     "metadata": {},
     "output_type": "execute_result"
    }
   ],
   "source": [
    "# e podemos resetar o indice também\n",
    "df_temp.reset_index(inplace=False)\n",
    "\n",
    "# acessar as informações por índices numéricos, tal qual o numpy\n",
    "df_temp.iloc[0,1] # 26.898490"
   ]
  },
  {
   "cell_type": "markdown",
   "metadata": {
    "slideshow": {
     "slide_type": "subslide"
    }
   },
   "source": [
    "### Visualização de dados\n",
    "\n",
    "- integração Numpy e Matplotlib\n",
    "- acesso aos métodos \n",
    "- facilidade"
   ]
  },
  {
   "cell_type": "code",
   "execution_count": 7,
   "metadata": {
    "slideshow": {
     "slide_type": "subslide"
    }
   },
   "outputs": [
    {
     "data": {
      "image/png": "[encoded data removed]",
      "text/plain": [
       "<Figure size 432x288 with 1 Axes>"
      ]
     },
     "metadata": {
      "needs_background": "light"
     },
     "output_type": "display_data"
    }
   ],
   "source": [
    "# plotando perfis verticais para Janeiro\n",
    "df_temp.plot(x='Jan', y='z', \n",
    "             title='Temperatura - Jan',\n",
    "             legend=False)\n",
    "\n",
    "# infelizmente o pandas, ainda, não possui um argumento para inverter o eixo y\n",
    "plt.gca().invert_yaxis()"
   ]
  },
  {
   "cell_type": "code",
   "execution_count": 65,
   "metadata": {
    "slideshow": {
     "slide_type": "subslide"
    }
   },
   "outputs": [
    {
     "data": {
      "image/png": "[encoded data removed]",
      "text/plain": [
       "<Figure size 432x288 with 2 Axes>"
      ]
     },
     "metadata": {
      "needs_background": "light"
     },
     "output_type": "display_data"
    }
   ],
   "source": [
    "# plotando as médias de verão e inverno\n",
    "meses_verao = ['Dez', 'Jan', 'Fev']\n",
    "meses_inverno = ['Jun', 'Jul', 'Set']\n",
    "\n",
    "df_temp['verao'] = df_temp[meses_verao].mean(axis=1)\n",
    "df_temp['inverno'] = df_temp[meses_inverno].mean(axis=1)\n",
    "\n",
    "fig,axes = plt.subplots(ncols=2, sharey=True)\n",
    "\n",
    "df_temp.plot(x='verao', y='z', ax=axes[0], label='Verão - WOA2018')\n",
    "df_temp.plot(x='inverno', y='z', ax=axes[1], label='Inverno - WOA2018')\n",
    "plt.gca().invert_yaxis()\n",
    "\n",
    "_ = [ax.set_xlim([16, 27]) for ax in axes]"
   ]
  },
  {
   "cell_type": "markdown",
   "metadata": {
    "slideshow": {
     "slide_type": "subslide"
    }
   },
   "source": [
    "- nem sempre é tão benéfico usar pandas\n",
    "- visualização fácil durante análise exploratória\n",
    "- potencial em termos de análise estatística\n",
    "- falaremos mais amanhã"
   ]
  },
  {
   "cell_type": "markdown",
   "metadata": {
    "slideshow": {
     "slide_type": "slide"
    }
   },
   "source": [
    "### Combinando pandas e oceanografia\n",
    "\n",
    "__disclaimer__: este trecho do material foi fortemente baseado (se não copiado) do trabalho feito pelo Prof. Filipe Fernandes neste [link](https://github.com/ocefpaf/pyrantine/blob/master/notebooks/02-CTD/02-CTD-processing.ipynb).\n",
    "\n",
    "-----\n",
    "- GSW: Gibbs Seawater, conjunto de convenções oceanográficas (TEOS-10)\n",
    "    - tipos de salinidade a partir de condutividade\n",
    "    - temperatura\n",
    "    - frequência de Brunt-Vaisalla\n",
    "    - outros\n",
    "-----\n",
    "- CTD: Pacote para leitura, tratamento e análise de dados de perfis verticais de diversos instrumentos\n",
    "\n",
    "    - CTD (Seabird, Fallmouth, outros)\n",
    "    - XBT\n",
    "    - Rosete\n",
    "\n",
    "**nota**: Existem outros pacotes para análises de CTD."
   ]
  },
  {
   "cell_type": "markdown",
   "metadata": {
    "slideshow": {
     "slide_type": "subslide"
    }
   },
   "source": [
    "O pacote ```CTD``` amplifica os poderes do pandas para perfis vertical. Com poucas linhas podemos:"
   ]
  },
  {
   "cell_type": "code",
   "execution_count": 70,
   "metadata": {
    "slideshow": {
     "slide_type": "-"
    }
   },
   "outputs": [
    {
     "data": {
      "text/plain": [
       "<matplotlib.legend.Legend at 0x7f7520d8c750>"
      ]
     },
     "execution_count": 70,
     "metadata": {},
     "output_type": "execute_result"
    },
    {
     "data": {
      "image/png": "[encoded data removed]",
      "text/plain": [
       "<Figure size 378x486 with 1 Axes>"
      ]
     },
     "metadata": {
      "needs_background": "light"
     },
     "output_type": "display_data"
    }
   ],
   "source": [
    "import ctd\n",
    "df = pd.read_csv('../dados/temperatura_woa2018_ubatuba_60m.csv', sep=',',\n",
    "                      header=None, index_col=0, names=meses_siglas)\n",
    "\n",
    "df.plot_cast(legend=True)\n",
    "plt.legend()"
   ]
  },
  {
   "cell_type": "markdown",
   "metadata": {
    "slideshow": {
     "slide_type": "subslide"
    }
   },
   "source": [
    "Vai muito além da visualização! Podemos aplicar pré-processamento de forma simples, porém com muito controle sobre tudo.\n",
    "\n",
    "Vejamos:"
   ]
  },
  {
   "cell_type": "code",
   "execution_count": 89,
   "metadata": {
    "slideshow": {
     "slide_type": "skip"
    }
   },
   "outputs": [],
   "source": [
    "# execute a linha de comando abaixo para fazer download do conjunto de dados que serão utilizados\n",
    "!wget --directory-prefix=../dados/ https://github.com/ocefpaf/pyrantine/raw/main/notebooks/02-CTD/CTD-data/CTD-spiked-unfiltered.cnv.bz2"
   ]
  },
  {
   "cell_type": "code",
   "execution_count": 73,
   "metadata": {
    "slideshow": {
     "slide_type": "-"
    }
   },
   "outputs": [
    {
     "data": {
      "text/html": [
       "<div>\n",
       "<style scoped>\n",
       "    .dataframe tbody tr th:only-of-type {\n",
       "        vertical-align: middle;\n",
       "    }\n",
       "\n",
       "    .dataframe tbody tr th {\n",
       "        vertical-align: top;\n",
       "    }\n",
       "\n",
       "    .dataframe thead th {\n",
       "        text-align: right;\n",
       "    }\n",
       "</style>\n",
       "<table border=\"1\" class=\"dataframe\">\n",
       "  <thead>\n",
       "    <tr style=\"text-align: right;\">\n",
       "      <th></th>\n",
       "      <th>scan</th>\n",
       "      <th>timeS</th>\n",
       "      <th>t090C</th>\n",
       "      <th>t190C</th>\n",
       "      <th>c0S/m</th>\n",
       "      <th>c1S/m</th>\n",
       "      <th>sbeox0V</th>\n",
       "      <th>par</th>\n",
       "      <th>spar</th>\n",
       "      <th>ph</th>\n",
       "      <th>...</th>\n",
       "      <th>longitude</th>\n",
       "      <th>pumps</th>\n",
       "      <th>pla</th>\n",
       "      <th>sbeox0PS</th>\n",
       "      <th>sbeox0Mm/Kg</th>\n",
       "      <th>dz/dtM</th>\n",
       "      <th>accM</th>\n",
       "      <th>flSP</th>\n",
       "      <th>xmiss</th>\n",
       "      <th>flag</th>\n",
       "    </tr>\n",
       "    <tr>\n",
       "      <th>Pressure [dbar]</th>\n",
       "      <th></th>\n",
       "      <th></th>\n",
       "      <th></th>\n",
       "      <th></th>\n",
       "      <th></th>\n",
       "      <th></th>\n",
       "      <th></th>\n",
       "      <th></th>\n",
       "      <th></th>\n",
       "      <th></th>\n",
       "      <th></th>\n",
       "      <th></th>\n",
       "      <th></th>\n",
       "      <th></th>\n",
       "      <th></th>\n",
       "      <th></th>\n",
       "      <th></th>\n",
       "      <th></th>\n",
       "      <th></th>\n",
       "      <th></th>\n",
       "      <th></th>\n",
       "    </tr>\n",
       "  </thead>\n",
       "  <tbody>\n",
       "    <tr>\n",
       "      <th>6.433</th>\n",
       "      <td>1.0</td>\n",
       "      <td>0.000</td>\n",
       "      <td>26.9647</td>\n",
       "      <td>26.9314</td>\n",
       "      <td>5.821803</td>\n",
       "      <td>5.800920</td>\n",
       "      <td>2.1099</td>\n",
       "      <td>1.000000e-12</td>\n",
       "      <td>0.0000</td>\n",
       "      <td>8.575</td>\n",
       "      <td>...</td>\n",
       "      <td>-37.22588</td>\n",
       "      <td>False</td>\n",
       "      <td>26.970</td>\n",
       "      <td>69.61016</td>\n",
       "      <td>137.397</td>\n",
       "      <td>0.000</td>\n",
       "      <td>0.00</td>\n",
       "      <td>0.16484</td>\n",
       "      <td>99.2996</td>\n",
       "      <td>False</td>\n",
       "    </tr>\n",
       "    <tr>\n",
       "      <th>6.448</th>\n",
       "      <td>2.0</td>\n",
       "      <td>0.042</td>\n",
       "      <td>26.9644</td>\n",
       "      <td>26.9307</td>\n",
       "      <td>5.821615</td>\n",
       "      <td>5.800819</td>\n",
       "      <td>2.1148</td>\n",
       "      <td>1.000000e-12</td>\n",
       "      <td>1.9601</td>\n",
       "      <td>8.580</td>\n",
       "      <td>...</td>\n",
       "      <td>-37.22588</td>\n",
       "      <td>False</td>\n",
       "      <td>26.969</td>\n",
       "      <td>69.82216</td>\n",
       "      <td>137.817</td>\n",
       "      <td>0.351</td>\n",
       "      <td>8.43</td>\n",
       "      <td>0.16484</td>\n",
       "      <td>99.3260</td>\n",
       "      <td>False</td>\n",
       "    </tr>\n",
       "    <tr>\n",
       "      <th>6.433</th>\n",
       "      <td>3.0</td>\n",
       "      <td>0.083</td>\n",
       "      <td>26.9642</td>\n",
       "      <td>26.9301</td>\n",
       "      <td>5.821421</td>\n",
       "      <td>5.800727</td>\n",
       "      <td>2.1209</td>\n",
       "      <td>1.000000e-12</td>\n",
       "      <td>0.0000</td>\n",
       "      <td>8.575</td>\n",
       "      <td>...</td>\n",
       "      <td>-37.22588</td>\n",
       "      <td>False</td>\n",
       "      <td>26.969</td>\n",
       "      <td>70.08688</td>\n",
       "      <td>138.341</td>\n",
       "      <td>-0.351</td>\n",
       "      <td>-16.87</td>\n",
       "      <td>0.16606</td>\n",
       "      <td>99.3260</td>\n",
       "      <td>False</td>\n",
       "    </tr>\n",
       "    <tr>\n",
       "      <th>6.448</th>\n",
       "      <td>4.0</td>\n",
       "      <td>0.125</td>\n",
       "      <td>26.9639</td>\n",
       "      <td>26.9296</td>\n",
       "      <td>5.821264</td>\n",
       "      <td>5.800727</td>\n",
       "      <td>2.1270</td>\n",
       "      <td>1.000000e-12</td>\n",
       "      <td>0.0000</td>\n",
       "      <td>8.575</td>\n",
       "      <td>...</td>\n",
       "      <td>-37.22588</td>\n",
       "      <td>False</td>\n",
       "      <td>26.969</td>\n",
       "      <td>70.35184</td>\n",
       "      <td>138.865</td>\n",
       "      <td>0.351</td>\n",
       "      <td>16.86</td>\n",
       "      <td>0.16606</td>\n",
       "      <td>99.3260</td>\n",
       "      <td>False</td>\n",
       "    </tr>\n",
       "    <tr>\n",
       "      <th>6.433</th>\n",
       "      <td>5.0</td>\n",
       "      <td>0.167</td>\n",
       "      <td>26.9640</td>\n",
       "      <td>26.9291</td>\n",
       "      <td>5.821219</td>\n",
       "      <td>5.800634</td>\n",
       "      <td>2.1331</td>\n",
       "      <td>1.000000e-12</td>\n",
       "      <td>0.0000</td>\n",
       "      <td>8.575</td>\n",
       "      <td>...</td>\n",
       "      <td>-37.22588</td>\n",
       "      <td>False</td>\n",
       "      <td>26.969</td>\n",
       "      <td>70.61657</td>\n",
       "      <td>139.388</td>\n",
       "      <td>-0.351</td>\n",
       "      <td>-16.86</td>\n",
       "      <td>0.16606</td>\n",
       "      <td>99.3525</td>\n",
       "      <td>False</td>\n",
       "    </tr>\n",
       "  </tbody>\n",
       "</table>\n",
       "<p>5 rows × 30 columns</p>\n",
       "</div>"
      ],
      "text/plain": [
       "                 scan  timeS    t090C    t190C     c0S/m     c1S/m  sbeox0V  \\\n",
       "Pressure [dbar]                                                               \n",
       "6.433             1.0  0.000  26.9647  26.9314  5.821803  5.800920   2.1099   \n",
       "6.448             2.0  0.042  26.9644  26.9307  5.821615  5.800819   2.1148   \n",
       "6.433             3.0  0.083  26.9642  26.9301  5.821421  5.800727   2.1209   \n",
       "6.448             4.0  0.125  26.9639  26.9296  5.821264  5.800727   2.1270   \n",
       "6.433             5.0  0.167  26.9640  26.9291  5.821219  5.800634   2.1331   \n",
       "\n",
       "                          par    spar     ph  ...  longitude  pumps     pla  \\\n",
       "Pressure [dbar]                               ...                             \n",
       "6.433            1.000000e-12  0.0000  8.575  ...  -37.22588  False  26.970   \n",
       "6.448            1.000000e-12  1.9601  8.580  ...  -37.22588  False  26.969   \n",
       "6.433            1.000000e-12  0.0000  8.575  ...  -37.22588  False  26.969   \n",
       "6.448            1.000000e-12  0.0000  8.575  ...  -37.22588  False  26.969   \n",
       "6.433            1.000000e-12  0.0000  8.575  ...  -37.22588  False  26.969   \n",
       "\n",
       "                 sbeox0PS  sbeox0Mm/Kg  dz/dtM   accM     flSP    xmiss   flag  \n",
       "Pressure [dbar]                                                                 \n",
       "6.433            69.61016      137.397   0.000   0.00  0.16484  99.2996  False  \n",
       "6.448            69.82216      137.817   0.351   8.43  0.16484  99.3260  False  \n",
       "6.433            70.08688      138.341  -0.351 -16.87  0.16606  99.3260  False  \n",
       "6.448            70.35184      138.865   0.351  16.86  0.16606  99.3260  False  \n",
       "6.433            70.61657      139.388  -0.351 -16.86  0.16606  99.3525  False  \n",
       "\n",
       "[5 rows x 30 columns]"
      ]
     },
     "execution_count": 73,
     "metadata": {},
     "output_type": "execute_result"
    }
   ],
   "source": [
    "cast = ctd.from_cnv('../dados/CTD-spiked-unfiltered.cnv.bz2')\n",
    "\n",
    "cast.head()"
   ]
  },
  {
   "cell_type": "markdown",
   "metadata": {
    "slideshow": {
     "slide_type": "subslide"
    }
   },
   "source": [
    "- separação em down e up cast\n",
    "- simples!"
   ]
  },
  {
   "cell_type": "code",
   "execution_count": 74,
   "metadata": {
    "slideshow": {
     "slide_type": "-"
    }
   },
   "outputs": [
    {
     "data": {
      "text/plain": [
       "((71325, 30), (34632, 30), (36693, 30))"
      ]
     },
     "execution_count": 74,
     "metadata": {},
     "output_type": "execute_result"
    }
   ],
   "source": [
    "down,up = cast.split()\n",
    "cast.shape, down.shape, up.shape"
   ]
  },
  {
   "cell_type": "markdown",
   "metadata": {
    "slideshow": {
     "slide_type": "subslide"
    }
   },
   "source": [
    "Métodos de pré processamento disponível:\n",
    "\n",
    "- remoção de informações fora da coluna d'água\n",
    "- filtro para ruídos de alta frequência\n",
    "- remoção de spike por desvio padrão\n",
    "- checagem para inversão de profundidade\n",
    "- interpolação e alisamento\n",
    "- média em caixas (binagem)"
   ]
  },
  {
   "cell_type": "code",
   "execution_count": 75,
   "metadata": {},
   "outputs": [
    {
     "data": {
      "text/html": [
       "<div>\n",
       "<style scoped>\n",
       "    .dataframe tbody tr th:only-of-type {\n",
       "        vertical-align: middle;\n",
       "    }\n",
       "\n",
       "    .dataframe tbody tr th {\n",
       "        vertical-align: top;\n",
       "    }\n",
       "\n",
       "    .dataframe thead th {\n",
       "        text-align: right;\n",
       "    }\n",
       "</style>\n",
       "<table border=\"1\" class=\"dataframe\">\n",
       "  <thead>\n",
       "    <tr style=\"text-align: right;\">\n",
       "      <th></th>\n",
       "      <th>scan</th>\n",
       "      <th>timeS</th>\n",
       "      <th>t090C</th>\n",
       "      <th>t190C</th>\n",
       "      <th>c0S/m</th>\n",
       "      <th>c1S/m</th>\n",
       "      <th>sbeox0V</th>\n",
       "      <th>par</th>\n",
       "      <th>spar</th>\n",
       "      <th>ph</th>\n",
       "      <th>...</th>\n",
       "      <th>longitude</th>\n",
       "      <th>pumps</th>\n",
       "      <th>pla</th>\n",
       "      <th>sbeox0PS</th>\n",
       "      <th>sbeox0Mm/Kg</th>\n",
       "      <th>dz/dtM</th>\n",
       "      <th>accM</th>\n",
       "      <th>flSP</th>\n",
       "      <th>xmiss</th>\n",
       "      <th>flag</th>\n",
       "    </tr>\n",
       "  </thead>\n",
       "  <tbody>\n",
       "    <tr>\n",
       "      <th>7.5</th>\n",
       "      <td>4572.670528</td>\n",
       "      <td>190.486269</td>\n",
       "      <td>26.974138</td>\n",
       "      <td>26.975597</td>\n",
       "      <td>5.845094</td>\n",
       "      <td>5.846064</td>\n",
       "      <td>2.576549</td>\n",
       "      <td>1.000000e-12</td>\n",
       "      <td>0.234759</td>\n",
       "      <td>8.58</td>\n",
       "      <td>...</td>\n",
       "      <td>-37.225444</td>\n",
       "      <td>1.0</td>\n",
       "      <td>26.979018</td>\n",
       "      <td>89.862263</td>\n",
       "      <td>177.162189</td>\n",
       "      <td>0.803320</td>\n",
       "      <td>0.137719</td>\n",
       "      <td>0.177155</td>\n",
       "      <td>97.155540</td>\n",
       "      <td>0.0</td>\n",
       "    </tr>\n",
       "    <tr>\n",
       "      <th>8.5</th>\n",
       "      <td>4634.553275</td>\n",
       "      <td>193.064709</td>\n",
       "      <td>26.974698</td>\n",
       "      <td>26.976090</td>\n",
       "      <td>5.845201</td>\n",
       "      <td>5.846167</td>\n",
       "      <td>2.577343</td>\n",
       "      <td>1.000000e-12</td>\n",
       "      <td>0.304238</td>\n",
       "      <td>8.58</td>\n",
       "      <td>...</td>\n",
       "      <td>-37.225432</td>\n",
       "      <td>1.0</td>\n",
       "      <td>26.979339</td>\n",
       "      <td>89.908545</td>\n",
       "      <td>177.251856</td>\n",
       "      <td>0.785147</td>\n",
       "      <td>0.880307</td>\n",
       "      <td>0.179292</td>\n",
       "      <td>97.453742</td>\n",
       "      <td>0.0</td>\n",
       "    </tr>\n",
       "    <tr>\n",
       "      <th>9.5</th>\n",
       "      <td>4695.732139</td>\n",
       "      <td>195.613821</td>\n",
       "      <td>26.975249</td>\n",
       "      <td>26.976574</td>\n",
       "      <td>5.845306</td>\n",
       "      <td>5.846268</td>\n",
       "      <td>2.578064</td>\n",
       "      <td>1.000000e-12</td>\n",
       "      <td>0.370249</td>\n",
       "      <td>8.58</td>\n",
       "      <td>...</td>\n",
       "      <td>-37.225420</td>\n",
       "      <td>1.0</td>\n",
       "      <td>26.979651</td>\n",
       "      <td>89.951597</td>\n",
       "      <td>177.335180</td>\n",
       "      <td>0.769359</td>\n",
       "      <td>1.646066</td>\n",
       "      <td>0.181447</td>\n",
       "      <td>97.746573</td>\n",
       "      <td>0.0</td>\n",
       "    </tr>\n",
       "    <tr>\n",
       "      <th>10.5</th>\n",
       "      <td>4755.592501</td>\n",
       "      <td>198.107997</td>\n",
       "      <td>26.975775</td>\n",
       "      <td>26.977037</td>\n",
       "      <td>5.845408</td>\n",
       "      <td>5.846367</td>\n",
       "      <td>2.578649</td>\n",
       "      <td>1.000000e-12</td>\n",
       "      <td>0.433155</td>\n",
       "      <td>8.58</td>\n",
       "      <td>...</td>\n",
       "      <td>-37.225409</td>\n",
       "      <td>1.0</td>\n",
       "      <td>26.979938</td>\n",
       "      <td>89.988596</td>\n",
       "      <td>177.406640</td>\n",
       "      <td>0.754504</td>\n",
       "      <td>2.341553</td>\n",
       "      <td>0.183725</td>\n",
       "      <td>98.024102</td>\n",
       "      <td>0.0</td>\n",
       "    </tr>\n",
       "    <tr>\n",
       "      <th>11.5</th>\n",
       "      <td>4813.635347</td>\n",
       "      <td>200.526444</td>\n",
       "      <td>26.976265</td>\n",
       "      <td>26.977470</td>\n",
       "      <td>5.845505</td>\n",
       "      <td>5.846461</td>\n",
       "      <td>2.579031</td>\n",
       "      <td>1.000000e-12</td>\n",
       "      <td>0.500165</td>\n",
       "      <td>8.58</td>\n",
       "      <td>...</td>\n",
       "      <td>-37.225398</td>\n",
       "      <td>1.0</td>\n",
       "      <td>26.980190</td>\n",
       "      <td>90.016588</td>\n",
       "      <td>177.460450</td>\n",
       "      <td>0.739713</td>\n",
       "      <td>2.898081</td>\n",
       "      <td>0.186157</td>\n",
       "      <td>98.277968</td>\n",
       "      <td>0.0</td>\n",
       "    </tr>\n",
       "  </tbody>\n",
       "</table>\n",
       "<p>5 rows × 30 columns</p>\n",
       "</div>"
      ],
      "text/plain": [
       "             scan       timeS      t090C      t190C     c0S/m     c1S/m  \\\n",
       "7.5   4572.670528  190.486269  26.974138  26.975597  5.845094  5.846064   \n",
       "8.5   4634.553275  193.064709  26.974698  26.976090  5.845201  5.846167   \n",
       "9.5   4695.732139  195.613821  26.975249  26.976574  5.845306  5.846268   \n",
       "10.5  4755.592501  198.107997  26.975775  26.977037  5.845408  5.846367   \n",
       "11.5  4813.635347  200.526444  26.976265  26.977470  5.845505  5.846461   \n",
       "\n",
       "       sbeox0V           par      spar    ph  ...  longitude  pumps  \\\n",
       "7.5   2.576549  1.000000e-12  0.234759  8.58  ... -37.225444    1.0   \n",
       "8.5   2.577343  1.000000e-12  0.304238  8.58  ... -37.225432    1.0   \n",
       "9.5   2.578064  1.000000e-12  0.370249  8.58  ... -37.225420    1.0   \n",
       "10.5  2.578649  1.000000e-12  0.433155  8.58  ... -37.225409    1.0   \n",
       "11.5  2.579031  1.000000e-12  0.500165  8.58  ... -37.225398    1.0   \n",
       "\n",
       "            pla   sbeox0PS  sbeox0Mm/Kg    dz/dtM      accM      flSP  \\\n",
       "7.5   26.979018  89.862263   177.162189  0.803320  0.137719  0.177155   \n",
       "8.5   26.979339  89.908545   177.251856  0.785147  0.880307  0.179292   \n",
       "9.5   26.979651  89.951597   177.335180  0.769359  1.646066  0.181447   \n",
       "10.5  26.979938  89.988596   177.406640  0.754504  2.341553  0.183725   \n",
       "11.5  26.980190  90.016588   177.460450  0.739713  2.898081  0.186157   \n",
       "\n",
       "          xmiss  flag  \n",
       "7.5   97.155540   0.0  \n",
       "8.5   97.453742   0.0  \n",
       "9.5   97.746573   0.0  \n",
       "10.5  98.024102   0.0  \n",
       "11.5  98.277968   0.0  \n",
       "\n",
       "[5 rows x 30 columns]"
      ]
     },
     "execution_count": 75,
     "metadata": {},
     "output_type": "execute_result"
    }
   ],
   "source": [
    "down_final = down.remove_above_water()\\\n",
    "                            .lp_filter()\\\n",
    "                            .despike(n1=2, n2=20, block=100)\\\n",
    "                            .press_check()\\\n",
    "                            .interpolate()\\\n",
    "                            .bindata(delta=1)\\\n",
    "                            .smooth(window_len=21, window=\"hanning\")\n",
    "\n",
    "down_final.head()"
   ]
  },
  {
   "cell_type": "markdown",
   "metadata": {
    "slideshow": {
     "slide_type": "subslide"
    }
   },
   "source": [
    "Vamos conferir o que mudou de fato, comparando o perfil bruto e o tratado:"
   ]
  },
  {
   "cell_type": "code",
   "execution_count": 72,
   "metadata": {},
   "outputs": [
    {
     "data": {
      "text/plain": [
       "(100.0, 0.0)"
      ]
     },
     "execution_count": 72,
     "metadata": {},
     "output_type": "execute_result"
    },
    {
     "data": {
      "image/png": "[encoded data removed]",
      "text/plain": [
       "<Figure size 378x486 with 1 Axes>"
      ]
     },
     "metadata": {
      "needs_background": "light"
     },
     "output_type": "display_data"
    }
   ],
   "source": [
    "# comparando o perfil original e o processado\n",
    "ax0 = down['t090C'].plot_cast(label='bruto')\n",
    "\n",
    "ax1 = down_final['t090C'].plot_cast(ax=ax0, label='tratado')\n",
    "ax1.grid(ls='--')\n",
    "plt.legend()\n",
    "# dando um zoom par verificarmos melhor as diferenças\n",
    "ax1.set_xlim([23,28])\n",
    "ax1.set_ylim([100,0])"
   ]
  },
  {
   "cell_type": "markdown",
   "metadata": {
    "slideshow": {
     "slide_type": "subslide"
    }
   },
   "source": [
    "O pacote CTD ainda nos permite acessar os metadados originais do arquivo CNV:"
   ]
  },
  {
   "cell_type": "code",
   "execution_count": 79,
   "metadata": {
    "slideshow": {
     "slide_type": "-"
    }
   },
   "outputs": [
    {
     "data": {
      "text/plain": [
       "dict_keys(['header', 'config', 'names', 'skiprows', 'time', 'lon', 'lat', 'name'])"
      ]
     },
     "execution_count": 79,
     "metadata": {},
     "output_type": "execute_result"
    }
   ],
   "source": [
    "metadados = cast._metadata\n",
    "metadados.keys()"
   ]
  },
  {
   "cell_type": "markdown",
   "metadata": {
    "slideshow": {
     "slide_type": "-"
    }
   },
   "source": [
    "No entanto, infelizmente essa propriedade do pacote não persiste quando editamos nosso dataframe original, precisando resgatar essa informação do original:"
   ]
  },
  {
   "cell_type": "code",
   "execution_count": 73,
   "metadata": {
    "slideshow": {
     "slide_type": "-"
    }
   },
   "outputs": [
    {
     "data": {
      "text/plain": [
       "[]"
      ]
     },
     "execution_count": 73,
     "metadata": {},
     "output_type": "execute_result"
    }
   ],
   "source": [
    "down._metadata"
   ]
  },
  {
   "cell_type": "markdown",
   "metadata": {
    "slideshow": {
     "slide_type": "subslide"
    }
   },
   "source": [
    "#### Propriedade hidrográficas derivadas\n",
    "\n",
    "Com um perfil devidamente tratado, utilizaremos o pacote GSW para computar propriedade derivadas destes dados:\n",
    "\n",
    "- Salinidade Absoluta, Prática, Referência\n",
    "- Temperatura Conservativa\n",
    "- Densidade\n",
    "- Consulta documentação para outras."
   ]
  },
  {
   "cell_type": "code",
   "execution_count": 80,
   "metadata": {
    "slideshow": {
     "slide_type": "subslide"
    }
   },
   "outputs": [
    {
     "data": {
      "text/plain": [
       "(-37.22533333333333, -17.9785)"
      ]
     },
     "execution_count": 80,
     "metadata": {},
     "output_type": "execute_result"
    }
   ],
   "source": [
    "### para facilitar:\n",
    "\n",
    "# extraindo pressao que é um índice\n",
    "pressao = down_final.index\n",
    "\n",
    "lon,lat = metadados['lon'], metadados['lat']\n",
    "lon,lat"
   ]
  },
  {
   "cell_type": "code",
   "execution_count": 81,
   "metadata": {
    "slideshow": {
     "slide_type": "subslide"
    }
   },
   "outputs": [],
   "source": [
    "import gsw\n",
    "\n",
    "# Salinidade Prática\n",
    "SP = gsw.SP_from_C(down_final['c0S/m']*10, \n",
    "                   down_final['t090C'], \n",
    "                   down_final.index)\n",
    "\n",
    "# Salinidade Absoluta\n",
    "SA = gsw.SA_from_SP(SP, down_final.index, lon, lat)"
   ]
  },
  {
   "cell_type": "code",
   "execution_count": 82,
   "metadata": {
    "slideshow": {
     "slide_type": "-"
    }
   },
   "outputs": [],
   "source": [
    "# Temperatura conservativa\n",
    "CT = gsw.CT_from_t(SA, \n",
    "                   down_final['t090C'],\n",
    "                   pressao)\n",
    "\n",
    "# Profundidade a partir da pressão\n",
    "z = -gsw.z_from_p(pressao, lat)\n",
    "\n",
    "# Anomalia da densidade potencial\n",
    "sigma0 = gsw.sigma0(SA, CT)"
   ]
  },
  {
   "cell_type": "markdown",
   "metadata": {
    "slideshow": {
     "slide_type": "subslide"
    }
   },
   "source": [
    "Podemos inserir essas novas variáveis ao nosso dataframe com o método do pandas ```.assign()```:"
   ]
  },
  {
   "cell_type": "code",
   "execution_count": 83,
   "metadata": {
    "slideshow": {
     "slide_type": "-"
    }
   },
   "outputs": [
    {
     "data": {
      "text/html": [
       "<div>\n",
       "<style scoped>\n",
       "    .dataframe tbody tr th:only-of-type {\n",
       "        vertical-align: middle;\n",
       "    }\n",
       "\n",
       "    .dataframe tbody tr th {\n",
       "        vertical-align: top;\n",
       "    }\n",
       "\n",
       "    .dataframe thead th {\n",
       "        text-align: right;\n",
       "    }\n",
       "</style>\n",
       "<table border=\"1\" class=\"dataframe\">\n",
       "  <thead>\n",
       "    <tr style=\"text-align: right;\">\n",
       "      <th></th>\n",
       "      <th>scan</th>\n",
       "      <th>timeS</th>\n",
       "      <th>t090C</th>\n",
       "      <th>t190C</th>\n",
       "      <th>c0S/m</th>\n",
       "      <th>c1S/m</th>\n",
       "      <th>sbeox0V</th>\n",
       "      <th>par</th>\n",
       "      <th>spar</th>\n",
       "      <th>ph</th>\n",
       "      <th>...</th>\n",
       "      <th>dz/dtM</th>\n",
       "      <th>accM</th>\n",
       "      <th>flSP</th>\n",
       "      <th>xmiss</th>\n",
       "      <th>flag</th>\n",
       "      <th>SP</th>\n",
       "      <th>SA</th>\n",
       "      <th>CT</th>\n",
       "      <th>z</th>\n",
       "      <th>sigma0</th>\n",
       "    </tr>\n",
       "  </thead>\n",
       "  <tbody>\n",
       "    <tr>\n",
       "      <th>7.5</th>\n",
       "      <td>4572.670528</td>\n",
       "      <td>190.486269</td>\n",
       "      <td>26.974138</td>\n",
       "      <td>26.975597</td>\n",
       "      <td>5.845094</td>\n",
       "      <td>5.846064</td>\n",
       "      <td>2.576549</td>\n",
       "      <td>1.000000e-12</td>\n",
       "      <td>0.234759</td>\n",
       "      <td>8.58</td>\n",
       "      <td>...</td>\n",
       "      <td>0.803320</td>\n",
       "      <td>0.137719</td>\n",
       "      <td>0.177155</td>\n",
       "      <td>97.155540</td>\n",
       "      <td>0.0</td>\n",
       "      <td>37.374813</td>\n",
       "      <td>37.551223</td>\n",
       "      <td>26.880936</td>\n",
       "      <td>7.454923</td>\n",
       "      <td>24.516828</td>\n",
       "    </tr>\n",
       "    <tr>\n",
       "      <th>8.5</th>\n",
       "      <td>4634.553275</td>\n",
       "      <td>193.064709</td>\n",
       "      <td>26.974698</td>\n",
       "      <td>26.976090</td>\n",
       "      <td>5.845201</td>\n",
       "      <td>5.846167</td>\n",
       "      <td>2.577343</td>\n",
       "      <td>1.000000e-12</td>\n",
       "      <td>0.304238</td>\n",
       "      <td>8.58</td>\n",
       "      <td>...</td>\n",
       "      <td>0.785147</td>\n",
       "      <td>0.880307</td>\n",
       "      <td>0.179292</td>\n",
       "      <td>97.453742</td>\n",
       "      <td>0.0</td>\n",
       "      <td>37.374809</td>\n",
       "      <td>37.551219</td>\n",
       "      <td>26.881265</td>\n",
       "      <td>8.448893</td>\n",
       "      <td>24.516719</td>\n",
       "    </tr>\n",
       "    <tr>\n",
       "      <th>9.5</th>\n",
       "      <td>4695.732139</td>\n",
       "      <td>195.613821</td>\n",
       "      <td>26.975249</td>\n",
       "      <td>26.976574</td>\n",
       "      <td>5.845306</td>\n",
       "      <td>5.846268</td>\n",
       "      <td>2.578064</td>\n",
       "      <td>1.000000e-12</td>\n",
       "      <td>0.370249</td>\n",
       "      <td>8.58</td>\n",
       "      <td>...</td>\n",
       "      <td>0.769359</td>\n",
       "      <td>1.646066</td>\n",
       "      <td>0.181447</td>\n",
       "      <td>97.746573</td>\n",
       "      <td>0.0</td>\n",
       "      <td>37.374802</td>\n",
       "      <td>37.551213</td>\n",
       "      <td>26.881585</td>\n",
       "      <td>9.442857</td>\n",
       "      <td>24.516612</td>\n",
       "    </tr>\n",
       "    <tr>\n",
       "      <th>10.5</th>\n",
       "      <td>4755.592501</td>\n",
       "      <td>198.107997</td>\n",
       "      <td>26.975775</td>\n",
       "      <td>26.977037</td>\n",
       "      <td>5.845408</td>\n",
       "      <td>5.846367</td>\n",
       "      <td>2.578649</td>\n",
       "      <td>1.000000e-12</td>\n",
       "      <td>0.433155</td>\n",
       "      <td>8.58</td>\n",
       "      <td>...</td>\n",
       "      <td>0.754504</td>\n",
       "      <td>2.341553</td>\n",
       "      <td>0.183725</td>\n",
       "      <td>98.024102</td>\n",
       "      <td>0.0</td>\n",
       "      <td>37.374791</td>\n",
       "      <td>37.551203</td>\n",
       "      <td>26.881880</td>\n",
       "      <td>10.436817</td>\n",
       "      <td>24.516509</td>\n",
       "    </tr>\n",
       "    <tr>\n",
       "      <th>11.5</th>\n",
       "      <td>4813.635347</td>\n",
       "      <td>200.526444</td>\n",
       "      <td>26.976265</td>\n",
       "      <td>26.977470</td>\n",
       "      <td>5.845505</td>\n",
       "      <td>5.846461</td>\n",
       "      <td>2.579031</td>\n",
       "      <td>1.000000e-12</td>\n",
       "      <td>0.500165</td>\n",
       "      <td>8.58</td>\n",
       "      <td>...</td>\n",
       "      <td>0.739713</td>\n",
       "      <td>2.898081</td>\n",
       "      <td>0.186157</td>\n",
       "      <td>98.277968</td>\n",
       "      <td>0.0</td>\n",
       "      <td>37.374775</td>\n",
       "      <td>37.551187</td>\n",
       "      <td>26.882139</td>\n",
       "      <td>11.430772</td>\n",
       "      <td>24.516413</td>\n",
       "    </tr>\n",
       "  </tbody>\n",
       "</table>\n",
       "<p>5 rows × 35 columns</p>\n",
       "</div>"
      ],
      "text/plain": [
       "             scan       timeS      t090C      t190C     c0S/m     c1S/m  \\\n",
       "7.5   4572.670528  190.486269  26.974138  26.975597  5.845094  5.846064   \n",
       "8.5   4634.553275  193.064709  26.974698  26.976090  5.845201  5.846167   \n",
       "9.5   4695.732139  195.613821  26.975249  26.976574  5.845306  5.846268   \n",
       "10.5  4755.592501  198.107997  26.975775  26.977037  5.845408  5.846367   \n",
       "11.5  4813.635347  200.526444  26.976265  26.977470  5.845505  5.846461   \n",
       "\n",
       "       sbeox0V           par      spar    ph  ...    dz/dtM      accM  \\\n",
       "7.5   2.576549  1.000000e-12  0.234759  8.58  ...  0.803320  0.137719   \n",
       "8.5   2.577343  1.000000e-12  0.304238  8.58  ...  0.785147  0.880307   \n",
       "9.5   2.578064  1.000000e-12  0.370249  8.58  ...  0.769359  1.646066   \n",
       "10.5  2.578649  1.000000e-12  0.433155  8.58  ...  0.754504  2.341553   \n",
       "11.5  2.579031  1.000000e-12  0.500165  8.58  ...  0.739713  2.898081   \n",
       "\n",
       "          flSP      xmiss  flag         SP         SA         CT          z  \\\n",
       "7.5   0.177155  97.155540   0.0  37.374813  37.551223  26.880936   7.454923   \n",
       "8.5   0.179292  97.453742   0.0  37.374809  37.551219  26.881265   8.448893   \n",
       "9.5   0.181447  97.746573   0.0  37.374802  37.551213  26.881585   9.442857   \n",
       "10.5  0.183725  98.024102   0.0  37.374791  37.551203  26.881880  10.436817   \n",
       "11.5  0.186157  98.277968   0.0  37.374775  37.551187  26.882139  11.430772   \n",
       "\n",
       "         sigma0  \n",
       "7.5   24.516828  \n",
       "8.5   24.516719  \n",
       "9.5   24.516612  \n",
       "10.5  24.516509  \n",
       "11.5  24.516413  \n",
       "\n",
       "[5 rows x 35 columns]"
      ]
     },
     "execution_count": 83,
     "metadata": {},
     "output_type": "execute_result"
    }
   ],
   "source": [
    "down_final = down_final.assign(SP=SP, \n",
    "                               SA=SA,\n",
    "                               CT=CT,\n",
    "                               z=z,\n",
    "                               sigma0=sigma0)\n",
    "down_final.head()"
   ]
  },
  {
   "cell_type": "markdown",
   "metadata": {
    "slideshow": {
     "slide_type": "subslide"
    }
   },
   "source": [
    "Por fim, vamos visualizar as nossas variáveis utilizando um exemplo elaborado pelo [Filipe Fernandes](https://github.com/ocefpaf/pyrantine/blob/master/notebooks/02-CTD/02-CTD-processing.ipynb):"
   ]
  },
  {
   "cell_type": "code",
   "execution_count": 84,
   "metadata": {
    "slideshow": {
     "slide_type": "subslide"
    }
   },
   "outputs": [
    {
     "data": {
      "image/png": "[encoded data removed]",
      "text/plain": [
       "<Figure size 360x648 with 3 Axes>"
      ]
     },
     "metadata": {},
     "output_type": "display_data"
    }
   ],
   "source": [
    "fig, ax0 = plt.subplots(figsize=(5, 9))\n",
    "\n",
    "colors = [\"#1f77b4\", \"#ff7f0e\", \"#2ca02c\"]\n",
    "# invertendo orientação do eixo y\n",
    "ax0.invert_yaxis()\n",
    "# criando eixos gêmeos para y\n",
    "ax1 = ax0.twiny()\n",
    "ax2 = ax0.twiny()\n",
    "# plotando temperatura\n",
    "(l0,) = ax0.plot(down_final[\"CT\"], down_final.index, color=colors[0], label=\"CT\")\n",
    "ax0.set_xlabel(\"Conservative Temperature (°C)\")\n",
    "# plotando salinidade absoluta\n",
    "(l1,) = ax1.plot(down_final[\"SA\"], down_final.index, color=colors[1], label=\"SA\")\n",
    "ax1.set_xlabel(\"Absolute Salinity (g kg$^{-1}$)\")\n",
    "# plotando densidade\n",
    "(l2,) = ax2.plot(down_final[\"sigma0\"], down_final.index, color=colors[2], label=r\"$\\sigma_{0\\_CT}$\")\n",
    "ax2.set_xlabel(r\"$\\sigma_{0\\_CT}$ (kg m$^{-3}$)\")\n",
    "\n",
    "ax2.spines[\"top\"].set_position((\"axes\", 1.1))\n",
    "ax2.spines[\"top\"].set_visible(True)\n",
    "\n",
    "ax0.xaxis.label.set_color(l0.get_color())\n",
    "ax1.xaxis.label.set_color(l1.get_color())\n",
    "ax2.xaxis.label.set_color(l2.get_color())\n",
    "\n",
    "ax0.tick_params(axis=\"x\", colors=l0.get_color())\n",
    "ax1.tick_params(axis=\"x\", colors=l1.get_color())\n",
    "ax2.tick_params(axis=\"x\", colors=l2.get_color())\n",
    "\n",
    "lines = ax0.get_lines() + ax1.get_lines() + ax2.get_lines()\n",
    "leg = {line: line.get_label() for line in lines}\n",
    "\n",
    "ax0.legend(leg.keys(), leg.values(), loc=8)\n",
    "\n",
    "ax0.grid(False)\n",
    "ax1.grid(False)\n",
    "ax2.grid(False)\n",
    "\n",
    "plt.savefig('aula04_verticalprof.png', dpi=150, bbox_to_inches='tight')\n"
   ]
  },
  {
   "cell_type": "markdown",
   "metadata": {
    "slideshow": {
     "slide_type": "slide"
    }
   },
   "source": [
    "Exercício prático - Diagrama TS\n",
    "\n",
    "Utilizando o conjunto de dados tratado neste encontro, faça:\n",
    "\n",
    "**Nível 1:**:\n",
    "\n",
    "- diagrama TS simples utilizando o conjunto de dados da WOA que já temos familiaridade\n",
    "- customize colocando nome para os eixos x e y, título\n",
    "- altere as cores e marcadores\n",
    "- **dica** usaremos um método de visualização ainda não comentado: o ```plt.scatter()```\n",
    "\n",
    "------"
   ]
  },
  {
   "cell_type": "markdown",
   "metadata": {
    "slideshow": {
     "slide_type": "subslide"
    }
   },
   "source": [
    "\n",
    "**Nível 2:**\n",
    "\n",
    "Utilizando o pacote visto hoje (```CTD```), faça: \n",
    "\n",
    "- download do conjunto de dados indicado na próxima célula\n",
    "- leia todos os arquivos cnv (provenientes de amostragens com CTD Seabird)\n",
    "- explore as colunas e linhas e identifique as variáveis de temperatura e salinidade\n",
    "- faça visualizações para esta propriedade\n",
    "- customize utilizando os códigos já desenvolvidos no nível 1\n",
    "\n",
    "------"
   ]
  },
  {
   "cell_type": "markdown",
   "metadata": {
    "slideshow": {
     "slide_type": "subslide"
    }
   },
   "source": [
    "\n",
    "**Nível 3:**\n",
    "\n",
    "Para o mesmo conjunto de dados, vamos adicionar isolinhas de densidade para identificação de massas d'água. Para isso:\n",
    "\n",
    "- crie matrizes 1D de Temperatura e Salinidade, utilizando o método ```np.linspace()```\n",
    "- transforme essas matrizes em malhas 2D com o método ```np.meshgrid()```\n",
    "- compute a densidade com o método ```.sigma0()``` do pacote GSw\n",
    "- utilize o método ```plt.contour()``` para inserir as isolinhas no gráfico\n",
    "- neste ponto, tente inserir rótulos dessas isolinhas dentro do próprio gráfico\n",
    "\n",
    "Em seguida: \n",
    "\n",
    "- plote os pontos do diagrama como feito nos níveis 1 e 2\n",
    "- customize seu diagrama TS\n",
    "\n",
    "------\n"
   ]
  },
  {
   "cell_type": "markdown",
   "metadata": {
    "slideshow": {
     "slide_type": "subslide"
    }
   },
   "source": [
    "\n",
    "**Bônus**:\n",
    "\n",
    "Tente adicionar as faixas de variações das densidades de massas d'águas. Abaixo deixo uma relação destes valores para facilitar. Utilize o método ```plt.fill_between()``` para isso, explorando seus argumentos para variar cores, por exemplo.\n",
    "\n",
    "------\n",
    "**Sugestões**\n",
    "\n",
    "- deixo abaixo todos os passos já feito de pré processamento em um único bloco de códigos para copiarem e reutilizarem no local que forem resolver o exercício.\n",
    "\n",
    "------\n",
    "A esta altura vocês já estão familiarizados com a ferramentas de ajuda do python, então utilize-as:\n",
    "\n",
    "- ```plt.contour?```\n",
    "- ```help(plt.scatter)```\n",
    "- google =]"
   ]
  },
  {
   "cell_type": "code",
   "execution_count": 86,
   "metadata": {
    "slideshow": {
     "slide_type": "subslide"
    }
   },
   "outputs": [],
   "source": [
    "import pandas as pd\n",
    "import numpy as np\n",
    "import matplotlib.pyplot\n",
    "import ctd\n",
    "import gsw\n",
    "\n",
    "# execute a linha de comando abaixo para fazer download do conjunto de dados que serão utilizados\n",
    "# !wget --directory-prefix=../dados/ https://github.com/ocefpaf/pyrantine/raw/master/notebooks/02-CTD/CTD-data/CTD-spiked-unfiltered.cnv.bz2\n",
    "\n",
    "# lendo um arquivo .cnv, formato vindo do CTD da marca Seabird\n",
    "cast = ctd.from_cnv('../dados/CTD-spiked-unfiltered.cnv.bz2')\n",
    "\n",
    "down,up = cast.split()\n",
    "\n",
    "down_final = down.remove_above_water()\\\n",
    "            .lp_filter()\\\n",
    "            .despike(n1=2, n2=20, block=100)\\\n",
    "            .press_check()\\\n",
    "            .interpolate()\\\n",
    "            .bindata(delta=1)\\\n",
    "            .smooth(window_len=21, window=\"hanning\")\n",
    "\n",
    "# extraindo metadados\n",
    "metadados = cast._metadata\n",
    "\n",
    "# extraindo pressao que é um índice\n",
    "pressao = down_final.index\n",
    "\n",
    "lon,lat = metadados['lon'], metadados['lat']\n",
    "\n",
    "\n",
    "# Salinidade Prática\n",
    "SP = gsw.SP_from_C(down_final['c0S/m']*10, \n",
    "                   down_final['t090C'], \n",
    "                   pressao)\n",
    "\n",
    "# Salinidade Absoluta\n",
    "SA = gsw.SA_from_SP(SP, pressao, lon, lat)\n",
    "\n",
    "# Temperatura conservativa\n",
    "CT = gsw.CT_from_t(SA, \n",
    "                   down_final['t090C'].values,\n",
    "                   pressao)\n",
    "\n",
    "# Profundidade a partir da pressão\n",
    "z = -gsw.z_from_p(pressao, lat)\n",
    "\n",
    "# Anomalia da densidade potensial\n",
    "sigma0 = gsw.sigma0(SA, CT)\n",
    "\n",
    "down_final = down_final.assign(SP=SP, \n",
    "                               SA=SA, \n",
    "                               CT=CT,\n",
    "                               z=z,\n",
    "                               sigma0=sigma0)\n",
    "\n",
    "# ---- continuem a partir daqui ----- #\n"
   ]
  }
 ],
 "metadata": {
  "celltoolbar": "Slideshow",
  "kernelspec": {
   "display_name": "Python 3",
   "language": "python",
   "name": "python3"
  },
  "language_info": {
   "codemirror_mode": {
    "name": "ipython",
    "version": 3
   },
   "file_extension": ".py",
   "mimetype": "text/x-python",
   "name": "python",
   "nbconvert_exporter": "python",
   "pygments_lexer": "ipython3",
   "version": "3.7.9"
  }
 },
 "nbformat": 4,
 "nbformat_minor": 4
}
